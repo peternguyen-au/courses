{
  "nbformat": 4,
  "nbformat_minor": 0,
  "metadata": {
    "colab": {
      "name": "Statistical Society - Python Workshop - Day 2",
      "provenance": [],
      "collapsed_sections": [
        "ARO-TAhhb2_u",
        "HcakJsDy7lfe",
        "t4wJ-IwP-4mg",
        "lJQKk5C6BEVv",
        "605pyteBB6I-",
        "qveh1UOKWuoi",
        "Oqa-Z71FAHgE",
        "dQthKtfsBfLT",
        "2ZzbnEvNCVZL",
        "wHDaSKwsDVBp",
        "VzjZba62Eqpr",
        "rOV5W4CDHi8o",
        "v2Wgte4P7hCW",
        "Y3oj3eJse1dR",
        "YgjQWhzFf3s3",
        "fNkUWfkpdwfP",
        "xYkG5Ga_gPRp",
        "K_XhtFyCeVy4",
        "XXDDPFRxf2iN"
      ],
      "toc_visible": true,
      "include_colab_link": true
    },
    "kernelspec": {
      "name": "python3",
      "display_name": "Python 3"
    },
    "language_info": {
      "name": "python"
    }
  },
  "cells": [
    {
      "cell_type": "markdown",
      "metadata": {
        "id": "view-in-github",
        "colab_type": "text"
      },
      "source": [
        "<a href=\"https://colab.research.google.com/github/peternguyen-au/courses/blob/master/Statistical_Society_Python_Workshop_Day_2.ipynb\" target=\"_parent\"><img src=\"https://colab.research.google.com/assets/colab-badge.svg\" alt=\"Open In Colab\"/></a>"
      ]
    },
    {
      "cell_type": "markdown",
      "metadata": {
        "id": "ARO-TAhhb2_u"
      },
      "source": [
        "# Credits\n",
        "\n",
        "I'm deeply indebted to datacamp for inspiration for this material https://github.com/hzitoun/datacamp-machine-learning-with-scikit-learn/tree/master/1_supervised-learning-with-sickitlearn/slides"
      ]
    },
    {
      "cell_type": "markdown",
      "metadata": {
        "id": "ODPi2hZ0ViYX"
      },
      "source": [
        "# Part 1 - Types of Machine Learning\n",
        "\n",
        "## Questions\n",
        "* What is supervised learning?\n",
        "* What is unsupervised learning?\n",
        "\n",
        "\n",
        "## Objectives\n",
        "* Explain the difference between classification and regression.\n",
        "* Characterise a supervised learning problem.\n",
        "\n",
        "\n",
        "\n"
      ]
    },
    {
      "cell_type": "markdown",
      "metadata": {
        "id": "HcakJsDy7lfe"
      },
      "source": [
        "## What is machine learning?\n",
        "\n",
        "* Machine learning gives computers the ability to learn to make decisions from data.\n",
        "* Machine learning does not require explicit programming\n",
        "* Examples:\n",
        "  * Learning to predict whether an email is spam or not.\n",
        "  * Clustering wikipedia entries into different categories.\n",
        "  * Recognizing handwritten digits.\n",
        "\n"
      ]
    },
    {
      "cell_type": "markdown",
      "metadata": {
        "id": "t4wJ-IwP-4mg"
      },
      "source": [
        "## Machine learning comes in different types\n",
        "\n",
        "### Supervised Learning\n",
        "* Supervised learning uses labelled data. \n",
        "* Has predictor variables ($X$) and a target variable ($y$).\n",
        "* Goal of supervised learning is to learn a function $f: X \\rightarrow y$.\n",
        "\n",
        "### Unsupervised Learning\n",
        "* Unsupervised learning uses unlabelled data.\n",
        "* Unsupervised learning has no target variable is available.\n",
        "* Goal of unsupervised learning is to learn hidden patters from unlabelled data.\n",
        "* Example: Grouping customers into distinct categories.\n",
        "\n",
        "### Reinforcement Learning\n",
        "* Software agents interact with their environment.\n",
        "* They learn how to optimize their behavior given a system of rewards and punishments.\n",
        "* Future data depends on past decisions.\n",
        "* Example: AlphaGo the first computer to defeat the world champion in Go.\n",
        "\n",
        "\n"
      ]
    },
    {
      "cell_type": "markdown",
      "metadata": {
        "id": "lJQKk5C6BEVv"
      },
      "source": [
        "## Modelling choice depends on what type of machine learning problem.\n",
        "\n",
        "\n",
        "![](https://scikit-learn.org/stable/_static/ml_map.png)\n"
      ]
    },
    {
      "cell_type": "markdown",
      "metadata": {
        "id": "605pyteBB6I-"
      },
      "source": [
        "## Classification predicts categories\n",
        "\n",
        "Examples:\n",
        "* Classifying an email as spam or not spam\n",
        "* Classifying handwritten digits as a number between 0 and 9\n",
        "* Classifying comments as toxic\n",
        "\n"
      ]
    },
    {
      "cell_type": "markdown",
      "metadata": {
        "id": "qveh1UOKWuoi"
      },
      "source": [
        "## Regression predicts numbers\n",
        "\n",
        "Examples:\n",
        "* Predicting house prices.\n",
        "* Forecasting sales\n",
        "* Predicting football scores."
      ]
    },
    {
      "cell_type": "markdown",
      "metadata": {
        "id": "gJyAnZeq9jlv"
      },
      "source": [
        "## Features are used to generate predictions\n",
        "\n",
        "Other names for features:\n",
        "* Independent variables\n",
        "* Predictor variables\n",
        "* Covariates\n",
        "* $X$\n",
        "* Input variables"
      ]
    },
    {
      "cell_type": "markdown",
      "metadata": {
        "id": "CFKgiA85907e"
      },
      "source": [
        "## Labels are used to assess predictions\n",
        "Other names for labels:\n",
        "\n",
        "* Dependent variable\n",
        "* Target variable\n",
        "* Outcome variable\n",
        "* $y$\n",
        "\n",
        "\n"
      ]
    },
    {
      "cell_type": "markdown",
      "metadata": {
        "id": "eTOqXmAK-n1k"
      },
      "source": [
        "## Supervised learning finds the relationship between features and labels\n",
        "\n",
        "Example, linear regression:\n",
        "$$ y = \\beta X + \\epsilon $$ A vector $\\beta$ is learned."
      ]
    },
    {
      "cell_type": "markdown",
      "metadata": {
        "id": "TYsqBYn8YNlx"
      },
      "source": [
        "## Exercises\n",
        "\n",
        "### Which of these is a classification problem?\n",
        "\n",
        "Once you decide to leverage supervised machine learning to solve a new problem, you need to identify whether your problem is better suited to classification or regression. This exercise will help you develop your intuition for distinguishing between the two.\n",
        "\n",
        "Provided below are 4 example applications of machine learning. Which of them is a supervised classification problem?\n",
        "\n",
        "a. Using labeled financial data to predict whether the value of a stock will go up or go down next week.\n",
        "\n",
        "b. Using labeled housing price data to predict the price of a new house based on various features.\n",
        "\n",
        "c. Using unlabeled data to cluster the students of an online education company into different categories based on their learning styles.\n",
        "\n",
        "d. Using labeled financial data to predict what the value of a stock will be next week.\n",
        "\n",
        "---\n",
        "\n",
        "### Regression or Classification? \n",
        "Frame election forecasting as a classification problem. Frame it as a regression problem. Which do you think would be more useful?"
      ]
    },
    {
      "cell_type": "markdown",
      "metadata": {
        "id": "YP4coLRa_5_0"
      },
      "source": [
        "# Part 2 - Exploratory Data Analysis\n",
        "\n",
        "### Questions\n",
        "\n",
        "\n",
        "### Objectives\n",
        "* Explore data prior to fitting a machine learning model."
      ]
    },
    {
      "cell_type": "markdown",
      "metadata": {
        "id": "Oqa-Z71FAHgE"
      },
      "source": [
        "## The Iris dataset\n",
        "\n",
        "The [iris dataset](https://scikit-learn.org/stable/auto_examples/datasets/plot_iris_dataset.html) pertains to iris flowers in which the features consist of four measurements: petal length, petal width, sepal length, and sepal width. The target variable encodes the species of flower and there are three possibilities: 'versicolor', 'virginica', and 'setosa'."
      ]
    },
    {
      "cell_type": "code",
      "metadata": {
        "colab": {
          "base_uri": "https://localhost:8080/"
        },
        "id": "siO-rzb1AOcb",
        "outputId": "e96d60f8-c889-4a7b-cf3a-78b55d8f2211"
      },
      "source": [
        "from sklearn import datasets\n",
        "import numpy as np\n",
        "import pandas as pd\n",
        "import matplotlib.pyplot as plt\n",
        "\n",
        "iris = datasets.load_iris()\n",
        "print(iris.DESCR)"
      ],
      "execution_count": null,
      "outputs": [
        {
          "output_type": "stream",
          "name": "stdout",
          "text": [
            ".. _iris_dataset:\n",
            "\n",
            "Iris plants dataset\n",
            "--------------------\n",
            "\n",
            "**Data Set Characteristics:**\n",
            "\n",
            "    :Number of Instances: 150 (50 in each of three classes)\n",
            "    :Number of Attributes: 4 numeric, predictive attributes and the class\n",
            "    :Attribute Information:\n",
            "        - sepal length in cm\n",
            "        - sepal width in cm\n",
            "        - petal length in cm\n",
            "        - petal width in cm\n",
            "        - class:\n",
            "                - Iris-Setosa\n",
            "                - Iris-Versicolour\n",
            "                - Iris-Virginica\n",
            "                \n",
            "    :Summary Statistics:\n",
            "\n",
            "    ============== ==== ==== ======= ===== ====================\n",
            "                    Min  Max   Mean    SD   Class Correlation\n",
            "    ============== ==== ==== ======= ===== ====================\n",
            "    sepal length:   4.3  7.9   5.84   0.83    0.7826\n",
            "    sepal width:    2.0  4.4   3.05   0.43   -0.4194\n",
            "    petal length:   1.0  6.9   3.76   1.76    0.9490  (high!)\n",
            "    petal width:    0.1  2.5   1.20   0.76    0.9565  (high!)\n",
            "    ============== ==== ==== ======= ===== ====================\n",
            "\n",
            "    :Missing Attribute Values: None\n",
            "    :Class Distribution: 33.3% for each of 3 classes.\n",
            "    :Creator: R.A. Fisher\n",
            "    :Donor: Michael Marshall (MARSHALL%PLU@io.arc.nasa.gov)\n",
            "    :Date: July, 1988\n",
            "\n",
            "The famous Iris database, first used by Sir R.A. Fisher. The dataset is taken\n",
            "from Fisher's paper. Note that it's the same as in R, but not as in the UCI\n",
            "Machine Learning Repository, which has two wrong data points.\n",
            "\n",
            "This is perhaps the best known database to be found in the\n",
            "pattern recognition literature.  Fisher's paper is a classic in the field and\n",
            "is referenced frequently to this day.  (See Duda & Hart, for example.)  The\n",
            "data set contains 3 classes of 50 instances each, where each class refers to a\n",
            "type of iris plant.  One class is linearly separable from the other 2; the\n",
            "latter are NOT linearly separable from each other.\n",
            "\n",
            ".. topic:: References\n",
            "\n",
            "   - Fisher, R.A. \"The use of multiple measurements in taxonomic problems\"\n",
            "     Annual Eugenics, 7, Part II, 179-188 (1936); also in \"Contributions to\n",
            "     Mathematical Statistics\" (John Wiley, NY, 1950).\n",
            "   - Duda, R.O., & Hart, P.E. (1973) Pattern Classification and Scene Analysis.\n",
            "     (Q327.D83) John Wiley & Sons.  ISBN 0-471-22361-1.  See page 218.\n",
            "   - Dasarathy, B.V. (1980) \"Nosing Around the Neighborhood: A New System\n",
            "     Structure and Classification Rule for Recognition in Partially Exposed\n",
            "     Environments\".  IEEE Transactions on Pattern Analysis and Machine\n",
            "     Intelligence, Vol. PAMI-2, No. 1, 67-71.\n",
            "   - Gates, G.W. (1972) \"The Reduced Nearest Neighbor Rule\".  IEEE Transactions\n",
            "     on Information Theory, May 1972, 431-433.\n",
            "   - See also: 1988 MLC Proceedings, 54-64.  Cheeseman et al\"s AUTOCLASS II\n",
            "     conceptual clustering system finds 3 classes in the data.\n",
            "   - Many, many more ...\n"
          ]
        }
      ]
    },
    {
      "cell_type": "markdown",
      "metadata": {
        "id": "pQXuPwUZBQd0"
      },
      "source": [
        "## Use `type` to get the type of data.\n",
        "\n"
      ]
    },
    {
      "cell_type": "markdown",
      "metadata": {
        "id": "i3zfzQlIBlJr"
      },
      "source": [
        ""
      ]
    },
    {
      "cell_type": "code",
      "metadata": {
        "colab": {
          "base_uri": "https://localhost:8080/"
        },
        "id": "rrz57SSEBbsb",
        "outputId": "237d49db-ef5a-4e22-ad48-013b4533b49c"
      },
      "source": [
        "type(iris)"
      ],
      "execution_count": null,
      "outputs": [
        {
          "output_type": "execute_result",
          "data": {
            "text/plain": [
              "sklearn.utils.Bunch"
            ]
          },
          "metadata": {},
          "execution_count": 2
        }
      ]
    },
    {
      "cell_type": "markdown",
      "metadata": {
        "id": "dQthKtfsBfLT"
      },
      "source": [
        "## Use `data` and `target` to get the features and labels from a `sklearn.Bunch`"
      ]
    },
    {
      "cell_type": "markdown",
      "metadata": {
        "id": "7P_9nzZ2BlmR"
      },
      "source": [
        ""
      ]
    },
    {
      "cell_type": "code",
      "metadata": {
        "colab": {
          "base_uri": "https://localhost:8080/"
        },
        "id": "6avD8-qLBpqc",
        "outputId": "796d61ac-a51c-4f19-e0e5-2e7a0f697cf4"
      },
      "source": [
        "X = iris.data\n",
        "y = iris.target\n",
        "\n",
        "print(type(X))\n",
        "print(type(y))"
      ],
      "execution_count": null,
      "outputs": [
        {
          "output_type": "stream",
          "name": "stdout",
          "text": [
            "<class 'numpy.ndarray'>\n",
            "<class 'numpy.ndarray'>\n"
          ]
        }
      ]
    },
    {
      "cell_type": "markdown",
      "metadata": {
        "id": "2ZzbnEvNCVZL"
      },
      "source": [
        "## Convert your data to a dataframe for exploration.\n",
        "\n",
        "When your data is in a `Dataframe`, many useful methods are available for exploration and plotting. Converting your data to a dataframe should be the one of the first steps in your exploratory data analysis."
      ]
    },
    {
      "cell_type": "code",
      "metadata": {
        "colab": {
          "base_uri": "https://localhost:8080/",
          "height": 424
        },
        "id": "t7qQyI5KCnzq",
        "outputId": "26245826-87ed-4bf1-f91a-8c7b1d01598c"
      },
      "source": [
        "df = pd.DataFrame(X, columns=iris.feature_names)\n",
        "df"
      ],
      "execution_count": null,
      "outputs": [
        {
          "output_type": "execute_result",
          "data": {
            "text/html": [
              "<div>\n",
              "<style scoped>\n",
              "    .dataframe tbody tr th:only-of-type {\n",
              "        vertical-align: middle;\n",
              "    }\n",
              "\n",
              "    .dataframe tbody tr th {\n",
              "        vertical-align: top;\n",
              "    }\n",
              "\n",
              "    .dataframe thead th {\n",
              "        text-align: right;\n",
              "    }\n",
              "</style>\n",
              "<table border=\"1\" class=\"dataframe\">\n",
              "  <thead>\n",
              "    <tr style=\"text-align: right;\">\n",
              "      <th></th>\n",
              "      <th>sepal length (cm)</th>\n",
              "      <th>sepal width (cm)</th>\n",
              "      <th>petal length (cm)</th>\n",
              "      <th>petal width (cm)</th>\n",
              "    </tr>\n",
              "  </thead>\n",
              "  <tbody>\n",
              "    <tr>\n",
              "      <th>0</th>\n",
              "      <td>5.1</td>\n",
              "      <td>3.5</td>\n",
              "      <td>1.4</td>\n",
              "      <td>0.2</td>\n",
              "    </tr>\n",
              "    <tr>\n",
              "      <th>1</th>\n",
              "      <td>4.9</td>\n",
              "      <td>3.0</td>\n",
              "      <td>1.4</td>\n",
              "      <td>0.2</td>\n",
              "    </tr>\n",
              "    <tr>\n",
              "      <th>2</th>\n",
              "      <td>4.7</td>\n",
              "      <td>3.2</td>\n",
              "      <td>1.3</td>\n",
              "      <td>0.2</td>\n",
              "    </tr>\n",
              "    <tr>\n",
              "      <th>3</th>\n",
              "      <td>4.6</td>\n",
              "      <td>3.1</td>\n",
              "      <td>1.5</td>\n",
              "      <td>0.2</td>\n",
              "    </tr>\n",
              "    <tr>\n",
              "      <th>4</th>\n",
              "      <td>5.0</td>\n",
              "      <td>3.6</td>\n",
              "      <td>1.4</td>\n",
              "      <td>0.2</td>\n",
              "    </tr>\n",
              "    <tr>\n",
              "      <th>...</th>\n",
              "      <td>...</td>\n",
              "      <td>...</td>\n",
              "      <td>...</td>\n",
              "      <td>...</td>\n",
              "    </tr>\n",
              "    <tr>\n",
              "      <th>145</th>\n",
              "      <td>6.7</td>\n",
              "      <td>3.0</td>\n",
              "      <td>5.2</td>\n",
              "      <td>2.3</td>\n",
              "    </tr>\n",
              "    <tr>\n",
              "      <th>146</th>\n",
              "      <td>6.3</td>\n",
              "      <td>2.5</td>\n",
              "      <td>5.0</td>\n",
              "      <td>1.9</td>\n",
              "    </tr>\n",
              "    <tr>\n",
              "      <th>147</th>\n",
              "      <td>6.5</td>\n",
              "      <td>3.0</td>\n",
              "      <td>5.2</td>\n",
              "      <td>2.0</td>\n",
              "    </tr>\n",
              "    <tr>\n",
              "      <th>148</th>\n",
              "      <td>6.2</td>\n",
              "      <td>3.4</td>\n",
              "      <td>5.4</td>\n",
              "      <td>2.3</td>\n",
              "    </tr>\n",
              "    <tr>\n",
              "      <th>149</th>\n",
              "      <td>5.9</td>\n",
              "      <td>3.0</td>\n",
              "      <td>5.1</td>\n",
              "      <td>1.8</td>\n",
              "    </tr>\n",
              "  </tbody>\n",
              "</table>\n",
              "<p>150 rows × 4 columns</p>\n",
              "</div>"
            ],
            "text/plain": [
              "     sepal length (cm)  sepal width (cm)  petal length (cm)  petal width (cm)\n",
              "0                  5.1               3.5                1.4               0.2\n",
              "1                  4.9               3.0                1.4               0.2\n",
              "2                  4.7               3.2                1.3               0.2\n",
              "3                  4.6               3.1                1.5               0.2\n",
              "4                  5.0               3.6                1.4               0.2\n",
              "..                 ...               ...                ...               ...\n",
              "145                6.7               3.0                5.2               2.3\n",
              "146                6.3               2.5                5.0               1.9\n",
              "147                6.5               3.0                5.2               2.0\n",
              "148                6.2               3.4                5.4               2.3\n",
              "149                5.9               3.0                5.1               1.8\n",
              "\n",
              "[150 rows x 4 columns]"
            ]
          },
          "metadata": {},
          "execution_count": 4
        }
      ]
    },
    {
      "cell_type": "code",
      "metadata": {
        "id": "5pLSixSLC0-a"
      },
      "source": [
        ""
      ],
      "execution_count": null,
      "outputs": []
    },
    {
      "cell_type": "markdown",
      "metadata": {
        "id": "3jYM2rSKCxna"
      },
      "source": [
        "## Use `.head()` to examine the first few rows of a dataframe."
      ]
    },
    {
      "cell_type": "code",
      "metadata": {
        "colab": {
          "base_uri": "https://localhost:8080/",
          "height": 206
        },
        "id": "1LMLsnwxC1yr",
        "outputId": "78733be0-2530-455d-981e-e70e7f003bf9"
      },
      "source": [
        "df.head()"
      ],
      "execution_count": null,
      "outputs": [
        {
          "output_type": "execute_result",
          "data": {
            "text/html": [
              "<div>\n",
              "<style scoped>\n",
              "    .dataframe tbody tr th:only-of-type {\n",
              "        vertical-align: middle;\n",
              "    }\n",
              "\n",
              "    .dataframe tbody tr th {\n",
              "        vertical-align: top;\n",
              "    }\n",
              "\n",
              "    .dataframe thead th {\n",
              "        text-align: right;\n",
              "    }\n",
              "</style>\n",
              "<table border=\"1\" class=\"dataframe\">\n",
              "  <thead>\n",
              "    <tr style=\"text-align: right;\">\n",
              "      <th></th>\n",
              "      <th>sepal length (cm)</th>\n",
              "      <th>sepal width (cm)</th>\n",
              "      <th>petal length (cm)</th>\n",
              "      <th>petal width (cm)</th>\n",
              "    </tr>\n",
              "  </thead>\n",
              "  <tbody>\n",
              "    <tr>\n",
              "      <th>0</th>\n",
              "      <td>5.1</td>\n",
              "      <td>3.5</td>\n",
              "      <td>1.4</td>\n",
              "      <td>0.2</td>\n",
              "    </tr>\n",
              "    <tr>\n",
              "      <th>1</th>\n",
              "      <td>4.9</td>\n",
              "      <td>3.0</td>\n",
              "      <td>1.4</td>\n",
              "      <td>0.2</td>\n",
              "    </tr>\n",
              "    <tr>\n",
              "      <th>2</th>\n",
              "      <td>4.7</td>\n",
              "      <td>3.2</td>\n",
              "      <td>1.3</td>\n",
              "      <td>0.2</td>\n",
              "    </tr>\n",
              "    <tr>\n",
              "      <th>3</th>\n",
              "      <td>4.6</td>\n",
              "      <td>3.1</td>\n",
              "      <td>1.5</td>\n",
              "      <td>0.2</td>\n",
              "    </tr>\n",
              "    <tr>\n",
              "      <th>4</th>\n",
              "      <td>5.0</td>\n",
              "      <td>3.6</td>\n",
              "      <td>1.4</td>\n",
              "      <td>0.2</td>\n",
              "    </tr>\n",
              "  </tbody>\n",
              "</table>\n",
              "</div>"
            ],
            "text/plain": [
              "   sepal length (cm)  sepal width (cm)  petal length (cm)  petal width (cm)\n",
              "0                5.1               3.5                1.4               0.2\n",
              "1                4.9               3.0                1.4               0.2\n",
              "2                4.7               3.2                1.3               0.2\n",
              "3                4.6               3.1                1.5               0.2\n",
              "4                5.0               3.6                1.4               0.2"
            ]
          },
          "metadata": {},
          "execution_count": 5
        }
      ]
    },
    {
      "cell_type": "markdown",
      "metadata": {
        "id": "OM2KgzJ1C3ea"
      },
      "source": [
        "## Use `.info()` to get types and check for missing values.\n"
      ]
    },
    {
      "cell_type": "code",
      "metadata": {
        "colab": {
          "base_uri": "https://localhost:8080/"
        },
        "id": "azof5knjC_pa",
        "outputId": "999d6766-7168-4f2a-d550-3d76c08fc6c7"
      },
      "source": [
        "df.info()"
      ],
      "execution_count": null,
      "outputs": [
        {
          "output_type": "stream",
          "name": "stdout",
          "text": [
            "<class 'pandas.core.frame.DataFrame'>\n",
            "RangeIndex: 150 entries, 0 to 149\n",
            "Data columns (total 4 columns):\n",
            " #   Column             Non-Null Count  Dtype  \n",
            "---  ------             --------------  -----  \n",
            " 0   sepal length (cm)  150 non-null    float64\n",
            " 1   sepal width (cm)   150 non-null    float64\n",
            " 2   petal length (cm)  150 non-null    float64\n",
            " 3   petal width (cm)   150 non-null    float64\n",
            "dtypes: float64(4)\n",
            "memory usage: 4.8 KB\n"
          ]
        }
      ]
    },
    {
      "cell_type": "markdown",
      "metadata": {
        "id": "QwvaPpr5DLSK"
      },
      "source": [
        "The types are all numeric (float64) in this dataframe and there are no missing values. (non-null count is the same for every column)\n",
        "\n"
      ]
    },
    {
      "cell_type": "markdown",
      "metadata": {
        "id": "wHDaSKwsDVBp"
      },
      "source": [
        "## Use `.describe()` to show summary statistics."
      ]
    },
    {
      "cell_type": "code",
      "metadata": {
        "colab": {
          "base_uri": "https://localhost:8080/",
          "height": 300
        },
        "id": "KwPYq1jhDZ6I",
        "outputId": "78091f75-8735-4050-cb94-85b502cd4f90"
      },
      "source": [
        "df.describe()"
      ],
      "execution_count": null,
      "outputs": [
        {
          "output_type": "execute_result",
          "data": {
            "text/html": [
              "<div>\n",
              "<style scoped>\n",
              "    .dataframe tbody tr th:only-of-type {\n",
              "        vertical-align: middle;\n",
              "    }\n",
              "\n",
              "    .dataframe tbody tr th {\n",
              "        vertical-align: top;\n",
              "    }\n",
              "\n",
              "    .dataframe thead th {\n",
              "        text-align: right;\n",
              "    }\n",
              "</style>\n",
              "<table border=\"1\" class=\"dataframe\">\n",
              "  <thead>\n",
              "    <tr style=\"text-align: right;\">\n",
              "      <th></th>\n",
              "      <th>sepal length (cm)</th>\n",
              "      <th>sepal width (cm)</th>\n",
              "      <th>petal length (cm)</th>\n",
              "      <th>petal width (cm)</th>\n",
              "    </tr>\n",
              "  </thead>\n",
              "  <tbody>\n",
              "    <tr>\n",
              "      <th>count</th>\n",
              "      <td>150.000000</td>\n",
              "      <td>150.000000</td>\n",
              "      <td>150.000000</td>\n",
              "      <td>150.000000</td>\n",
              "    </tr>\n",
              "    <tr>\n",
              "      <th>mean</th>\n",
              "      <td>5.843333</td>\n",
              "      <td>3.057333</td>\n",
              "      <td>3.758000</td>\n",
              "      <td>1.199333</td>\n",
              "    </tr>\n",
              "    <tr>\n",
              "      <th>std</th>\n",
              "      <td>0.828066</td>\n",
              "      <td>0.435866</td>\n",
              "      <td>1.765298</td>\n",
              "      <td>0.762238</td>\n",
              "    </tr>\n",
              "    <tr>\n",
              "      <th>min</th>\n",
              "      <td>4.300000</td>\n",
              "      <td>2.000000</td>\n",
              "      <td>1.000000</td>\n",
              "      <td>0.100000</td>\n",
              "    </tr>\n",
              "    <tr>\n",
              "      <th>25%</th>\n",
              "      <td>5.100000</td>\n",
              "      <td>2.800000</td>\n",
              "      <td>1.600000</td>\n",
              "      <td>0.300000</td>\n",
              "    </tr>\n",
              "    <tr>\n",
              "      <th>50%</th>\n",
              "      <td>5.800000</td>\n",
              "      <td>3.000000</td>\n",
              "      <td>4.350000</td>\n",
              "      <td>1.300000</td>\n",
              "    </tr>\n",
              "    <tr>\n",
              "      <th>75%</th>\n",
              "      <td>6.400000</td>\n",
              "      <td>3.300000</td>\n",
              "      <td>5.100000</td>\n",
              "      <td>1.800000</td>\n",
              "    </tr>\n",
              "    <tr>\n",
              "      <th>max</th>\n",
              "      <td>7.900000</td>\n",
              "      <td>4.400000</td>\n",
              "      <td>6.900000</td>\n",
              "      <td>2.500000</td>\n",
              "    </tr>\n",
              "  </tbody>\n",
              "</table>\n",
              "</div>"
            ],
            "text/plain": [
              "       sepal length (cm)  sepal width (cm)  petal length (cm)  petal width (cm)\n",
              "count         150.000000        150.000000         150.000000        150.000000\n",
              "mean            5.843333          3.057333           3.758000          1.199333\n",
              "std             0.828066          0.435866           1.765298          0.762238\n",
              "min             4.300000          2.000000           1.000000          0.100000\n",
              "25%             5.100000          2.800000           1.600000          0.300000\n",
              "50%             5.800000          3.000000           4.350000          1.300000\n",
              "75%             6.400000          3.300000           5.100000          1.800000\n",
              "max             7.900000          4.400000           6.900000          2.500000"
            ]
          },
          "metadata": {},
          "execution_count": 25
        }
      ]
    },
    {
      "cell_type": "markdown",
      "metadata": {
        "id": "FbjrIO1HDdlZ"
      },
      "source": [
        "## Use `df.hist()` to plot histograms.\n",
        "\n"
      ]
    },
    {
      "cell_type": "code",
      "metadata": {
        "colab": {
          "base_uri": "https://localhost:8080/",
          "height": 375
        },
        "id": "hUfHKkzGDj2x",
        "outputId": "51b5d022-f96c-42e1-db44-e79b19e847a2"
      },
      "source": [
        "df.hist()"
      ],
      "execution_count": null,
      "outputs": [
        {
          "output_type": "execute_result",
          "data": {
            "text/plain": [
              "array([[<matplotlib.axes._subplots.AxesSubplot object at 0x7f4bd2fb1410>,\n",
              "        <matplotlib.axes._subplots.AxesSubplot object at 0x7f4bd2f04b50>],\n",
              "       [<matplotlib.axes._subplots.AxesSubplot object at 0x7f4bd2eca190>,\n",
              "        <matplotlib.axes._subplots.AxesSubplot object at 0x7f4bd2e7f790>]],\n",
              "      dtype=object)"
            ]
          },
          "metadata": {},
          "execution_count": 7
        },
        {
          "output_type": "display_data",
          "data": {
            "image/png": "[encoded data removed]",
            "text/plain": [
              "<Figure size 432x288 with 4 Axes>"
            ]
          },
          "metadata": {
            "needs_background": "light"
          }
        }
      ]
    },
    {
      "cell_type": "markdown",
      "metadata": {
        "id": "b8Tgs6pJENub"
      },
      "source": [
        "We can invoke `.hist()` on a single column to plot a single histogram."
      ]
    },
    {
      "cell_type": "code",
      "metadata": {
        "colab": {
          "base_uri": "https://localhost:8080/",
          "height": 318
        },
        "id": "9ijHsvWRERNC",
        "outputId": "86c8306e-b749-429c-b8dc-ae3662620b5b"
      },
      "source": [
        "df[[\"petal length (cm)\"]].hist()"
      ],
      "execution_count": null,
      "outputs": [
        {
          "output_type": "execute_result",
          "data": {
            "text/plain": [
              "array([[<matplotlib.axes._subplots.AxesSubplot object at 0x7f4bd2fb1050>]],\n",
              "      dtype=object)"
            ]
          },
          "metadata": {},
          "execution_count": 8
        },
        {
          "output_type": "display_data",
          "data": {
            "image/png": "[encoded data removed]",
            "text/plain": [
              "<Figure size 432x288 with 1 Axes>"
            ]
          },
          "metadata": {
            "needs_background": "light"
          }
        }
      ]
    },
    {
      "cell_type": "code",
      "metadata": {
        "colab": {
          "base_uri": "https://localhost:8080/",
          "height": 318
        },
        "id": "w-yASDlRYuHp",
        "outputId": "b0085777-6d0e-4b08-daeb-f571ed0b7ee8"
      },
      "source": [
        "df[[\"sepal length (cm)\"]].hist()"
      ],
      "execution_count": null,
      "outputs": [
        {
          "output_type": "execute_result",
          "data": {
            "text/plain": [
              "array([[<matplotlib.axes._subplots.AxesSubplot object at 0x7f4bcdfcad90>]],\n",
              "      dtype=object)"
            ]
          },
          "metadata": {},
          "execution_count": 14
        },
        {
          "output_type": "display_data",
          "data": {
            "image/png": "[encoded data removed]",
            "text/plain": [
              "<Figure size 432x288 with 1 Axes>"
            ]
          },
          "metadata": {
            "needs_background": "light"
          }
        }
      ]
    },
    {
      "cell_type": "markdown",
      "metadata": {
        "id": "-gkctmvdFP9f"
      },
      "source": [
        "Histograms are useful for examining the probability distribution of a variable. In the histograms above we see that petal length is _bimodal_ (it has two 'humps'), while sepal width is _unimodal_. A bimodal distribution is indicative of two distinct categories of data being aggregated."
      ]
    },
    {
      "cell_type": "markdown",
      "metadata": {
        "id": "VzjZba62Eqpr"
      },
      "source": [
        "## Use `pd.plotting.scatter_matrix()` to draw a scatterplot matrix."
      ]
    },
    {
      "cell_type": "code",
      "metadata": {
        "colab": {
          "base_uri": "https://localhost:8080/",
          "height": 299
        },
        "id": "v4S7QZzaEwsp",
        "outputId": "3845906c-cd2d-406d-ddee-e222a49f93b2"
      },
      "source": [
        "_= pd.plotting.scatter_matrix(df) # Assign to _ to suppress output"
      ],
      "execution_count": null,
      "outputs": [
        {
          "output_type": "display_data",
          "data": {
            "image/png": "[encoded data removed]",
            "text/plain": [
              "<Figure size 432x288 with 16 Axes>"
            ]
          },
          "metadata": {
            "needs_background": "light"
          }
        }
      ]
    },
    {
      "cell_type": "markdown",
      "metadata": {
        "id": "88QiNQ19GHyY"
      },
      "source": [
        "Use `df.corr()` to generate a correlation matrix.\n",
        "\n",
        "The correlation matrix the degree of linear correlation that different variables have with each other. A value of -1 indicates perfect negative correlation, while a value of 1 indicates perfect positive correlation."
      ]
    },
    {
      "cell_type": "code",
      "metadata": {
        "colab": {
          "base_uri": "https://localhost:8080/",
          "height": 175
        },
        "id": "ZHzhihxyFt6f",
        "outputId": "7cb84bbc-f1a2-4e33-d7e3-d80e321da457"
      },
      "source": [
        "df.corr()"
      ],
      "execution_count": null,
      "outputs": [
        {
          "output_type": "execute_result",
          "data": {
            "text/html": [
              "<div>\n",
              "<style scoped>\n",
              "    .dataframe tbody tr th:only-of-type {\n",
              "        vertical-align: middle;\n",
              "    }\n",
              "\n",
              "    .dataframe tbody tr th {\n",
              "        vertical-align: top;\n",
              "    }\n",
              "\n",
              "    .dataframe thead th {\n",
              "        text-align: right;\n",
              "    }\n",
              "</style>\n",
              "<table border=\"1\" class=\"dataframe\">\n",
              "  <thead>\n",
              "    <tr style=\"text-align: right;\">\n",
              "      <th></th>\n",
              "      <th>sepal length (cm)</th>\n",
              "      <th>sepal width (cm)</th>\n",
              "      <th>petal length (cm)</th>\n",
              "      <th>petal width (cm)</th>\n",
              "    </tr>\n",
              "  </thead>\n",
              "  <tbody>\n",
              "    <tr>\n",
              "      <th>sepal length (cm)</th>\n",
              "      <td>1.000000</td>\n",
              "      <td>-0.117570</td>\n",
              "      <td>0.871754</td>\n",
              "      <td>0.817941</td>\n",
              "    </tr>\n",
              "    <tr>\n",
              "      <th>sepal width (cm)</th>\n",
              "      <td>-0.117570</td>\n",
              "      <td>1.000000</td>\n",
              "      <td>-0.428440</td>\n",
              "      <td>-0.366126</td>\n",
              "    </tr>\n",
              "    <tr>\n",
              "      <th>petal length (cm)</th>\n",
              "      <td>0.871754</td>\n",
              "      <td>-0.428440</td>\n",
              "      <td>1.000000</td>\n",
              "      <td>0.962865</td>\n",
              "    </tr>\n",
              "    <tr>\n",
              "      <th>petal width (cm)</th>\n",
              "      <td>0.817941</td>\n",
              "      <td>-0.366126</td>\n",
              "      <td>0.962865</td>\n",
              "      <td>1.000000</td>\n",
              "    </tr>\n",
              "  </tbody>\n",
              "</table>\n",
              "</div>"
            ],
            "text/plain": [
              "                   sepal length (cm)  ...  petal width (cm)\n",
              "sepal length (cm)           1.000000  ...          0.817941\n",
              "sepal width (cm)           -0.117570  ...         -0.366126\n",
              "petal length (cm)           0.871754  ...          0.962865\n",
              "petal width (cm)            0.817941  ...          1.000000\n",
              "\n",
              "[4 rows x 4 columns]"
            ]
          },
          "metadata": {},
          "execution_count": 25
        }
      ]
    },
    {
      "cell_type": "markdown",
      "metadata": {
        "id": "uOo6hecAGU02"
      },
      "source": [
        "In this matrix, we can see that sepal width and sepal length are relatively uncorrelated (-0.11) , while petal length and petal width are highly correlated (0.96)"
      ]
    },
    {
      "cell_type": "markdown",
      "metadata": {
        "id": "rOV5W4CDHi8o"
      },
      "source": [
        "## Exercises\n",
        "\n",
        "### Congress - EDA\n",
        "The following downloads a dataset consisting of votes made by US House of Representatives Congressmen and cleans the dataset.\n",
        "\n",
        "Get started with your EDA now by exploring this voting records dataset numerically. Use pandas' `.head()`, .`info()`, and `.describe()` methods to explore the DataFrame, and select the statement below that is not true.\n",
        "\n",
        "\n",
        "  1. The DataFrame has a total of 435 rows and 17 columns.\n",
        "\n",
        "  2. Except for 'party', all of the columns are of type int64.\n",
        "\n",
        "  3. The first two rows of the DataFrame consist of votes made by Republicans and the next three rows consist of votes made by Democrats.\n",
        "\n",
        "  4. There are 17 predictor variables, or features, in this DataFrame.\n",
        "\n",
        "  5. The target variable in this DataFrame is 'party'.\n",
        "\n",
        "\n"
      ]
    },
    {
      "cell_type": "code",
      "metadata": {
        "id": "M6AcaABIHlZO",
        "colab": {
          "base_uri": "https://localhost:8080/",
          "height": 444
        },
        "outputId": "51c1e196-2d50-4115-aad1-4bb90b8b5655"
      },
      "source": [
        "votes = pd.read_csv(\n",
        "    \"https://archive.ics.uci.edu/ml/machine-learning-databases/voting-records/house-votes-84.data\",\n",
        "    header=None,\n",
        "    names=['party', 'infants', 'water', 'budget', 'physician', 'salvador',\n",
        "       'religious', 'satellite', 'aid', 'missile', 'immigration', 'synfuels',\n",
        "       'education', 'superfund', 'crime', 'duty_free_exports', 'eaa_rsa'])\n",
        "\n",
        "party = votes[\"party\"]\n",
        "votes = votes == \"y\"\n",
        "votes = votes.astype(int)\n",
        "votes[\"party\"] = party\n",
        "votes"
      ],
      "execution_count": null,
      "outputs": [
        {
          "output_type": "execute_result",
          "data": {
            "text/html": [
              "<div>\n",
              "<style scoped>\n",
              "    .dataframe tbody tr th:only-of-type {\n",
              "        vertical-align: middle;\n",
              "    }\n",
              "\n",
              "    .dataframe tbody tr th {\n",
              "        vertical-align: top;\n",
              "    }\n",
              "\n",
              "    .dataframe thead th {\n",
              "        text-align: right;\n",
              "    }\n",
              "</style>\n",
              "<table border=\"1\" class=\"dataframe\">\n",
              "  <thead>\n",
              "    <tr style=\"text-align: right;\">\n",
              "      <th></th>\n",
              "      <th>party</th>\n",
              "      <th>infants</th>\n",
              "      <th>water</th>\n",
              "      <th>budget</th>\n",
              "      <th>physician</th>\n",
              "      <th>salvador</th>\n",
              "      <th>religious</th>\n",
              "      <th>satellite</th>\n",
              "      <th>aid</th>\n",
              "      <th>missile</th>\n",
              "      <th>immigration</th>\n",
              "      <th>synfuels</th>\n",
              "      <th>education</th>\n",
              "      <th>superfund</th>\n",
              "      <th>crime</th>\n",
              "      <th>duty_free_exports</th>\n",
              "      <th>eaa_rsa</th>\n",
              "    </tr>\n",
              "  </thead>\n",
              "  <tbody>\n",
              "    <tr>\n",
              "      <th>0</th>\n",
              "      <td>republican</td>\n",
              "      <td>0</td>\n",
              "      <td>1</td>\n",
              "      <td>0</td>\n",
              "      <td>1</td>\n",
              "      <td>1</td>\n",
              "      <td>1</td>\n",
              "      <td>0</td>\n",
              "      <td>0</td>\n",
              "      <td>0</td>\n",
              "      <td>1</td>\n",
              "      <td>0</td>\n",
              "      <td>1</td>\n",
              "      <td>1</td>\n",
              "      <td>1</td>\n",
              "      <td>0</td>\n",
              "      <td>1</td>\n",
              "    </tr>\n",
              "    <tr>\n",
              "      <th>1</th>\n",
              "      <td>republican</td>\n",
              "      <td>0</td>\n",
              "      <td>1</td>\n",
              "      <td>0</td>\n",
              "      <td>1</td>\n",
              "      <td>1</td>\n",
              "      <td>1</td>\n",
              "      <td>0</td>\n",
              "      <td>0</td>\n",
              "      <td>0</td>\n",
              "      <td>0</td>\n",
              "      <td>0</td>\n",
              "      <td>1</td>\n",
              "      <td>1</td>\n",
              "      <td>1</td>\n",
              "      <td>0</td>\n",
              "      <td>0</td>\n",
              "    </tr>\n",
              "    <tr>\n",
              "      <th>2</th>\n",
              "      <td>democrat</td>\n",
              "      <td>0</td>\n",
              "      <td>1</td>\n",
              "      <td>1</td>\n",
              "      <td>0</td>\n",
              "      <td>1</td>\n",
              "      <td>1</td>\n",
              "      <td>0</td>\n",
              "      <td>0</td>\n",
              "      <td>0</td>\n",
              "      <td>0</td>\n",
              "      <td>1</td>\n",
              "      <td>0</td>\n",
              "      <td>1</td>\n",
              "      <td>1</td>\n",
              "      <td>0</td>\n",
              "      <td>0</td>\n",
              "    </tr>\n",
              "    <tr>\n",
              "      <th>3</th>\n",
              "      <td>democrat</td>\n",
              "      <td>0</td>\n",
              "      <td>1</td>\n",
              "      <td>1</td>\n",
              "      <td>0</td>\n",
              "      <td>0</td>\n",
              "      <td>1</td>\n",
              "      <td>0</td>\n",
              "      <td>0</td>\n",
              "      <td>0</td>\n",
              "      <td>0</td>\n",
              "      <td>1</td>\n",
              "      <td>0</td>\n",
              "      <td>1</td>\n",
              "      <td>0</td>\n",
              "      <td>0</td>\n",
              "      <td>1</td>\n",
              "    </tr>\n",
              "    <tr>\n",
              "      <th>4</th>\n",
              "      <td>democrat</td>\n",
              "      <td>1</td>\n",
              "      <td>1</td>\n",
              "      <td>1</td>\n",
              "      <td>0</td>\n",
              "      <td>1</td>\n",
              "      <td>1</td>\n",
              "      <td>0</td>\n",
              "      <td>0</td>\n",
              "      <td>0</td>\n",
              "      <td>0</td>\n",
              "      <td>1</td>\n",
              "      <td>0</td>\n",
              "      <td>1</td>\n",
              "      <td>1</td>\n",
              "      <td>1</td>\n",
              "      <td>1</td>\n",
              "    </tr>\n",
              "    <tr>\n",
              "      <th>...</th>\n",
              "      <td>...</td>\n",
              "      <td>...</td>\n",
              "      <td>...</td>\n",
              "      <td>...</td>\n",
              "      <td>...</td>\n",
              "      <td>...</td>\n",
              "      <td>...</td>\n",
              "      <td>...</td>\n",
              "      <td>...</td>\n",
              "      <td>...</td>\n",
              "      <td>...</td>\n",
              "      <td>...</td>\n",
              "      <td>...</td>\n",
              "      <td>...</td>\n",
              "      <td>...</td>\n",
              "      <td>...</td>\n",
              "      <td>...</td>\n",
              "    </tr>\n",
              "    <tr>\n",
              "      <th>430</th>\n",
              "      <td>republican</td>\n",
              "      <td>0</td>\n",
              "      <td>0</td>\n",
              "      <td>1</td>\n",
              "      <td>1</td>\n",
              "      <td>1</td>\n",
              "      <td>1</td>\n",
              "      <td>0</td>\n",
              "      <td>0</td>\n",
              "      <td>1</td>\n",
              "      <td>1</td>\n",
              "      <td>0</td>\n",
              "      <td>1</td>\n",
              "      <td>1</td>\n",
              "      <td>1</td>\n",
              "      <td>0</td>\n",
              "      <td>1</td>\n",
              "    </tr>\n",
              "    <tr>\n",
              "      <th>431</th>\n",
              "      <td>democrat</td>\n",
              "      <td>0</td>\n",
              "      <td>0</td>\n",
              "      <td>1</td>\n",
              "      <td>0</td>\n",
              "      <td>0</td>\n",
              "      <td>0</td>\n",
              "      <td>1</td>\n",
              "      <td>1</td>\n",
              "      <td>1</td>\n",
              "      <td>1</td>\n",
              "      <td>0</td>\n",
              "      <td>0</td>\n",
              "      <td>0</td>\n",
              "      <td>0</td>\n",
              "      <td>0</td>\n",
              "      <td>1</td>\n",
              "    </tr>\n",
              "    <tr>\n",
              "      <th>432</th>\n",
              "      <td>republican</td>\n",
              "      <td>0</td>\n",
              "      <td>0</td>\n",
              "      <td>0</td>\n",
              "      <td>1</td>\n",
              "      <td>1</td>\n",
              "      <td>1</td>\n",
              "      <td>0</td>\n",
              "      <td>0</td>\n",
              "      <td>0</td>\n",
              "      <td>0</td>\n",
              "      <td>1</td>\n",
              "      <td>1</td>\n",
              "      <td>1</td>\n",
              "      <td>1</td>\n",
              "      <td>0</td>\n",
              "      <td>1</td>\n",
              "    </tr>\n",
              "    <tr>\n",
              "      <th>433</th>\n",
              "      <td>republican</td>\n",
              "      <td>0</td>\n",
              "      <td>0</td>\n",
              "      <td>0</td>\n",
              "      <td>1</td>\n",
              "      <td>1</td>\n",
              "      <td>1</td>\n",
              "      <td>0</td>\n",
              "      <td>0</td>\n",
              "      <td>0</td>\n",
              "      <td>0</td>\n",
              "      <td>0</td>\n",
              "      <td>1</td>\n",
              "      <td>1</td>\n",
              "      <td>1</td>\n",
              "      <td>0</td>\n",
              "      <td>1</td>\n",
              "    </tr>\n",
              "    <tr>\n",
              "      <th>434</th>\n",
              "      <td>republican</td>\n",
              "      <td>0</td>\n",
              "      <td>1</td>\n",
              "      <td>0</td>\n",
              "      <td>1</td>\n",
              "      <td>1</td>\n",
              "      <td>1</td>\n",
              "      <td>0</td>\n",
              "      <td>0</td>\n",
              "      <td>0</td>\n",
              "      <td>1</td>\n",
              "      <td>0</td>\n",
              "      <td>1</td>\n",
              "      <td>1</td>\n",
              "      <td>1</td>\n",
              "      <td>0</td>\n",
              "      <td>0</td>\n",
              "    </tr>\n",
              "  </tbody>\n",
              "</table>\n",
              "<p>435 rows × 17 columns</p>\n",
              "</div>"
            ],
            "text/plain": [
              "          party  infants  water  ...  crime  duty_free_exports  eaa_rsa\n",
              "0    republican        0      1  ...      1                  0        1\n",
              "1    republican        0      1  ...      1                  0        0\n",
              "2      democrat        0      1  ...      1                  0        0\n",
              "3      democrat        0      1  ...      0                  0        1\n",
              "4      democrat        1      1  ...      1                  1        1\n",
              "..          ...      ...    ...  ...    ...                ...      ...\n",
              "430  republican        0      0  ...      1                  0        1\n",
              "431    democrat        0      0  ...      0                  0        1\n",
              "432  republican        0      0  ...      1                  0        1\n",
              "433  republican        0      0  ...      1                  0        1\n",
              "434  republican        0      1  ...      1                  0        0\n",
              "\n",
              "[435 rows x 17 columns]"
            ]
          },
          "metadata": {},
          "execution_count": 18
        }
      ]
    },
    {
      "cell_type": "code",
      "metadata": {
        "colab": {
          "base_uri": "https://localhost:8080/",
          "height": 226
        },
        "id": "zF_L4RZMa6W2",
        "outputId": "56b653f7-b237-4c0a-fffa-7b67b53a62b1"
      },
      "source": [
        "votes.head(5)"
      ],
      "execution_count": null,
      "outputs": [
        {
          "output_type": "execute_result",
          "data": {
            "text/html": [
              "<div>\n",
              "<style scoped>\n",
              "    .dataframe tbody tr th:only-of-type {\n",
              "        vertical-align: middle;\n",
              "    }\n",
              "\n",
              "    .dataframe tbody tr th {\n",
              "        vertical-align: top;\n",
              "    }\n",
              "\n",
              "    .dataframe thead th {\n",
              "        text-align: right;\n",
              "    }\n",
              "</style>\n",
              "<table border=\"1\" class=\"dataframe\">\n",
              "  <thead>\n",
              "    <tr style=\"text-align: right;\">\n",
              "      <th></th>\n",
              "      <th>party</th>\n",
              "      <th>infants</th>\n",
              "      <th>water</th>\n",
              "      <th>budget</th>\n",
              "      <th>physician</th>\n",
              "      <th>salvador</th>\n",
              "      <th>religious</th>\n",
              "      <th>satellite</th>\n",
              "      <th>aid</th>\n",
              "      <th>missile</th>\n",
              "      <th>immigration</th>\n",
              "      <th>synfuels</th>\n",
              "      <th>education</th>\n",
              "      <th>superfund</th>\n",
              "      <th>crime</th>\n",
              "      <th>duty_free_exports</th>\n",
              "      <th>eaa_rsa</th>\n",
              "    </tr>\n",
              "  </thead>\n",
              "  <tbody>\n",
              "    <tr>\n",
              "      <th>0</th>\n",
              "      <td>republican</td>\n",
              "      <td>0</td>\n",
              "      <td>1</td>\n",
              "      <td>0</td>\n",
              "      <td>1</td>\n",
              "      <td>1</td>\n",
              "      <td>1</td>\n",
              "      <td>0</td>\n",
              "      <td>0</td>\n",
              "      <td>0</td>\n",
              "      <td>1</td>\n",
              "      <td>0</td>\n",
              "      <td>1</td>\n",
              "      <td>1</td>\n",
              "      <td>1</td>\n",
              "      <td>0</td>\n",
              "      <td>1</td>\n",
              "    </tr>\n",
              "    <tr>\n",
              "      <th>1</th>\n",
              "      <td>republican</td>\n",
              "      <td>0</td>\n",
              "      <td>1</td>\n",
              "      <td>0</td>\n",
              "      <td>1</td>\n",
              "      <td>1</td>\n",
              "      <td>1</td>\n",
              "      <td>0</td>\n",
              "      <td>0</td>\n",
              "      <td>0</td>\n",
              "      <td>0</td>\n",
              "      <td>0</td>\n",
              "      <td>1</td>\n",
              "      <td>1</td>\n",
              "      <td>1</td>\n",
              "      <td>0</td>\n",
              "      <td>0</td>\n",
              "    </tr>\n",
              "    <tr>\n",
              "      <th>2</th>\n",
              "      <td>democrat</td>\n",
              "      <td>0</td>\n",
              "      <td>1</td>\n",
              "      <td>1</td>\n",
              "      <td>0</td>\n",
              "      <td>1</td>\n",
              "      <td>1</td>\n",
              "      <td>0</td>\n",
              "      <td>0</td>\n",
              "      <td>0</td>\n",
              "      <td>0</td>\n",
              "      <td>1</td>\n",
              "      <td>0</td>\n",
              "      <td>1</td>\n",
              "      <td>1</td>\n",
              "      <td>0</td>\n",
              "      <td>0</td>\n",
              "    </tr>\n",
              "    <tr>\n",
              "      <th>3</th>\n",
              "      <td>democrat</td>\n",
              "      <td>0</td>\n",
              "      <td>1</td>\n",
              "      <td>1</td>\n",
              "      <td>0</td>\n",
              "      <td>0</td>\n",
              "      <td>1</td>\n",
              "      <td>0</td>\n",
              "      <td>0</td>\n",
              "      <td>0</td>\n",
              "      <td>0</td>\n",
              "      <td>1</td>\n",
              "      <td>0</td>\n",
              "      <td>1</td>\n",
              "      <td>0</td>\n",
              "      <td>0</td>\n",
              "      <td>1</td>\n",
              "    </tr>\n",
              "    <tr>\n",
              "      <th>4</th>\n",
              "      <td>democrat</td>\n",
              "      <td>1</td>\n",
              "      <td>1</td>\n",
              "      <td>1</td>\n",
              "      <td>0</td>\n",
              "      <td>1</td>\n",
              "      <td>1</td>\n",
              "      <td>0</td>\n",
              "      <td>0</td>\n",
              "      <td>0</td>\n",
              "      <td>0</td>\n",
              "      <td>1</td>\n",
              "      <td>0</td>\n",
              "      <td>1</td>\n",
              "      <td>1</td>\n",
              "      <td>1</td>\n",
              "      <td>1</td>\n",
              "    </tr>\n",
              "  </tbody>\n",
              "</table>\n",
              "</div>"
            ],
            "text/plain": [
              "        party  infants  water  ...  crime  duty_free_exports  eaa_rsa\n",
              "0  republican        0      1  ...      1                  0        1\n",
              "1  republican        0      1  ...      1                  0        0\n",
              "2    democrat        0      1  ...      1                  0        0\n",
              "3    democrat        0      1  ...      0                  0        1\n",
              "4    democrat        1      1  ...      1                  1        1\n",
              "\n",
              "[5 rows x 17 columns]"
            ]
          },
          "metadata": {},
          "execution_count": 21
        }
      ]
    },
    {
      "cell_type": "markdown",
      "metadata": {
        "id": "y2NF_NIY7kzO"
      },
      "source": [
        "# Part 3 - Classification\n",
        "\n",
        "## Questions\n",
        "\n",
        "## Objectives\n",
        "* Train a classification model\n",
        "\n"
      ]
    },
    {
      "cell_type": "markdown",
      "metadata": {
        "id": "v2Wgte4P7hCW"
      },
      "source": [
        "## K Nearest Neighbours is a classification algorithm\n",
        "\n",
        "* K nearest neighbours looks at the `k` nearest data points (neighbors) and predicts the majority class.\n",
        "\n",
        "* \"Nearest\" requires a distance metric. Typically euclidean distance is used.\n",
        "\n",
        "K nearest neighbors assumes that categories result in clusters of features. We can see this assumption validated in the Iris dataset."
      ]
    },
    {
      "cell_type": "code",
      "metadata": {
        "id": "O_XX2SAsV4Ae",
        "colab": {
          "base_uri": "https://localhost:8080/",
          "height": 265
        },
        "outputId": "7b1706c2-69a1-4b8e-ac8e-b87ec948ce48"
      },
      "source": [
        "#@title Plot of iris species\n",
        "iris = datasets.load_iris()\n",
        "X = iris.data\n",
        "y = iris.target\n",
        "y_names = pd.Series(y).apply(lambda x: iris.target_names[x])\n",
        "df = pd.DataFrame(X, columns=iris.feature_names)\n",
        "\n",
        "fig, ax = plt.subplots()\n",
        "\n",
        "scatter = ax.scatter(x=df[\"petal width (cm)\"],y=df[\"petal length (cm)\"],c=y)\n",
        "handles, labels = scatter.legend_elements()\n",
        "\n",
        "legend1 = ax.legend(handles,iris.target_names,\n",
        "                    loc=\"upper left\", title=\"Species\")\n"
      ],
      "execution_count": null,
      "outputs": [
        {
          "output_type": "display_data",
          "data": {
            "image/png": "[encoded data removed]",
            "text/plain": [
              "<Figure size 432x288 with 1 Axes>"
            ]
          },
          "metadata": {
            "needs_background": "light"
          }
        }
      ]
    },
    {
      "cell_type": "markdown",
      "metadata": {
        "id": "-jDe7Qj8deTb"
      },
      "source": [
        "A basic workflow for training classifiers is:\n",
        "\n",
        "1. Import the classification model algorithm.\n",
        "2. Construct a model object `model`.\n",
        "3. Load the features `X` and labels `y`.\n",
        "3. Use `model.fit(X,y)` method to train the model on data.\n",
        "\n",
        "Let's see this in action."
      ]
    },
    {
      "cell_type": "code",
      "metadata": {
        "colab": {
          "base_uri": "https://localhost:8080/"
        },
        "id": "2zHf16iBZscX",
        "outputId": "5ad70c1c-368a-4831-cb89-e304d4d3a4f4"
      },
      "source": [
        "## Import the k neighbors model algorthm.\n",
        "from sklearn.neighbors import KNeighborsClassifier\n",
        "\n",
        "## Construct the model object\n",
        "knn = KNeighborsClassifier()\n",
        "\n",
        "## Load the data\n",
        "iris = datasets.load_iris()\n",
        "X = iris.data\n",
        "y = iris.target\n",
        "\n",
        "## Fit the model\n",
        "knn.fit(X,y)\n"
      ],
      "execution_count": null,
      "outputs": [
        {
          "output_type": "execute_result",
          "data": {
            "text/plain": [
              "KNeighborsClassifier(algorithm='auto', leaf_size=30, metric='minkowski',\n",
              "                     metric_params=None, n_jobs=None, n_neighbors=5, p=2,\n",
              "                     weights='uniform')"
            ]
          },
          "metadata": {},
          "execution_count": 27
        }
      ]
    },
    {
      "cell_type": "code",
      "metadata": {
        "id": "HZeOn2dgd7_i"
      },
      "source": [
        ""
      ],
      "execution_count": null,
      "outputs": []
    },
    {
      "cell_type": "markdown",
      "metadata": {
        "id": "Y3oj3eJse1dR"
      },
      "source": [
        "## Use the `.predict()` method to generate predictions.\n",
        "\n",
        "Now we have a fitted model, we can classify unlabelled data."
      ]
    },
    {
      "cell_type": "code",
      "metadata": {
        "colab": {
          "base_uri": "https://localhost:8080/"
        },
        "id": "HR08ahyde6-m",
        "outputId": "99430a9a-ff85-4b4e-e3bd-556c581ef4d9"
      },
      "source": [
        "unlabelled_data = df.loc[0:1]\n",
        "predictions = knn.predict(unlabelled_data)\n",
        "\n",
        "\n",
        "print(f\"Predicted classes: {predictions}\")\n",
        "\n",
        "print(f\"Real classes: {list(y[0:2])}\")"
      ],
      "execution_count": null,
      "outputs": [
        {
          "output_type": "stream",
          "name": "stdout",
          "text": [
            "Predicted classes: [0 0]\n",
            "Real classes: [0, 0]\n"
          ]
        }
      ]
    },
    {
      "cell_type": "code",
      "metadata": {
        "id": "-0YUcEvufHXN",
        "colab": {
          "base_uri": "https://localhost:8080/"
        },
        "outputId": "ae948ab3-53a6-4724-ebc5-444c28517cdb"
      },
      "source": [
        "knn.predict(unlabelled_data)"
      ],
      "execution_count": null,
      "outputs": [
        {
          "output_type": "execute_result",
          "data": {
            "text/plain": [
              "array([0, 0])"
            ]
          },
          "metadata": {},
          "execution_count": 30
        }
      ]
    },
    {
      "cell_type": "markdown",
      "metadata": {
        "id": "YgjQWhzFf3s3"
      },
      "source": [
        "## Use class maps to decode predictions.\n",
        "\n",
        "Our classifier takes classes encoded as integers. However, we would typically decode these into human readable strings. To do this, we have a \"class map\", which is a list of class names that specifies a mapping from name to integer.\n"
      ]
    },
    {
      "cell_type": "code",
      "metadata": {
        "colab": {
          "base_uri": "https://localhost:8080/"
        },
        "id": "QhX11vxvgHBC",
        "outputId": "5ede07a1-8044-4858-fbdc-4501e2aa8ff6"
      },
      "source": [
        "class_map = iris.target_names\n",
        "decoded_classes = [class_map[x] for x in predictions]\n",
        "decoded_classes"
      ],
      "execution_count": null,
      "outputs": [
        {
          "output_type": "execute_result",
          "data": {
            "text/plain": [
              "['setosa', 'setosa']"
            ]
          },
          "metadata": {},
          "execution_count": 31
        }
      ]
    },
    {
      "cell_type": "code",
      "metadata": {
        "id": "lbJzlK6Ad_cT"
      },
      "source": [
        ""
      ],
      "execution_count": null,
      "outputs": []
    },
    {
      "cell_type": "code",
      "metadata": {
        "colab": {
          "base_uri": "https://localhost:8080/"
        },
        "id": "L3aMET0Gdfm1",
        "outputId": "bebe2afc-6add-4e80-afa2-8050102a7969"
      },
      "source": [
        "class_map"
      ],
      "execution_count": null,
      "outputs": [
        {
          "output_type": "execute_result",
          "data": {
            "text/plain": [
              "array(['setosa', 'versicolor', 'virginica'], dtype='<U10')"
            ]
          },
          "metadata": {},
          "execution_count": 34
        }
      ]
    },
    {
      "cell_type": "markdown",
      "metadata": {
        "id": "fNkUWfkpdwfP"
      },
      "source": [
        "## Evaluating classifiers\n"
      ]
    },
    {
      "cell_type": "markdown",
      "metadata": {
        "id": "xYkG5Ga_gPRp"
      },
      "source": [
        "## Exercises\n",
        "\n",
        "### Party Classification\n",
        "\n",
        "Train a K nearest neighbors classifier to predict party affiliation from voting record."
      ]
    },
    {
      "cell_type": "code",
      "metadata": {
        "colab": {
          "base_uri": "https://localhost:8080/",
          "height": 424
        },
        "id": "nCuOBo_pdOvv",
        "outputId": "135cac2a-38aa-4a30-bb42-34e7ce5814e4"
      },
      "source": [
        "import pandas as pd\n",
        "votes = pd.read_csv(\n",
        "    \"https://archive.ics.uci.edu/ml/machine-learning-databases/voting-records/house-votes-84.data\",\n",
        "    header=None,\n",
        "    names=['party', 'infants', 'water', 'budget', 'physician', 'salvador',\n",
        "       'religious', 'satellite', 'aid', 'missile', 'immigration', 'synfuels',\n",
        "       'education', 'superfund', 'crime', 'duty_free_exports', 'eaa_rsa'])\n",
        "\n",
        "party = votes[\"party\"]\n",
        "votes = votes == \"y\"\n",
        "votes = votes.astype(int)\n",
        "votes[\"party\"] = party\n",
        "votes"
      ],
      "execution_count": null,
      "outputs": [
        {
          "output_type": "execute_result",
          "data": {
            "text/html": [
              "<div>\n",
              "<style scoped>\n",
              "    .dataframe tbody tr th:only-of-type {\n",
              "        vertical-align: middle;\n",
              "    }\n",
              "\n",
              "    .dataframe tbody tr th {\n",
              "        vertical-align: top;\n",
              "    }\n",
              "\n",
              "    .dataframe thead th {\n",
              "        text-align: right;\n",
              "    }\n",
              "</style>\n",
              "<table border=\"1\" class=\"dataframe\">\n",
              "  <thead>\n",
              "    <tr style=\"text-align: right;\">\n",
              "      <th></th>\n",
              "      <th>party</th>\n",
              "      <th>infants</th>\n",
              "      <th>water</th>\n",
              "      <th>budget</th>\n",
              "      <th>physician</th>\n",
              "      <th>salvador</th>\n",
              "      <th>religious</th>\n",
              "      <th>satellite</th>\n",
              "      <th>aid</th>\n",
              "      <th>missile</th>\n",
              "      <th>immigration</th>\n",
              "      <th>synfuels</th>\n",
              "      <th>education</th>\n",
              "      <th>superfund</th>\n",
              "      <th>crime</th>\n",
              "      <th>duty_free_exports</th>\n",
              "      <th>eaa_rsa</th>\n",
              "    </tr>\n",
              "  </thead>\n",
              "  <tbody>\n",
              "    <tr>\n",
              "      <th>0</th>\n",
              "      <td>republican</td>\n",
              "      <td>0</td>\n",
              "      <td>1</td>\n",
              "      <td>0</td>\n",
              "      <td>1</td>\n",
              "      <td>1</td>\n",
              "      <td>1</td>\n",
              "      <td>0</td>\n",
              "      <td>0</td>\n",
              "      <td>0</td>\n",
              "      <td>1</td>\n",
              "      <td>0</td>\n",
              "      <td>1</td>\n",
              "      <td>1</td>\n",
              "      <td>1</td>\n",
              "      <td>0</td>\n",
              "      <td>1</td>\n",
              "    </tr>\n",
              "    <tr>\n",
              "      <th>1</th>\n",
              "      <td>republican</td>\n",
              "      <td>0</td>\n",
              "      <td>1</td>\n",
              "      <td>0</td>\n",
              "      <td>1</td>\n",
              "      <td>1</td>\n",
              "      <td>1</td>\n",
              "      <td>0</td>\n",
              "      <td>0</td>\n",
              "      <td>0</td>\n",
              "      <td>0</td>\n",
              "      <td>0</td>\n",
              "      <td>1</td>\n",
              "      <td>1</td>\n",
              "      <td>1</td>\n",
              "      <td>0</td>\n",
              "      <td>0</td>\n",
              "    </tr>\n",
              "    <tr>\n",
              "      <th>2</th>\n",
              "      <td>democrat</td>\n",
              "      <td>0</td>\n",
              "      <td>1</td>\n",
              "      <td>1</td>\n",
              "      <td>0</td>\n",
              "      <td>1</td>\n",
              "      <td>1</td>\n",
              "      <td>0</td>\n",
              "      <td>0</td>\n",
              "      <td>0</td>\n",
              "      <td>0</td>\n",
              "      <td>1</td>\n",
              "      <td>0</td>\n",
              "      <td>1</td>\n",
              "      <td>1</td>\n",
              "      <td>0</td>\n",
              "      <td>0</td>\n",
              "    </tr>\n",
              "    <tr>\n",
              "      <th>3</th>\n",
              "      <td>democrat</td>\n",
              "      <td>0</td>\n",
              "      <td>1</td>\n",
              "      <td>1</td>\n",
              "      <td>0</td>\n",
              "      <td>0</td>\n",
              "      <td>1</td>\n",
              "      <td>0</td>\n",
              "      <td>0</td>\n",
              "      <td>0</td>\n",
              "      <td>0</td>\n",
              "      <td>1</td>\n",
              "      <td>0</td>\n",
              "      <td>1</td>\n",
              "      <td>0</td>\n",
              "      <td>0</td>\n",
              "      <td>1</td>\n",
              "    </tr>\n",
              "    <tr>\n",
              "      <th>4</th>\n",
              "      <td>democrat</td>\n",
              "      <td>1</td>\n",
              "      <td>1</td>\n",
              "      <td>1</td>\n",
              "      <td>0</td>\n",
              "      <td>1</td>\n",
              "      <td>1</td>\n",
              "      <td>0</td>\n",
              "      <td>0</td>\n",
              "      <td>0</td>\n",
              "      <td>0</td>\n",
              "      <td>1</td>\n",
              "      <td>0</td>\n",
              "      <td>1</td>\n",
              "      <td>1</td>\n",
              "      <td>1</td>\n",
              "      <td>1</td>\n",
              "    </tr>\n",
              "    <tr>\n",
              "      <th>...</th>\n",
              "      <td>...</td>\n",
              "      <td>...</td>\n",
              "      <td>...</td>\n",
              "      <td>...</td>\n",
              "      <td>...</td>\n",
              "      <td>...</td>\n",
              "      <td>...</td>\n",
              "      <td>...</td>\n",
              "      <td>...</td>\n",
              "      <td>...</td>\n",
              "      <td>...</td>\n",
              "      <td>...</td>\n",
              "      <td>...</td>\n",
              "      <td>...</td>\n",
              "      <td>...</td>\n",
              "      <td>...</td>\n",
              "      <td>...</td>\n",
              "    </tr>\n",
              "    <tr>\n",
              "      <th>430</th>\n",
              "      <td>republican</td>\n",
              "      <td>0</td>\n",
              "      <td>0</td>\n",
              "      <td>1</td>\n",
              "      <td>1</td>\n",
              "      <td>1</td>\n",
              "      <td>1</td>\n",
              "      <td>0</td>\n",
              "      <td>0</td>\n",
              "      <td>1</td>\n",
              "      <td>1</td>\n",
              "      <td>0</td>\n",
              "      <td>1</td>\n",
              "      <td>1</td>\n",
              "      <td>1</td>\n",
              "      <td>0</td>\n",
              "      <td>1</td>\n",
              "    </tr>\n",
              "    <tr>\n",
              "      <th>431</th>\n",
              "      <td>democrat</td>\n",
              "      <td>0</td>\n",
              "      <td>0</td>\n",
              "      <td>1</td>\n",
              "      <td>0</td>\n",
              "      <td>0</td>\n",
              "      <td>0</td>\n",
              "      <td>1</td>\n",
              "      <td>1</td>\n",
              "      <td>1</td>\n",
              "      <td>1</td>\n",
              "      <td>0</td>\n",
              "      <td>0</td>\n",
              "      <td>0</td>\n",
              "      <td>0</td>\n",
              "      <td>0</td>\n",
              "      <td>1</td>\n",
              "    </tr>\n",
              "    <tr>\n",
              "      <th>432</th>\n",
              "      <td>republican</td>\n",
              "      <td>0</td>\n",
              "      <td>0</td>\n",
              "      <td>0</td>\n",
              "      <td>1</td>\n",
              "      <td>1</td>\n",
              "      <td>1</td>\n",
              "      <td>0</td>\n",
              "      <td>0</td>\n",
              "      <td>0</td>\n",
              "      <td>0</td>\n",
              "      <td>1</td>\n",
              "      <td>1</td>\n",
              "      <td>1</td>\n",
              "      <td>1</td>\n",
              "      <td>0</td>\n",
              "      <td>1</td>\n",
              "    </tr>\n",
              "    <tr>\n",
              "      <th>433</th>\n",
              "      <td>republican</td>\n",
              "      <td>0</td>\n",
              "      <td>0</td>\n",
              "      <td>0</td>\n",
              "      <td>1</td>\n",
              "      <td>1</td>\n",
              "      <td>1</td>\n",
              "      <td>0</td>\n",
              "      <td>0</td>\n",
              "      <td>0</td>\n",
              "      <td>0</td>\n",
              "      <td>0</td>\n",
              "      <td>1</td>\n",
              "      <td>1</td>\n",
              "      <td>1</td>\n",
              "      <td>0</td>\n",
              "      <td>1</td>\n",
              "    </tr>\n",
              "    <tr>\n",
              "      <th>434</th>\n",
              "      <td>republican</td>\n",
              "      <td>0</td>\n",
              "      <td>1</td>\n",
              "      <td>0</td>\n",
              "      <td>1</td>\n",
              "      <td>1</td>\n",
              "      <td>1</td>\n",
              "      <td>0</td>\n",
              "      <td>0</td>\n",
              "      <td>0</td>\n",
              "      <td>1</td>\n",
              "      <td>0</td>\n",
              "      <td>1</td>\n",
              "      <td>1</td>\n",
              "      <td>1</td>\n",
              "      <td>0</td>\n",
              "      <td>0</td>\n",
              "    </tr>\n",
              "  </tbody>\n",
              "</table>\n",
              "<p>435 rows × 17 columns</p>\n",
              "</div>"
            ],
            "text/plain": [
              "          party  infants  water  ...  crime  duty_free_exports  eaa_rsa\n",
              "0    republican        0      1  ...      1                  0        1\n",
              "1    republican        0      1  ...      1                  0        0\n",
              "2      democrat        0      1  ...      1                  0        0\n",
              "3      democrat        0      1  ...      0                  0        1\n",
              "4      democrat        1      1  ...      1                  1        1\n",
              "..          ...      ...    ...  ...    ...                ...      ...\n",
              "430  republican        0      0  ...      1                  0        1\n",
              "431    democrat        0      0  ...      0                  0        1\n",
              "432  republican        0      0  ...      1                  0        1\n",
              "433  republican        0      0  ...      1                  0        1\n",
              "434  republican        0      1  ...      1                  0        0\n",
              "\n",
              "[435 rows x 17 columns]"
            ]
          },
          "metadata": {},
          "execution_count": 1
        }
      ]
    },
    {
      "cell_type": "code",
      "metadata": {
        "colab": {
          "base_uri": "https://localhost:8080/"
        },
        "id": "o_TGaRCCd2KF",
        "outputId": "92ea7b29-28bf-463b-8c0d-0590779670a3"
      },
      "source": [
        "from sklearn.neighbors import KNeighborsClassifier\n",
        "\n",
        "knn_votes = KNeighborsClassifier()\n",
        "\n",
        "X = votes.drop(\"party\",axis=1)\n",
        "y = votes.party\n",
        "\n",
        "knn_votes.fit(X,y)\n",
        "\n",
        "\n",
        "knn_votes.predict(X.iloc[0:1,:])"
      ],
      "execution_count": null,
      "outputs": [
        {
          "output_type": "execute_result",
          "data": {
            "text/plain": [
              "array(['republican'], dtype=object)"
            ]
          },
          "metadata": {},
          "execution_count": 38
        }
      ]
    },
    {
      "cell_type": "markdown",
      "metadata": {
        "id": "RPJOvng9dXk8"
      },
      "source": [
        "# Part 4 - Evaluating classifiers\n",
        "\n",
        "\n",
        "### Questions\n",
        "* How do I measure the performance of my classifier?\n",
        "* Which data should be used to measure performance?\n",
        "\n",
        "### Objectives\n",
        "* Understand the train/test split.\n",
        "* Use cross validation to compute out of sample accuracy.\n",
        "* Understand when accuracy is and is not an appropriate measure.\n",
        "* Understand what recall as an alternative evaluation measure.\n"
      ]
    },
    {
      "cell_type": "markdown",
      "metadata": {
        "id": "K_XhtFyCeVy4"
      },
      "source": [
        "## The overfitting problem\n",
        "\n",
        "Consider the following three models.\n",
        "\n",
        "![](https://miro.medium.com/max/700/1*_7OPgojau8hkiPUiHoGK_w.png)\n",
        "\n",
        "When we use machine learning, we have the opportunity to create models of great complexity. If we're not careful, this can lead to effective memorization of our entire training data, hampering the model's ability to generalize."
      ]
    },
    {
      "cell_type": "markdown",
      "metadata": {
        "id": "XXDDPFRxf2iN"
      },
      "source": [
        "## K nearest neighbors will overfit with small values of K\n",
        "\n",
        "In the code below, we train a K nearest neighbors model with K = 1. This is effectively a memorization of the dataset. We compute accuracy as the fraction of correct predictions."
      ]
    },
    {
      "cell_type": "code",
      "metadata": {
        "colab": {
          "base_uri": "https://localhost:8080/"
        },
        "id": "Z6esVzd0gYLh",
        "outputId": "d0d70dfd-67c7-4abe-d3ee-31ba79e7ce85"
      },
      "source": [
        "## Import the k neighbors model algorthm.\n",
        "from sklearn import datasets\n",
        "from sklearn.neighbors import KNeighborsClassifier\n",
        "import numpy as np\n",
        "## Construct the model object\n",
        "knn = KNeighborsClassifier(n_neighbors=1)\n",
        "\n",
        "## Load the data\n",
        "iris = datasets.load_iris()\n",
        "X = iris.data\n",
        "y = iris.target\n",
        "\n",
        "## Fit the model\n",
        "knn.fit(X,y)\n",
        "\n",
        "## Evaluate\n",
        "training_accuracy = np.mean(knn.predict(X) == y)\n",
        "print(f\"training accuracy is: {training_accuracy}\")"
      ],
      "execution_count": null,
      "outputs": [
        {
          "output_type": "stream",
          "name": "stdout",
          "text": [
            "training accuracy is: 1.0\n"
          ]
        }
      ]
    },
    {
      "cell_type": "markdown",
      "metadata": {
        "id": "t9IfOKQhhvws"
      },
      "source": [
        "An accuracy of 100%! We should be skeptical of such a figure."
      ]
    },
    {
      "cell_type": "markdown",
      "metadata": {
        "id": "PXDA4tHeiqQo"
      },
      "source": [
        "## `train_test_split` helps us detect overfitting.\n",
        "\n",
        "Let's try fitting the same model, but first we will divide our data into two sets.\n",
        "\n",
        "The _training_ set, which is data that the model will fit its parameters to,\n",
        "and the _test_ set. Data which the model won't see, but we will use to evaluate its performance.\n",
        "\n",
        "Use the `train_test_split` function to split data. When splitting data, it's good practice to set the `random_seed` to ensure consistent splitting, and to `stratify` by class to ensure a balanced sample`."
      ]
    },
    {
      "cell_type": "code",
      "metadata": {
        "colab": {
          "base_uri": "https://localhost:8080/"
        },
        "id": "KdPQNoZ0itce",
        "outputId": "d01684d1-7a58-4884-d98b-1384b1f87fe8"
      },
      "source": [
        "## Import the k neighbors model algorthm.\n",
        "from sklearn import datasets\n",
        "from sklearn.neighbors import KNeighborsClassifier\n",
        "from sklearn.model_selection import train_test_split\n",
        "import numpy as np\n",
        "\n",
        "## Construct the model object\n",
        "knn = KNeighborsClassifier(n_neighbors=1)\n",
        "\n",
        "## Load the data, splitting it into train and test sets.\n",
        "iris = datasets.load_iris()\n",
        "X = iris.data\n",
        "y = iris.target\n",
        "X_train, X_test, y_train, y_test = train_test_split(X, y, test_size=0.2, random_state=5, stratify=y)\n",
        "# Fit the model on the training set.\n",
        "knn.fit(X_train, y_train)\n",
        "\n",
        "# Evaluate the model on the test set\n",
        "training_accuracy = np.mean(knn.predict(X_train) == y_train)\n",
        "\n",
        "test_accuracy = np.mean(knn.predict(X_test) == y_test)\n",
        "\n",
        "print(f\"training accuracy: {training_accuracy}\")\n",
        "print(f\"test accuracy: {test_accuracy}\")"
      ],
      "execution_count": null,
      "outputs": [
        {
          "output_type": "stream",
          "name": "stdout",
          "text": [
            "training accuracy: 1.0\n",
            "test accuracy: 0.9666666666666667\n"
          ]
        }
      ]
    },
    {
      "cell_type": "markdown",
      "metadata": {
        "id": "dRr2JlxMky9C"
      },
      "source": [
        "We can see a disparity between accuracy on the training set, vs accuracy on the test set. Poor accuracy on the test set and high accuracy on the training set is indicative of overfitting. In the following example we use the [wine](https://scikit-learn.org/stable/modules/generated/sklearn.datasets.load_wine.html#sklearn.datasets.load_wine) dataset (classifying the cultivator of wine from chemical analysis) as it's a harder problem."
      ]
    },
    {
      "cell_type": "code",
      "metadata": {
        "colab": {
          "base_uri": "https://localhost:8080/"
        },
        "id": "-0kmjN5HlFvG",
        "outputId": "98e1cfac-f19c-43d6-9837-82a88ef3782e"
      },
      "source": [
        "## Import the k neighbors model algorthm.\n",
        "from sklearn import datasets\n",
        "from sklearn.neighbors import KNeighborsClassifier\n",
        "from sklearn.model_selection import train_test_split\n",
        "import numpy as np\n",
        "\n",
        "## Construct the model object\n",
        "K = 1\n",
        "knn = KNeighborsClassifier(n_neighbors=K)\n",
        "\n",
        "## Load the data, splitting it into train and test sets.\n",
        "wine = datasets.load_wine()\n",
        "X = wine.data\n",
        "y = wine.target\n",
        "X_train, X_test, y_train, y_test = train_test_split(X, y, test_size=0.2, random_state=5, stratify=y)\n",
        "# Fit the model on the training set.\n",
        "knn.fit(X_train, y_train)\n",
        "\n",
        "# Evaluate the model on the test set\n",
        "training_accuracy = np.mean(knn.predict(X_train) == y_train)\n",
        "\n",
        "test_accuracy = np.mean(knn.predict(X_test) == y_test)\n",
        "\n",
        "print(f\"training accuracy: {round(training_accuracy,2)*100}%\")\n",
        "print(f\"test accuracy: {round(test_accuracy,2)*100}%\")"
      ],
      "execution_count": null,
      "outputs": [
        {
          "output_type": "stream",
          "name": "stdout",
          "text": [
            "training accuracy: 100.0%\n",
            "test accuracy: 78.0%\n"
          ]
        }
      ]
    },
    {
      "cell_type": "markdown",
      "metadata": {
        "id": "KZYVMEVblNrA"
      },
      "source": [
        "Try repeating this code with K=10. Notice what happens to the training and test accuracy."
      ]
    },
    {
      "cell_type": "markdown",
      "metadata": {
        "id": "i79zTl1il4eL"
      },
      "source": [
        "## Accuracy is misleading when there is class imbalance\n",
        "\n",
        "Accuracy is not always the appropriate way to measure the performance of a classifier.\n",
        "\n",
        "Some datasets display _class imbalance_, where one class is severely overrepresented.\n",
        "\n",
        "Consider the case of credit card fraud. The vast majority of transactions are non-fraudulent. A [credit card fraud](https://www.kaggle.com/mlg-ulb/creditcardfraud) dataset has been published on Kaggle to encourage exploration of this problem.\n"
      ]
    },
    {
      "cell_type": "code",
      "metadata": {
        "colab": {
          "base_uri": "https://localhost:8080/"
        },
        "id": "Ec0EdEsUnozB",
        "outputId": "fc024044-adb2-4990-c95e-0bfcff2add1f"
      },
      "source": [
        "import pandas as pd\n",
        "import numpy as np\n",
        "credit_fraud = pd.read_csv(\"https://github.com/nsethi31/Kaggle-Data-Credit-Card-Fraud-Detection/raw/master/creditcard.csv\")\n",
        "# Show % of non-fradulent cases.\n",
        "np.mean(credit_fraud[\"Class\"] == 0)"
      ],
      "execution_count": null,
      "outputs": [
        {
          "output_type": "execute_result",
          "data": {
            "text/plain": [
              "0.9982725143693799"
            ]
          },
          "metadata": {},
          "execution_count": 44
        }
      ]
    },
    {
      "cell_type": "markdown",
      "metadata": {
        "id": "MR7YhdxhqSCz"
      },
      "source": [
        "In this dataset, over 99.8% of transactions are non-fraudulent. A model that predicts all credit card transactions are non-fraudulent will achieve a 99.8% accuracy on this dataset. We need other metrics to characterise a good model."
      ]
    },
    {
      "cell_type": "markdown",
      "metadata": {
        "id": "IRN5U1NUzHlr"
      },
      "source": [
        "## Confusion Matrices provide a clearer evaluation of a classifier.\n",
        "\n",
        "When we do binary classification, there are four possible outcomes:\n",
        "\n",
        "* A _true positive_. The predicted class is 1, and the true class is 1.\n",
        "* A _false positive_. The predicted class is 1, and the true class is 0.\n",
        "* A _true negative_. The predicted class is 0, and the true class is 0.\n",
        "* A _false negative_. The predicted class 0, and the true class is 1.  \n",
        "\n",
        "A confusion matrix displays these statistics in the format\n",
        "\n",
        "\n",
        "```\n",
        "True Negative  | False Positive\n",
        "----------------------------------- \n",
        "False Negative  | True Positive  \n",
        "```\n",
        "\n",
        "Below we display the confusion matrix for the \"all genuine\" classifier. We normalise by \"true category\", showing percentages rather than absolute figures."
      ]
    },
    {
      "cell_type": "code",
      "metadata": {
        "colab": {
          "base_uri": "https://localhost:8080/",
          "height": 283
        },
        "id": "ruhucO2fT2sg",
        "outputId": "e86d4896-35e9-45b9-b771-6707948fb123"
      },
      "source": [
        "from sklearn.metrics import confusion_matrix,ConfusionMatrixDisplay\n",
        "import matplotlib.pyplot as plt\n",
        "y = credit_fraud[\"Class\"]\n",
        "cm = confusion_matrix(y, np.zeros(len(y)), normalize=\"true\")\n",
        "disp = ConfusionMatrixDisplay(cm, display_labels = [\"genuine\",\"fraudulent\"])\n",
        "disp.plot()\n",
        "plt.show()"
      ],
      "execution_count": null,
      "outputs": [
        {
          "output_type": "display_data",
          "data": {
            "image/png": "[encoded data removed]",
            "text/plain": [
              "<Figure size 432x288 with 2 Axes>"
            ]
          },
          "metadata": {
            "needs_background": "light"
          }
        }
      ]
    },
    {
      "cell_type": "markdown",
      "metadata": {
        "id": "pz5X461lXPlf"
      },
      "source": [
        "When the transaction is genuine we identify this correctly 100% of the time.\n",
        "\n",
        "However when the transaction is fradulent, we identify this correctly 0% of the time."
      ]
    },
    {
      "cell_type": "code",
      "metadata": {
        "colab": {
          "base_uri": "https://localhost:8080/",
          "height": 283
        },
        "id": "uw3UH2uwUGPu",
        "outputId": "d8098b92-5046-4026-b84c-97963ec0a31e"
      },
      "source": [
        "y = credit_fraud[\"Class\"]\n",
        "cm = confusion_matrix(y, y, normalize = \"true\")\n",
        "disp = ConfusionMatrixDisplay(cm, display_labels = [\"genuine\",\"fraudulent\"])\n",
        "disp.plot()\n",
        "plt.show()"
      ],
      "execution_count": null,
      "outputs": [
        {
          "output_type": "display_data",
          "data": {
            "image/png": "[encoded data removed]",
            "text/plain": [
              "<Figure size 432x288 with 2 Axes>"
            ]
          },
          "metadata": {
            "needs_background": "light"
          }
        }
      ]
    },
    {
      "cell_type": "markdown",
      "metadata": {
        "id": "Z6vjwv3gVux0"
      },
      "source": [
        "## Recall measures the \"coverage\" of a classifier.\n",
        "\n",
        "The formal definition of recall is\n",
        "\n",
        "```\n",
        "recall = true_positives / (true_positives + false negatives)\n",
        "```\n",
        "\n",
        "This measures the % of positives cases that are successfully predicted.\n",
        "\n",
        "The \"all zeros\" classifier applied to the credit fraud achieves an accuray of 99.8%, but a recall of 0%. This puts in quantitative terms what's wrong with the model. It never detects fraud!\n",
        "\n",
        "The following trains a K nearest neighbors classifier on the credit dataset and measures recall as well as accuracy with respect to the test set."
      ]
    },
    {
      "cell_type": "code",
      "metadata": {
        "colab": {
          "base_uri": "https://localhost:8080/"
        },
        "id": "VMVZ2xZ4amzS",
        "outputId": "1cb94776-5658-4d3f-b7ee-09ec2f2ee198"
      },
      "source": [
        "## Import the k neighbors model algorthm.\n",
        "from sklearn import datasets\n",
        "from sklearn.linear_model import LogisticRegression\n",
        "from sklearn.model_selection import train_test_split\n",
        "from sklearn.metrics import recall_score, accuracy_score\n",
        "import pandas as pd\n",
        "import numpy as np\n",
        "\n",
        "## Construct the model object\n",
        "model = LogisticRegression()\n",
        "## Load the data, splitting it into train and test sets.\n",
        "credit_fraud = pd.read_csv(\"https://github.com/nsethi31/Kaggle-Data-Credit-Card-Fraud-Detection/raw/master/creditcard.csv\")\n",
        "\n",
        "X = credit_fraud.loc[:,credit_fraud.columns.str.startswith('V')]\n",
        "y = credit_fraud[\"Class\"]\n",
        "X_train, X_test, y_train, y_test = train_test_split(X, y, test_size=0.2, random_state=5, stratify=y)\n",
        "# Fit the model on the training set.\n",
        "model.fit(X_train, y_train)\n",
        "\n",
        "# Evaluate the model on the test set\n",
        "y_pred  = model.predict(X_test)\n",
        "recall = recall_score(y_pred=y_pred, y_true=y_test)\n",
        "accuracy = accuracy_score(y_pred=y_pred, y_true=y_test)\n",
        "\n",
        "print(f\"test accuracy: {round(accuracy*100,2)}%\")\n",
        "print(f\"test_recall: {round(recall*100,2)} %\")"
      ],
      "execution_count": null,
      "outputs": [
        {
          "output_type": "stream",
          "name": "stdout",
          "text": [
            "test accuracy: 99.92%\n",
            "test_recall: 62.24 %\n"
          ]
        }
      ]
    },
    {
      "cell_type": "markdown",
      "metadata": {
        "id": "MMHsK6O1iBO9"
      },
      "source": [
        "The logistic regression classifier achieves a 99.92% accuracy, but only a 62.24% recall."
      ]
    },
    {
      "cell_type": "code",
      "metadata": {
        "id": "qITPqH0B5RsE"
      },
      "source": [
        "def sensitivity(y_true, y_pred):\n",
        "  positives = y_pred.sum()\n",
        "  true_positives = y_true & (y_true == y_pred)\n",
        "  tp_rate = true_positives.sum() / positives\n",
        "  return tp_rate"
      ],
      "execution_count": null,
      "outputs": []
    },
    {
      "cell_type": "code",
      "metadata": {
        "colab": {
          "base_uri": "https://localhost:8080/"
        },
        "id": "qUlTUnWcj7_X",
        "outputId": "ac72fdc4-1708-4f48-d51e-60ff81e0096e"
      },
      "source": [
        "sensitivity(y_test,y_pred)"
      ],
      "execution_count": null,
      "outputs": [
        {
          "output_type": "execute_result",
          "data": {
            "text/plain": [
              "0.8970588235294118"
            ]
          },
          "metadata": {},
          "execution_count": 50
        }
      ]
    },
    {
      "cell_type": "markdown",
      "metadata": {
        "id": "11P1NWajif9d"
      },
      "source": [
        "## Further reading\n",
        "\n",
        "The scikit learn `metrics` [module](https://scikit-learn.org/stable/modules/model_evaluation.html#model-evaluation) has multiple other metrics for evaluating the performance of a classifier. Choosing the right evaluation measure can be more important than choosing the right model! "
      ]
    },
    {
      "cell_type": "markdown",
      "metadata": {
        "id": "US5jeKGNfFWY"
      },
      "source": [
        "## Exercises\n",
        "\n",
        "### Computing recall\n",
        "Write code to compute the recall of the K nearest neighbors classifier on the iris dataset.\n",
        "\n",
        "### Discussion - Class Imbalance\n",
        "Break into groups and find out other examples of classification problems with class imbalance.\n",
        "\n",
        "### Supplementary metrics - Spam Classification.\n",
        "\n",
        "Which of the following metrics would be appropriate to look at in a spam email classification problem? (non-spam email is often called \"ham\").\n",
        "\n",
        "- `true ham / (true ham + false spam)`   (ham recall)\n",
        "- `true spam / (true spam + false ham)`   (spam recall)\n",
        "-  `(true ham + true spam) / (true ham + true spam + false ham + false spam)` (accuracy)\n",
        "\n",
        "\n"
      ]
    },
    {
      "cell_type": "markdown",
      "metadata": {
        "id": "BwLV5fpPiCFq"
      },
      "source": [
        "# ☕☕☕ Coffee break ☕☕☕\n",
        "\n",
        "![](https://www.unisa.edu.au/siteassets/media-centre/images/heart-coffee---shutterstock_512503885_web.jpg)\n",
        "\n",
        "Take 10 minutes to get a hot beverage and chat."
      ]
    },
    {
      "cell_type": "markdown",
      "metadata": {
        "id": "obwnHKwRklxC"
      },
      "source": [
        "# Part 5 - Regression\n",
        "\n",
        "### Questions\n",
        "\n",
        "- How do I predict a number?\n",
        "- How do I measure the accuracy of my predictions?\n",
        "\n",
        "### Objectives\n",
        "- Understand the difference between regression and classification.\n",
        "- Build a linear regression model.\n",
        "- Compute mean squared error.\n",
        "\n",
        "While classification predicts a discrete outcome, what category an example belongs to, regression predicts a _continuous outcome_  -- some sort of number.\n",
        "\n",
        "For example, Zillow.com uses regression to predict house prices. \n",
        "\n",
        "Classification: Data -> Category\n",
        "\n",
        "Regression:     Data -> Number\n"
      ]
    },
    {
      "cell_type": "markdown",
      "metadata": {
        "id": "icnCJWcVk8Dz"
      },
      "source": [
        "### Quiz - Which is a regression problem?\n",
        "\n",
        "* An e-commerce company using labeled customer data to predict whether or not a customer will purchase a particular item.\n",
        "\n",
        "* A healthcare company using data about cancer tumors (such as their geometric measurements) to predict whether a new tumor is benign or malignant.\n",
        "\n",
        "* A restaurant using review data to ascribe positive or negative sentiment to a given review.\n",
        "\n",
        "* A bike share company using time and weather data to predict the number of bikes being rented at any given hour."
      ]
    },
    {
      "cell_type": "markdown",
      "metadata": {
        "id": "joS4uH2xmKTx"
      },
      "source": [
        "## The california house prices dataset\n",
        "\n",
        "The [california house prices](https://scikit-learn.org/stable/datasets/real_world.html#california-housing-dataset) dataset records the average house price in different census blocks of California. We will use regression models to predict the average house price per block."
      ]
    },
    {
      "cell_type": "code",
      "metadata": {
        "colab": {
          "base_uri": "https://localhost:8080/"
        },
        "id": "xxoltWYzpqPu",
        "outputId": "60e0d352-de1f-4a95-e7cd-5ee97b3b457e"
      },
      "source": [
        "import sklearn.datasets\n",
        "cal_houses = sklearn.datasets.fetch_california_housing(data_home=None, download_if_missing=True, return_X_y=False)\n",
        "print(cal_houses[\"DESCR\"])"
      ],
      "execution_count": null,
      "outputs": [
        {
          "output_type": "stream",
          "name": "stderr",
          "text": [
            "Downloading Cal. housing from https://ndownloader.figshare.com/files/5976036 to /root/scikit_learn_data\n"
          ]
        },
        {
          "output_type": "stream",
          "name": "stdout",
          "text": [
            ".. _california_housing_dataset:\n",
            "\n",
            "California Housing dataset\n",
            "--------------------------\n",
            "\n",
            "**Data Set Characteristics:**\n",
            "\n",
            "    :Number of Instances: 20640\n",
            "\n",
            "    :Number of Attributes: 8 numeric, predictive attributes and the target\n",
            "\n",
            "    :Attribute Information:\n",
            "        - MedInc        median income in block\n",
            "        - HouseAge      median house age in block\n",
            "        - AveRooms      average number of rooms\n",
            "        - AveBedrms     average number of bedrooms\n",
            "        - Population    block population\n",
            "        - AveOccup      average house occupancy\n",
            "        - Latitude      house block latitude\n",
            "        - Longitude     house block longitude\n",
            "\n",
            "    :Missing Attribute Values: None\n",
            "\n",
            "This dataset was obtained from the StatLib repository.\n",
            "http://lib.stat.cmu.edu/datasets/\n",
            "\n",
            "The target variable is the median house value for California districts.\n",
            "\n",
            "This dataset was derived from the 1990 U.S. census, using one row per census\n",
            "block group. A block group is the smallest geographical unit for which the U.S.\n",
            "Census Bureau publishes sample data (a block group typically has a population\n",
            "of 600 to 3,000 people).\n",
            "\n",
            "It can be downloaded/loaded using the\n",
            ":func:`sklearn.datasets.fetch_california_housing` function.\n",
            "\n",
            ".. topic:: References\n",
            "\n",
            "    - Pace, R. Kelley and Ronald Barry, Sparse Spatial Autoregressions,\n",
            "      Statistics and Probability Letters, 33 (1997) 291-297\n",
            "\n"
          ]
        }
      ]
    },
    {
      "cell_type": "markdown",
      "metadata": {
        "id": "JIHaMU88qPmu"
      },
      "source": [
        "## Linear Regression\n",
        "\n",
        "The linear regression model assigns one number (called a coefficient) per feature to arrive at a predicted number.\n",
        "\n",
        "$$\n",
        "y = \\beta_0 + \\beta X + \\epsilon\n",
        "$$\n",
        "\n",
        "or\n",
        "\n",
        "$$\n",
        "y = \\beta_0 + \\beta_1 X_1 + \\beta_2 X_2 + ... + \\beta_n  X_n + \\epsilon\n",
        "$$\n",
        "\n",
        "Y is the label. X is the input features. $\\beta_0$ is a constant. $\\beta$ is the coefficient vector and ϵ is a noise parameter. \n",
        "\n",
        "If X is one dimensional, linear regression corresponds to computing the line of best fit.\n",
        "\n",
        "This is an example linear regression predicting weight from height.\n",
        "\n",
        "![](https://online.stat.psu.edu/stat200/sites/stat200_fa21/files/inline-images/weight_height_regression_0.png)\n",
        "\n",
        "\n",
        "Let's see it in action."
      ]
    },
    {
      "cell_type": "code",
      "metadata": {
        "colab": {
          "base_uri": "https://localhost:8080/"
        },
        "id": "3GKrqI-rr_Pc",
        "outputId": "47378ea6-53d3-4295-b4d0-c6cdc15061de"
      },
      "source": [
        "from sklearn.linear_model import LinearRegression\n",
        "import sklearn.datasets\n",
        "from sklearn.metrics import mean_absolute_error\n",
        "from sklearn.model_selection import train_test_split\n",
        "\n",
        "## Construct the model object\n",
        "model = LinearRegression()\n",
        "## Load the data, splitting it into train and test sets.\n",
        "import sklearn.datasets\n",
        "X,y = sklearn.datasets.fetch_california_housing(data_home=None, download_if_missing=True, return_X_y=True)\n",
        "X_train, X_test, y_train, y_test = train_test_split(X, y, test_size=0.2, random_state=5)\n",
        "# Fit the model on the training set.\n",
        "model.fit(X_train, y_train)\n",
        "\n",
        "# Extract model coefficients and intercept term\n",
        "print(f\"Model coefficients: {model.coef_}\")\n",
        "print(f\"Model intercept: {model.intercept_}\")\n",
        "y_pred  = model.predict(X_test)\n",
        "print(\"average prediction error: \",\"${:,.2f}\".format(mean_absolute_error(y_pred,y_test)*1E5))"
      ],
      "execution_count": null,
      "outputs": [
        {
          "output_type": "stream",
          "name": "stdout",
          "text": [
            "Model coefficients: [ 4.38384807e-01  9.17273492e-03 -1.11793600e-01  6.79331516e-01\n",
            " -3.04158117e-06 -4.12179113e-03 -4.19560244e-01 -4.33473567e-01]\n",
            "Model intercept: -36.89554297397995\n",
            "average prediction error:  $53,775.78\n"
          ]
        }
      ]
    },
    {
      "cell_type": "markdown",
      "metadata": {
        "id": "w0Cn_juzzCM9"
      },
      "source": [
        "## Linear regression minimizes mean squared error.\n",
        "\n",
        "The function\n",
        "\n",
        "$$ \\mathsf{MSE} = \\frac{1}{n} \\sum (y - \\beta X)^2 $$\n",
        "\n",
        "measures the gap between the prediction $\\beta X$ and the true value $y$. \n",
        "\n",
        "It has the following features:\n",
        "\n",
        "* The direction of error doesn't matter. (squared numbers are always positive)\n",
        "* Larger errors count for more than smaller errors.\n",
        "* The function is differentiable with respect to $\\beta$\n",
        "\n",
        "This last point allows us to prove theorems about the coefficients chosen being the error minimizing coefficients.\n",
        "\n",
        "Let's calculate the squared error of the linear regression model.\n",
        "\n",
        "\n",
        "\n"
      ]
    },
    {
      "cell_type": "code",
      "metadata": {
        "colab": {
          "base_uri": "https://localhost:8080/"
        },
        "id": "RDPV--eS0jlM",
        "outputId": "a49d9a02-2dbb-405d-8d49-01590d94a52f"
      },
      "source": [
        "from sklearn.metrics import mean_squared_error\n",
        "print(f\"Mean squared error is: {mean_squared_error(y_pred, y_test)}\")"
      ],
      "execution_count": null,
      "outputs": [
        {
          "output_type": "stream",
          "name": "stdout",
          "text": [
            "Mean squared error is: 0.5363427302501872\n"
          ]
        }
      ]
    },
    {
      "cell_type": "markdown",
      "metadata": {
        "id": "ytD5RB7P0x1l"
      },
      "source": [
        "## Mean absolute error is easier to interpret.\n",
        "\n",
        "An alternative measure, mean absolute error, measures the average absolute distance between predictions and true values.\n",
        "\n",
        "$$\n",
        "MAE = \\frac{1}{n} \\sum  \\mid{y - \\beta X}\\mid \n",
        "$$\n",
        "\n",
        "By using the absolute value function, we can attach units to our error term. However, theorems involving Mean Absolute Error are more difficult to prove. \n"
      ]
    },
    {
      "cell_type": "code",
      "metadata": {
        "colab": {
          "base_uri": "https://localhost:8080/"
        },
        "id": "B-3CQp7L1s3z",
        "outputId": "294fbac6-8de1-429d-9d80-28b1c393a6eb"
      },
      "source": [
        "from sklearn.metrics import mean_absolute_error\n",
        "print(f\"Mean absolute error is: {mean_absolute_error(y_pred, y_test)}\")"
      ],
      "execution_count": null,
      "outputs": [
        {
          "output_type": "stream",
          "name": "stdout",
          "text": [
            "Mean absolute error is: 0.5377578462356591\n"
          ]
        }
      ]
    },
    {
      "cell_type": "markdown",
      "metadata": {
        "id": "hxQSDPrS2HsT"
      },
      "source": [
        "## Mean absolute percentage error calibrates errors.\n",
        "\n",
        "It can be hard to know whether an error of 0.5 is good or bad. The mean absolute percentage error normalises the mean absolute error by dividing by y.\n",
        "\n",
        "$$\n",
        "MAPE = \\frac{100}{n} \\sum \\mid \\frac{  y - \\beta X  } {y} \\mid\n",
        "$$\n"
      ]
    },
    {
      "cell_type": "code",
      "metadata": {
        "id": "M_rPtpqUsACu"
      },
      "source": [
        "GradientBoostingRegressor?"
      ],
      "execution_count": null,
      "outputs": []
    },
    {
      "cell_type": "code",
      "metadata": {
        "colab": {
          "base_uri": "https://localhost:8080/"
        },
        "id": "wuJJitoz22kD",
        "outputId": "7279966f-460e-490c-91a2-76f5cae2b8f1"
      },
      "source": [
        "import numpy as np\n",
        "mape = np.mean(np.abs((y_pred - y_test)/y_test)) * 100\n",
        "\n",
        "print(f\"Mean absolute percentage error is {round(mape,2)}%\")"
      ],
      "execution_count": null,
      "outputs": [
        {
          "output_type": "stream",
          "name": "stdout",
          "text": [
            "Mean absolute percentage error is 31.75%\n"
          ]
        }
      ]
    },
    {
      "cell_type": "markdown",
      "metadata": {
        "id": "0WJOVR2_4M8a"
      },
      "source": [
        "## Gradient Boosted Machines can be more accurate\n",
        "\n"
      ]
    },
    {
      "cell_type": "code",
      "metadata": {
        "colab": {
          "base_uri": "https://localhost:8080/"
        },
        "id": "HhovfcyM4UHi",
        "outputId": "678e3028-ccc7-4954-e192-3a95495b8382"
      },
      "source": [
        "from sklearn.ensemble import GradientBoostingRegressor\n",
        "import sklearn.datasets\n",
        "from sklearn.metrics import mean_absolute_error\n",
        "from sklearn.model_selection import train_test_split\n",
        "\n",
        "## Construct the model object\n",
        "model = GradientBoostingRegressor()\n",
        "## Load the data, splitting it into train and test sets.\n",
        "import sklearn.datasets\n",
        "X,y = sklearn.datasets.fetch_california_housing(data_home=None, download_if_missing=True, return_X_y=True)\n",
        "X_train, X_test, y_train, y_test = train_test_split(X, y, test_size=0.2, random_state=5)\n",
        "# Fit the model on the training set.\n",
        "model.fit(X_train, y_train)\n",
        "\n",
        "# Evaluate model performance.\n",
        "y_pred  = model.predict(X_test)\n",
        "print(\"average prediction error: \",\"${:,.2f}\".format(mean_absolute_error(y_pred,y_test)*1E5))\n",
        "mape = np.mean(np.abs((y_pred - y_test)/y_test)) * 100\n",
        "print(f\"mean absolute percentage error: {round(mape,2)}%\")\n"
      ],
      "execution_count": null,
      "outputs": [
        {
          "output_type": "stream",
          "name": "stdout",
          "text": [
            "average prediction error:  $36,537.14\n",
            "mean absolute percentage error: 20.61%\n"
          ]
        }
      ]
    },
    {
      "cell_type": "markdown",
      "metadata": {
        "id": "uA2VV8hE7X7W"
      },
      "source": [
        "## Exercises \n",
        "\n"
      ]
    },
    {
      "cell_type": "markdown",
      "metadata": {
        "id": "Yru47HcSCABo"
      },
      "source": [
        "### Regression on cholesterol\n",
        "\n",
        "Fill in the blanks to compute a regression model on the [cholesterol](https://www.openml.org/d/204) dataset from openml.org\n",
        "\n"
      ]
    },
    {
      "cell_type": "code",
      "metadata": {
        "colab": {
          "base_uri": "https://localhost:8080/"
        },
        "id": "s5q1-hez9RvF",
        "outputId": "9e178056-708c-4b36-ce8e-51e7f9fb25c5"
      },
      "source": [
        "from sklearn.linear_model import LinearRegression\n",
        "import sklearn.datasets\n",
        "from sklearn.metrics import mean_absolute_error\n",
        "from sklearn.model_selection import train_test_split\n",
        "\n",
        "## Construct the model object\n",
        "model = LinearRegression()\n",
        "\n",
        "\n",
        "## Load the data, splitting it into train and test sets.\n",
        "import sklearn.datasets\n",
        "cholesterol = sklearn.datasets.fetch_openml(name=\"cholesterol\", as_frame=True)\n",
        "df = cholesterol.frame.dropna()\n",
        "X = df.drop(\"chol\",axis=1)\n",
        "y = df.chol\n",
        "X_train, X_test, y_train, y_test = train_test_split(X, y, test_size=0.2, random_state=5)\n",
        "\n",
        "\n",
        "# Fit the model on the training set.\n",
        "model.fit(X_train, y_train)\n",
        "\n",
        "\n",
        "# Evaluate model performance.\n",
        "y_pred  = model.predict(X_test)\n",
        "mae = mean_absolute_error(y_pred, y_test)\n",
        "print(f\"average prediction error: {round(mae,2)}\")\n",
        "mape = np.mean(np.abs((y_pred - y_test)/y_test)) * 100\n",
        "print(f\"mean absolute percentage error: {round(mape,2)}%\")\n"
      ],
      "execution_count": null,
      "outputs": [
        {
          "output_type": "stream",
          "name": "stdout",
          "text": [
            "average prediction error: 44.66\n",
            "mean absolute percentage error: 20.5%\n"
          ]
        },
        {
          "output_type": "stream",
          "name": "stderr",
          "text": [
            "/usr/local/lib/python3.7/dist-packages/sklearn/datasets/_openml.py:372: UserWarning: Multiple active versions of the dataset matching the name cholesterol exist. Versions may be fundamentally different, returning version 1.\n",
            "  \" {version}.\".format(name=name, version=res[0]['version']))\n"
          ]
        }
      ]
    },
    {
      "cell_type": "markdown",
      "metadata": {
        "id": "DQhl9b5P_Cqr"
      },
      "source": [
        "### Battle of the metrics.\n",
        "\n",
        "Which metric is the most appropriate if we're judging the performance of a model across multiple datasets?\n",
        "\n",
        "* Mean Squared Error\n",
        "* Mean Absolute Error\n",
        "* Mean Absolute Percentage Error"
      ]
    },
    {
      "cell_type": "markdown",
      "metadata": {
        "id": "UNvVZ6ZKBWfZ"
      },
      "source": [
        "### Division by zero\n",
        "The mean absolute percentage error is undefined when $y_i = 0$.\n",
        "\n",
        "Look at the [scikit-learn](https://scikit-learn.org/stable/modules/model_evaluation.html#mean-absolute-percentage-error) documentation for `mean_absolute_percentage_error` and identify some adjustments that were made. Do you agree with them?\n"
      ]
    },
    {
      "cell_type": "markdown",
      "metadata": {
        "id": "YZH4Bmiym3ga"
      },
      "source": [
        "# Part 6 - Fine Tuning your model\n",
        "\n",
        "## Questions\n",
        "* How do I make a more accurate model?\n",
        "* How do I choose among different model configurations?\n",
        "\n",
        "## Objectives\n",
        "* Learn what hyperparameter tuning is.\n",
        "* Use grid search to choose the best model configuration.\n",
        "\n",
        "When we make a model, we want to make a better one. A model that is more accurate or has higher recall. Often people will simply run a lot of \"experiments\", choosing model candidates and parameters in an ad hoc fashion.\n",
        "\n",
        "There has to be a better way!\n",
        "\n",
        "\n"
      ]
    },
    {
      "cell_type": "code",
      "metadata": {
        "id": "ehvXgvYCvR8A"
      },
      "source": [
        "KNeighborsClassifier?"
      ],
      "execution_count": null,
      "outputs": []
    },
    {
      "cell_type": "markdown",
      "metadata": {
        "id": "M9ye31Edowq-"
      },
      "source": [
        "## Hyperparameters control model configuration.\n",
        "\n",
        "In the K nearest neighbors classifier, K is not learned. Rather it is a parameter chosen by the modeller. Such parameters are called _hyperparameters_ because they are parameters that control how other parameters are learned.\n",
        "\n",
        "When looking at the parameters for a model object, we should ask ourselves two questions:\n",
        "* Does the parameter affect how the model makes predictions? (Some don't, and only affect speed)\n",
        "\n",
        "* What possible values can this parameter take?\n",
        "\n",
        "Here is a table of the parameters that KNeighborsClassifiers uses to construct a model object.\n",
        "\n",
        "| Parameter   | Values      | Affects Model?|\n",
        "| ----------- | ----------- |---------------|\n",
        "| `n_neighbors` | positive integers       | Yes | \n",
        "|` weights`     | `'uniform'`,`'distance'` | Yes | \n",
        "| `algorithm`   | `'ball_tree'`, `'kd_tree'`, `'brute'`,`'auto'` | No\n",
        "| `leaf_size`   | positive integers   | No | \n",
        "| `p`           | positive integers  | Yes |\n",
        "| `metric`      | `'chebyshev'`, `'minkowski'`,`'mahalanobis'` | Yes |\n",
        "| `n_jobs`      | positive integers | No | \n",
        "\n",
        "The `algorithm`, `leaf_size` and `n_jobs` parameters affect training and prediction speed, but do not fundamentally alter the model.\n",
        "\n",
        "Notice how some parameters can be any positive integer, while others take on a fixed set of values.\n"
      ]
    },
    {
      "cell_type": "markdown",
      "metadata": {
        "id": "6M2HMaA7uMbq"
      },
      "source": [
        "## Hyperparameter Tuning learns hyperparameters from data\n",
        "\n",
        "The basic algorithm behind hyperparameter tuning works like this:\n",
        "\n",
        "1. Split your data `X,y` into two sets `X_1, y_1, X_2, y_2`\n",
        "\n",
        "2. Construct a \"score table\" `scores` to record different hyperparameter scores/\n",
        "\n",
        "3. Generate a set of hyper parameters $H$ to construct a model object `model = Model(H)` \n",
        "\n",
        "4. Fit the model object to the first set of data. `model.fit(X_1, y_1)`\n",
        "\n",
        "5. Score the model object against the second set of data. `score = model.evaluate(X_2, y_2)`\n",
        "\n",
        "6. Record the score.  `scores[H] = score`\n",
        "\n",
        "7. If bored, stop. Otherwise goto 3.\n",
        "\n",
        "8. Use  the score `scores` to find the set of hyperparameters with the highest score.\n",
        "\n",
        "\n",
        "There is a danger with this approach. Because we use the second set $X_2, y_2$ to select the values of our hyperparameters, we cannot rely on these scores as a true measure of model accuracy. This is called \"peeking\".\n",
        "\n",
        "\n",
        "\n",
        "\n"
      ]
    },
    {
      "cell_type": "markdown",
      "metadata": {
        "id": "AcZY0v3SxCMb"
      },
      "source": [
        "## Use 3 splits to avoid peeking.\n",
        "\n",
        "To handle the problem of peeking, it's common practice to divide our data into 3. A _train_ set that the models are fit on, a _dev_ set that is used for hyperparameter tuning, and a _test_ set or _holdout_ set that is used to report the final model's true accuracy.\n",
        "\n",
        "To make maximal use of our data, often the final model selection is trained on both the train and dev sets before evaluation on the test set."
      ]
    },
    {
      "cell_type": "code",
      "metadata": {
        "colab": {
          "base_uri": "https://localhost:8080/"
        },
        "id": "EhOBQou3yFol",
        "outputId": "da03f78a-bafa-464c-91f1-94e52ecd3f06"
      },
      "source": [
        "from sklearn.datasets import load_iris\n",
        "from sklearn.model_selection import train_test_split\n",
        "X,y = load_iris(return_X_y=True)\n",
        "X_tmp, X_test, y_tmp, y_test = train_test_split(X,y,test_size=0.2)\n",
        "X_train, X_dev, y_train, y_dev = train_test_split(X_tmp, y_tmp, test_size=0.2/0.8)\n",
        "\n",
        "print(f\"Test set shape: {X_test.shape}\")\n",
        "print(f\"Train set shape: {X_train.shape}\")\n",
        "print(f\"Dev set shape: {X_dev.shape}\")"
      ],
      "execution_count": null,
      "outputs": [
        {
          "output_type": "stream",
          "name": "stdout",
          "text": [
            "Test set shape: (30, 4)\n",
            "Train set shape: (90, 4)\n",
            "Dev set shape: (30, 4)\n"
          ]
        }
      ]
    },
    {
      "cell_type": "markdown",
      "metadata": {
        "id": "GpqWe4V-zciq"
      },
      "source": [
        "## Use Random Search to find hyperparameters.\n",
        "\n",
        "The `RandomizedSearchCV` algorithm implements hyperparameter tuning by taking possible parameter values and selecting them randomly. It also takes care of dividing the train set into train/dev sets.\n",
        "\n",
        "From the [docs](https://scikit-learn.org/stable/modules/grid_search.html#randomized-parameter-search)\n",
        "\n",
        "> RandomizedSearchCV implements a randomized search over parameters, where each setting is sampled from a distribution over possible parameter values.\n",
        "... \n",
        "Additionally, a computation budget, being the number of sampled candidates or sampling iterations, is specified using the `n_iter` parameter.\n",
        "For each parameter, either a distribution over possible values or a list of discrete choices (which will be sampled uniformly) can be specified."
      ]
    },
    {
      "cell_type": "code",
      "metadata": {
        "colab": {
          "base_uri": "https://localhost:8080/"
        },
        "id": "9_dY4Kr3zn7x",
        "outputId": "6209e722-311d-46ba-c8c1-897b3cca87cd"
      },
      "source": [
        "from sklearn.datasets import load_wine\n",
        "from sklearn.model_selection import train_test_split, RandomizedSearchCV\n",
        "from sklearn.neighbors import KNeighborsClassifier\n",
        "from sklearn.metrics import accuracy_score\n",
        "import pandas as pd\n",
        "# Pick the base model\n",
        "base_model = KNeighborsClassifier()\n",
        "# Load our data and split into train and test sets.\n",
        "X,y = load_wine(return_X_y=True)\n",
        "X_train, X_test, y_train, y_test = train_test_split(X,y,test_size=0.2,random_state=5)\n",
        "\n",
        "# Define the parameter dictionary\n",
        "params = {\"n_neighbors\": range(1,30),\n",
        "          \"weights\": [\"uniform\",\"distance\"],\n",
        "          \"p\": range(1,5),\n",
        "          \"metric\": ['chebyshev', 'minkowski']}\n",
        "\n",
        "# Fit the models\n",
        "models = RandomizedSearchCV(base_model, params, n_iter=100)\n",
        "models.fit(X_train, y_train)\n",
        "\n",
        "# Extract best model\n",
        "model = models.best_estimator_\n",
        "\n",
        "# Evaluate on test set.\n",
        "accuracy = accuracy_score(model.predict(X_test),y_test)\n",
        "print(f\"Final accuracy: {round(accuracy,4)*100}%\")"
      ],
      "execution_count": null,
      "outputs": [
        {
          "output_type": "stream",
          "name": "stdout",
          "text": [
            "Final accuracy: 80.56%\n"
          ]
        }
      ]
    },
    {
      "cell_type": "markdown",
      "metadata": {
        "id": "RUO8emnh3s21"
      },
      "source": [
        "When we fit `KNeighbors` naively we obtained an accuracy of 78%. A slight improvement!\n",
        "\n",
        "Use the `.cv_results_` attribute to see all the different hyperparameters that were tried."
      ]
    },
    {
      "cell_type": "code",
      "metadata": {
        "colab": {
          "base_uri": "https://localhost:8080/",
          "height": 895
        },
        "id": "sgut8HaExN_e",
        "outputId": "06b76677-cac5-4aa4-cc9d-c5a68a9396b3"
      },
      "source": [
        "pd.DataFrame(models.cv_results_)"
      ],
      "execution_count": null,
      "outputs": [
        {
          "output_type": "execute_result",
          "data": {
            "text/html": [
              "<div>\n",
              "<style scoped>\n",
              "    .dataframe tbody tr th:only-of-type {\n",
              "        vertical-align: middle;\n",
              "    }\n",
              "\n",
              "    .dataframe tbody tr th {\n",
              "        vertical-align: top;\n",
              "    }\n",
              "\n",
              "    .dataframe thead th {\n",
              "        text-align: right;\n",
              "    }\n",
              "</style>\n",
              "<table border=\"1\" class=\"dataframe\">\n",
              "  <thead>\n",
              "    <tr style=\"text-align: right;\">\n",
              "      <th></th>\n",
              "      <th>mean_fit_time</th>\n",
              "      <th>std_fit_time</th>\n",
              "      <th>mean_score_time</th>\n",
              "      <th>std_score_time</th>\n",
              "      <th>param_weights</th>\n",
              "      <th>param_p</th>\n",
              "      <th>param_n_neighbors</th>\n",
              "      <th>param_metric</th>\n",
              "      <th>params</th>\n",
              "      <th>split0_test_score</th>\n",
              "      <th>split1_test_score</th>\n",
              "      <th>split2_test_score</th>\n",
              "      <th>split3_test_score</th>\n",
              "      <th>split4_test_score</th>\n",
              "      <th>mean_test_score</th>\n",
              "      <th>std_test_score</th>\n",
              "      <th>rank_test_score</th>\n",
              "    </tr>\n",
              "  </thead>\n",
              "  <tbody>\n",
              "    <tr>\n",
              "      <th>0</th>\n",
              "      <td>0.000485</td>\n",
              "      <td>0.000087</td>\n",
              "      <td>0.001778</td>\n",
              "      <td>0.000154</td>\n",
              "      <td>uniform</td>\n",
              "      <td>1</td>\n",
              "      <td>16</td>\n",
              "      <td>minkowski</td>\n",
              "      <td>{'weights': 'uniform', 'p': 1, 'n_neighbors': ...</td>\n",
              "      <td>0.793103</td>\n",
              "      <td>0.689655</td>\n",
              "      <td>0.857143</td>\n",
              "      <td>0.750000</td>\n",
              "      <td>0.750000</td>\n",
              "      <td>0.767980</td>\n",
              "      <td>0.055430</td>\n",
              "      <td>8</td>\n",
              "    </tr>\n",
              "    <tr>\n",
              "      <th>1</th>\n",
              "      <td>0.000430</td>\n",
              "      <td>0.000009</td>\n",
              "      <td>0.001773</td>\n",
              "      <td>0.000125</td>\n",
              "      <td>uniform</td>\n",
              "      <td>3</td>\n",
              "      <td>21</td>\n",
              "      <td>chebyshev</td>\n",
              "      <td>{'weights': 'uniform', 'p': 3, 'n_neighbors': ...</td>\n",
              "      <td>0.793103</td>\n",
              "      <td>0.655172</td>\n",
              "      <td>0.678571</td>\n",
              "      <td>0.678571</td>\n",
              "      <td>0.714286</td>\n",
              "      <td>0.703941</td>\n",
              "      <td>0.048420</td>\n",
              "      <td>94</td>\n",
              "    </tr>\n",
              "    <tr>\n",
              "      <th>2</th>\n",
              "      <td>0.000558</td>\n",
              "      <td>0.000119</td>\n",
              "      <td>0.004784</td>\n",
              "      <td>0.001204</td>\n",
              "      <td>uniform</td>\n",
              "      <td>4</td>\n",
              "      <td>8</td>\n",
              "      <td>minkowski</td>\n",
              "      <td>{'weights': 'uniform', 'p': 4, 'n_neighbors': ...</td>\n",
              "      <td>0.827586</td>\n",
              "      <td>0.655172</td>\n",
              "      <td>0.821429</td>\n",
              "      <td>0.678571</td>\n",
              "      <td>0.750000</td>\n",
              "      <td>0.746552</td>\n",
              "      <td>0.070932</td>\n",
              "      <td>44</td>\n",
              "    </tr>\n",
              "    <tr>\n",
              "      <th>3</th>\n",
              "      <td>0.000495</td>\n",
              "      <td>0.000032</td>\n",
              "      <td>0.004732</td>\n",
              "      <td>0.000524</td>\n",
              "      <td>uniform</td>\n",
              "      <td>4</td>\n",
              "      <td>29</td>\n",
              "      <td>minkowski</td>\n",
              "      <td>{'weights': 'uniform', 'p': 4, 'n_neighbors': ...</td>\n",
              "      <td>0.758621</td>\n",
              "      <td>0.655172</td>\n",
              "      <td>0.750000</td>\n",
              "      <td>0.678571</td>\n",
              "      <td>0.750000</td>\n",
              "      <td>0.718473</td>\n",
              "      <td>0.042893</td>\n",
              "      <td>69</td>\n",
              "    </tr>\n",
              "    <tr>\n",
              "      <th>4</th>\n",
              "      <td>0.000467</td>\n",
              "      <td>0.000025</td>\n",
              "      <td>0.001733</td>\n",
              "      <td>0.000044</td>\n",
              "      <td>uniform</td>\n",
              "      <td>3</td>\n",
              "      <td>8</td>\n",
              "      <td>chebyshev</td>\n",
              "      <td>{'weights': 'uniform', 'p': 3, 'n_neighbors': ...</td>\n",
              "      <td>0.758621</td>\n",
              "      <td>0.620690</td>\n",
              "      <td>0.750000</td>\n",
              "      <td>0.678571</td>\n",
              "      <td>0.714286</td>\n",
              "      <td>0.704433</td>\n",
              "      <td>0.050580</td>\n",
              "      <td>90</td>\n",
              "    </tr>\n",
              "    <tr>\n",
              "      <th>...</th>\n",
              "      <td>...</td>\n",
              "      <td>...</td>\n",
              "      <td>...</td>\n",
              "      <td>...</td>\n",
              "      <td>...</td>\n",
              "      <td>...</td>\n",
              "      <td>...</td>\n",
              "      <td>...</td>\n",
              "      <td>...</td>\n",
              "      <td>...</td>\n",
              "      <td>...</td>\n",
              "      <td>...</td>\n",
              "      <td>...</td>\n",
              "      <td>...</td>\n",
              "      <td>...</td>\n",
              "      <td>...</td>\n",
              "      <td>...</td>\n",
              "    </tr>\n",
              "    <tr>\n",
              "      <th>95</th>\n",
              "      <td>0.000476</td>\n",
              "      <td>0.000022</td>\n",
              "      <td>0.003497</td>\n",
              "      <td>0.000426</td>\n",
              "      <td>distance</td>\n",
              "      <td>4</td>\n",
              "      <td>26</td>\n",
              "      <td>minkowski</td>\n",
              "      <td>{'weights': 'distance', 'p': 4, 'n_neighbors':...</td>\n",
              "      <td>0.758621</td>\n",
              "      <td>0.689655</td>\n",
              "      <td>0.785714</td>\n",
              "      <td>0.750000</td>\n",
              "      <td>0.785714</td>\n",
              "      <td>0.753941</td>\n",
              "      <td>0.035183</td>\n",
              "      <td>20</td>\n",
              "    </tr>\n",
              "    <tr>\n",
              "      <th>96</th>\n",
              "      <td>0.000478</td>\n",
              "      <td>0.000039</td>\n",
              "      <td>0.001125</td>\n",
              "      <td>0.000142</td>\n",
              "      <td>distance</td>\n",
              "      <td>1</td>\n",
              "      <td>25</td>\n",
              "      <td>minkowski</td>\n",
              "      <td>{'weights': 'distance', 'p': 1, 'n_neighbors':...</td>\n",
              "      <td>0.896552</td>\n",
              "      <td>0.758621</td>\n",
              "      <td>0.821429</td>\n",
              "      <td>0.821429</td>\n",
              "      <td>0.750000</td>\n",
              "      <td>0.809606</td>\n",
              "      <td>0.052899</td>\n",
              "      <td>5</td>\n",
              "    </tr>\n",
              "    <tr>\n",
              "      <th>97</th>\n",
              "      <td>0.000561</td>\n",
              "      <td>0.000130</td>\n",
              "      <td>0.002019</td>\n",
              "      <td>0.000178</td>\n",
              "      <td>uniform</td>\n",
              "      <td>2</td>\n",
              "      <td>19</td>\n",
              "      <td>minkowski</td>\n",
              "      <td>{'weights': 'uniform', 'p': 2, 'n_neighbors': ...</td>\n",
              "      <td>0.793103</td>\n",
              "      <td>0.655172</td>\n",
              "      <td>0.714286</td>\n",
              "      <td>0.714286</td>\n",
              "      <td>0.714286</td>\n",
              "      <td>0.718227</td>\n",
              "      <td>0.043884</td>\n",
              "      <td>76</td>\n",
              "    </tr>\n",
              "    <tr>\n",
              "      <th>98</th>\n",
              "      <td>0.000435</td>\n",
              "      <td>0.000007</td>\n",
              "      <td>0.001015</td>\n",
              "      <td>0.000021</td>\n",
              "      <td>distance</td>\n",
              "      <td>1</td>\n",
              "      <td>27</td>\n",
              "      <td>chebyshev</td>\n",
              "      <td>{'weights': 'distance', 'p': 1, 'n_neighbors':...</td>\n",
              "      <td>0.758621</td>\n",
              "      <td>0.689655</td>\n",
              "      <td>0.785714</td>\n",
              "      <td>0.750000</td>\n",
              "      <td>0.785714</td>\n",
              "      <td>0.753941</td>\n",
              "      <td>0.035183</td>\n",
              "      <td>20</td>\n",
              "    </tr>\n",
              "    <tr>\n",
              "      <th>99</th>\n",
              "      <td>0.000427</td>\n",
              "      <td>0.000008</td>\n",
              "      <td>0.000896</td>\n",
              "      <td>0.000006</td>\n",
              "      <td>distance</td>\n",
              "      <td>2</td>\n",
              "      <td>8</td>\n",
              "      <td>minkowski</td>\n",
              "      <td>{'weights': 'distance', 'p': 2, 'n_neighbors':...</td>\n",
              "      <td>0.758621</td>\n",
              "      <td>0.689655</td>\n",
              "      <td>0.857143</td>\n",
              "      <td>0.714286</td>\n",
              "      <td>0.785714</td>\n",
              "      <td>0.761084</td>\n",
              "      <td>0.058536</td>\n",
              "      <td>11</td>\n",
              "    </tr>\n",
              "  </tbody>\n",
              "</table>\n",
              "<p>100 rows × 17 columns</p>\n",
              "</div>"
            ],
            "text/plain": [
              "    mean_fit_time  std_fit_time  ...  std_test_score  rank_test_score\n",
              "0        0.000485      0.000087  ...        0.055430                8\n",
              "1        0.000430      0.000009  ...        0.048420               94\n",
              "2        0.000558      0.000119  ...        0.070932               44\n",
              "3        0.000495      0.000032  ...        0.042893               69\n",
              "4        0.000467      0.000025  ...        0.050580               90\n",
              "..            ...           ...  ...             ...              ...\n",
              "95       0.000476      0.000022  ...        0.035183               20\n",
              "96       0.000478      0.000039  ...        0.052899                5\n",
              "97       0.000561      0.000130  ...        0.043884               76\n",
              "98       0.000435      0.000007  ...        0.035183               20\n",
              "99       0.000427      0.000008  ...        0.058536               11\n",
              "\n",
              "[100 rows x 17 columns]"
            ]
          },
          "metadata": {},
          "execution_count": 69
        }
      ]
    },
    {
      "cell_type": "code",
      "metadata": {
        "colab": {
          "base_uri": "https://localhost:8080/"
        },
        "id": "ZfqpyjAlxZAF",
        "outputId": "1b6fd26b-50b8-4a47-8833-989ca5835ff0"
      },
      "source": [
        "model = models.best_estimator_\n",
        "model"
      ],
      "execution_count": null,
      "outputs": [
        {
          "output_type": "execute_result",
          "data": {
            "text/plain": [
              "KNeighborsClassifier(algorithm='auto', leaf_size=30, metric='minkowski',\n",
              "                     metric_params=None, n_jobs=None, n_neighbors=13, p=1,\n",
              "                     weights='distance')"
            ]
          },
          "metadata": {},
          "execution_count": 71
        }
      ]
    },
    {
      "cell_type": "markdown",
      "metadata": {
        "id": "u32-pAYFJknO"
      },
      "source": [
        "## Exercises"
      ]
    },
    {
      "cell_type": "markdown",
      "metadata": {
        "id": "JHY2fZF2X_3q"
      },
      "source": [
        "# Part 7 - Preprocessing\n",
        "### Questions\n",
        "* How do I deal with non-numeric data?\n",
        "* How do I deal with missing data?\n",
        "* How do I deal with outliers?\n",
        "* Should I transform my data prior to modelling?\n",
        "\n",
        "### Objectives\n",
        "* Use one hot encoding to encode categorical features.\n",
        "* Use imputation to replace missing data."
      ]
    },
    {
      "cell_type": "markdown",
      "metadata": {
        "id": "z8_EXuuUaH93"
      },
      "source": [
        "## Use One Hot Encoding to deal with categorical data.\n",
        "\n",
        "* Scikit-learn will not accept categorical features (strings) by default.\n",
        "* Need to encode categorical features numericaly.\n",
        "* Convert to 'dummy variables'\n",
        "  * 0 - observation was not that category.\n",
        "  * 1 - observation was that category.\n",
        "\n",
        "`pd.get_dummies()` accomplishes this."
      ]
    },
    {
      "cell_type": "code",
      "metadata": {
        "colab": {
          "base_uri": "https://localhost:8080/",
          "height": 534
        },
        "id": "y_T9UAZ7ak42",
        "outputId": "a0af3135-bdcc-499f-953d-83a01dbe85a2"
      },
      "source": [
        "from sklearn.preprocessing import OneHotEncoder\n",
        "import seaborn as sns\n",
        "import pandas as pd\n",
        "\n",
        "iris = sns.load_dataset('iris')\n",
        "print(iris.head())\n",
        "pd.get_dummies(iris)\n"
      ],
      "execution_count": null,
      "outputs": [
        {
          "output_type": "stream",
          "name": "stdout",
          "text": [
            "   sepal_length  sepal_width  petal_length  petal_width species\n",
            "0           5.1          3.5           1.4          0.2  setosa\n",
            "1           4.9          3.0           1.4          0.2  setosa\n",
            "2           4.7          3.2           1.3          0.2  setosa\n",
            "3           4.6          3.1           1.5          0.2  setosa\n",
            "4           5.0          3.6           1.4          0.2  setosa\n"
          ]
        },
        {
          "output_type": "execute_result",
          "data": {
            "text/html": [
              "<div>\n",
              "<style scoped>\n",
              "    .dataframe tbody tr th:only-of-type {\n",
              "        vertical-align: middle;\n",
              "    }\n",
              "\n",
              "    .dataframe tbody tr th {\n",
              "        vertical-align: top;\n",
              "    }\n",
              "\n",
              "    .dataframe thead th {\n",
              "        text-align: right;\n",
              "    }\n",
              "</style>\n",
              "<table border=\"1\" class=\"dataframe\">\n",
              "  <thead>\n",
              "    <tr style=\"text-align: right;\">\n",
              "      <th></th>\n",
              "      <th>sepal_length</th>\n",
              "      <th>sepal_width</th>\n",
              "      <th>petal_length</th>\n",
              "      <th>petal_width</th>\n",
              "      <th>species_setosa</th>\n",
              "      <th>species_versicolor</th>\n",
              "      <th>species_virginica</th>\n",
              "    </tr>\n",
              "  </thead>\n",
              "  <tbody>\n",
              "    <tr>\n",
              "      <th>0</th>\n",
              "      <td>5.1</td>\n",
              "      <td>3.5</td>\n",
              "      <td>1.4</td>\n",
              "      <td>0.2</td>\n",
              "      <td>1</td>\n",
              "      <td>0</td>\n",
              "      <td>0</td>\n",
              "    </tr>\n",
              "    <tr>\n",
              "      <th>1</th>\n",
              "      <td>4.9</td>\n",
              "      <td>3.0</td>\n",
              "      <td>1.4</td>\n",
              "      <td>0.2</td>\n",
              "      <td>1</td>\n",
              "      <td>0</td>\n",
              "      <td>0</td>\n",
              "    </tr>\n",
              "    <tr>\n",
              "      <th>2</th>\n",
              "      <td>4.7</td>\n",
              "      <td>3.2</td>\n",
              "      <td>1.3</td>\n",
              "      <td>0.2</td>\n",
              "      <td>1</td>\n",
              "      <td>0</td>\n",
              "      <td>0</td>\n",
              "    </tr>\n",
              "    <tr>\n",
              "      <th>3</th>\n",
              "      <td>4.6</td>\n",
              "      <td>3.1</td>\n",
              "      <td>1.5</td>\n",
              "      <td>0.2</td>\n",
              "      <td>1</td>\n",
              "      <td>0</td>\n",
              "      <td>0</td>\n",
              "    </tr>\n",
              "    <tr>\n",
              "      <th>4</th>\n",
              "      <td>5.0</td>\n",
              "      <td>3.6</td>\n",
              "      <td>1.4</td>\n",
              "      <td>0.2</td>\n",
              "      <td>1</td>\n",
              "      <td>0</td>\n",
              "      <td>0</td>\n",
              "    </tr>\n",
              "    <tr>\n",
              "      <th>...</th>\n",
              "      <td>...</td>\n",
              "      <td>...</td>\n",
              "      <td>...</td>\n",
              "      <td>...</td>\n",
              "      <td>...</td>\n",
              "      <td>...</td>\n",
              "      <td>...</td>\n",
              "    </tr>\n",
              "    <tr>\n",
              "      <th>145</th>\n",
              "      <td>6.7</td>\n",
              "      <td>3.0</td>\n",
              "      <td>5.2</td>\n",
              "      <td>2.3</td>\n",
              "      <td>0</td>\n",
              "      <td>0</td>\n",
              "      <td>1</td>\n",
              "    </tr>\n",
              "    <tr>\n",
              "      <th>146</th>\n",
              "      <td>6.3</td>\n",
              "      <td>2.5</td>\n",
              "      <td>5.0</td>\n",
              "      <td>1.9</td>\n",
              "      <td>0</td>\n",
              "      <td>0</td>\n",
              "      <td>1</td>\n",
              "    </tr>\n",
              "    <tr>\n",
              "      <th>147</th>\n",
              "      <td>6.5</td>\n",
              "      <td>3.0</td>\n",
              "      <td>5.2</td>\n",
              "      <td>2.0</td>\n",
              "      <td>0</td>\n",
              "      <td>0</td>\n",
              "      <td>1</td>\n",
              "    </tr>\n",
              "    <tr>\n",
              "      <th>148</th>\n",
              "      <td>6.2</td>\n",
              "      <td>3.4</td>\n",
              "      <td>5.4</td>\n",
              "      <td>2.3</td>\n",
              "      <td>0</td>\n",
              "      <td>0</td>\n",
              "      <td>1</td>\n",
              "    </tr>\n",
              "    <tr>\n",
              "      <th>149</th>\n",
              "      <td>5.9</td>\n",
              "      <td>3.0</td>\n",
              "      <td>5.1</td>\n",
              "      <td>1.8</td>\n",
              "      <td>0</td>\n",
              "      <td>0</td>\n",
              "      <td>1</td>\n",
              "    </tr>\n",
              "  </tbody>\n",
              "</table>\n",
              "<p>150 rows × 7 columns</p>\n",
              "</div>"
            ],
            "text/plain": [
              "     sepal_length  sepal_width  ...  species_versicolor  species_virginica\n",
              "0             5.1          3.5  ...                   0                  0\n",
              "1             4.9          3.0  ...                   0                  0\n",
              "2             4.7          3.2  ...                   0                  0\n",
              "3             4.6          3.1  ...                   0                  0\n",
              "4             5.0          3.6  ...                   0                  0\n",
              "..            ...          ...  ...                 ...                ...\n",
              "145           6.7          3.0  ...                   0                  1\n",
              "146           6.3          2.5  ...                   0                  1\n",
              "147           6.5          3.0  ...                   0                  1\n",
              "148           6.2          3.4  ...                   0                  1\n",
              "149           5.9          3.0  ...                   0                  1\n",
              "\n",
              "[150 rows x 7 columns]"
            ]
          },
          "metadata": {},
          "execution_count": 27
        }
      ]
    },
    {
      "cell_type": "markdown",
      "metadata": {
        "id": "ZQtjQQUld0O-"
      },
      "source": [
        "## Use `.dropna` to remove missing data. \n",
        "\n",
        "* Scikit-learn will not accept missing data.\n",
        "* Different techniques for handling missing data.\n",
        "* `.dropna()` will remove all rows that have any missing data. \n",
        "\n",
        "The dataset below contains medical data related to incidence of diabetes. Some information is missing for some patients."
      ]
    },
    {
      "cell_type": "code",
      "metadata": {
        "colab": {
          "base_uri": "https://localhost:8080/",
          "height": 226
        },
        "id": "2skSsN4WfVQV",
        "outputId": "1bc3e895-2b4f-4bbf-8708-2858e89ced2d"
      },
      "source": [
        "diabetes = pd.read_csv(\"https://raw.githubusercontent.com/hzitoun/applying-machine-learning/master/data/1_diabetes.csv\")\n",
        "diabetes.head()"
      ],
      "execution_count": null,
      "outputs": [
        {
          "output_type": "execute_result",
          "data": {
            "text/html": [
              "<div>\n",
              "<style scoped>\n",
              "    .dataframe tbody tr th:only-of-type {\n",
              "        vertical-align: middle;\n",
              "    }\n",
              "\n",
              "    .dataframe tbody tr th {\n",
              "        vertical-align: top;\n",
              "    }\n",
              "\n",
              "    .dataframe thead th {\n",
              "        text-align: right;\n",
              "    }\n",
              "</style>\n",
              "<table border=\"1\" class=\"dataframe\">\n",
              "  <thead>\n",
              "    <tr style=\"text-align: right;\">\n",
              "      <th></th>\n",
              "      <th>Pregnancies</th>\n",
              "      <th>Glucose</th>\n",
              "      <th>BloodPressure</th>\n",
              "      <th>SkinThickness</th>\n",
              "      <th>Insulin</th>\n",
              "      <th>BMI</th>\n",
              "      <th>DiabetesPedigreeFunction</th>\n",
              "      <th>Age</th>\n",
              "      <th>Outcome</th>\n",
              "    </tr>\n",
              "  </thead>\n",
              "  <tbody>\n",
              "    <tr>\n",
              "      <th>0</th>\n",
              "      <td>2</td>\n",
              "      <td>138</td>\n",
              "      <td>62</td>\n",
              "      <td>35</td>\n",
              "      <td>0</td>\n",
              "      <td>33.6</td>\n",
              "      <td>0.127</td>\n",
              "      <td>47</td>\n",
              "      <td>1</td>\n",
              "    </tr>\n",
              "    <tr>\n",
              "      <th>1</th>\n",
              "      <td>0</td>\n",
              "      <td>84</td>\n",
              "      <td>82</td>\n",
              "      <td>31</td>\n",
              "      <td>125</td>\n",
              "      <td>38.2</td>\n",
              "      <td>0.233</td>\n",
              "      <td>23</td>\n",
              "      <td>0</td>\n",
              "    </tr>\n",
              "    <tr>\n",
              "      <th>2</th>\n",
              "      <td>0</td>\n",
              "      <td>145</td>\n",
              "      <td>0</td>\n",
              "      <td>0</td>\n",
              "      <td>0</td>\n",
              "      <td>44.2</td>\n",
              "      <td>0.630</td>\n",
              "      <td>31</td>\n",
              "      <td>1</td>\n",
              "    </tr>\n",
              "    <tr>\n",
              "      <th>3</th>\n",
              "      <td>0</td>\n",
              "      <td>135</td>\n",
              "      <td>68</td>\n",
              "      <td>42</td>\n",
              "      <td>250</td>\n",
              "      <td>42.3</td>\n",
              "      <td>0.365</td>\n",
              "      <td>24</td>\n",
              "      <td>1</td>\n",
              "    </tr>\n",
              "    <tr>\n",
              "      <th>4</th>\n",
              "      <td>1</td>\n",
              "      <td>139</td>\n",
              "      <td>62</td>\n",
              "      <td>41</td>\n",
              "      <td>480</td>\n",
              "      <td>40.7</td>\n",
              "      <td>0.536</td>\n",
              "      <td>21</td>\n",
              "      <td>0</td>\n",
              "    </tr>\n",
              "  </tbody>\n",
              "</table>\n",
              "</div>"
            ],
            "text/plain": [
              "   Pregnancies  Glucose  BloodPressure  ...  DiabetesPedigreeFunction  Age  Outcome\n",
              "0            2      138             62  ...                     0.127   47        1\n",
              "1            0       84             82  ...                     0.233   23        0\n",
              "2            0      145              0  ...                     0.630   31        1\n",
              "3            0      135             68  ...                     0.365   24        1\n",
              "4            1      139             62  ...                     0.536   21        0\n",
              "\n",
              "[5 rows x 9 columns]"
            ]
          },
          "metadata": {},
          "execution_count": 73
        }
      ]
    },
    {
      "cell_type": "markdown",
      "metadata": {
        "id": "JW5FbLNxegb9"
      },
      "source": [
        "A value of `0` for columns such as `Insulin` or `BloodPressure` is medically implausible and is likely used to missing data. Let's replace these with `NA` to reflect this. "
      ]
    },
    {
      "cell_type": "code",
      "metadata": {
        "colab": {
          "base_uri": "https://localhost:8080/",
          "height": 444
        },
        "id": "bIRyjY3sfoNM",
        "outputId": "d250d84e-86f3-4e01-bbab-6f677bf1848f"
      },
      "source": [
        "    diabetes.Insulin.replace(0, np.nan, inplace=True)\n",
        "    diabetes.BMI.replace(0, np.nan, inplace=True)\n",
        "    diabetes.SkinThickness.replace(0, np.nan, inplace=True)\n",
        "    diabetes.BloodPressure.replace(0,np.nan, inplace=True)\n",
        "    diabetes"
      ],
      "execution_count": null,
      "outputs": [
        {
          "output_type": "execute_result",
          "data": {
            "text/html": [
              "<div>\n",
              "<style scoped>\n",
              "    .dataframe tbody tr th:only-of-type {\n",
              "        vertical-align: middle;\n",
              "    }\n",
              "\n",
              "    .dataframe tbody tr th {\n",
              "        vertical-align: top;\n",
              "    }\n",
              "\n",
              "    .dataframe thead th {\n",
              "        text-align: right;\n",
              "    }\n",
              "</style>\n",
              "<table border=\"1\" class=\"dataframe\">\n",
              "  <thead>\n",
              "    <tr style=\"text-align: right;\">\n",
              "      <th></th>\n",
              "      <th>Pregnancies</th>\n",
              "      <th>Glucose</th>\n",
              "      <th>BloodPressure</th>\n",
              "      <th>SkinThickness</th>\n",
              "      <th>Insulin</th>\n",
              "      <th>BMI</th>\n",
              "      <th>DiabetesPedigreeFunction</th>\n",
              "      <th>Age</th>\n",
              "      <th>Outcome</th>\n",
              "    </tr>\n",
              "  </thead>\n",
              "  <tbody>\n",
              "    <tr>\n",
              "      <th>0</th>\n",
              "      <td>2</td>\n",
              "      <td>138</td>\n",
              "      <td>62.0</td>\n",
              "      <td>35.0</td>\n",
              "      <td>NaN</td>\n",
              "      <td>33.6</td>\n",
              "      <td>0.127</td>\n",
              "      <td>47</td>\n",
              "      <td>1</td>\n",
              "    </tr>\n",
              "    <tr>\n",
              "      <th>1</th>\n",
              "      <td>0</td>\n",
              "      <td>84</td>\n",
              "      <td>82.0</td>\n",
              "      <td>31.0</td>\n",
              "      <td>125.0</td>\n",
              "      <td>38.2</td>\n",
              "      <td>0.233</td>\n",
              "      <td>23</td>\n",
              "      <td>0</td>\n",
              "    </tr>\n",
              "    <tr>\n",
              "      <th>2</th>\n",
              "      <td>0</td>\n",
              "      <td>145</td>\n",
              "      <td>NaN</td>\n",
              "      <td>NaN</td>\n",
              "      <td>NaN</td>\n",
              "      <td>44.2</td>\n",
              "      <td>0.630</td>\n",
              "      <td>31</td>\n",
              "      <td>1</td>\n",
              "    </tr>\n",
              "    <tr>\n",
              "      <th>3</th>\n",
              "      <td>0</td>\n",
              "      <td>135</td>\n",
              "      <td>68.0</td>\n",
              "      <td>42.0</td>\n",
              "      <td>250.0</td>\n",
              "      <td>42.3</td>\n",
              "      <td>0.365</td>\n",
              "      <td>24</td>\n",
              "      <td>1</td>\n",
              "    </tr>\n",
              "    <tr>\n",
              "      <th>4</th>\n",
              "      <td>1</td>\n",
              "      <td>139</td>\n",
              "      <td>62.0</td>\n",
              "      <td>41.0</td>\n",
              "      <td>480.0</td>\n",
              "      <td>40.7</td>\n",
              "      <td>0.536</td>\n",
              "      <td>21</td>\n",
              "      <td>0</td>\n",
              "    </tr>\n",
              "    <tr>\n",
              "      <th>...</th>\n",
              "      <td>...</td>\n",
              "      <td>...</td>\n",
              "      <td>...</td>\n",
              "      <td>...</td>\n",
              "      <td>...</td>\n",
              "      <td>...</td>\n",
              "      <td>...</td>\n",
              "      <td>...</td>\n",
              "      <td>...</td>\n",
              "    </tr>\n",
              "    <tr>\n",
              "      <th>1995</th>\n",
              "      <td>2</td>\n",
              "      <td>75</td>\n",
              "      <td>64.0</td>\n",
              "      <td>24.0</td>\n",
              "      <td>55.0</td>\n",
              "      <td>29.7</td>\n",
              "      <td>0.370</td>\n",
              "      <td>33</td>\n",
              "      <td>0</td>\n",
              "    </tr>\n",
              "    <tr>\n",
              "      <th>1996</th>\n",
              "      <td>8</td>\n",
              "      <td>179</td>\n",
              "      <td>72.0</td>\n",
              "      <td>42.0</td>\n",
              "      <td>130.0</td>\n",
              "      <td>32.7</td>\n",
              "      <td>0.719</td>\n",
              "      <td>36</td>\n",
              "      <td>1</td>\n",
              "    </tr>\n",
              "    <tr>\n",
              "      <th>1997</th>\n",
              "      <td>6</td>\n",
              "      <td>85</td>\n",
              "      <td>78.0</td>\n",
              "      <td>NaN</td>\n",
              "      <td>NaN</td>\n",
              "      <td>31.2</td>\n",
              "      <td>0.382</td>\n",
              "      <td>42</td>\n",
              "      <td>0</td>\n",
              "    </tr>\n",
              "    <tr>\n",
              "      <th>1998</th>\n",
              "      <td>0</td>\n",
              "      <td>129</td>\n",
              "      <td>110.0</td>\n",
              "      <td>46.0</td>\n",
              "      <td>130.0</td>\n",
              "      <td>67.1</td>\n",
              "      <td>0.319</td>\n",
              "      <td>26</td>\n",
              "      <td>1</td>\n",
              "    </tr>\n",
              "    <tr>\n",
              "      <th>1999</th>\n",
              "      <td>2</td>\n",
              "      <td>81</td>\n",
              "      <td>72.0</td>\n",
              "      <td>15.0</td>\n",
              "      <td>76.0</td>\n",
              "      <td>30.1</td>\n",
              "      <td>0.547</td>\n",
              "      <td>25</td>\n",
              "      <td>0</td>\n",
              "    </tr>\n",
              "  </tbody>\n",
              "</table>\n",
              "<p>2000 rows × 9 columns</p>\n",
              "</div>"
            ],
            "text/plain": [
              "      Pregnancies  Glucose  ...  Age  Outcome\n",
              "0               2      138  ...   47        1\n",
              "1               0       84  ...   23        0\n",
              "2               0      145  ...   31        1\n",
              "3               0      135  ...   24        1\n",
              "4               1      139  ...   21        0\n",
              "...           ...      ...  ...  ...      ...\n",
              "1995            2       75  ...   33        0\n",
              "1996            8      179  ...   36        1\n",
              "1997            6       85  ...   42        0\n",
              "1998            0      129  ...   26        1\n",
              "1999            2       81  ...   25        0\n",
              "\n",
              "[2000 rows x 9 columns]"
            ]
          },
          "metadata": {},
          "execution_count": 74
        }
      ]
    },
    {
      "cell_type": "code",
      "metadata": {
        "colab": {
          "base_uri": "https://localhost:8080/",
          "height": 444
        },
        "id": "HLP3ap2Mf9TG",
        "outputId": "3553ae65-a9e1-4674-b95f-252cfa0a6bb5"
      },
      "source": [
        "# Use dropna to remove missing data\n",
        "diabetes.dropna()"
      ],
      "execution_count": null,
      "outputs": [
        {
          "output_type": "execute_result",
          "data": {
            "text/html": [
              "<div>\n",
              "<style scoped>\n",
              "    .dataframe tbody tr th:only-of-type {\n",
              "        vertical-align: middle;\n",
              "    }\n",
              "\n",
              "    .dataframe tbody tr th {\n",
              "        vertical-align: top;\n",
              "    }\n",
              "\n",
              "    .dataframe thead th {\n",
              "        text-align: right;\n",
              "    }\n",
              "</style>\n",
              "<table border=\"1\" class=\"dataframe\">\n",
              "  <thead>\n",
              "    <tr style=\"text-align: right;\">\n",
              "      <th></th>\n",
              "      <th>Pregnancies</th>\n",
              "      <th>Glucose</th>\n",
              "      <th>BloodPressure</th>\n",
              "      <th>SkinThickness</th>\n",
              "      <th>Insulin</th>\n",
              "      <th>BMI</th>\n",
              "      <th>DiabetesPedigreeFunction</th>\n",
              "      <th>Age</th>\n",
              "      <th>Outcome</th>\n",
              "    </tr>\n",
              "  </thead>\n",
              "  <tbody>\n",
              "    <tr>\n",
              "      <th>1</th>\n",
              "      <td>0</td>\n",
              "      <td>84</td>\n",
              "      <td>82.0</td>\n",
              "      <td>31.0</td>\n",
              "      <td>125.0</td>\n",
              "      <td>38.2</td>\n",
              "      <td>0.233</td>\n",
              "      <td>23</td>\n",
              "      <td>0</td>\n",
              "    </tr>\n",
              "    <tr>\n",
              "      <th>3</th>\n",
              "      <td>0</td>\n",
              "      <td>135</td>\n",
              "      <td>68.0</td>\n",
              "      <td>42.0</td>\n",
              "      <td>250.0</td>\n",
              "      <td>42.3</td>\n",
              "      <td>0.365</td>\n",
              "      <td>24</td>\n",
              "      <td>1</td>\n",
              "    </tr>\n",
              "    <tr>\n",
              "      <th>4</th>\n",
              "      <td>1</td>\n",
              "      <td>139</td>\n",
              "      <td>62.0</td>\n",
              "      <td>41.0</td>\n",
              "      <td>480.0</td>\n",
              "      <td>40.7</td>\n",
              "      <td>0.536</td>\n",
              "      <td>21</td>\n",
              "      <td>0</td>\n",
              "    </tr>\n",
              "    <tr>\n",
              "      <th>5</th>\n",
              "      <td>0</td>\n",
              "      <td>173</td>\n",
              "      <td>78.0</td>\n",
              "      <td>32.0</td>\n",
              "      <td>265.0</td>\n",
              "      <td>46.5</td>\n",
              "      <td>1.159</td>\n",
              "      <td>58</td>\n",
              "      <td>0</td>\n",
              "    </tr>\n",
              "    <tr>\n",
              "      <th>8</th>\n",
              "      <td>2</td>\n",
              "      <td>83</td>\n",
              "      <td>65.0</td>\n",
              "      <td>28.0</td>\n",
              "      <td>66.0</td>\n",
              "      <td>36.8</td>\n",
              "      <td>0.629</td>\n",
              "      <td>24</td>\n",
              "      <td>0</td>\n",
              "    </tr>\n",
              "    <tr>\n",
              "      <th>...</th>\n",
              "      <td>...</td>\n",
              "      <td>...</td>\n",
              "      <td>...</td>\n",
              "      <td>...</td>\n",
              "      <td>...</td>\n",
              "      <td>...</td>\n",
              "      <td>...</td>\n",
              "      <td>...</td>\n",
              "      <td>...</td>\n",
              "    </tr>\n",
              "    <tr>\n",
              "      <th>1994</th>\n",
              "      <td>1</td>\n",
              "      <td>79</td>\n",
              "      <td>60.0</td>\n",
              "      <td>42.0</td>\n",
              "      <td>48.0</td>\n",
              "      <td>43.5</td>\n",
              "      <td>0.678</td>\n",
              "      <td>23</td>\n",
              "      <td>0</td>\n",
              "    </tr>\n",
              "    <tr>\n",
              "      <th>1995</th>\n",
              "      <td>2</td>\n",
              "      <td>75</td>\n",
              "      <td>64.0</td>\n",
              "      <td>24.0</td>\n",
              "      <td>55.0</td>\n",
              "      <td>29.7</td>\n",
              "      <td>0.370</td>\n",
              "      <td>33</td>\n",
              "      <td>0</td>\n",
              "    </tr>\n",
              "    <tr>\n",
              "      <th>1996</th>\n",
              "      <td>8</td>\n",
              "      <td>179</td>\n",
              "      <td>72.0</td>\n",
              "      <td>42.0</td>\n",
              "      <td>130.0</td>\n",
              "      <td>32.7</td>\n",
              "      <td>0.719</td>\n",
              "      <td>36</td>\n",
              "      <td>1</td>\n",
              "    </tr>\n",
              "    <tr>\n",
              "      <th>1998</th>\n",
              "      <td>0</td>\n",
              "      <td>129</td>\n",
              "      <td>110.0</td>\n",
              "      <td>46.0</td>\n",
              "      <td>130.0</td>\n",
              "      <td>67.1</td>\n",
              "      <td>0.319</td>\n",
              "      <td>26</td>\n",
              "      <td>1</td>\n",
              "    </tr>\n",
              "    <tr>\n",
              "      <th>1999</th>\n",
              "      <td>2</td>\n",
              "      <td>81</td>\n",
              "      <td>72.0</td>\n",
              "      <td>15.0</td>\n",
              "      <td>76.0</td>\n",
              "      <td>30.1</td>\n",
              "      <td>0.547</td>\n",
              "      <td>25</td>\n",
              "      <td>0</td>\n",
              "    </tr>\n",
              "  </tbody>\n",
              "</table>\n",
              "<p>1037 rows × 9 columns</p>\n",
              "</div>"
            ],
            "text/plain": [
              "      Pregnancies  Glucose  ...  Age  Outcome\n",
              "1               0       84  ...   23        0\n",
              "3               0      135  ...   24        1\n",
              "4               1      139  ...   21        0\n",
              "5               0      173  ...   58        0\n",
              "8               2       83  ...   24        0\n",
              "...           ...      ...  ...  ...      ...\n",
              "1994            1       79  ...   23        0\n",
              "1995            2       75  ...   33        0\n",
              "1996            8      179  ...   36        1\n",
              "1998            0      129  ...   26        1\n",
              "1999            2       81  ...   25        0\n",
              "\n",
              "[1037 rows x 9 columns]"
            ]
          },
          "metadata": {},
          "execution_count": 75
        }
      ]
    },
    {
      "cell_type": "markdown",
      "metadata": {
        "id": "wNrlrH9neqgd"
      },
      "source": [
        "## Use imputation to estimate missing data.\n",
        "\n",
        "* Don't have to drop data that is missing.\n",
        "* Can estimate instead.\n",
        "* `SimpleImputer()` replaces missing data with an estimate.\n",
        "  * The `strategy` argument specifies the estimation procedure. We will use `mean`.\n",
        "* `SimpleImputer()` is a _transformer_. It modifies features using their data.\n",
        "  * the `fit()` method estimates the value to replace missing data with.\n",
        "  * the `transform()` method replaces missing data with the estimate.\n",
        "  * the `fit_transform()` first fits, then transforms."
      ]
    },
    {
      "cell_type": "code",
      "metadata": {
        "colab": {
          "base_uri": "https://localhost:8080/",
          "height": 444
        },
        "id": "jrCj-g0tgaNB",
        "outputId": "3c1f5a5f-e908-4de1-9904-5ab6b93672c2"
      },
      "source": [
        "from sklearn.impute import SimpleImputer\n",
        "imputer = SimpleImputer(strategy=\"mean\")\n",
        "\n",
        "imputer.fit(diabetes)\n",
        "X = imputer.transform(diabetes)\n",
        "\n",
        "diabetes_imputed = pd.DataFrame(X, columns=diabetes.columns)\n",
        "diabetes_imputed"
      ],
      "execution_count": null,
      "outputs": [
        {
          "output_type": "execute_result",
          "data": {
            "text/html": [
              "<div>\n",
              "<style scoped>\n",
              "    .dataframe tbody tr th:only-of-type {\n",
              "        vertical-align: middle;\n",
              "    }\n",
              "\n",
              "    .dataframe tbody tr th {\n",
              "        vertical-align: top;\n",
              "    }\n",
              "\n",
              "    .dataframe thead th {\n",
              "        text-align: right;\n",
              "    }\n",
              "</style>\n",
              "<table border=\"1\" class=\"dataframe\">\n",
              "  <thead>\n",
              "    <tr style=\"text-align: right;\">\n",
              "      <th></th>\n",
              "      <th>Pregnancies</th>\n",
              "      <th>Glucose</th>\n",
              "      <th>BloodPressure</th>\n",
              "      <th>SkinThickness</th>\n",
              "      <th>Insulin</th>\n",
              "      <th>BMI</th>\n",
              "      <th>DiabetesPedigreeFunction</th>\n",
              "      <th>Age</th>\n",
              "      <th>Outcome</th>\n",
              "    </tr>\n",
              "  </thead>\n",
              "  <tbody>\n",
              "    <tr>\n",
              "      <th>0</th>\n",
              "      <td>2.0</td>\n",
              "      <td>138.0</td>\n",
              "      <td>62.000000</td>\n",
              "      <td>35.000000</td>\n",
              "      <td>153.743295</td>\n",
              "      <td>33.6</td>\n",
              "      <td>0.127</td>\n",
              "      <td>47.0</td>\n",
              "      <td>1.0</td>\n",
              "    </tr>\n",
              "    <tr>\n",
              "      <th>1</th>\n",
              "      <td>0.0</td>\n",
              "      <td>84.0</td>\n",
              "      <td>82.000000</td>\n",
              "      <td>31.000000</td>\n",
              "      <td>125.000000</td>\n",
              "      <td>38.2</td>\n",
              "      <td>0.233</td>\n",
              "      <td>23.0</td>\n",
              "      <td>0.0</td>\n",
              "    </tr>\n",
              "    <tr>\n",
              "      <th>2</th>\n",
              "      <td>0.0</td>\n",
              "      <td>145.0</td>\n",
              "      <td>72.403665</td>\n",
              "      <td>29.341275</td>\n",
              "      <td>153.743295</td>\n",
              "      <td>44.2</td>\n",
              "      <td>0.630</td>\n",
              "      <td>31.0</td>\n",
              "      <td>1.0</td>\n",
              "    </tr>\n",
              "    <tr>\n",
              "      <th>3</th>\n",
              "      <td>0.0</td>\n",
              "      <td>135.0</td>\n",
              "      <td>68.000000</td>\n",
              "      <td>42.000000</td>\n",
              "      <td>250.000000</td>\n",
              "      <td>42.3</td>\n",
              "      <td>0.365</td>\n",
              "      <td>24.0</td>\n",
              "      <td>1.0</td>\n",
              "    </tr>\n",
              "    <tr>\n",
              "      <th>4</th>\n",
              "      <td>1.0</td>\n",
              "      <td>139.0</td>\n",
              "      <td>62.000000</td>\n",
              "      <td>41.000000</td>\n",
              "      <td>480.000000</td>\n",
              "      <td>40.7</td>\n",
              "      <td>0.536</td>\n",
              "      <td>21.0</td>\n",
              "      <td>0.0</td>\n",
              "    </tr>\n",
              "    <tr>\n",
              "      <th>...</th>\n",
              "      <td>...</td>\n",
              "      <td>...</td>\n",
              "      <td>...</td>\n",
              "      <td>...</td>\n",
              "      <td>...</td>\n",
              "      <td>...</td>\n",
              "      <td>...</td>\n",
              "      <td>...</td>\n",
              "      <td>...</td>\n",
              "    </tr>\n",
              "    <tr>\n",
              "      <th>1995</th>\n",
              "      <td>2.0</td>\n",
              "      <td>75.0</td>\n",
              "      <td>64.000000</td>\n",
              "      <td>24.000000</td>\n",
              "      <td>55.000000</td>\n",
              "      <td>29.7</td>\n",
              "      <td>0.370</td>\n",
              "      <td>33.0</td>\n",
              "      <td>0.0</td>\n",
              "    </tr>\n",
              "    <tr>\n",
              "      <th>1996</th>\n",
              "      <td>8.0</td>\n",
              "      <td>179.0</td>\n",
              "      <td>72.000000</td>\n",
              "      <td>42.000000</td>\n",
              "      <td>130.000000</td>\n",
              "      <td>32.7</td>\n",
              "      <td>0.719</td>\n",
              "      <td>36.0</td>\n",
              "      <td>1.0</td>\n",
              "    </tr>\n",
              "    <tr>\n",
              "      <th>1997</th>\n",
              "      <td>6.0</td>\n",
              "      <td>85.0</td>\n",
              "      <td>78.000000</td>\n",
              "      <td>29.341275</td>\n",
              "      <td>153.743295</td>\n",
              "      <td>31.2</td>\n",
              "      <td>0.382</td>\n",
              "      <td>42.0</td>\n",
              "      <td>0.0</td>\n",
              "    </tr>\n",
              "    <tr>\n",
              "      <th>1998</th>\n",
              "      <td>0.0</td>\n",
              "      <td>129.0</td>\n",
              "      <td>110.000000</td>\n",
              "      <td>46.000000</td>\n",
              "      <td>130.000000</td>\n",
              "      <td>67.1</td>\n",
              "      <td>0.319</td>\n",
              "      <td>26.0</td>\n",
              "      <td>1.0</td>\n",
              "    </tr>\n",
              "    <tr>\n",
              "      <th>1999</th>\n",
              "      <td>2.0</td>\n",
              "      <td>81.0</td>\n",
              "      <td>72.000000</td>\n",
              "      <td>15.000000</td>\n",
              "      <td>76.000000</td>\n",
              "      <td>30.1</td>\n",
              "      <td>0.547</td>\n",
              "      <td>25.0</td>\n",
              "      <td>0.0</td>\n",
              "    </tr>\n",
              "  </tbody>\n",
              "</table>\n",
              "<p>2000 rows × 9 columns</p>\n",
              "</div>"
            ],
            "text/plain": [
              "      Pregnancies  Glucose  ...   Age  Outcome\n",
              "0             2.0    138.0  ...  47.0      1.0\n",
              "1             0.0     84.0  ...  23.0      0.0\n",
              "2             0.0    145.0  ...  31.0      1.0\n",
              "3             0.0    135.0  ...  24.0      1.0\n",
              "4             1.0    139.0  ...  21.0      0.0\n",
              "...           ...      ...  ...   ...      ...\n",
              "1995          2.0     75.0  ...  33.0      0.0\n",
              "1996          8.0    179.0  ...  36.0      1.0\n",
              "1997          6.0     85.0  ...  42.0      0.0\n",
              "1998          0.0    129.0  ...  26.0      1.0\n",
              "1999          2.0     81.0  ...  25.0      0.0\n",
              "\n",
              "[2000 rows x 9 columns]"
            ]
          },
          "metadata": {},
          "execution_count": 78
        }
      ]
    },
    {
      "cell_type": "markdown",
      "metadata": {
        "id": "1nJh7p4qiG-B"
      },
      "source": [
        "## Use `MinMaxScaler()` to normalise data between 0 and 1. \n",
        "\n",
        "In the diabetes dataset, the columns take on values on different scales. This will throw off an algorithm like K Nearest Neighors because there is much more \"distance\" between values of `Insulin` than between values of `Pregnancies`."
      ]
    },
    {
      "cell_type": "code",
      "metadata": {
        "colab": {
          "base_uri": "https://localhost:8080/",
          "height": 320
        },
        "id": "qoXgqeGUnQD1",
        "outputId": "704e6f08-753b-4f13-82e7-e243c0499a71"
      },
      "source": [
        "diabetes_imputed.describe()"
      ],
      "execution_count": null,
      "outputs": [
        {
          "output_type": "execute_result",
          "data": {
            "text/html": [
              "<div>\n",
              "<style scoped>\n",
              "    .dataframe tbody tr th:only-of-type {\n",
              "        vertical-align: middle;\n",
              "    }\n",
              "\n",
              "    .dataframe tbody tr th {\n",
              "        vertical-align: top;\n",
              "    }\n",
              "\n",
              "    .dataframe thead th {\n",
              "        text-align: right;\n",
              "    }\n",
              "</style>\n",
              "<table border=\"1\" class=\"dataframe\">\n",
              "  <thead>\n",
              "    <tr style=\"text-align: right;\">\n",
              "      <th></th>\n",
              "      <th>Pregnancies</th>\n",
              "      <th>Glucose</th>\n",
              "      <th>BloodPressure</th>\n",
              "      <th>SkinThickness</th>\n",
              "      <th>Insulin</th>\n",
              "      <th>BMI</th>\n",
              "      <th>DiabetesPedigreeFunction</th>\n",
              "      <th>Age</th>\n",
              "      <th>Outcome</th>\n",
              "    </tr>\n",
              "  </thead>\n",
              "  <tbody>\n",
              "    <tr>\n",
              "      <th>count</th>\n",
              "      <td>2000.000000</td>\n",
              "      <td>2000.000000</td>\n",
              "      <td>2000.000000</td>\n",
              "      <td>2000.000000</td>\n",
              "      <td>2000.000000</td>\n",
              "      <td>2000.000000</td>\n",
              "      <td>2000.000000</td>\n",
              "      <td>2000.000000</td>\n",
              "      <td>2000.000000</td>\n",
              "    </tr>\n",
              "    <tr>\n",
              "      <th>mean</th>\n",
              "      <td>3.703500</td>\n",
              "      <td>121.182500</td>\n",
              "      <td>72.403665</td>\n",
              "      <td>29.341275</td>\n",
              "      <td>153.743295</td>\n",
              "      <td>32.650101</td>\n",
              "      <td>0.470930</td>\n",
              "      <td>33.090500</td>\n",
              "      <td>0.342000</td>\n",
              "    </tr>\n",
              "    <tr>\n",
              "      <th>std</th>\n",
              "      <td>3.306063</td>\n",
              "      <td>32.068636</td>\n",
              "      <td>11.949531</td>\n",
              "      <td>9.123652</td>\n",
              "      <td>80.376307</td>\n",
              "      <td>7.190136</td>\n",
              "      <td>0.323553</td>\n",
              "      <td>11.786423</td>\n",
              "      <td>0.474498</td>\n",
              "    </tr>\n",
              "    <tr>\n",
              "      <th>min</th>\n",
              "      <td>0.000000</td>\n",
              "      <td>0.000000</td>\n",
              "      <td>24.000000</td>\n",
              "      <td>7.000000</td>\n",
              "      <td>14.000000</td>\n",
              "      <td>18.200000</td>\n",
              "      <td>0.078000</td>\n",
              "      <td>21.000000</td>\n",
              "      <td>0.000000</td>\n",
              "    </tr>\n",
              "    <tr>\n",
              "      <th>25%</th>\n",
              "      <td>1.000000</td>\n",
              "      <td>99.000000</td>\n",
              "      <td>64.000000</td>\n",
              "      <td>25.000000</td>\n",
              "      <td>120.000000</td>\n",
              "      <td>27.600000</td>\n",
              "      <td>0.244000</td>\n",
              "      <td>24.000000</td>\n",
              "      <td>0.000000</td>\n",
              "    </tr>\n",
              "    <tr>\n",
              "      <th>50%</th>\n",
              "      <td>3.000000</td>\n",
              "      <td>117.000000</td>\n",
              "      <td>72.000000</td>\n",
              "      <td>29.341275</td>\n",
              "      <td>153.743295</td>\n",
              "      <td>32.400000</td>\n",
              "      <td>0.376000</td>\n",
              "      <td>29.000000</td>\n",
              "      <td>0.000000</td>\n",
              "    </tr>\n",
              "    <tr>\n",
              "      <th>75%</th>\n",
              "      <td>6.000000</td>\n",
              "      <td>141.000000</td>\n",
              "      <td>80.000000</td>\n",
              "      <td>32.000000</td>\n",
              "      <td>153.743295</td>\n",
              "      <td>36.800000</td>\n",
              "      <td>0.624000</td>\n",
              "      <td>40.000000</td>\n",
              "      <td>1.000000</td>\n",
              "    </tr>\n",
              "    <tr>\n",
              "      <th>max</th>\n",
              "      <td>17.000000</td>\n",
              "      <td>199.000000</td>\n",
              "      <td>122.000000</td>\n",
              "      <td>110.000000</td>\n",
              "      <td>744.000000</td>\n",
              "      <td>80.600000</td>\n",
              "      <td>2.420000</td>\n",
              "      <td>81.000000</td>\n",
              "      <td>1.000000</td>\n",
              "    </tr>\n",
              "  </tbody>\n",
              "</table>\n",
              "</div>"
            ],
            "text/plain": [
              "       Pregnancies      Glucose  ...          Age      Outcome\n",
              "count  2000.000000  2000.000000  ...  2000.000000  2000.000000\n",
              "mean      3.703500   121.182500  ...    33.090500     0.342000\n",
              "std       3.306063    32.068636  ...    11.786423     0.474498\n",
              "min       0.000000     0.000000  ...    21.000000     0.000000\n",
              "25%       1.000000    99.000000  ...    24.000000     0.000000\n",
              "50%       3.000000   117.000000  ...    29.000000     0.000000\n",
              "75%       6.000000   141.000000  ...    40.000000     1.000000\n",
              "max      17.000000   199.000000  ...    81.000000     1.000000\n",
              "\n",
              "[8 rows x 9 columns]"
            ]
          },
          "metadata": {},
          "execution_count": 79
        }
      ]
    },
    {
      "cell_type": "markdown",
      "metadata": {
        "id": "l7MSoXu0nhYs"
      },
      "source": [
        "To put all values on the same scale, we use a Scaler. A Scaler is another kind of transformer.\n",
        "\n",
        "* `.fit()` finds the minimum and maximum values.\n",
        "* `.transform()` divides by (max-min)"
      ]
    },
    {
      "cell_type": "code",
      "metadata": {
        "colab": {
          "base_uri": "https://localhost:8080/",
          "height": 444
        },
        "id": "XocJXK4enxuz",
        "outputId": "288ad8e8-c02a-4708-87dc-8f8878f7d47e"
      },
      "source": [
        "from sklearn.preprocessing import MinMaxScaler\n",
        "\n",
        "scaler = MinMaxScaler()\n",
        "scaler.fit(diabetes_imputed)\n",
        "X = scaler.transform(diabetes_imputed)\n",
        "diabetes_scaled = pd.DataFrame(X, columns=diabetes.columns)\n",
        "diabetes_scaled"
      ],
      "execution_count": null,
      "outputs": [
        {
          "output_type": "execute_result",
          "data": {
            "text/html": [
              "<div>\n",
              "<style scoped>\n",
              "    .dataframe tbody tr th:only-of-type {\n",
              "        vertical-align: middle;\n",
              "    }\n",
              "\n",
              "    .dataframe tbody tr th {\n",
              "        vertical-align: top;\n",
              "    }\n",
              "\n",
              "    .dataframe thead th {\n",
              "        text-align: right;\n",
              "    }\n",
              "</style>\n",
              "<table border=\"1\" class=\"dataframe\">\n",
              "  <thead>\n",
              "    <tr style=\"text-align: right;\">\n",
              "      <th></th>\n",
              "      <th>Pregnancies</th>\n",
              "      <th>Glucose</th>\n",
              "      <th>BloodPressure</th>\n",
              "      <th>SkinThickness</th>\n",
              "      <th>Insulin</th>\n",
              "      <th>BMI</th>\n",
              "      <th>DiabetesPedigreeFunction</th>\n",
              "      <th>Age</th>\n",
              "      <th>Outcome</th>\n",
              "    </tr>\n",
              "  </thead>\n",
              "  <tbody>\n",
              "    <tr>\n",
              "      <th>0</th>\n",
              "      <td>0.117647</td>\n",
              "      <td>0.693467</td>\n",
              "      <td>0.508197</td>\n",
              "      <td>0.271845</td>\n",
              "      <td>0.191429</td>\n",
              "      <td>0.246795</td>\n",
              "      <td>0.020922</td>\n",
              "      <td>0.433333</td>\n",
              "      <td>1.0</td>\n",
              "    </tr>\n",
              "    <tr>\n",
              "      <th>1</th>\n",
              "      <td>0.000000</td>\n",
              "      <td>0.422111</td>\n",
              "      <td>0.672131</td>\n",
              "      <td>0.233010</td>\n",
              "      <td>0.152055</td>\n",
              "      <td>0.320513</td>\n",
              "      <td>0.066183</td>\n",
              "      <td>0.033333</td>\n",
              "      <td>0.0</td>\n",
              "    </tr>\n",
              "    <tr>\n",
              "      <th>2</th>\n",
              "      <td>0.000000</td>\n",
              "      <td>0.728643</td>\n",
              "      <td>0.000000</td>\n",
              "      <td>0.216906</td>\n",
              "      <td>0.191429</td>\n",
              "      <td>0.416667</td>\n",
              "      <td>0.235696</td>\n",
              "      <td>0.166667</td>\n",
              "      <td>1.0</td>\n",
              "    </tr>\n",
              "    <tr>\n",
              "      <th>3</th>\n",
              "      <td>0.000000</td>\n",
              "      <td>0.678392</td>\n",
              "      <td>0.557377</td>\n",
              "      <td>0.339806</td>\n",
              "      <td>0.323288</td>\n",
              "      <td>0.386218</td>\n",
              "      <td>0.122545</td>\n",
              "      <td>0.050000</td>\n",
              "      <td>1.0</td>\n",
              "    </tr>\n",
              "    <tr>\n",
              "      <th>4</th>\n",
              "      <td>0.058824</td>\n",
              "      <td>0.698492</td>\n",
              "      <td>0.508197</td>\n",
              "      <td>0.330097</td>\n",
              "      <td>0.638356</td>\n",
              "      <td>0.360577</td>\n",
              "      <td>0.195559</td>\n",
              "      <td>0.000000</td>\n",
              "      <td>0.0</td>\n",
              "    </tr>\n",
              "    <tr>\n",
              "      <th>...</th>\n",
              "      <td>...</td>\n",
              "      <td>...</td>\n",
              "      <td>...</td>\n",
              "      <td>...</td>\n",
              "      <td>...</td>\n",
              "      <td>...</td>\n",
              "      <td>...</td>\n",
              "      <td>...</td>\n",
              "      <td>...</td>\n",
              "    </tr>\n",
              "    <tr>\n",
              "      <th>1995</th>\n",
              "      <td>0.117647</td>\n",
              "      <td>0.376884</td>\n",
              "      <td>0.524590</td>\n",
              "      <td>0.165049</td>\n",
              "      <td>0.056164</td>\n",
              "      <td>0.184295</td>\n",
              "      <td>0.124680</td>\n",
              "      <td>0.200000</td>\n",
              "      <td>0.0</td>\n",
              "    </tr>\n",
              "    <tr>\n",
              "      <th>1996</th>\n",
              "      <td>0.470588</td>\n",
              "      <td>0.899497</td>\n",
              "      <td>0.590164</td>\n",
              "      <td>0.339806</td>\n",
              "      <td>0.158904</td>\n",
              "      <td>0.232372</td>\n",
              "      <td>0.273698</td>\n",
              "      <td>0.250000</td>\n",
              "      <td>1.0</td>\n",
              "    </tr>\n",
              "    <tr>\n",
              "      <th>1997</th>\n",
              "      <td>0.352941</td>\n",
              "      <td>0.427136</td>\n",
              "      <td>0.639344</td>\n",
              "      <td>0.216906</td>\n",
              "      <td>0.191429</td>\n",
              "      <td>0.208333</td>\n",
              "      <td>0.129804</td>\n",
              "      <td>0.350000</td>\n",
              "      <td>0.0</td>\n",
              "    </tr>\n",
              "    <tr>\n",
              "      <th>1998</th>\n",
              "      <td>0.000000</td>\n",
              "      <td>0.648241</td>\n",
              "      <td>0.901639</td>\n",
              "      <td>0.378641</td>\n",
              "      <td>0.158904</td>\n",
              "      <td>0.783654</td>\n",
              "      <td>0.102904</td>\n",
              "      <td>0.083333</td>\n",
              "      <td>1.0</td>\n",
              "    </tr>\n",
              "    <tr>\n",
              "      <th>1999</th>\n",
              "      <td>0.117647</td>\n",
              "      <td>0.407035</td>\n",
              "      <td>0.590164</td>\n",
              "      <td>0.077670</td>\n",
              "      <td>0.084932</td>\n",
              "      <td>0.190705</td>\n",
              "      <td>0.200256</td>\n",
              "      <td>0.066667</td>\n",
              "      <td>0.0</td>\n",
              "    </tr>\n",
              "  </tbody>\n",
              "</table>\n",
              "<p>2000 rows × 9 columns</p>\n",
              "</div>"
            ],
            "text/plain": [
              "      Pregnancies   Glucose  ...       Age  Outcome\n",
              "0        0.117647  0.693467  ...  0.433333      1.0\n",
              "1        0.000000  0.422111  ...  0.033333      0.0\n",
              "2        0.000000  0.728643  ...  0.166667      1.0\n",
              "3        0.000000  0.678392  ...  0.050000      1.0\n",
              "4        0.058824  0.698492  ...  0.000000      0.0\n",
              "...           ...       ...  ...       ...      ...\n",
              "1995     0.117647  0.376884  ...  0.200000      0.0\n",
              "1996     0.470588  0.899497  ...  0.250000      1.0\n",
              "1997     0.352941  0.427136  ...  0.350000      0.0\n",
              "1998     0.000000  0.648241  ...  0.083333      1.0\n",
              "1999     0.117647  0.407035  ...  0.066667      0.0\n",
              "\n",
              "[2000 rows x 9 columns]"
            ]
          },
          "metadata": {},
          "execution_count": 66
        }
      ]
    },
    {
      "cell_type": "markdown",
      "metadata": {
        "id": "WxI-D5agiodB"
      },
      "source": [
        "## Exercises"
      ]
    },
    {
      "cell_type": "markdown",
      "metadata": {
        "id": "5ke3BJ5_i7f5"
      },
      "source": [
        "### Encode categorical data"
      ]
    },
    {
      "cell_type": "markdown",
      "metadata": {
        "id": "WNX47UZRkO9X"
      },
      "source": [
        "Use `get_dummies` to encode the categorical features in this datast about diamonds."
      ]
    },
    {
      "cell_type": "code",
      "metadata": {
        "colab": {
          "base_uri": "https://localhost:8080/",
          "height": 461
        },
        "id": "lHZOcgnRkP34",
        "outputId": "169c95e7-16ea-43ae-b54a-ba209b1bf2c8"
      },
      "source": [
        "import seaborn as sns\n",
        "diamonds = sns.load_dataset(\"diamonds\")\n",
        "diamonds\n",
        "pd.get_dummies(diamonds)"
      ],
      "execution_count": null,
      "outputs": [
        {
          "output_type": "execute_result",
          "data": {
            "text/html": [
              "<div>\n",
              "<style scoped>\n",
              "    .dataframe tbody tr th:only-of-type {\n",
              "        vertical-align: middle;\n",
              "    }\n",
              "\n",
              "    .dataframe tbody tr th {\n",
              "        vertical-align: top;\n",
              "    }\n",
              "\n",
              "    .dataframe thead th {\n",
              "        text-align: right;\n",
              "    }\n",
              "</style>\n",
              "<table border=\"1\" class=\"dataframe\">\n",
              "  <thead>\n",
              "    <tr style=\"text-align: right;\">\n",
              "      <th></th>\n",
              "      <th>carat</th>\n",
              "      <th>depth</th>\n",
              "      <th>table</th>\n",
              "      <th>price</th>\n",
              "      <th>x</th>\n",
              "      <th>y</th>\n",
              "      <th>z</th>\n",
              "      <th>cut_Ideal</th>\n",
              "      <th>cut_Premium</th>\n",
              "      <th>cut_Very Good</th>\n",
              "      <th>cut_Good</th>\n",
              "      <th>cut_Fair</th>\n",
              "      <th>color_D</th>\n",
              "      <th>color_E</th>\n",
              "      <th>color_F</th>\n",
              "      <th>color_G</th>\n",
              "      <th>color_H</th>\n",
              "      <th>color_I</th>\n",
              "      <th>color_J</th>\n",
              "      <th>clarity_IF</th>\n",
              "      <th>clarity_VVS1</th>\n",
              "      <th>clarity_VVS2</th>\n",
              "      <th>clarity_VS1</th>\n",
              "      <th>clarity_VS2</th>\n",
              "      <th>clarity_SI1</th>\n",
              "      <th>clarity_SI2</th>\n",
              "      <th>clarity_I1</th>\n",
              "    </tr>\n",
              "  </thead>\n",
              "  <tbody>\n",
              "    <tr>\n",
              "      <th>0</th>\n",
              "      <td>0.23</td>\n",
              "      <td>61.5</td>\n",
              "      <td>55.0</td>\n",
              "      <td>326</td>\n",
              "      <td>3.95</td>\n",
              "      <td>3.98</td>\n",
              "      <td>2.43</td>\n",
              "      <td>1</td>\n",
              "      <td>0</td>\n",
              "      <td>0</td>\n",
              "      <td>0</td>\n",
              "      <td>0</td>\n",
              "      <td>0</td>\n",
              "      <td>1</td>\n",
              "      <td>0</td>\n",
              "      <td>0</td>\n",
              "      <td>0</td>\n",
              "      <td>0</td>\n",
              "      <td>0</td>\n",
              "      <td>0</td>\n",
              "      <td>0</td>\n",
              "      <td>0</td>\n",
              "      <td>0</td>\n",
              "      <td>0</td>\n",
              "      <td>0</td>\n",
              "      <td>1</td>\n",
              "      <td>0</td>\n",
              "    </tr>\n",
              "    <tr>\n",
              "      <th>1</th>\n",
              "      <td>0.21</td>\n",
              "      <td>59.8</td>\n",
              "      <td>61.0</td>\n",
              "      <td>326</td>\n",
              "      <td>3.89</td>\n",
              "      <td>3.84</td>\n",
              "      <td>2.31</td>\n",
              "      <td>0</td>\n",
              "      <td>1</td>\n",
              "      <td>0</td>\n",
              "      <td>0</td>\n",
              "      <td>0</td>\n",
              "      <td>0</td>\n",
              "      <td>1</td>\n",
              "      <td>0</td>\n",
              "      <td>0</td>\n",
              "      <td>0</td>\n",
              "      <td>0</td>\n",
              "      <td>0</td>\n",
              "      <td>0</td>\n",
              "      <td>0</td>\n",
              "      <td>0</td>\n",
              "      <td>0</td>\n",
              "      <td>0</td>\n",
              "      <td>1</td>\n",
              "      <td>0</td>\n",
              "      <td>0</td>\n",
              "    </tr>\n",
              "    <tr>\n",
              "      <th>2</th>\n",
              "      <td>0.23</td>\n",
              "      <td>56.9</td>\n",
              "      <td>65.0</td>\n",
              "      <td>327</td>\n",
              "      <td>4.05</td>\n",
              "      <td>4.07</td>\n",
              "      <td>2.31</td>\n",
              "      <td>0</td>\n",
              "      <td>0</td>\n",
              "      <td>0</td>\n",
              "      <td>1</td>\n",
              "      <td>0</td>\n",
              "      <td>0</td>\n",
              "      <td>1</td>\n",
              "      <td>0</td>\n",
              "      <td>0</td>\n",
              "      <td>0</td>\n",
              "      <td>0</td>\n",
              "      <td>0</td>\n",
              "      <td>0</td>\n",
              "      <td>0</td>\n",
              "      <td>0</td>\n",
              "      <td>1</td>\n",
              "      <td>0</td>\n",
              "      <td>0</td>\n",
              "      <td>0</td>\n",
              "      <td>0</td>\n",
              "    </tr>\n",
              "    <tr>\n",
              "      <th>3</th>\n",
              "      <td>0.29</td>\n",
              "      <td>62.4</td>\n",
              "      <td>58.0</td>\n",
              "      <td>334</td>\n",
              "      <td>4.20</td>\n",
              "      <td>4.23</td>\n",
              "      <td>2.63</td>\n",
              "      <td>0</td>\n",
              "      <td>1</td>\n",
              "      <td>0</td>\n",
              "      <td>0</td>\n",
              "      <td>0</td>\n",
              "      <td>0</td>\n",
              "      <td>0</td>\n",
              "      <td>0</td>\n",
              "      <td>0</td>\n",
              "      <td>0</td>\n",
              "      <td>1</td>\n",
              "      <td>0</td>\n",
              "      <td>0</td>\n",
              "      <td>0</td>\n",
              "      <td>0</td>\n",
              "      <td>0</td>\n",
              "      <td>1</td>\n",
              "      <td>0</td>\n",
              "      <td>0</td>\n",
              "      <td>0</td>\n",
              "    </tr>\n",
              "    <tr>\n",
              "      <th>4</th>\n",
              "      <td>0.31</td>\n",
              "      <td>63.3</td>\n",
              "      <td>58.0</td>\n",
              "      <td>335</td>\n",
              "      <td>4.34</td>\n",
              "      <td>4.35</td>\n",
              "      <td>2.75</td>\n",
              "      <td>0</td>\n",
              "      <td>0</td>\n",
              "      <td>0</td>\n",
              "      <td>1</td>\n",
              "      <td>0</td>\n",
              "      <td>0</td>\n",
              "      <td>0</td>\n",
              "      <td>0</td>\n",
              "      <td>0</td>\n",
              "      <td>0</td>\n",
              "      <td>0</td>\n",
              "      <td>1</td>\n",
              "      <td>0</td>\n",
              "      <td>0</td>\n",
              "      <td>0</td>\n",
              "      <td>0</td>\n",
              "      <td>0</td>\n",
              "      <td>0</td>\n",
              "      <td>1</td>\n",
              "      <td>0</td>\n",
              "    </tr>\n",
              "    <tr>\n",
              "      <th>...</th>\n",
              "      <td>...</td>\n",
              "      <td>...</td>\n",
              "      <td>...</td>\n",
              "      <td>...</td>\n",
              "      <td>...</td>\n",
              "      <td>...</td>\n",
              "      <td>...</td>\n",
              "      <td>...</td>\n",
              "      <td>...</td>\n",
              "      <td>...</td>\n",
              "      <td>...</td>\n",
              "      <td>...</td>\n",
              "      <td>...</td>\n",
              "      <td>...</td>\n",
              "      <td>...</td>\n",
              "      <td>...</td>\n",
              "      <td>...</td>\n",
              "      <td>...</td>\n",
              "      <td>...</td>\n",
              "      <td>...</td>\n",
              "      <td>...</td>\n",
              "      <td>...</td>\n",
              "      <td>...</td>\n",
              "      <td>...</td>\n",
              "      <td>...</td>\n",
              "      <td>...</td>\n",
              "      <td>...</td>\n",
              "    </tr>\n",
              "    <tr>\n",
              "      <th>53935</th>\n",
              "      <td>0.72</td>\n",
              "      <td>60.8</td>\n",
              "      <td>57.0</td>\n",
              "      <td>2757</td>\n",
              "      <td>5.75</td>\n",
              "      <td>5.76</td>\n",
              "      <td>3.50</td>\n",
              "      <td>1</td>\n",
              "      <td>0</td>\n",
              "      <td>0</td>\n",
              "      <td>0</td>\n",
              "      <td>0</td>\n",
              "      <td>1</td>\n",
              "      <td>0</td>\n",
              "      <td>0</td>\n",
              "      <td>0</td>\n",
              "      <td>0</td>\n",
              "      <td>0</td>\n",
              "      <td>0</td>\n",
              "      <td>0</td>\n",
              "      <td>0</td>\n",
              "      <td>0</td>\n",
              "      <td>0</td>\n",
              "      <td>0</td>\n",
              "      <td>1</td>\n",
              "      <td>0</td>\n",
              "      <td>0</td>\n",
              "    </tr>\n",
              "    <tr>\n",
              "      <th>53936</th>\n",
              "      <td>0.72</td>\n",
              "      <td>63.1</td>\n",
              "      <td>55.0</td>\n",
              "      <td>2757</td>\n",
              "      <td>5.69</td>\n",
              "      <td>5.75</td>\n",
              "      <td>3.61</td>\n",
              "      <td>0</td>\n",
              "      <td>0</td>\n",
              "      <td>0</td>\n",
              "      <td>1</td>\n",
              "      <td>0</td>\n",
              "      <td>1</td>\n",
              "      <td>0</td>\n",
              "      <td>0</td>\n",
              "      <td>0</td>\n",
              "      <td>0</td>\n",
              "      <td>0</td>\n",
              "      <td>0</td>\n",
              "      <td>0</td>\n",
              "      <td>0</td>\n",
              "      <td>0</td>\n",
              "      <td>0</td>\n",
              "      <td>0</td>\n",
              "      <td>1</td>\n",
              "      <td>0</td>\n",
              "      <td>0</td>\n",
              "    </tr>\n",
              "    <tr>\n",
              "      <th>53937</th>\n",
              "      <td>0.70</td>\n",
              "      <td>62.8</td>\n",
              "      <td>60.0</td>\n",
              "      <td>2757</td>\n",
              "      <td>5.66</td>\n",
              "      <td>5.68</td>\n",
              "      <td>3.56</td>\n",
              "      <td>0</td>\n",
              "      <td>0</td>\n",
              "      <td>1</td>\n",
              "      <td>0</td>\n",
              "      <td>0</td>\n",
              "      <td>1</td>\n",
              "      <td>0</td>\n",
              "      <td>0</td>\n",
              "      <td>0</td>\n",
              "      <td>0</td>\n",
              "      <td>0</td>\n",
              "      <td>0</td>\n",
              "      <td>0</td>\n",
              "      <td>0</td>\n",
              "      <td>0</td>\n",
              "      <td>0</td>\n",
              "      <td>0</td>\n",
              "      <td>1</td>\n",
              "      <td>0</td>\n",
              "      <td>0</td>\n",
              "    </tr>\n",
              "    <tr>\n",
              "      <th>53938</th>\n",
              "      <td>0.86</td>\n",
              "      <td>61.0</td>\n",
              "      <td>58.0</td>\n",
              "      <td>2757</td>\n",
              "      <td>6.15</td>\n",
              "      <td>6.12</td>\n",
              "      <td>3.74</td>\n",
              "      <td>0</td>\n",
              "      <td>1</td>\n",
              "      <td>0</td>\n",
              "      <td>0</td>\n",
              "      <td>0</td>\n",
              "      <td>0</td>\n",
              "      <td>0</td>\n",
              "      <td>0</td>\n",
              "      <td>0</td>\n",
              "      <td>1</td>\n",
              "      <td>0</td>\n",
              "      <td>0</td>\n",
              "      <td>0</td>\n",
              "      <td>0</td>\n",
              "      <td>0</td>\n",
              "      <td>0</td>\n",
              "      <td>0</td>\n",
              "      <td>0</td>\n",
              "      <td>1</td>\n",
              "      <td>0</td>\n",
              "    </tr>\n",
              "    <tr>\n",
              "      <th>53939</th>\n",
              "      <td>0.75</td>\n",
              "      <td>62.2</td>\n",
              "      <td>55.0</td>\n",
              "      <td>2757</td>\n",
              "      <td>5.83</td>\n",
              "      <td>5.87</td>\n",
              "      <td>3.64</td>\n",
              "      <td>1</td>\n",
              "      <td>0</td>\n",
              "      <td>0</td>\n",
              "      <td>0</td>\n",
              "      <td>0</td>\n",
              "      <td>1</td>\n",
              "      <td>0</td>\n",
              "      <td>0</td>\n",
              "      <td>0</td>\n",
              "      <td>0</td>\n",
              "      <td>0</td>\n",
              "      <td>0</td>\n",
              "      <td>0</td>\n",
              "      <td>0</td>\n",
              "      <td>0</td>\n",
              "      <td>0</td>\n",
              "      <td>0</td>\n",
              "      <td>0</td>\n",
              "      <td>1</td>\n",
              "      <td>0</td>\n",
              "    </tr>\n",
              "  </tbody>\n",
              "</table>\n",
              "<p>53940 rows × 27 columns</p>\n",
              "</div>"
            ],
            "text/plain": [
              "       carat  depth  table  ...  clarity_SI1  clarity_SI2  clarity_I1\n",
              "0       0.23   61.5   55.0  ...            0            1           0\n",
              "1       0.21   59.8   61.0  ...            1            0           0\n",
              "2       0.23   56.9   65.0  ...            0            0           0\n",
              "3       0.29   62.4   58.0  ...            0            0           0\n",
              "4       0.31   63.3   58.0  ...            0            1           0\n",
              "...      ...    ...    ...  ...          ...          ...         ...\n",
              "53935   0.72   60.8   57.0  ...            1            0           0\n",
              "53936   0.72   63.1   55.0  ...            1            0           0\n",
              "53937   0.70   62.8   60.0  ...            1            0           0\n",
              "53938   0.86   61.0   58.0  ...            0            1           0\n",
              "53939   0.75   62.2   55.0  ...            0            1           0\n",
              "\n",
              "[53940 rows x 27 columns]"
            ]
          },
          "metadata": {},
          "execution_count": 82
        }
      ]
    },
    {
      "cell_type": "markdown",
      "metadata": {
        "id": "XQGReyAUiqFQ"
      },
      "source": [
        "### Replace missing votes\n",
        "Use imputation to guess how congresspeople would have voted in the `votes` dataset. A value of '?' indicates missing data."
      ]
    },
    {
      "cell_type": "code",
      "metadata": {
        "colab": {
          "base_uri": "https://localhost:8080/",
          "height": 226
        },
        "id": "gQGnnFeYi3op",
        "outputId": "2a60d6cd-a77e-49b6-8e3c-21b357de8579"
      },
      "source": [
        "import pandas as pd\n",
        "votes = pd.read_csv(\n",
        "    \"https://archive.ics.uci.edu/ml/machine-learning-databases/voting-records/house-votes-84.data\",\n",
        "    header=None,\n",
        "    names=['party', 'infants', 'water', 'budget', 'physician', 'salvador',\n",
        "       'religious', 'satellite', 'aid', 'missile', 'immigration', 'synfuels',\n",
        "       'education', 'superfund', 'crime', 'duty_free_exports', 'eaa_rsa'])\n",
        "votes.head()\n",
        "votes = votes.replace('?',np.nan)\n",
        "votes = votes.replace('y',1)\n",
        "votes = votes.replace('n',0)\n",
        "votes = votes.set_index(\"party\")"
      ],
      "execution_count": null,
      "outputs": [
        {
          "output_type": "execute_result",
          "data": {
            "text/html": [
              "<div>\n",
              "<style scoped>\n",
              "    .dataframe tbody tr th:only-of-type {\n",
              "        vertical-align: middle;\n",
              "    }\n",
              "\n",
              "    .dataframe tbody tr th {\n",
              "        vertical-align: top;\n",
              "    }\n",
              "\n",
              "    .dataframe thead th {\n",
              "        text-align: right;\n",
              "    }\n",
              "</style>\n",
              "<table border=\"1\" class=\"dataframe\">\n",
              "  <thead>\n",
              "    <tr style=\"text-align: right;\">\n",
              "      <th></th>\n",
              "      <th>party</th>\n",
              "      <th>infants</th>\n",
              "      <th>water</th>\n",
              "      <th>budget</th>\n",
              "      <th>physician</th>\n",
              "      <th>salvador</th>\n",
              "      <th>religious</th>\n",
              "      <th>satellite</th>\n",
              "      <th>aid</th>\n",
              "      <th>missile</th>\n",
              "      <th>immigration</th>\n",
              "      <th>synfuels</th>\n",
              "      <th>education</th>\n",
              "      <th>superfund</th>\n",
              "      <th>crime</th>\n",
              "      <th>duty_free_exports</th>\n",
              "      <th>eaa_rsa</th>\n",
              "    </tr>\n",
              "  </thead>\n",
              "  <tbody>\n",
              "    <tr>\n",
              "      <th>0</th>\n",
              "      <td>republican</td>\n",
              "      <td>n</td>\n",
              "      <td>y</td>\n",
              "      <td>n</td>\n",
              "      <td>y</td>\n",
              "      <td>y</td>\n",
              "      <td>y</td>\n",
              "      <td>n</td>\n",
              "      <td>n</td>\n",
              "      <td>n</td>\n",
              "      <td>y</td>\n",
              "      <td>?</td>\n",
              "      <td>y</td>\n",
              "      <td>y</td>\n",
              "      <td>y</td>\n",
              "      <td>n</td>\n",
              "      <td>y</td>\n",
              "    </tr>\n",
              "    <tr>\n",
              "      <th>1</th>\n",
              "      <td>republican</td>\n",
              "      <td>n</td>\n",
              "      <td>y</td>\n",
              "      <td>n</td>\n",
              "      <td>y</td>\n",
              "      <td>y</td>\n",
              "      <td>y</td>\n",
              "      <td>n</td>\n",
              "      <td>n</td>\n",
              "      <td>n</td>\n",
              "      <td>n</td>\n",
              "      <td>n</td>\n",
              "      <td>y</td>\n",
              "      <td>y</td>\n",
              "      <td>y</td>\n",
              "      <td>n</td>\n",
              "      <td>?</td>\n",
              "    </tr>\n",
              "    <tr>\n",
              "      <th>2</th>\n",
              "      <td>democrat</td>\n",
              "      <td>?</td>\n",
              "      <td>y</td>\n",
              "      <td>y</td>\n",
              "      <td>?</td>\n",
              "      <td>y</td>\n",
              "      <td>y</td>\n",
              "      <td>n</td>\n",
              "      <td>n</td>\n",
              "      <td>n</td>\n",
              "      <td>n</td>\n",
              "      <td>y</td>\n",
              "      <td>n</td>\n",
              "      <td>y</td>\n",
              "      <td>y</td>\n",
              "      <td>n</td>\n",
              "      <td>n</td>\n",
              "    </tr>\n",
              "    <tr>\n",
              "      <th>3</th>\n",
              "      <td>democrat</td>\n",
              "      <td>n</td>\n",
              "      <td>y</td>\n",
              "      <td>y</td>\n",
              "      <td>n</td>\n",
              "      <td>?</td>\n",
              "      <td>y</td>\n",
              "      <td>n</td>\n",
              "      <td>n</td>\n",
              "      <td>n</td>\n",
              "      <td>n</td>\n",
              "      <td>y</td>\n",
              "      <td>n</td>\n",
              "      <td>y</td>\n",
              "      <td>n</td>\n",
              "      <td>n</td>\n",
              "      <td>y</td>\n",
              "    </tr>\n",
              "    <tr>\n",
              "      <th>4</th>\n",
              "      <td>democrat</td>\n",
              "      <td>y</td>\n",
              "      <td>y</td>\n",
              "      <td>y</td>\n",
              "      <td>n</td>\n",
              "      <td>y</td>\n",
              "      <td>y</td>\n",
              "      <td>n</td>\n",
              "      <td>n</td>\n",
              "      <td>n</td>\n",
              "      <td>n</td>\n",
              "      <td>y</td>\n",
              "      <td>?</td>\n",
              "      <td>y</td>\n",
              "      <td>y</td>\n",
              "      <td>y</td>\n",
              "      <td>y</td>\n",
              "    </tr>\n",
              "  </tbody>\n",
              "</table>\n",
              "</div>"
            ],
            "text/plain": [
              "        party infants water budget  ... superfund crime duty_free_exports eaa_rsa\n",
              "0  republican       n     y      n  ...         y     y                 n       y\n",
              "1  republican       n     y      n  ...         y     y                 n       ?\n",
              "2    democrat       ?     y      y  ...         y     y                 n       n\n",
              "3    democrat       n     y      y  ...         y     n                 n       y\n",
              "4    democrat       y     y      y  ...         y     y                 y       y\n",
              "\n",
              "[5 rows x 17 columns]"
            ]
          },
          "metadata": {},
          "execution_count": 4
        }
      ]
    },
    {
      "cell_type": "code",
      "metadata": {
        "id": "qYu1o-aP4Mrj"
      },
      "source": [
        "import sklearn\n",
        "from sklearn.experimental import enable_iterative_imputer\n",
        "from sklearn.impute import IterativeImputer\n",
        "\n",
        "imp = IterativeImputer(max_iter=10, random_state=0)"
      ],
      "execution_count": null,
      "outputs": []
    },
    {
      "cell_type": "code",
      "metadata": {
        "id": "B3rerI1B45Ox"
      },
      "source": [
        "import numpy as np\n",
        "votes = votes.replace('?',np.nan)\n",
        "votes = votes.replace('y',1)\n",
        "votes = votes.replace('n',0)\n"
      ],
      "execution_count": null,
      "outputs": []
    },
    {
      "cell_type": "code",
      "metadata": {
        "colab": {
          "base_uri": "https://localhost:8080/",
          "height": 325
        },
        "id": "i2KjWS9M5FQd",
        "outputId": "f5bc468f-a908-4fdb-c473-98f1a6dd309a"
      },
      "source": [
        "votes = votes.set_index(\"party\")"
      ],
      "execution_count": null,
      "outputs": [
        {
          "output_type": "error",
          "ename": "KeyError",
          "evalue": "ignored",
          "traceback": [
            "\u001b[0;31m---------------------------------------------------------------------------\u001b[0m",
            "\u001b[0;31mKeyError\u001b[0m                                  Traceback (most recent call last)",
            "\u001b[0;32m<ipython-input-16-1a1e80f61da6>\u001b[0m in \u001b[0;36m<module>\u001b[0;34m()\u001b[0m\n\u001b[0;32m----> 1\u001b[0;31m \u001b[0mvotes\u001b[0m \u001b[0;34m=\u001b[0m \u001b[0mvotes\u001b[0m\u001b[0;34m.\u001b[0m\u001b[0mset_index\u001b[0m\u001b[0;34m(\u001b[0m\u001b[0;34m\"party\"\u001b[0m\u001b[0;34m)\u001b[0m\u001b[0;34m\u001b[0m\u001b[0;34m\u001b[0m\u001b[0m\n\u001b[0m",
            "\u001b[0;32m/usr/local/lib/python3.7/dist-packages/pandas/core/frame.py\u001b[0m in \u001b[0;36mset_index\u001b[0;34m(self, keys, drop, append, inplace, verify_integrity)\u001b[0m\n\u001b[1;32m   4553\u001b[0m \u001b[0;34m\u001b[0m\u001b[0m\n\u001b[1;32m   4554\u001b[0m         \u001b[0;32mif\u001b[0m \u001b[0mmissing\u001b[0m\u001b[0;34m:\u001b[0m\u001b[0;34m\u001b[0m\u001b[0;34m\u001b[0m\u001b[0m\n\u001b[0;32m-> 4555\u001b[0;31m             \u001b[0;32mraise\u001b[0m \u001b[0mKeyError\u001b[0m\u001b[0;34m(\u001b[0m\u001b[0;34mf\"None of {missing} are in the columns\"\u001b[0m\u001b[0;34m)\u001b[0m\u001b[0;34m\u001b[0m\u001b[0;34m\u001b[0m\u001b[0m\n\u001b[0m\u001b[1;32m   4556\u001b[0m \u001b[0;34m\u001b[0m\u001b[0m\n\u001b[1;32m   4557\u001b[0m         \u001b[0;32mif\u001b[0m \u001b[0minplace\u001b[0m\u001b[0;34m:\u001b[0m\u001b[0;34m\u001b[0m\u001b[0;34m\u001b[0m\u001b[0m\n",
            "\u001b[0;31mKeyError\u001b[0m: \"None of ['party'] are in the columns\""
          ]
        }
      ]
    },
    {
      "cell_type": "code",
      "metadata": {
        "colab": {
          "base_uri": "https://localhost:8080/",
          "height": 475
        },
        "id": "Y5vuAtFq5UW1",
        "outputId": "bd6bc369-f486-4490-dfda-5ab0bda1a483"
      },
      "source": [
        "votes"
      ],
      "execution_count": null,
      "outputs": [
        {
          "output_type": "execute_result",
          "data": {
            "text/html": [
              "<div>\n",
              "<style scoped>\n",
              "    .dataframe tbody tr th:only-of-type {\n",
              "        vertical-align: middle;\n",
              "    }\n",
              "\n",
              "    .dataframe tbody tr th {\n",
              "        vertical-align: top;\n",
              "    }\n",
              "\n",
              "    .dataframe thead th {\n",
              "        text-align: right;\n",
              "    }\n",
              "</style>\n",
              "<table border=\"1\" class=\"dataframe\">\n",
              "  <thead>\n",
              "    <tr style=\"text-align: right;\">\n",
              "      <th></th>\n",
              "      <th>infants</th>\n",
              "      <th>water</th>\n",
              "      <th>budget</th>\n",
              "      <th>physician</th>\n",
              "      <th>salvador</th>\n",
              "      <th>religious</th>\n",
              "      <th>satellite</th>\n",
              "      <th>aid</th>\n",
              "      <th>missile</th>\n",
              "      <th>immigration</th>\n",
              "      <th>synfuels</th>\n",
              "      <th>education</th>\n",
              "      <th>superfund</th>\n",
              "      <th>crime</th>\n",
              "      <th>duty_free_exports</th>\n",
              "      <th>eaa_rsa</th>\n",
              "    </tr>\n",
              "    <tr>\n",
              "      <th>party</th>\n",
              "      <th></th>\n",
              "      <th></th>\n",
              "      <th></th>\n",
              "      <th></th>\n",
              "      <th></th>\n",
              "      <th></th>\n",
              "      <th></th>\n",
              "      <th></th>\n",
              "      <th></th>\n",
              "      <th></th>\n",
              "      <th></th>\n",
              "      <th></th>\n",
              "      <th></th>\n",
              "      <th></th>\n",
              "      <th></th>\n",
              "      <th></th>\n",
              "    </tr>\n",
              "  </thead>\n",
              "  <tbody>\n",
              "    <tr>\n",
              "      <th>republican</th>\n",
              "      <td>0.0</td>\n",
              "      <td>1.0</td>\n",
              "      <td>0.0</td>\n",
              "      <td>1.0</td>\n",
              "      <td>1.0</td>\n",
              "      <td>1.0</td>\n",
              "      <td>0.0</td>\n",
              "      <td>0.0</td>\n",
              "      <td>0.0</td>\n",
              "      <td>1.0</td>\n",
              "      <td>NaN</td>\n",
              "      <td>1.0</td>\n",
              "      <td>1.0</td>\n",
              "      <td>1.0</td>\n",
              "      <td>0.0</td>\n",
              "      <td>1.0</td>\n",
              "    </tr>\n",
              "    <tr>\n",
              "      <th>republican</th>\n",
              "      <td>0.0</td>\n",
              "      <td>1.0</td>\n",
              "      <td>0.0</td>\n",
              "      <td>1.0</td>\n",
              "      <td>1.0</td>\n",
              "      <td>1.0</td>\n",
              "      <td>0.0</td>\n",
              "      <td>0.0</td>\n",
              "      <td>0.0</td>\n",
              "      <td>0.0</td>\n",
              "      <td>0.0</td>\n",
              "      <td>1.0</td>\n",
              "      <td>1.0</td>\n",
              "      <td>1.0</td>\n",
              "      <td>0.0</td>\n",
              "      <td>NaN</td>\n",
              "    </tr>\n",
              "    <tr>\n",
              "      <th>democrat</th>\n",
              "      <td>NaN</td>\n",
              "      <td>1.0</td>\n",
              "      <td>1.0</td>\n",
              "      <td>NaN</td>\n",
              "      <td>1.0</td>\n",
              "      <td>1.0</td>\n",
              "      <td>0.0</td>\n",
              "      <td>0.0</td>\n",
              "      <td>0.0</td>\n",
              "      <td>0.0</td>\n",
              "      <td>1.0</td>\n",
              "      <td>0.0</td>\n",
              "      <td>1.0</td>\n",
              "      <td>1.0</td>\n",
              "      <td>0.0</td>\n",
              "      <td>0.0</td>\n",
              "    </tr>\n",
              "    <tr>\n",
              "      <th>democrat</th>\n",
              "      <td>0.0</td>\n",
              "      <td>1.0</td>\n",
              "      <td>1.0</td>\n",
              "      <td>0.0</td>\n",
              "      <td>NaN</td>\n",
              "      <td>1.0</td>\n",
              "      <td>0.0</td>\n",
              "      <td>0.0</td>\n",
              "      <td>0.0</td>\n",
              "      <td>0.0</td>\n",
              "      <td>1.0</td>\n",
              "      <td>0.0</td>\n",
              "      <td>1.0</td>\n",
              "      <td>0.0</td>\n",
              "      <td>0.0</td>\n",
              "      <td>1.0</td>\n",
              "    </tr>\n",
              "    <tr>\n",
              "      <th>democrat</th>\n",
              "      <td>1.0</td>\n",
              "      <td>1.0</td>\n",
              "      <td>1.0</td>\n",
              "      <td>0.0</td>\n",
              "      <td>1.0</td>\n",
              "      <td>1.0</td>\n",
              "      <td>0.0</td>\n",
              "      <td>0.0</td>\n",
              "      <td>0.0</td>\n",
              "      <td>0.0</td>\n",
              "      <td>1.0</td>\n",
              "      <td>NaN</td>\n",
              "      <td>1.0</td>\n",
              "      <td>1.0</td>\n",
              "      <td>1.0</td>\n",
              "      <td>1.0</td>\n",
              "    </tr>\n",
              "    <tr>\n",
              "      <th>...</th>\n",
              "      <td>...</td>\n",
              "      <td>...</td>\n",
              "      <td>...</td>\n",
              "      <td>...</td>\n",
              "      <td>...</td>\n",
              "      <td>...</td>\n",
              "      <td>...</td>\n",
              "      <td>...</td>\n",
              "      <td>...</td>\n",
              "      <td>...</td>\n",
              "      <td>...</td>\n",
              "      <td>...</td>\n",
              "      <td>...</td>\n",
              "      <td>...</td>\n",
              "      <td>...</td>\n",
              "      <td>...</td>\n",
              "    </tr>\n",
              "    <tr>\n",
              "      <th>republican</th>\n",
              "      <td>0.0</td>\n",
              "      <td>0.0</td>\n",
              "      <td>1.0</td>\n",
              "      <td>1.0</td>\n",
              "      <td>1.0</td>\n",
              "      <td>1.0</td>\n",
              "      <td>0.0</td>\n",
              "      <td>0.0</td>\n",
              "      <td>1.0</td>\n",
              "      <td>1.0</td>\n",
              "      <td>0.0</td>\n",
              "      <td>1.0</td>\n",
              "      <td>1.0</td>\n",
              "      <td>1.0</td>\n",
              "      <td>0.0</td>\n",
              "      <td>1.0</td>\n",
              "    </tr>\n",
              "    <tr>\n",
              "      <th>democrat</th>\n",
              "      <td>0.0</td>\n",
              "      <td>0.0</td>\n",
              "      <td>1.0</td>\n",
              "      <td>0.0</td>\n",
              "      <td>0.0</td>\n",
              "      <td>0.0</td>\n",
              "      <td>1.0</td>\n",
              "      <td>1.0</td>\n",
              "      <td>1.0</td>\n",
              "      <td>1.0</td>\n",
              "      <td>0.0</td>\n",
              "      <td>0.0</td>\n",
              "      <td>0.0</td>\n",
              "      <td>0.0</td>\n",
              "      <td>0.0</td>\n",
              "      <td>1.0</td>\n",
              "    </tr>\n",
              "    <tr>\n",
              "      <th>republican</th>\n",
              "      <td>0.0</td>\n",
              "      <td>NaN</td>\n",
              "      <td>0.0</td>\n",
              "      <td>1.0</td>\n",
              "      <td>1.0</td>\n",
              "      <td>1.0</td>\n",
              "      <td>0.0</td>\n",
              "      <td>0.0</td>\n",
              "      <td>0.0</td>\n",
              "      <td>0.0</td>\n",
              "      <td>1.0</td>\n",
              "      <td>1.0</td>\n",
              "      <td>1.0</td>\n",
              "      <td>1.0</td>\n",
              "      <td>0.0</td>\n",
              "      <td>1.0</td>\n",
              "    </tr>\n",
              "    <tr>\n",
              "      <th>republican</th>\n",
              "      <td>0.0</td>\n",
              "      <td>0.0</td>\n",
              "      <td>0.0</td>\n",
              "      <td>1.0</td>\n",
              "      <td>1.0</td>\n",
              "      <td>1.0</td>\n",
              "      <td>NaN</td>\n",
              "      <td>NaN</td>\n",
              "      <td>NaN</td>\n",
              "      <td>NaN</td>\n",
              "      <td>0.0</td>\n",
              "      <td>1.0</td>\n",
              "      <td>1.0</td>\n",
              "      <td>1.0</td>\n",
              "      <td>0.0</td>\n",
              "      <td>1.0</td>\n",
              "    </tr>\n",
              "    <tr>\n",
              "      <th>republican</th>\n",
              "      <td>0.0</td>\n",
              "      <td>1.0</td>\n",
              "      <td>0.0</td>\n",
              "      <td>1.0</td>\n",
              "      <td>1.0</td>\n",
              "      <td>1.0</td>\n",
              "      <td>0.0</td>\n",
              "      <td>0.0</td>\n",
              "      <td>0.0</td>\n",
              "      <td>1.0</td>\n",
              "      <td>0.0</td>\n",
              "      <td>1.0</td>\n",
              "      <td>1.0</td>\n",
              "      <td>1.0</td>\n",
              "      <td>NaN</td>\n",
              "      <td>0.0</td>\n",
              "    </tr>\n",
              "  </tbody>\n",
              "</table>\n",
              "<p>435 rows × 16 columns</p>\n",
              "</div>"
            ],
            "text/plain": [
              "            infants  water  budget  ...  crime  duty_free_exports  eaa_rsa\n",
              "party                               ...                                   \n",
              "republican      0.0    1.0     0.0  ...    1.0                0.0      1.0\n",
              "republican      0.0    1.0     0.0  ...    1.0                0.0      NaN\n",
              "democrat        NaN    1.0     1.0  ...    1.0                0.0      0.0\n",
              "democrat        0.0    1.0     1.0  ...    0.0                0.0      1.0\n",
              "democrat        1.0    1.0     1.0  ...    1.0                1.0      1.0\n",
              "...             ...    ...     ...  ...    ...                ...      ...\n",
              "republican      0.0    0.0     1.0  ...    1.0                0.0      1.0\n",
              "democrat        0.0    0.0     1.0  ...    0.0                0.0      1.0\n",
              "republican      0.0    NaN     0.0  ...    1.0                0.0      1.0\n",
              "republican      0.0    0.0     0.0  ...    1.0                0.0      1.0\n",
              "republican      0.0    1.0     0.0  ...    1.0                NaN      0.0\n",
              "\n",
              "[435 rows x 16 columns]"
            ]
          },
          "metadata": {},
          "execution_count": 17
        }
      ]
    },
    {
      "cell_type": "code",
      "metadata": {
        "colab": {
          "base_uri": "https://localhost:8080/",
          "height": 481
        },
        "id": "154a7Dr05ALJ",
        "outputId": "bf05fd43-df48-4f23-e08c-a5a43164ed75"
      },
      "source": [
        "pd.DataFrame(imp.fit_transform(votes), columns=votes.columns)"
      ],
      "execution_count": null,
      "outputs": [
        {
          "output_type": "stream",
          "name": "stderr",
          "text": [
            "/usr/local/lib/python3.7/dist-packages/sklearn/impute/_iterative.py:701: ConvergenceWarning: [IterativeImputer] Early stopping criterion not reached.\n",
            "  ConvergenceWarning,\n"
          ]
        },
        {
          "output_type": "execute_result",
          "data": {
            "text/html": [
              "<div>\n",
              "<style scoped>\n",
              "    .dataframe tbody tr th:only-of-type {\n",
              "        vertical-align: middle;\n",
              "    }\n",
              "\n",
              "    .dataframe tbody tr th {\n",
              "        vertical-align: top;\n",
              "    }\n",
              "\n",
              "    .dataframe thead th {\n",
              "        text-align: right;\n",
              "    }\n",
              "</style>\n",
              "<table border=\"1\" class=\"dataframe\">\n",
              "  <thead>\n",
              "    <tr style=\"text-align: right;\">\n",
              "      <th></th>\n",
              "      <th>infants</th>\n",
              "      <th>water</th>\n",
              "      <th>budget</th>\n",
              "      <th>physician</th>\n",
              "      <th>salvador</th>\n",
              "      <th>religious</th>\n",
              "      <th>satellite</th>\n",
              "      <th>aid</th>\n",
              "      <th>missile</th>\n",
              "      <th>immigration</th>\n",
              "      <th>synfuels</th>\n",
              "      <th>education</th>\n",
              "      <th>superfund</th>\n",
              "      <th>crime</th>\n",
              "      <th>duty_free_exports</th>\n",
              "      <th>eaa_rsa</th>\n",
              "    </tr>\n",
              "  </thead>\n",
              "  <tbody>\n",
              "    <tr>\n",
              "      <th>0</th>\n",
              "      <td>0.000000</td>\n",
              "      <td>1.000000</td>\n",
              "      <td>0.0</td>\n",
              "      <td>1.000000</td>\n",
              "      <td>1.000000</td>\n",
              "      <td>1.0</td>\n",
              "      <td>0.000000</td>\n",
              "      <td>0.00000</td>\n",
              "      <td>0.000000</td>\n",
              "      <td>1.000000</td>\n",
              "      <td>0.270338</td>\n",
              "      <td>1.000000</td>\n",
              "      <td>1.0</td>\n",
              "      <td>1.0</td>\n",
              "      <td>0.000000</td>\n",
              "      <td>1.000000</td>\n",
              "    </tr>\n",
              "    <tr>\n",
              "      <th>1</th>\n",
              "      <td>0.000000</td>\n",
              "      <td>1.000000</td>\n",
              "      <td>0.0</td>\n",
              "      <td>1.000000</td>\n",
              "      <td>1.000000</td>\n",
              "      <td>1.0</td>\n",
              "      <td>0.000000</td>\n",
              "      <td>0.00000</td>\n",
              "      <td>0.000000</td>\n",
              "      <td>0.000000</td>\n",
              "      <td>0.000000</td>\n",
              "      <td>1.000000</td>\n",
              "      <td>1.0</td>\n",
              "      <td>1.0</td>\n",
              "      <td>0.000000</td>\n",
              "      <td>0.550575</td>\n",
              "    </tr>\n",
              "    <tr>\n",
              "      <th>2</th>\n",
              "      <td>0.478786</td>\n",
              "      <td>1.000000</td>\n",
              "      <td>1.0</td>\n",
              "      <td>0.408308</td>\n",
              "      <td>1.000000</td>\n",
              "      <td>1.0</td>\n",
              "      <td>0.000000</td>\n",
              "      <td>0.00000</td>\n",
              "      <td>0.000000</td>\n",
              "      <td>0.000000</td>\n",
              "      <td>1.000000</td>\n",
              "      <td>0.000000</td>\n",
              "      <td>1.0</td>\n",
              "      <td>1.0</td>\n",
              "      <td>0.000000</td>\n",
              "      <td>0.000000</td>\n",
              "    </tr>\n",
              "    <tr>\n",
              "      <th>3</th>\n",
              "      <td>0.000000</td>\n",
              "      <td>1.000000</td>\n",
              "      <td>1.0</td>\n",
              "      <td>0.000000</td>\n",
              "      <td>0.816146</td>\n",
              "      <td>1.0</td>\n",
              "      <td>0.000000</td>\n",
              "      <td>0.00000</td>\n",
              "      <td>0.000000</td>\n",
              "      <td>0.000000</td>\n",
              "      <td>1.000000</td>\n",
              "      <td>0.000000</td>\n",
              "      <td>1.0</td>\n",
              "      <td>0.0</td>\n",
              "      <td>0.000000</td>\n",
              "      <td>1.000000</td>\n",
              "    </tr>\n",
              "    <tr>\n",
              "      <th>4</th>\n",
              "      <td>1.000000</td>\n",
              "      <td>1.000000</td>\n",
              "      <td>1.0</td>\n",
              "      <td>0.000000</td>\n",
              "      <td>1.000000</td>\n",
              "      <td>1.0</td>\n",
              "      <td>0.000000</td>\n",
              "      <td>0.00000</td>\n",
              "      <td>0.000000</td>\n",
              "      <td>0.000000</td>\n",
              "      <td>1.000000</td>\n",
              "      <td>0.266909</td>\n",
              "      <td>1.0</td>\n",
              "      <td>1.0</td>\n",
              "      <td>1.000000</td>\n",
              "      <td>1.000000</td>\n",
              "    </tr>\n",
              "    <tr>\n",
              "      <th>...</th>\n",
              "      <td>...</td>\n",
              "      <td>...</td>\n",
              "      <td>...</td>\n",
              "      <td>...</td>\n",
              "      <td>...</td>\n",
              "      <td>...</td>\n",
              "      <td>...</td>\n",
              "      <td>...</td>\n",
              "      <td>...</td>\n",
              "      <td>...</td>\n",
              "      <td>...</td>\n",
              "      <td>...</td>\n",
              "      <td>...</td>\n",
              "      <td>...</td>\n",
              "      <td>...</td>\n",
              "      <td>...</td>\n",
              "    </tr>\n",
              "    <tr>\n",
              "      <th>430</th>\n",
              "      <td>0.000000</td>\n",
              "      <td>0.000000</td>\n",
              "      <td>1.0</td>\n",
              "      <td>1.000000</td>\n",
              "      <td>1.000000</td>\n",
              "      <td>1.0</td>\n",
              "      <td>0.000000</td>\n",
              "      <td>0.00000</td>\n",
              "      <td>1.000000</td>\n",
              "      <td>1.000000</td>\n",
              "      <td>0.000000</td>\n",
              "      <td>1.000000</td>\n",
              "      <td>1.0</td>\n",
              "      <td>1.0</td>\n",
              "      <td>0.000000</td>\n",
              "      <td>1.000000</td>\n",
              "    </tr>\n",
              "    <tr>\n",
              "      <th>431</th>\n",
              "      <td>0.000000</td>\n",
              "      <td>0.000000</td>\n",
              "      <td>1.0</td>\n",
              "      <td>0.000000</td>\n",
              "      <td>0.000000</td>\n",
              "      <td>0.0</td>\n",
              "      <td>1.000000</td>\n",
              "      <td>1.00000</td>\n",
              "      <td>1.000000</td>\n",
              "      <td>1.000000</td>\n",
              "      <td>0.000000</td>\n",
              "      <td>0.000000</td>\n",
              "      <td>0.0</td>\n",
              "      <td>0.0</td>\n",
              "      <td>0.000000</td>\n",
              "      <td>1.000000</td>\n",
              "    </tr>\n",
              "    <tr>\n",
              "      <th>432</th>\n",
              "      <td>0.000000</td>\n",
              "      <td>0.781552</td>\n",
              "      <td>0.0</td>\n",
              "      <td>1.000000</td>\n",
              "      <td>1.000000</td>\n",
              "      <td>1.0</td>\n",
              "      <td>0.000000</td>\n",
              "      <td>0.00000</td>\n",
              "      <td>0.000000</td>\n",
              "      <td>0.000000</td>\n",
              "      <td>1.000000</td>\n",
              "      <td>1.000000</td>\n",
              "      <td>1.0</td>\n",
              "      <td>1.0</td>\n",
              "      <td>0.000000</td>\n",
              "      <td>1.000000</td>\n",
              "    </tr>\n",
              "    <tr>\n",
              "      <th>433</th>\n",
              "      <td>0.000000</td>\n",
              "      <td>0.000000</td>\n",
              "      <td>0.0</td>\n",
              "      <td>1.000000</td>\n",
              "      <td>1.000000</td>\n",
              "      <td>1.0</td>\n",
              "      <td>0.289175</td>\n",
              "      <td>0.11349</td>\n",
              "      <td>0.141121</td>\n",
              "      <td>0.618145</td>\n",
              "      <td>0.000000</td>\n",
              "      <td>1.000000</td>\n",
              "      <td>1.0</td>\n",
              "      <td>1.0</td>\n",
              "      <td>0.000000</td>\n",
              "      <td>1.000000</td>\n",
              "    </tr>\n",
              "    <tr>\n",
              "      <th>434</th>\n",
              "      <td>0.000000</td>\n",
              "      <td>1.000000</td>\n",
              "      <td>0.0</td>\n",
              "      <td>1.000000</td>\n",
              "      <td>1.000000</td>\n",
              "      <td>1.0</td>\n",
              "      <td>0.000000</td>\n",
              "      <td>0.00000</td>\n",
              "      <td>0.000000</td>\n",
              "      <td>1.000000</td>\n",
              "      <td>0.000000</td>\n",
              "      <td>1.000000</td>\n",
              "      <td>1.0</td>\n",
              "      <td>1.0</td>\n",
              "      <td>-0.010122</td>\n",
              "      <td>0.000000</td>\n",
              "    </tr>\n",
              "  </tbody>\n",
              "</table>\n",
              "<p>435 rows × 16 columns</p>\n",
              "</div>"
            ],
            "text/plain": [
              "      infants     water  budget  ...  crime  duty_free_exports   eaa_rsa\n",
              "0    0.000000  1.000000     0.0  ...    1.0           0.000000  1.000000\n",
              "1    0.000000  1.000000     0.0  ...    1.0           0.000000  0.550575\n",
              "2    0.478786  1.000000     1.0  ...    1.0           0.000000  0.000000\n",
              "3    0.000000  1.000000     1.0  ...    0.0           0.000000  1.000000\n",
              "4    1.000000  1.000000     1.0  ...    1.0           1.000000  1.000000\n",
              "..        ...       ...     ...  ...    ...                ...       ...\n",
              "430  0.000000  0.000000     1.0  ...    1.0           0.000000  1.000000\n",
              "431  0.000000  0.000000     1.0  ...    0.0           0.000000  1.000000\n",
              "432  0.000000  0.781552     0.0  ...    1.0           0.000000  1.000000\n",
              "433  0.000000  0.000000     0.0  ...    1.0           0.000000  1.000000\n",
              "434  0.000000  1.000000     0.0  ...    1.0          -0.010122  0.000000\n",
              "\n",
              "[435 rows x 16 columns]"
            ]
          },
          "metadata": {},
          "execution_count": 19
        }
      ]
    },
    {
      "cell_type": "code",
      "metadata": {
        "colab": {
          "base_uri": "https://localhost:8080/"
        },
        "id": "Mk1mIzl34VPY",
        "outputId": "7a2fbd04-b303-4772-9fb2-0f8f0dccee23"
      },
      "source": [
        "!pip install --upgrade scikit-learn"
      ],
      "execution_count": null,
      "outputs": [
        {
          "output_type": "stream",
          "name": "stdout",
          "text": [
            "Requirement already satisfied: scikit-learn in /usr/local/lib/python3.7/dist-packages (0.22.2.post1)\n",
            "Collecting scikit-learn\n",
            "  Downloading scikit_learn-1.0.1-cp37-cp37m-manylinux_2_12_x86_64.manylinux2010_x86_64.whl (23.2 MB)\n",
            "\u001b[K     |████████████████████████████████| 23.2 MB 1.5 MB/s \n",
            "\u001b[?25hRequirement already satisfied: joblib>=0.11 in /usr/local/lib/python3.7/dist-packages (from scikit-learn) (1.1.0)\n",
            "Requirement already satisfied: numpy>=1.14.6 in /usr/local/lib/python3.7/dist-packages (from scikit-learn) (1.19.5)\n",
            "Collecting threadpoolctl>=2.0.0\n",
            "  Downloading threadpoolctl-3.0.0-py3-none-any.whl (14 kB)\n",
            "Requirement already satisfied: scipy>=1.1.0 in /usr/local/lib/python3.7/dist-packages (from scikit-learn) (1.4.1)\n",
            "Installing collected packages: threadpoolctl, scikit-learn\n",
            "  Attempting uninstall: scikit-learn\n",
            "    Found existing installation: scikit-learn 0.22.2.post1\n",
            "    Uninstalling scikit-learn-0.22.2.post1:\n",
            "      Successfully uninstalled scikit-learn-0.22.2.post1\n",
            "Successfully installed scikit-learn-1.0.1 threadpoolctl-3.0.0\n"
          ]
        }
      ]
    },
    {
      "cell_type": "markdown",
      "metadata": {
        "id": "3Zu-HtnwlTfO"
      },
      "source": [
        "# Part 8 - Pipelines\n",
        "\n",
        "### Questions\n",
        "* How do I make my modelling process repeatable?\n",
        "\n",
        "### Objectives\n",
        "* Combine missing data imputation and hyperpameter tuning into one large pipeline.\n",
        "\n",
        "\n",
        "In the modelling process, there are many data driven \"steps\". For example, we may want to first impute missing values, then encode categorical data, then scale, before finally training a classifier.\n",
        "\n",
        "Each of these steps involves learning some kind of statistics of the data, and it's important that they are applied consistently at training time and deployment time.\n",
        "\n",
        "To aid with this, Scikit provides the concept of a Pipeline. Below is a visualization of a pipeline.\n",
        "\n",
        "\n",
        "![](https://cdn.analyticsvidhya.com/wp-content/uploads/2020/01/final_pipeline.png)\n",
        "from [Analytics Vidyah](https://www.analyticsvidhya.com/blog/2020/01/build-your-first-machine-learning-pipeline-using-scikit-learn/)\n",
        "\n",
        "\n"
      ]
    },
    {
      "cell_type": "markdown",
      "metadata": {
        "id": "DlOWa2yrpNVR"
      },
      "source": [
        "## Use `Pipeline`s to compose modelling steps.\n",
        "\n",
        "* `Pipeline` takes a list of  transformers followed by a model object.\n",
        "*  Like model obejcts, `Pipeline`s  have `.fit()` and `.predict()` methods.\n",
        "  * `.fit()` applies the `.fit_transform()` methods of the transformers, followed by the `.fit()` method of the model object.\n",
        "  * `.predict()` applies the `transform()` methods of the transformers, followed by the `.predict()` method of the model object.\n",
        "\n"
      ]
    },
    {
      "cell_type": "code",
      "metadata": {
        "colab": {
          "base_uri": "https://localhost:8080/"
        },
        "id": "ifL6pS7-pe-a",
        "outputId": "184768cd-f012-4fd6-87a7-92cf687e1c61"
      },
      "source": [
        "from sklearn.preprocessing import MinMaxScaler\n",
        "from sklearn.neighbors import KNeighborsClassifier\n",
        "import sklearn.datasets\n",
        "from sklearn.model_selection import train_test_split\n",
        "from sklearn.pipeline import Pipeline\n",
        "from sklearn.metrics import accuracy_score\n",
        "\n",
        "# Load Data\n",
        "X,y = sklearn.datasets.load_iris(return_X_y=True)\n",
        "X_train, X_test, y_train, y_test = train_test_split(X,y,test_size=0.2, random_state=5)\n",
        "\n",
        "# Define pipeline steps\n",
        "scaler = MinMaxScaler()\n",
        "classifier = KNeighborsClassifier()\n",
        "\n",
        "# use Pipeline to compose these steps.\n",
        "\n",
        "pipeline = Pipeline([(\"minmaxScaler\", scaler), (\"classifier\",classifier)])\n",
        "\n",
        "# Fit the pipeline\n",
        "pipeline.fit(X_train,y_train)\n",
        "\n",
        "# Evaluate predictions.\n",
        "\n",
        "y_pred = pipeline.predict(X_test)\n",
        "acc = accuracy_score(y_pred, y_test)\n",
        "print(f\"Accuracy of pipeline is {round(acc*100,2)}%\")\n",
        "\n"
      ],
      "execution_count": null,
      "outputs": [
        {
          "output_type": "stream",
          "name": "stdout",
          "text": [
            "Accuracy of pipeline is 90.0%\n"
          ]
        }
      ]
    },
    {
      "cell_type": "markdown",
      "metadata": {
        "id": "3RtAGEzGtRt_"
      },
      "source": [
        "## Use `set_config` to visualize pipelines.\n",
        "\n",
        "Scikit-learn recently added the feature to visualize pipelines in a diagram.\n",
        "This requires upgrading our version of scikit-learn."
      ]
    },
    {
      "cell_type": "code",
      "metadata": {
        "colab": {
          "base_uri": "https://localhost:8080/"
        },
        "id": "rHNFUrtes7Qr",
        "outputId": "4986d081-8448-453a-ef34-79aa867dd778"
      },
      "source": [
        "!pip install --upgrade scikit-learn"
      ],
      "execution_count": null,
      "outputs": [
        {
          "output_type": "stream",
          "name": "stdout",
          "text": [
            "Requirement already satisfied: scikit-learn in /usr/local/lib/python3.7/dist-packages (1.0.1)\n",
            "Requirement already satisfied: scipy>=1.1.0 in /usr/local/lib/python3.7/dist-packages (from scikit-learn) (1.4.1)\n",
            "Requirement already satisfied: threadpoolctl>=2.0.0 in /usr/local/lib/python3.7/dist-packages (from scikit-learn) (3.0.0)\n",
            "Requirement already satisfied: joblib>=0.11 in /usr/local/lib/python3.7/dist-packages (from scikit-learn) (1.0.1)\n",
            "Requirement already satisfied: numpy>=1.14.6 in /usr/local/lib/python3.7/dist-packages (from scikit-learn) (1.19.5)\n"
          ]
        }
      ]
    },
    {
      "cell_type": "code",
      "metadata": {
        "colab": {
          "base_uri": "https://localhost:8080/",
          "height": 126
        },
        "id": "k5STAiySpZPb",
        "outputId": "30409a5d-4fe1-456e-e0ba-0ec891b10724"
      },
      "source": [
        "from sklearn import set_config\n",
        "from sklearn.preprocessing import MinMaxScaler\n",
        "from sklearn.neighbors import KNeighborsClassifier\n",
        "from sklearn.pipeline import Pipeline\n",
        "\n",
        "set_config(display='diagram')\n",
        "scaler = MinMaxScaler()\n",
        "classifier = KNeighborsClassifier()\n",
        "\n",
        "# use Pipeline to compose these steps.\n",
        "\n",
        "pipeline = Pipeline([(\"minmaxScaler\", scaler), (\"classifier\",classifier)])\n",
        "pipeline"
      ],
      "execution_count": null,
      "outputs": [
        {
          "output_type": "execute_result",
          "data": {
            "text/html": [
              "<style>#sk-4bc4e69e-22fe-4f82-baed-2c4bb1b927e6 {color: black;background-color: white;}#sk-4bc4e69e-22fe-4f82-baed-2c4bb1b927e6 pre{padding: 0;}#sk-4bc4e69e-22fe-4f82-baed-2c4bb1b927e6 div.sk-toggleable {background-color: white;}#sk-4bc4e69e-22fe-4f82-baed-2c4bb1b927e6 label.sk-toggleable__label {cursor: pointer;display: block;width: 100%;margin-bottom: 0;padding: 0.3em;box-sizing: border-box;text-align: center;}#sk-4bc4e69e-22fe-4f82-baed-2c4bb1b927e6 div.sk-toggleable__content {max-height: 0;max-width: 0;overflow: hidden;text-align: left;background-color: #f0f8ff;}#sk-4bc4e69e-22fe-4f82-baed-2c4bb1b927e6 div.sk-toggleable__content pre {margin: 0.2em;color: black;border-radius: 0.25em;background-color: #f0f8ff;}#sk-4bc4e69e-22fe-4f82-baed-2c4bb1b927e6 input.sk-toggleable__control:checked~div.sk-toggleable__content {max-height: 200px;max-width: 100%;overflow: auto;}#sk-4bc4e69e-22fe-4f82-baed-2c4bb1b927e6 div.sk-estimator input.sk-toggleable__control:checked~label.sk-toggleable__label {background-color: #d4ebff;}#sk-4bc4e69e-22fe-4f82-baed-2c4bb1b927e6 div.sk-label input.sk-toggleable__control:checked~label.sk-toggleable__label {background-color: #d4ebff;}#sk-4bc4e69e-22fe-4f82-baed-2c4bb1b927e6 input.sk-hidden--visually {border: 0;clip: rect(1px 1px 1px 1px);clip: rect(1px, 1px, 1px, 1px);height: 1px;margin: -1px;overflow: hidden;padding: 0;position: absolute;width: 1px;}#sk-4bc4e69e-22fe-4f82-baed-2c4bb1b927e6 div.sk-estimator {font-family: monospace;background-color: #f0f8ff;border: 1px dotted black;border-radius: 0.25em;box-sizing: border-box;margin-bottom: 0.5em;}#sk-4bc4e69e-22fe-4f82-baed-2c4bb1b927e6 div.sk-estimator:hover {background-color: #d4ebff;}#sk-4bc4e69e-22fe-4f82-baed-2c4bb1b927e6 div.sk-parallel-item::after {content: \"\";width: 100%;border-bottom: 1px solid gray;flex-grow: 1;}#sk-4bc4e69e-22fe-4f82-baed-2c4bb1b927e6 div.sk-label:hover label.sk-toggleable__label {background-color: #d4ebff;}#sk-4bc4e69e-22fe-4f82-baed-2c4bb1b927e6 div.sk-serial::before {content: \"\";position: absolute;border-left: 1px solid gray;box-sizing: border-box;top: 2em;bottom: 0;left: 50%;}#sk-4bc4e69e-22fe-4f82-baed-2c4bb1b927e6 div.sk-serial {display: flex;flex-direction: column;align-items: center;background-color: white;padding-right: 0.2em;padding-left: 0.2em;}#sk-4bc4e69e-22fe-4f82-baed-2c4bb1b927e6 div.sk-item {z-index: 1;}#sk-4bc4e69e-22fe-4f82-baed-2c4bb1b927e6 div.sk-parallel {display: flex;align-items: stretch;justify-content: center;background-color: white;}#sk-4bc4e69e-22fe-4f82-baed-2c4bb1b927e6 div.sk-parallel::before {content: \"\";position: absolute;border-left: 1px solid gray;box-sizing: border-box;top: 2em;bottom: 0;left: 50%;}#sk-4bc4e69e-22fe-4f82-baed-2c4bb1b927e6 div.sk-parallel-item {display: flex;flex-direction: column;position: relative;background-color: white;}#sk-4bc4e69e-22fe-4f82-baed-2c4bb1b927e6 div.sk-parallel-item:first-child::after {align-self: flex-end;width: 50%;}#sk-4bc4e69e-22fe-4f82-baed-2c4bb1b927e6 div.sk-parallel-item:last-child::after {align-self: flex-start;width: 50%;}#sk-4bc4e69e-22fe-4f82-baed-2c4bb1b927e6 div.sk-parallel-item:only-child::after {width: 0;}#sk-4bc4e69e-22fe-4f82-baed-2c4bb1b927e6 div.sk-dashed-wrapped {border: 1px dashed gray;margin: 0 0.4em 0.5em 0.4em;box-sizing: border-box;padding-bottom: 0.4em;background-color: white;position: relative;}#sk-4bc4e69e-22fe-4f82-baed-2c4bb1b927e6 div.sk-label label {font-family: monospace;font-weight: bold;background-color: white;display: inline-block;line-height: 1.2em;}#sk-4bc4e69e-22fe-4f82-baed-2c4bb1b927e6 div.sk-label-container {position: relative;z-index: 2;text-align: center;}#sk-4bc4e69e-22fe-4f82-baed-2c4bb1b927e6 div.sk-container {display: inline-block;position: relative;}</style><div id=\"sk-4bc4e69e-22fe-4f82-baed-2c4bb1b927e6\" class\"sk-top-container\"><div class=\"sk-container\"><div class=\"sk-item sk-dashed-wrapped\"><div class=\"sk-label-container\"><div class=\"sk-label sk-toggleable\"><input class=\"sk-toggleable__control sk-hidden--visually\" id=\"5a147fd1-8896-49aa-abe2-ba725710e588\" type=\"checkbox\" ><label class=\"sk-toggleable__label\" for=\"5a147fd1-8896-49aa-abe2-ba725710e588\">Pipeline</label><div class=\"sk-toggleable__content\"><pre>Pipeline(steps=[('minmaxScaler', MinMaxScaler()),\n",
              "                ('classifier', KNeighborsClassifier())])</pre></div></div></div><div class=\"sk-serial\"><div class=\"sk-item\"><div class=\"sk-estimator sk-toggleable\"><input class=\"sk-toggleable__control sk-hidden--visually\" id=\"d92b5035-1d9e-4c13-8527-d62097c4ee2e\" type=\"checkbox\" ><label class=\"sk-toggleable__label\" for=\"d92b5035-1d9e-4c13-8527-d62097c4ee2e\">MinMaxScaler</label><div class=\"sk-toggleable__content\"><pre>MinMaxScaler()</pre></div></div></div><div class=\"sk-item\"><div class=\"sk-estimator sk-toggleable\"><input class=\"sk-toggleable__control sk-hidden--visually\" id=\"cb14695b-689d-45fe-80ba-db1b93e6f9f9\" type=\"checkbox\" ><label class=\"sk-toggleable__label\" for=\"cb14695b-689d-45fe-80ba-db1b93e6f9f9\">KNeighborsClassifier</label><div class=\"sk-toggleable__content\"><pre>KNeighborsClassifier()</pre></div></div></div></div></div></div></div>"
            ],
            "text/plain": [
              "Pipeline(steps=[('minmaxScaler', MinMaxScaler()),\n",
              "                ('classifier', KNeighborsClassifier())])"
            ]
          },
          "metadata": {},
          "execution_count": 21
        }
      ]
    },
    {
      "cell_type": "markdown",
      "metadata": {
        "id": "HCaVgsY3sHIQ"
      },
      "source": [
        "## Use `ColumnTransformer` to selectively preprocess columns.\n",
        "\n",
        "When we're working with data frames, `ColumnTransformer` will select only certain columns of the data frame and apply transformers selectively.\n",
        "\n",
        "This is an example of `ColumnTransformer` being used on the titanic dataset, which has both numeric and categorical features."
      ]
    },
    {
      "cell_type": "code",
      "metadata": {
        "colab": {
          "base_uri": "https://localhost:8080/",
          "height": 268
        },
        "id": "5kJQoZxLthOv",
        "outputId": "045a675d-9f02-4065-ac2f-64d2fabe0cbf"
      },
      "source": [
        "import numpy as np\n",
        "\n",
        "from sklearn.compose import ColumnTransformer\n",
        "from sklearn.datasets import fetch_openml\n",
        "from sklearn.pipeline import Pipeline\n",
        "from sklearn.impute import SimpleImputer\n",
        "from sklearn.preprocessing import StandardScaler, OneHotEncoder\n",
        "from sklearn.linear_model import LogisticRegression\n",
        "from sklearn.metrics import accuracy_score\n",
        "from sklearn.model_selection import train_test_split\n",
        "\n",
        "np.random.seed(0)\n",
        "\n",
        "# Load data from https://www.openml.org/d/40945\n",
        "X, y = fetch_openml(\"titanic\", version=1, as_frame=True, return_X_y=True)\n",
        "X_train, X_test, y_train, y_test = train_test_split(X, y, test_size=0.2, random_state=5)\n",
        "\n",
        "numeric_features = [\"age\", \"fare\"]\n",
        "numeric_transformer = Pipeline(\n",
        "    steps=[(\"imputer\", SimpleImputer(strategy=\"median\")), (\"scaler\", StandardScaler())]\n",
        ")\n",
        "\n",
        "categorical_features = [\"embarked\", \"sex\", \"pclass\"]\n",
        "categorical_transformer = OneHotEncoder(handle_unknown=\"ignore\")\n",
        "\n",
        "preprocessor = ColumnTransformer(\n",
        "    transformers=[\n",
        "        (\"num\", numeric_transformer, numeric_features),\n",
        "        (\"cat\", categorical_transformer, categorical_features),\n",
        "    ]\n",
        ")\n",
        "# Append classifier to preprocessing pipeline.\n",
        "# Now we have a full prediction pipeline.\n",
        "clf = Pipeline(\n",
        "    steps=[(\"preprocessor\", preprocessor), (\"classifier\", LogisticRegression())]\n",
        ")\n",
        "\n",
        "clf.fit(X_train,y_train)\n",
        "\n",
        "y_pred = clf.predict(X_test)\n",
        "acc = accuracy_score(y_pred, y_test)\n",
        "print(f\"Accuracy: {round(acc*100,2)}%\")\n",
        "clf"
      ],
      "execution_count": null,
      "outputs": [
        {
          "output_type": "stream",
          "name": "stdout",
          "text": [
            "Accuracy: 72.9%\n"
          ]
        },
        {
          "output_type": "execute_result",
          "data": {
            "text/html": [
              "<style>#sk-fcdc95c5-4e40-435e-99f8-f3e323d6307b {color: black;background-color: white;}#sk-fcdc95c5-4e40-435e-99f8-f3e323d6307b pre{padding: 0;}#sk-fcdc95c5-4e40-435e-99f8-f3e323d6307b div.sk-toggleable {background-color: white;}#sk-fcdc95c5-4e40-435e-99f8-f3e323d6307b label.sk-toggleable__label {cursor: pointer;display: block;width: 100%;margin-bottom: 0;padding: 0.3em;box-sizing: border-box;text-align: center;}#sk-fcdc95c5-4e40-435e-99f8-f3e323d6307b div.sk-toggleable__content {max-height: 0;max-width: 0;overflow: hidden;text-align: left;background-color: #f0f8ff;}#sk-fcdc95c5-4e40-435e-99f8-f3e323d6307b div.sk-toggleable__content pre {margin: 0.2em;color: black;border-radius: 0.25em;background-color: #f0f8ff;}#sk-fcdc95c5-4e40-435e-99f8-f3e323d6307b input.sk-toggleable__control:checked~div.sk-toggleable__content {max-height: 200px;max-width: 100%;overflow: auto;}#sk-fcdc95c5-4e40-435e-99f8-f3e323d6307b div.sk-estimator input.sk-toggleable__control:checked~label.sk-toggleable__label {background-color: #d4ebff;}#sk-fcdc95c5-4e40-435e-99f8-f3e323d6307b div.sk-label input.sk-toggleable__control:checked~label.sk-toggleable__label {background-color: #d4ebff;}#sk-fcdc95c5-4e40-435e-99f8-f3e323d6307b input.sk-hidden--visually {border: 0;clip: rect(1px 1px 1px 1px);clip: rect(1px, 1px, 1px, 1px);height: 1px;margin: -1px;overflow: hidden;padding: 0;position: absolute;width: 1px;}#sk-fcdc95c5-4e40-435e-99f8-f3e323d6307b div.sk-estimator {font-family: monospace;background-color: #f0f8ff;border: 1px dotted black;border-radius: 0.25em;box-sizing: border-box;margin-bottom: 0.5em;}#sk-fcdc95c5-4e40-435e-99f8-f3e323d6307b div.sk-estimator:hover {background-color: #d4ebff;}#sk-fcdc95c5-4e40-435e-99f8-f3e323d6307b div.sk-parallel-item::after {content: \"\";width: 100%;border-bottom: 1px solid gray;flex-grow: 1;}#sk-fcdc95c5-4e40-435e-99f8-f3e323d6307b div.sk-label:hover label.sk-toggleable__label {background-color: #d4ebff;}#sk-fcdc95c5-4e40-435e-99f8-f3e323d6307b div.sk-serial::before {content: \"\";position: absolute;border-left: 1px solid gray;box-sizing: border-box;top: 2em;bottom: 0;left: 50%;}#sk-fcdc95c5-4e40-435e-99f8-f3e323d6307b div.sk-serial {display: flex;flex-direction: column;align-items: center;background-color: white;padding-right: 0.2em;padding-left: 0.2em;}#sk-fcdc95c5-4e40-435e-99f8-f3e323d6307b div.sk-item {z-index: 1;}#sk-fcdc95c5-4e40-435e-99f8-f3e323d6307b div.sk-parallel {display: flex;align-items: stretch;justify-content: center;background-color: white;}#sk-fcdc95c5-4e40-435e-99f8-f3e323d6307b div.sk-parallel::before {content: \"\";position: absolute;border-left: 1px solid gray;box-sizing: border-box;top: 2em;bottom: 0;left: 50%;}#sk-fcdc95c5-4e40-435e-99f8-f3e323d6307b div.sk-parallel-item {display: flex;flex-direction: column;position: relative;background-color: white;}#sk-fcdc95c5-4e40-435e-99f8-f3e323d6307b div.sk-parallel-item:first-child::after {align-self: flex-end;width: 50%;}#sk-fcdc95c5-4e40-435e-99f8-f3e323d6307b div.sk-parallel-item:last-child::after {align-self: flex-start;width: 50%;}#sk-fcdc95c5-4e40-435e-99f8-f3e323d6307b div.sk-parallel-item:only-child::after {width: 0;}#sk-fcdc95c5-4e40-435e-99f8-f3e323d6307b div.sk-dashed-wrapped {border: 1px dashed gray;margin: 0 0.4em 0.5em 0.4em;box-sizing: border-box;padding-bottom: 0.4em;background-color: white;position: relative;}#sk-fcdc95c5-4e40-435e-99f8-f3e323d6307b div.sk-label label {font-family: monospace;font-weight: bold;background-color: white;display: inline-block;line-height: 1.2em;}#sk-fcdc95c5-4e40-435e-99f8-f3e323d6307b div.sk-label-container {position: relative;z-index: 2;text-align: center;}#sk-fcdc95c5-4e40-435e-99f8-f3e323d6307b div.sk-container {display: inline-block;position: relative;}</style><div id=\"sk-fcdc95c5-4e40-435e-99f8-f3e323d6307b\" class\"sk-top-container\"><div class=\"sk-container\"><div class=\"sk-item sk-dashed-wrapped\"><div class=\"sk-label-container\"><div class=\"sk-label sk-toggleable\"><input class=\"sk-toggleable__control sk-hidden--visually\" id=\"7bbb8c89-bb9b-46e1-9d52-00393a5b70f5\" type=\"checkbox\" ><label class=\"sk-toggleable__label\" for=\"7bbb8c89-bb9b-46e1-9d52-00393a5b70f5\">Pipeline</label><div class=\"sk-toggleable__content\"><pre>Pipeline(steps=[('preprocessor',\n",
              "                 ColumnTransformer(transformers=[('num',\n",
              "                                                  Pipeline(steps=[('imputer',\n",
              "                                                                   SimpleImputer(strategy='median')),\n",
              "                                                                  ('scaler',\n",
              "                                                                   StandardScaler())]),\n",
              "                                                  ['age', 'fare']),\n",
              "                                                 ('cat',\n",
              "                                                  OneHotEncoder(handle_unknown='ignore'),\n",
              "                                                  ['embarked', 'sex',\n",
              "                                                   'pclass'])])),\n",
              "                ('classifier', LogisticRegression())])</pre></div></div></div><div class=\"sk-serial\"><div class=\"sk-item sk-dashed-wrapped\"><div class=\"sk-label-container\"><div class=\"sk-label sk-toggleable\"><input class=\"sk-toggleable__control sk-hidden--visually\" id=\"cb6bacdd-e9b1-46c8-81d2-7f7639b5a3c7\" type=\"checkbox\" ><label class=\"sk-toggleable__label\" for=\"cb6bacdd-e9b1-46c8-81d2-7f7639b5a3c7\">preprocessor: ColumnTransformer</label><div class=\"sk-toggleable__content\"><pre>ColumnTransformer(transformers=[('num',\n",
              "                                 Pipeline(steps=[('imputer',\n",
              "                                                  SimpleImputer(strategy='median')),\n",
              "                                                 ('scaler', StandardScaler())]),\n",
              "                                 ['age', 'fare']),\n",
              "                                ('cat', OneHotEncoder(handle_unknown='ignore'),\n",
              "                                 ['embarked', 'sex', 'pclass'])])</pre></div></div></div><div class=\"sk-parallel\"><div class=\"sk-parallel-item\"><div class=\"sk-item\"><div class=\"sk-label-container\"><div class=\"sk-label sk-toggleable\"><input class=\"sk-toggleable__control sk-hidden--visually\" id=\"9bf5e2ac-10f6-4273-9128-92ec46145559\" type=\"checkbox\" ><label class=\"sk-toggleable__label\" for=\"9bf5e2ac-10f6-4273-9128-92ec46145559\">num</label><div class=\"sk-toggleable__content\"><pre>['age', 'fare']</pre></div></div></div><div class=\"sk-serial\"><div class=\"sk-item\"><div class=\"sk-serial\"><div class=\"sk-item\"><div class=\"sk-estimator sk-toggleable\"><input class=\"sk-toggleable__control sk-hidden--visually\" id=\"75d98b33-f2ae-4ea8-afb9-be88914f55a2\" type=\"checkbox\" ><label class=\"sk-toggleable__label\" for=\"75d98b33-f2ae-4ea8-afb9-be88914f55a2\">SimpleImputer</label><div class=\"sk-toggleable__content\"><pre>SimpleImputer(strategy='median')</pre></div></div></div><div class=\"sk-item\"><div class=\"sk-estimator sk-toggleable\"><input class=\"sk-toggleable__control sk-hidden--visually\" id=\"0f50f5f8-f2ab-4fa1-adea-468aba7e7ab2\" type=\"checkbox\" ><label class=\"sk-toggleable__label\" for=\"0f50f5f8-f2ab-4fa1-adea-468aba7e7ab2\">StandardScaler</label><div class=\"sk-toggleable__content\"><pre>StandardScaler()</pre></div></div></div></div></div></div></div></div><div class=\"sk-parallel-item\"><div class=\"sk-item\"><div class=\"sk-label-container\"><div class=\"sk-label sk-toggleable\"><input class=\"sk-toggleable__control sk-hidden--visually\" id=\"b066c64a-0e2f-493a-96bd-a9d30b26cb68\" type=\"checkbox\" ><label class=\"sk-toggleable__label\" for=\"b066c64a-0e2f-493a-96bd-a9d30b26cb68\">cat</label><div class=\"sk-toggleable__content\"><pre>['embarked', 'sex', 'pclass']</pre></div></div></div><div class=\"sk-serial\"><div class=\"sk-item\"><div class=\"sk-estimator sk-toggleable\"><input class=\"sk-toggleable__control sk-hidden--visually\" id=\"d7c428d6-1702-4d03-8c9c-8dc1eb97a451\" type=\"checkbox\" ><label class=\"sk-toggleable__label\" for=\"d7c428d6-1702-4d03-8c9c-8dc1eb97a451\">OneHotEncoder</label><div class=\"sk-toggleable__content\"><pre>OneHotEncoder(handle_unknown='ignore')</pre></div></div></div></div></div></div></div></div><div class=\"sk-item\"><div class=\"sk-estimator sk-toggleable\"><input class=\"sk-toggleable__control sk-hidden--visually\" id=\"0b52cdc8-a032-441a-8afd-0553b0bd5675\" type=\"checkbox\" ><label class=\"sk-toggleable__label\" for=\"0b52cdc8-a032-441a-8afd-0553b0bd5675\">LogisticRegression</label><div class=\"sk-toggleable__content\"><pre>LogisticRegression()</pre></div></div></div></div></div></div></div>"
            ],
            "text/plain": [
              "Pipeline(steps=[('preprocessor',\n",
              "                 ColumnTransformer(transformers=[('num',\n",
              "                                                  Pipeline(steps=[('imputer',\n",
              "                                                                   SimpleImputer(strategy='median')),\n",
              "                                                                  ('scaler',\n",
              "                                                                   StandardScaler())]),\n",
              "                                                  ['age', 'fare']),\n",
              "                                                 ('cat',\n",
              "                                                  OneHotEncoder(handle_unknown='ignore'),\n",
              "                                                  ['embarked', 'sex',\n",
              "                                                   'pclass'])])),\n",
              "                ('classifier', LogisticRegression())])"
            ]
          },
          "metadata": {},
          "execution_count": 22
        }
      ]
    },
    {
      "cell_type": "markdown",
      "metadata": {
        "id": "qmU_JkpevdI2"
      },
      "source": [
        "## Use `RandomSearchCV` to apply hyperparameter tuning to all steps in a pipeline.\n",
        "\n",
        "An advantage of using pipelines is that techniques such a hyperparameter tuning now apply to _all_ modelling choices (for example, our imputation strategy) and not just the model object.\n",
        "\n",
        "To specify hyperparameters, use double underscores `__` to navigate the hierarchy.\n"
      ]
    },
    {
      "cell_type": "code",
      "metadata": {
        "colab": {
          "base_uri": "https://localhost:8080/"
        },
        "id": "ppZhHPC2wMfc",
        "outputId": "b85d681f-bf1f-4d81-c251-2b34a560e929"
      },
      "source": [
        "from sklearn.model_selection import RandomizedSearchCV\n",
        "\n",
        "param_grid = {\n",
        "    \"preprocessor__num__imputer__strategy\": [\"mean\", \"median\"],\n",
        "    \"classifier__C\": [0.1, 1.0, 10, 100],\n",
        "}\n",
        "\n",
        "\n",
        "random_search = RandomizedSearchCV(clf, param_grid)\n",
        "random_search.fit(X_train,y_train)\n",
        "\n",
        "acc = accuracy_score(random_search.predict(X_test),y_test)\n",
        "print(f\"Accuracy: {round(acc*100,2)}%\") "
      ],
      "execution_count": null,
      "outputs": [
        {
          "output_type": "stream",
          "name": "stderr",
          "text": [
            "/usr/local/lib/python3.7/dist-packages/sklearn/model_selection/_search.py:296: UserWarning: The total space of parameters 8 is smaller than n_iter=10. Running 8 iterations. For exhaustive searches, use GridSearchCV.\n",
            "  UserWarning,\n"
          ]
        },
        {
          "output_type": "stream",
          "name": "stdout",
          "text": [
            "Accuracy: 72.9%\n"
          ]
        }
      ]
    },
    {
      "cell_type": "markdown",
      "metadata": {
        "id": "Lj18r8WJv3o8"
      },
      "source": [
        "# Review\n",
        "\n",
        "## Machine Learning\n",
        "\n",
        "* Machine learning gives computers the ability from data, and make decisions without being explicitly programmed.\n",
        "\n",
        "## EDA\n",
        "* Pandas is a library that loads data for machine learning.\n",
        "* Scatter plots show relationships between variables.\n",
        "* Histograms show distributions of variables.\n",
        "\n",
        "## Classification\n",
        "* Classification elarns how to assign data into categories.\n",
        "* Logistic Regression, K Nearest Neighbors, and GradientBoostedClassifiers are examples of classification models.\n",
        "* Use class maps to map between numbers and human readable labels.\n",
        "\n",
        "## Evaluation\n",
        "* Split your data into training, dev, and test sets.\n",
        "* Don't always use accuracy, especially if there's class imbalance.\n",
        "* Recall measures the coverage of your classifier.\n",
        "\n",
        "## Regression\n",
        "* Regression predicts continuous quantities\n",
        "* Linear regression, and Gradient Boosted Regressors are examples of regression models.\n",
        "* Mean absolute error is an easy to interpret regression metric.\n",
        "\n",
        "## Hyperparameter tuning\n",
        "* Hyperparameters are any parameters for a model that are not automatically learned from data.\n",
        "* We can find good hyperparameter values by finding which parameters give the best values on our dev set.\n",
        "* Random Search can be used to find good hyperparameter values\n",
        "\n",
        "## Preprocessing\n",
        "* Use one hot encoding to encode categorical data\n",
        "* Be aware of missing values, can either drop or impute.\n",
        "* Consider scaling numeric data.\n",
        "\n",
        "## Pipelines\n",
        "* Combine modelling steps using pipelines\n",
        "* Use ColumnTransformers to selectively process columns.\n",
        "* Hyperparameter tuning applies to pipelines.\n"
      ]
    },
    {
      "cell_type": "markdown",
      "metadata": {
        "id": "aq-cA9fi6a5G"
      },
      "source": [
        "# Appendix -  Use nested search to select base estimators.\n",
        "\n",
        "\n",
        "\n",
        "A `base estimator` is a scikit learn that constructs a family of models.\n",
        "\n",
        "```python\n",
        "from sklearn.models import BaseEstimator\n",
        "\n",
        "model_object = BaseEstimator(hyperparameters)\n",
        "```\n",
        "\n",
        "We can apply the concept of making modelling choices through data by systematically applying hyperparameter tuning to each candidate base estimator. \n"
      ]
    },
    {
      "cell_type": "code",
      "metadata": {
        "colab": {
          "base_uri": "https://localhost:8080/"
        },
        "id": "E5QdMmSj7601",
        "outputId": "2d7d412f-92dd-48a2-adad-35a913c6b3bc"
      },
      "source": [
        "from sklearn.neighbors import KNeighborsClassifier\n",
        "from sklearn.linear_model import LogisticRegression\n",
        "from sklearn.ensemble import GradientBoostingClassifier\n",
        "from sklearn.metrics import accuracy_score\n",
        "# Load data and divide into train, dev and test sets.\n",
        "X,y = load_wine(return_X_y=True)\n",
        "X_train, X_test, y_train, y_test = train_test_split(X,y,test_size=0.2,random_state=5)\n",
        "X_train, X_dev, y_train, y_dev = train_test_split(X_train, y_train, test_size=0.2, random_state=5)\n",
        "\n",
        "\n",
        "base_estimators = [KNeighborsClassifier(), LogisticRegression(), GradientBoostingClassifier()]\n",
        "\n",
        "# ====== DEFINE PARAMETER GRIDS =============================\n",
        "k_neighbors_params = {\n",
        "          \"n_neighbors\": range(1,30),\n",
        "          \"weights\": [\"uniform\",\"distance\"],\n",
        "          \"p\": range(1,5),\n",
        "}\n",
        "\n",
        "logistic_regression_params = {\n",
        "    \"penalty\": [\"l2\",\"l1\"],\n",
        "    \"C\": [0,0.01, 0.1, 0.5, 1, 2, 5, 10],\n",
        "    \"solver\": [\"saga\"]\n",
        "}\n",
        "\n",
        "gradient_boosting_params = {\n",
        "    \"learning_rate\": [0.0001, 0.001, 0.01, 0.02, 0.05, 0.1],\n",
        "    \"n_estimators\": [50, 100, 200, 500],\n",
        "    \"max_depth\": [1,2,3,5,7,10],\n",
        "}\n",
        "\n",
        "# ============================ Search through each model ======================\n",
        "param_grids = [k_neighbors_params, logistic_regression_params, gradient_boosting_params]\n",
        "model_names = [\"KNeighbors\",\"LogisticRegression\",\"GradientBoostingClassifier\"]\n",
        "best_model = {}\n",
        "scores = {}\n",
        "\n",
        "import warnings\n",
        "warnings.filterwarnings(\"ignore\")\n",
        "for i, model in enumerate(base_estimators):\n",
        "\n",
        "  print(f\"fitting {model_names[i]}\")\n",
        "  models = RandomizedSearchCV(model, param_grids[i], n_iter=10, cv = 3, verbose=1)\n",
        "  models.fit(X_train,y_train)\n",
        "  model = models.best_estimator_\n",
        "  accuracy = accuracy_score(model.predict(X_dev),y_dev)\n",
        "  scores[model_names[i]] = accuracy\n",
        "  best_model[model_names[i]] = model\n"
      ],
      "execution_count": null,
      "outputs": [
        {
          "output_type": "stream",
          "name": "stdout",
          "text": [
            "fitting KNeighbors\n",
            "Fitting 3 folds for each of 10 candidates, totalling 30 fits\n",
            "fitting LogisticRegression\n",
            "Fitting 3 folds for each of 10 candidates, totalling 30 fits\n"
          ]
        },
        {
          "output_type": "stream",
          "name": "stderr",
          "text": [
            "[Parallel(n_jobs=1)]: Using backend SequentialBackend with 1 concurrent workers.\n",
            "[Parallel(n_jobs=1)]: Done  30 out of  30 | elapsed:    0.1s finished\n",
            "[Parallel(n_jobs=1)]: Using backend SequentialBackend with 1 concurrent workers.\n",
            "[Parallel(n_jobs=1)]: Done  30 out of  30 | elapsed:    0.2s finished\n",
            "[Parallel(n_jobs=1)]: Using backend SequentialBackend with 1 concurrent workers.\n"
          ]
        },
        {
          "output_type": "stream",
          "name": "stdout",
          "text": [
            "fitting GradientBoostingClassifier\n",
            "Fitting 3 folds for each of 10 candidates, totalling 30 fits\n"
          ]
        },
        {
          "output_type": "stream",
          "name": "stderr",
          "text": [
            "[Parallel(n_jobs=1)]: Done  30 out of  30 | elapsed:    8.0s finished\n"
          ]
        }
      ]
    },
    {
      "cell_type": "code",
      "metadata": {
        "colab": {
          "base_uri": "https://localhost:8080/"
        },
        "id": "Hhp1hEtmAjjm",
        "outputId": "7a5e795a-55db-495d-d6d9-44ee8d58e238"
      },
      "source": [
        "print(scores)"
      ],
      "execution_count": null,
      "outputs": [
        {
          "output_type": "stream",
          "name": "stdout",
          "text": [
            "{'KNeighbors': 0.6896551724137931, 'LogisticRegression': 0.6896551724137931, 'GradientBoostingClassifier': 0.9310344827586207}\n"
          ]
        }
      ]
    },
    {
      "cell_type": "code",
      "metadata": {
        "colab": {
          "base_uri": "https://localhost:8080/",
          "height": 36
        },
        "id": "GSLCsYnYEjJf",
        "outputId": "df46d388-0cd6-4163-8c9a-5cd7e0c94a41"
      },
      "source": [
        "max(scores, key = scores.get)"
      ],
      "execution_count": null,
      "outputs": [
        {
          "output_type": "execute_result",
          "data": {
            "application/vnd.google.colaboratory.intrinsic+json": {
              "type": "string"
            },
            "text/plain": [
              "'GradientBoostingClassifier'"
            ]
          },
          "metadata": {},
          "execution_count": 59
        }
      ]
    },
    {
      "cell_type": "markdown",
      "metadata": {
        "id": "dWjjZJBFj0X5"
      },
      "source": [
        "## Aside: Open ML pipeline\n",
        "\n",
        "Visit https://www.openml.org/t/2295 and look at the pipelines being used."
      ]
    },
    {
      "cell_type": "code",
      "metadata": {
        "id": "NgnIhU2wii1F",
        "colab": {
          "base_uri": "https://localhost:8080/"
        },
        "outputId": "0d01fc55-efb5-4043-c21f-374e9766fb2e"
      },
      "source": [
        "pipeline.steps"
      ],
      "execution_count": null,
      "outputs": [
        {
          "output_type": "execute_result",
          "data": {
            "text/plain": [
              "[('minmaxScaler', MinMaxScaler()), ('classifier', KNeighborsClassifier())]"
            ]
          },
          "metadata": {},
          "execution_count": 28
        }
      ]
    },
    {
      "cell_type": "code",
      "metadata": {
        "colab": {
          "base_uri": "https://localhost:8080/",
          "height": 75
        },
        "id": "tRIOBvET_ovF",
        "outputId": "d57173c8-3a24-4842-add3-08c0248e6380"
      },
      "source": [
        "classifier\n"
      ],
      "execution_count": null,
      "outputs": [
        {
          "output_type": "execute_result",
          "data": {
            "text/html": [
              "<style>#sk-fd5c68df-abed-4c54-b788-4a438a44414f {color: black;background-color: white;}#sk-fd5c68df-abed-4c54-b788-4a438a44414f pre{padding: 0;}#sk-fd5c68df-abed-4c54-b788-4a438a44414f div.sk-toggleable {background-color: white;}#sk-fd5c68df-abed-4c54-b788-4a438a44414f label.sk-toggleable__label {cursor: pointer;display: block;width: 100%;margin-bottom: 0;padding: 0.3em;box-sizing: border-box;text-align: center;}#sk-fd5c68df-abed-4c54-b788-4a438a44414f div.sk-toggleable__content {max-height: 0;max-width: 0;overflow: hidden;text-align: left;background-color: #f0f8ff;}#sk-fd5c68df-abed-4c54-b788-4a438a44414f div.sk-toggleable__content pre {margin: 0.2em;color: black;border-radius: 0.25em;background-color: #f0f8ff;}#sk-fd5c68df-abed-4c54-b788-4a438a44414f input.sk-toggleable__control:checked~div.sk-toggleable__content {max-height: 200px;max-width: 100%;overflow: auto;}#sk-fd5c68df-abed-4c54-b788-4a438a44414f div.sk-estimator input.sk-toggleable__control:checked~label.sk-toggleable__label {background-color: #d4ebff;}#sk-fd5c68df-abed-4c54-b788-4a438a44414f div.sk-label input.sk-toggleable__control:checked~label.sk-toggleable__label {background-color: #d4ebff;}#sk-fd5c68df-abed-4c54-b788-4a438a44414f input.sk-hidden--visually {border: 0;clip: rect(1px 1px 1px 1px);clip: rect(1px, 1px, 1px, 1px);height: 1px;margin: -1px;overflow: hidden;padding: 0;position: absolute;width: 1px;}#sk-fd5c68df-abed-4c54-b788-4a438a44414f div.sk-estimator {font-family: monospace;background-color: #f0f8ff;border: 1px dotted black;border-radius: 0.25em;box-sizing: border-box;margin-bottom: 0.5em;}#sk-fd5c68df-abed-4c54-b788-4a438a44414f div.sk-estimator:hover {background-color: #d4ebff;}#sk-fd5c68df-abed-4c54-b788-4a438a44414f div.sk-parallel-item::after {content: \"\";width: 100%;border-bottom: 1px solid gray;flex-grow: 1;}#sk-fd5c68df-abed-4c54-b788-4a438a44414f div.sk-label:hover label.sk-toggleable__label {background-color: #d4ebff;}#sk-fd5c68df-abed-4c54-b788-4a438a44414f div.sk-serial::before {content: \"\";position: absolute;border-left: 1px solid gray;box-sizing: border-box;top: 2em;bottom: 0;left: 50%;}#sk-fd5c68df-abed-4c54-b788-4a438a44414f div.sk-serial {display: flex;flex-direction: column;align-items: center;background-color: white;padding-right: 0.2em;padding-left: 0.2em;}#sk-fd5c68df-abed-4c54-b788-4a438a44414f div.sk-item {z-index: 1;}#sk-fd5c68df-abed-4c54-b788-4a438a44414f div.sk-parallel {display: flex;align-items: stretch;justify-content: center;background-color: white;}#sk-fd5c68df-abed-4c54-b788-4a438a44414f div.sk-parallel::before {content: \"\";position: absolute;border-left: 1px solid gray;box-sizing: border-box;top: 2em;bottom: 0;left: 50%;}#sk-fd5c68df-abed-4c54-b788-4a438a44414f div.sk-parallel-item {display: flex;flex-direction: column;position: relative;background-color: white;}#sk-fd5c68df-abed-4c54-b788-4a438a44414f div.sk-parallel-item:first-child::after {align-self: flex-end;width: 50%;}#sk-fd5c68df-abed-4c54-b788-4a438a44414f div.sk-parallel-item:last-child::after {align-self: flex-start;width: 50%;}#sk-fd5c68df-abed-4c54-b788-4a438a44414f div.sk-parallel-item:only-child::after {width: 0;}#sk-fd5c68df-abed-4c54-b788-4a438a44414f div.sk-dashed-wrapped {border: 1px dashed gray;margin: 0 0.4em 0.5em 0.4em;box-sizing: border-box;padding-bottom: 0.4em;background-color: white;position: relative;}#sk-fd5c68df-abed-4c54-b788-4a438a44414f div.sk-label label {font-family: monospace;font-weight: bold;background-color: white;display: inline-block;line-height: 1.2em;}#sk-fd5c68df-abed-4c54-b788-4a438a44414f div.sk-label-container {position: relative;z-index: 2;text-align: center;}#sk-fd5c68df-abed-4c54-b788-4a438a44414f div.sk-container {display: inline-block;position: relative;}</style><div id=\"sk-fd5c68df-abed-4c54-b788-4a438a44414f\" class\"sk-top-container\"><div class=\"sk-container\"><div class=\"sk-item\"><div class=\"sk-estimator sk-toggleable\"><input class=\"sk-toggleable__control sk-hidden--visually\" id=\"dd109523-5b0c-4c03-879b-f3190cebeb6c\" type=\"checkbox\" checked><label class=\"sk-toggleable__label\" for=\"dd109523-5b0c-4c03-879b-f3190cebeb6c\">KNeighborsClassifier</label><div class=\"sk-toggleable__content\"><pre>KNeighborsClassifier()</pre></div></div></div></div></div>"
            ],
            "text/plain": [
              "KNeighborsClassifier()"
            ]
          },
          "metadata": {},
          "execution_count": 29
        }
      ]
    },
    {
      "cell_type": "code",
      "metadata": {
        "id": "ifXag9aR_tz8"
      },
      "source": [
        "classifier.predict_proba?"
      ],
      "execution_count": null,
      "outputs": []
    },
    {
      "cell_type": "code",
      "metadata": {
        "id": "oWtK4z3IBXuu"
      },
      "source": [
        ""
      ],
      "execution_count": null,
      "outputs": []
    }
  ]
}