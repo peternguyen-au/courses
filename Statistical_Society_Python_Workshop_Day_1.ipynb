{
  "nbformat": 4,
  "nbformat_minor": 0,
  "metadata": {
    "colab": {
      "name": "Statistical Society - Python Workshop - Day 1",
      "provenance": [],
      "collapsed_sections": [
        "W8vCSKkA9f_v",
        "h9WzWKTh9ndw",
        "AGGVZ4wV9w2i",
        "9f-B7KuH_5cq",
        "e_liADIO9VHU",
        "an3PwigWFalc",
        "Zb_kUeLDFlpA",
        "hf2RzZ4jFqd4",
        "pu0IS9_RGuum",
        "a6YVDTYZH9le",
        "0zlJOK-UIH-r",
        "EcNMoj7nITu7",
        "7_jip487TAaR",
        "z7jDlc1YI0qc",
        "kFYUzgGoJlXG",
        "zFq0fNXrJ_r0",
        "rhsUj6q5KvUz",
        "6EVHMStTK-ZD",
        "lPoTZbvbtnBJ",
        "-lh1g7F6t-TE",
        "Z55UwCMHuKuX",
        "LMM9-pL0ufsH",
        "jSQCZ0vLui4V",
        "sOQKQukju4jU",
        "M3BJPkFKvCjs",
        "RJXup3F8vVx-",
        "7fNloTP0vgv8",
        "Zn02aDnYvqQY",
        "u3CSSXEOv5wM",
        "8eMZ3SEGv8v3",
        "V_0bgzH3wJJx",
        "8HhAkaQbwcDw",
        "ugp7tWx5xP9c",
        "G4azyxng-1e4",
        "NDVHgtiO_CZl",
        "GeYQ_G7G_Lzl",
        "LwJsReai_UgB",
        "v98XtjcS_eTT",
        "npw25MAH_ocK",
        "FuDGvwFt_zc7",
        "h9E3Li1eAaSP",
        "NtVKcmbCAaNY",
        "CXkwDyJMAenI",
        "Cx7gY-RRAibS",
        "qal5GO7wAmKO",
        "SV6SClWXAzYN",
        "wlOBLAjJBDgU",
        "LNaNLnl6BGa_",
        "JdI9FRBHBnyI",
        "-4jkyhKYUIKg",
        "lUoPfFONUXJa",
        "zqRI55RwUerd",
        "xN1RP_9aU3LP",
        "F8Q8Q5hFVCpy",
        "yQsAbzUqVKl8",
        "IPwewLTPVZNE",
        "FOBTu7zkVmCX",
        "eUhr8_WVVqpY",
        "k2-zE-p4Wc_9",
        "R3sXoM7dW_IX",
        "qITLOKuNXWSD",
        "Ixym6CtYXm4L",
        "cI7egrPuXrjy",
        "olR25j9LYR5C",
        "4pYM0I3VYT79",
        "lJWhVvnYYefJ",
        "E2odERE_YjJD",
        "b61cNqfGY04T",
        "EU66lMfZK9wA",
        "kRtGJ0oLLBRZ",
        "_LmzxgudLZQI",
        "a8Fkh9oaxRps",
        "vCSbpDVDxbWB",
        "PL3vdxUpxlWY",
        "X4c_KOg8_LgJ",
        "QLJobpWT_Ncm",
        "WdLFJ7y7_R-5",
        "nRAvhDbB_agW",
        "WJnd9xJA_j5K",
        "3MZsmZAj_tN7",
        "ZKhhPQfnAEMW",
        "p6n5JP0pAT-4",
        "xdfihlesAZnU"
      ],
      "toc_visible": true,
      "include_colab_link": true
    },
    "kernelspec": {
      "name": "python3",
      "display_name": "Python 3"
    },
    "language_info": {
      "name": "python"
    }
  },
  "cells": [
    {
      "cell_type": "markdown",
      "metadata": {
        "id": "view-in-github",
        "colab_type": "text"
      },
      "source": [
        "<a href=\"https://colab.research.google.com/github/peternguyen-au/courses/blob/master/Statistical_Society_Python_Workshop_Day_1.ipynb\" target=\"_parent\"><img src=\"https://colab.research.google.com/assets/colab-badge.svg\" alt=\"Open In Colab\"/></a>"
      ]
    },
    {
      "cell_type": "markdown",
      "metadata": {
        "id": "W8vCSKkA9f_v"
      },
      "source": [
        "\n",
        "# Credits\n",
        "\n",
        " This notebook is based on Software Carpentry's [Plotting and Programming in Python](http://swcarpentry.github.io/python-novice-gapminder/)\n",
        "\n"
      ]
    },
    {
      "cell_type": "markdown",
      "metadata": {
        "id": "h9WzWKTh9ndw"
      },
      "source": [
        "# Part 1. Getting Started\n"
      ]
    },
    {
      "cell_type": "markdown",
      "metadata": {
        "id": "AGGVZ4wV9w2i"
      },
      "source": [
        "(This section is based on [Running and Quitting](https://swcarpentry.github.io/python-novice-gapminder/01-run-quit/index.html))\n",
        "\n",
        "## Questions\n",
        "\n",
        "* How can I run Python programs?\n",
        "\n",
        "## Objectives\n",
        "* Understand the difference between a Python script and a Jupyter notebook.\n",
        "\n",
        "* Create Markdown cells in a notebook.\n",
        "\n",
        "* Create and run Python cells in a notebook\n",
        "\n",
        "\n",
        "Many software developers will often use an integrated development environment (IDE) or a \n",
        "text editor to create and edit their Python programs which can be executed through the IDE or command line directly. While this is a common approach, we are going to use the Jupyter Notebook via Colab for the remainder of this workshop.\n",
        "\n",
        "This has several advantages:\n",
        "  *   You can easily type, edit, and copy and paste blocks of code.\n",
        "  *   Tab complete allows you to easily access the names of things you are using\n",
        "      and learn more about them.\n",
        "  *   It allows you to annotate your code with links, different sized text, bullets, etc.\n",
        "      to make it more accessible to you and your collaborators.\n",
        "  *   It allows you to display figures next to the code that produces them\n",
        "      to tell a complete story of the analysis.\n",
        "\n",
        "Each notebook contains one or more cells that contain code, text, or images.\n"
      ]
    },
    {
      "cell_type": "markdown",
      "metadata": {
        "id": "9f-B7KuH_5cq"
      },
      "source": [
        "## Code vs. Text\n",
        "\n",
        "Jupyter mixes code and text in different types of blocks, called cells. We ten use the term\n",
        "\"code\" to mean \"the source code of software written in a language such as python\".\n",
        "A \"code cell\" in a Notebook is a cell that contains software;\n",
        "a \"text cell\" is one that contains ordinary prose written for human beings.\n",
        "\n",
        "Click the cell below and press <kbd>Shift + Enter</kbd> to run a python program\n",
        "\n"
      ]
    },
    {
      "cell_type": "code",
      "metadata": {
        "colab": {
          "base_uri": "https://localhost:8080/"
        },
        "id": "LrKuWJW_HR2z",
        "outputId": "4ef9f8ba-2765-476c-92ee-7b264d3099e3"
      },
      "source": [
        "print(\"I'm a python program!\")"
      ],
      "execution_count": null,
      "outputs": [
        {
          "output_type": "stream",
          "name": "stdout",
          "text": [
            "I'm a python program!\n"
          ]
        }
      ]
    },
    {
      "cell_type": "markdown",
      "metadata": {
        "id": "e_liADIO9VHU"
      },
      "source": [
        "## The Notebook has Command and Edit modes.\n",
        "\n",
        "* Clicking on a cell or pressing enter will make it 'pop out' and a small array of buttons will appear in the top right hand corner.\n",
        "* This is called \"focusing\" a cell.\n",
        "\n",
        "*   The selected cell will have a small border surrounding it.\n",
        "*   If you press <kbd>Esc</kbd> and <kbd>Return</kbd> alternately, a cursor will appear in your focused code cell.\n",
        "*   These are the **Command** (no cursor) and **Edit** (cursor) modes of your notebook.\n",
        "*   Command mode allows you to edit notebook-level features, and Edit mode changes the content of cells.\n",
        "*   When in Command mode (esc/no cursor),\n",
        "    *   The <kbd>b</kbd> key will make a new cell below the currently selected cell.\n",
        "    *   The <kbd>a</kbd> key will make one above.\n",
        "    *   Pressing <kbd>Ctrl+m d</kbd> will delete the current cell.\n",
        "    *   The <kbd>z</kbd> key will undo your last cell operation (which could be a deletion, creation, etc).\n",
        "*   All actions can be done using the menus, but there are lots of keyboard shortcuts to speed things up.\n",
        "* Press <kbd>Ctrl+m h</kbd>  for a list of keyboard shortcuts\n"
      ]
    },
    {
      "cell_type": "markdown",
      "metadata": {
        "id": "an3PwigWFalc"
      },
      "source": [
        "## Use the keyboard and mouse to select and edit cells.\n",
        "\n",
        "*   Pressing the <kbd>Return</kbd> key turns the border blue and engages Edit mode, which allows \n",
        "    you to type within the cell.\n",
        "*   Because we want to be able to write many lines of code in a single cell,\n",
        "    pressing the <kbd>Return</kbd> key when in Edit mode (blue) moves the cursor to the next line \n",
        "    in the cell just like in a text editor.\n",
        "*   We need some other way to tell the Notebook we want to run what's in the cell.\n",
        "*   Pressing <kbd>Shift</kbd>+<kbd>Return</kbd> together will execute the contents of the cell.\n",
        "*   Notice that the <kbd>Return</kbd> and <kbd>Shift</kbd> keys on the right of the keyboard are \n",
        "    right next to each other.\n"
      ]
    },
    {
      "cell_type": "markdown",
      "metadata": {
        "id": "Zb_kUeLDFlpA"
      },
      "source": [
        "## The Notebook will turn Markdown into pretty-printed documentation.\n",
        "\n",
        "*   Notebooks can also render Markdown.\n",
        "    *   A simple plain-text format for writing lists, links, \n",
        "        and other things that might go into a web page.\n",
        "    *   Equivalently, a subset of HTML that looks like what you'd send in an old-fashioned email.\n",
        "*   Turn the current cell into a Markdown cell by entering the Command mode (<kbd>Esc</kbd>) \n",
        "    and press <kbd>Ctrl+m m </kbd>\n",
        "*   `In [ ]:` will disappear to show it is no longer a code cell and you will be able to write in \n",
        "    Markdown.\n",
        "*   Turn the current cell into a Code cell by entering the Command mode (<kbd>Esc</kbd>) and \n",
        "    press <kbd>Ctrl+m y</kbd>.\n",
        "\n"
      ]
    },
    {
      "cell_type": "markdown",
      "metadata": {
        "id": "hf2RzZ4jFqd4"
      },
      "source": [
        "## Markdown does most of what HTML does.\n",
        "\n",
        "<div class=\"row\">\n",
        "  <div class=\"col-md-6\" markdown=\"1\">\n",
        "    \n",
        "~~~\n",
        "*   Use asterisks\n",
        "*   to create\n",
        "*   bullet lists.\n",
        "~~~\n",
        "\n",
        "  </div>\n",
        "  <div class=\"col-md-6\" markdown=\"1\">\n",
        "  \n",
        "*   Use asterisks\n",
        "*   to create\n",
        "*   bullet lists.\n",
        "\n",
        "  </div>\n",
        "</div>\n",
        "\n",
        "<div class=\"row\">\n",
        "  <div class=\"col-md-6\" markdown=\"1\">\n",
        "    \n",
        "~~~\n",
        "1.  Use numbers\n",
        "1.  to create\n",
        "1.  numbered lists.\n",
        "~~~\n",
        "\n",
        "  </div>\n",
        "  <div class=\"col-md-6\" markdown=\"1\">\n",
        "\n",
        "1.  Use numbers\n",
        "1.  to create\n",
        "1.  numbered lists.\n",
        "\n",
        "  </div>\n",
        "</div>\n",
        "\n",
        "<div class=\"row\">\n",
        "  <div class=\"col-md-6\" markdown=\"1\">\n",
        "    \n",
        "~~~\n",
        "*  You can use indents\n",
        "\t*  To create sublists \n",
        "\t*  of the same type\n",
        "*  Or sublists\n",
        "\t1. Of different\n",
        "\t1. types\n",
        "~~~\n",
        "\n",
        "  </div>\n",
        "  <div class=\"col-md-6\" markdown=\"1\">\n",
        "  \n",
        "*  You can use indents\n",
        "\t*  To create sublists\n",
        "\t*  of the same type\n",
        "*  Or sublists\n",
        "\t1. Of different\n",
        "\t1. types\n",
        "  \n",
        "  </div>\n",
        "</div>\n",
        "\n",
        "<div class=\"row\">\n",
        "  <div class=\"col-md-6\" markdown=\"1\">\n",
        "    \n",
        "~~~\n",
        "# A Level-1 Heading\n",
        "~~~\n",
        "\n",
        "  </div>\n",
        "  <div class=\"col-md-6\" markdown=\"1\">\n",
        "  \n",
        "# A Level-1 Heading\n",
        "\n",
        "  </div>\n",
        "</div>\n",
        "\n",
        "<div class=\"row\">\n",
        "  <div class=\"col-md-6\" markdown=\"1\">\n",
        "    \n",
        "~~~\n",
        "## A Level-2 Heading (etc.)\n",
        "~~~\n",
        "\n",
        "  </div>\n",
        "  <div class=\"col-md-6\" markdown=\"1\">\n",
        "  \n",
        "## A Level-2 Heading (etc.)\n",
        "\n",
        "  </div>\n",
        "</div>\n",
        "\n",
        "<div class=\"row\">\n",
        "  <div class=\"col-md-6\" markdown=\"1\">\n",
        "    \n",
        "~~~\n",
        "Line breaks\n",
        "don't matter.\n",
        "\n",
        "But blank lines\n",
        "create new paragraphs.\n",
        "~~~\n",
        "\n",
        "  </div>\n",
        "  <div class=\"col-md-6\" markdown=\"1\">\n",
        "  \n",
        "Line breaks\n",
        "don't matter.\n",
        "\n",
        "But blank lines\n",
        "create new paragraphs.\n",
        "\n",
        "  </div>\n",
        "</div>\n",
        "\n",
        "<div class=\"row\">\n",
        "  <div class=\"col-md-6\" markdown=\"1\">\n",
        "    \n",
        "~~~\n",
        "[Create links](http://software-carpentry.org) with `[...](...)`.\n",
        "Or use [named links][data_carpentry].\n",
        "\n",
        "[data_carpentry]: http://datacarpentry.org\n",
        "~~~\n",
        "\n",
        "  </div>\n",
        "  <div class=\"col-md-6\" markdown=\"1\">\n",
        "  \n",
        "[Create links](http://software-carpentry.org) with `[...](...)`.\n",
        "Or use [named links][data_carpentry].\n",
        "\n",
        "[data_carpentry]: http://datacarpentry.org\n",
        "\n",
        "  </div>\n",
        "</div>\n"
      ]
    },
    {
      "cell_type": "markdown",
      "metadata": {
        "id": "pu0IS9_RGuum"
      },
      "source": [
        "## Exercises\n",
        "\n",
        "\n"
      ]
    },
    {
      "cell_type": "markdown",
      "metadata": {
        "id": "a6YVDTYZH9le"
      },
      "source": [
        "### Creating Lists in Markdown\n",
        ">\n",
        "> Create a nested list in a Markdown cell in a notebook that looks like this:\n",
        ">\n",
        "> 1.  Get funding.\n",
        "> 2.  Do work.\n",
        ">     *   Design experiment.\n",
        ">     *   Collect data.\n",
        ">     *   Analyze.\n",
        "> 3.  Write up.\n",
        "> 4.  Publish.\n"
      ]
    },
    {
      "cell_type": "markdown",
      "metadata": {
        "id": "0zlJOK-UIH-r"
      },
      "source": [
        "### More Math\n",
        "\n",
        "> What is displayed when a Python cell in a notebook\n",
        "> that contains several calculations is executed?\n",
        "> For example, what happens when this cell is executed?\n",
        ">\n",
        "> ~~~\n",
        "> 7 * 3\n",
        "> 2 + 1\n",
        "> ~~~\n"
      ]
    },
    {
      "cell_type": "markdown",
      "metadata": {
        "id": "6p6G5oZPIyu0"
      },
      "source": [
        "---\n"
      ]
    },
    {
      "cell_type": "markdown",
      "metadata": {
        "id": "EcNMoj7nITu7"
      },
      "source": [
        "### Equations\n",
        ">\n",
        "> Standard Markdown (such as we're using for these notes) won't render equations,\n",
        "> but the Notebook will.\n",
        "> Create a new Markdown cell\n",
        "> and enter the following:\n",
        ">\n",
        "> ~~~\n",
        "> $\\sum_{i=1}^{N} 2^{-i} \\approx 1$\n",
        "> ~~~\n",
        ">\n",
        "> (It's probably easier to copy and paste.)\n",
        "> What does it display?\n",
        "> What do you think the underscore, `_`, circumflex, `^`, and dollar sign, `$`, do?\n"
      ]
    },
    {
      "cell_type": "markdown",
      "metadata": {
        "id": "7_jip487TAaR"
      },
      "source": [
        "## Key Points\n",
        "\n",
        "\n",
        "  * Python scripts are plain text files.\n",
        "  * Use the Jupyter Notebook for editing and running Python.\n",
        "  * The Notebook has Command and Edit modes.\n",
        "  * Use the keyboard and mouse to select and edit cells.\n",
        "  * The Notebook will turn Markdown into pretty-printed documentation.\n",
        "  * Markdown does most of what HTML does.\n"
      ]
    },
    {
      "cell_type": "markdown",
      "metadata": {
        "id": "z7jDlc1YI0qc"
      },
      "source": [
        "# Part 2.  Variables and Assignment\n",
        "## Questions:\n",
        "- \"How can I store data in programs?\"\n",
        "\n",
        "## Objectives:\n",
        "- \"Write programs that assign scalar values to variables and perform calculations with those values.\"\n",
        "- \"Correctly trace value changes in programs that use scalar assignment.\""
      ]
    },
    {
      "cell_type": "markdown",
      "metadata": {
        "id": "BnevpIMiJUQZ"
      },
      "source": [
        ""
      ]
    },
    {
      "cell_type": "code",
      "metadata": {
        "id": "Vkfptzi1KLsg"
      },
      "source": [
        ""
      ],
      "execution_count": null,
      "outputs": []
    },
    {
      "cell_type": "markdown",
      "metadata": {
        "id": "kFYUzgGoJlXG"
      },
      "source": [
        "## Use variables to store values.\n",
        "\n",
        "*   **Variables** are names for values.\n",
        "*   In Python the `=` symbol assigns the value on the right to the name on the left.\n",
        "*   The variable is created when a value is assigned to it.\n",
        "*   Here, Python assigns an age to a variable `age`\n",
        "    and a name in quotes to a variable `first_name`.\n",
        "\n",
        "    ```python\n",
        "    age = 42\n",
        "    first_name = 'Ahmed'\n",
        "    ```\n",
        "    \n",
        "\n",
        "*   Variable names\n",
        "    * can **only** contain letters, digits, and underscore `_` (typically used to separate words in long variable names)\n",
        "    * cannot start with a digit\n",
        "    * are **case sensitive** (age, Age and AGE are three different variables)\n",
        "*   Variable names that start with underscores like `__alistairs_real_age` have a special meaning\n",
        "    so we won't do that until we understand the convention.\n",
        "\n"
      ]
    },
    {
      "cell_type": "code",
      "metadata": {
        "id": "XLCSY3vqKMZE"
      },
      "source": [
        "age = 42\n",
        "first_name = 'Ahmed'"
      ],
      "execution_count": null,
      "outputs": []
    },
    {
      "cell_type": "markdown",
      "metadata": {
        "id": "zFq0fNXrJ_r0"
      },
      "source": [
        "## Use `print` to display values.\n",
        "\n",
        "*   Python has a built-in function called `print` that prints things as text.\n",
        "*   Call the function (i.e., tell Python to run it) by using its name.\n",
        "*   Provide values to the function (i.e., the things to print) in parentheses.\n",
        "*   To add a string to the printout, wrap the string in single or double quotes.\n",
        "*   The values passed to the function are called **arguments**\n",
        "\n",
        ">~~~python\n",
        ">print(first_name, 'is', age, 'years old')\n",
        ">~~~\n",
        "\n",
        "~~~\n",
        "Ahmed is 42 years old\n",
        "~~~\n",
        "\n",
        "\n",
        "*   `print` automatically puts a single space between items to separate them.\n",
        "*   And wraps around to a new line at the end.\n",
        "\n"
      ]
    },
    {
      "cell_type": "code",
      "metadata": {
        "colab": {
          "base_uri": "https://localhost:8080/"
        },
        "id": "XJ-V3RriKJxC",
        "outputId": "8881b7e4-4207-438f-8c38-31fc556dec3b"
      },
      "source": [
        "print(first_name, 'is', age, 'years old')\n"
      ],
      "execution_count": null,
      "outputs": [
        {
          "output_type": "stream",
          "text": [
            "Ahmed is 42 years old\n"
          ],
          "name": "stdout"
        }
      ]
    },
    {
      "cell_type": "markdown",
      "metadata": {
        "id": "rhsUj6q5KvUz"
      },
      "source": [
        "## Variables must be created before they are used.\n",
        "\n",
        "*   If a variable doesn't exist yet, or if the name has been mis-spelled,\n",
        "    Python reports an error. (Unlike some languages, which \"guess\" a default value.)\n",
        "\n",
        "~~~python\n",
        "print(last_name)\n",
        "~~~\n",
        "~~~\n",
        "---------------------------------------------------------------------------\n",
        "NameError                                 Traceback (most recent call last)\n",
        "<ipython-input-1-c1fbb4e96102> in <module>()\n",
        "----> 1 print(last_name)\n",
        "\n",
        "NameError: name 'last_name' is not defined\n",
        "~~~\n",
        "\n",
        "*   The last line of an error message is usually the most informative.\n",
        "*   We will look at error messages in detail later.\n",
        "\n"
      ]
    },
    {
      "cell_type": "code",
      "metadata": {
        "colab": {
          "base_uri": "https://localhost:8080/",
          "height": 172
        },
        "id": "0pTRUMGAK4rI",
        "outputId": "2e1b702d-7aea-4580-b579-f1d34f9db859"
      },
      "source": [
        "print(last_name)"
      ],
      "execution_count": null,
      "outputs": [
        {
          "output_type": "error",
          "ename": "NameError",
          "evalue": "ignored",
          "traceback": [
            "\u001b[0;31m---------------------------------------------------------------------------\u001b[0m",
            "\u001b[0;31mNameError\u001b[0m                                 Traceback (most recent call last)",
            "\u001b[0;32m<ipython-input-11-a637c5453549>\u001b[0m in \u001b[0;36m<module>\u001b[0;34m()\u001b[0m\n\u001b[0;32m----> 1\u001b[0;31m \u001b[0mprint\u001b[0m\u001b[0;34m(\u001b[0m\u001b[0mlast_name\u001b[0m\u001b[0;34m)\u001b[0m\u001b[0;34m\u001b[0m\u001b[0;34m\u001b[0m\u001b[0m\n\u001b[0m",
            "\u001b[0;31mNameError\u001b[0m: name 'last_name' is not defined"
          ]
        }
      ]
    },
    {
      "cell_type": "markdown",
      "metadata": {
        "id": "6EVHMStTK-ZD"
      },
      "source": [
        " ## Variables Persist Between Cells\n",
        "\n",
        " Be aware that it is the *order* of execution of cells that is important in a Jupyter notebook, not the order\n",
        " in which they appear. Python will remember *all* the code that was run previously, including any variables you have\n",
        " defined, irrespective of the order in the notebook. Therefore if you define variables lower down the notebook and then\n",
        " (re)run cells further up, those defined further down will still be present. As an example, create two cells with the\n",
        " following content, in this order:\n",
        "\n",
        " ~~~python\n",
        " print(myval)\n",
        " ~~~\n",
        "\n",
        " ~~~python\n",
        " myval = 1\n",
        " ~~~\n",
        "\n",
        " If you execute this in order, the first cell will give an error. However, if you run the first cell *after* the second\n",
        " cell it will print out `1`. To prevent confusion, it can be helpful to use the `Kernel` -> `Restart & Run All` option which\n",
        " clears the interpreter and runs everything from a clean slate going top to bottom.\n"
      ]
    },
    {
      "cell_type": "code",
      "metadata": {
        "id": "39G2gSkmL-KU"
      },
      "source": [
        ""
      ],
      "execution_count": null,
      "outputs": []
    },
    {
      "cell_type": "markdown",
      "metadata": {
        "id": "lPoTZbvbtnBJ"
      },
      "source": [
        "## Variables can be used in calculations\n",
        "------\n",
        "We can use variables in culations just as if they were values."
      ]
    },
    {
      "cell_type": "code",
      "metadata": {
        "colab": {
          "base_uri": "https://localhost:8080/"
        },
        "id": "A4waQwHRtmYI",
        "outputId": "662e1120-ad83-4ebc-847d-f52474a13c4f"
      },
      "source": [
        "age = 42\n",
        "age = age + 3\n",
        "print('Age in three years:', age)"
      ],
      "execution_count": null,
      "outputs": [
        {
          "output_type": "stream",
          "name": "stdout",
          "text": [
            "Age in three years: 45\n"
          ]
        }
      ]
    },
    {
      "cell_type": "markdown",
      "metadata": {
        "id": "-lh1g7F6t-TE"
      },
      "source": [
        "## Use an index to get a single character from a string.\n",
        "----\n",
        "\n",
        "* The characters (individual letters, numbers, and so on) in a string are ordered. For example, the string 'AB' is not the same as 'BA'. Because of this ordering, we can treat the string as a list of characters.\n",
        "* Each position in the string (first, second, etc.) is given a number. This number is called an index or sometimes a subscript.\n",
        "* Indices are numbered from 0.\n",
        "* Use the position’s index in square brackets to get the character at that position.\n",
        "\n",
        "an illustration of indexing\n",
        "\n",
        "![](https://swcarpentry.github.io/python-novice-gapminder/fig/2_indexing.svg)"
      ]
    },
    {
      "cell_type": "code",
      "metadata": {
        "colab": {
          "base_uri": "https://localhost:8080/"
        },
        "id": "GQC2Uy6Ht11f",
        "outputId": "91cd03c3-b2a5-44b0-8226-912ec20e0e4f"
      },
      "source": [
        "atom_name = 'helium'\n",
        "print(atom_name[0])"
      ],
      "execution_count": null,
      "outputs": [
        {
          "output_type": "stream",
          "name": "stdout",
          "text": [
            "h\n"
          ]
        }
      ]
    },
    {
      "cell_type": "markdown",
      "metadata": {
        "id": "Z55UwCMHuKuX"
      },
      "source": [
        "## Use the built-in function len to find the length of a string.\n",
        "-----\n",
        "\n"
      ]
    },
    {
      "cell_type": "code",
      "metadata": {
        "colab": {
          "base_uri": "https://localhost:8080/"
        },
        "id": "EN1mjwRbuYQV",
        "outputId": "64b9fb4a-6258-4408-afbf-af892f00756a"
      },
      "source": [
        "print(len('helium'))"
      ],
      "execution_count": null,
      "outputs": [
        {
          "output_type": "stream",
          "name": "stdout",
          "text": [
            "6\n"
          ]
        }
      ]
    },
    {
      "cell_type": "markdown",
      "metadata": {
        "id": "OwayYtz2uaP0"
      },
      "source": [
        "Nested functions are evaluated from the inside out, like in mathematics."
      ]
    },
    {
      "cell_type": "markdown",
      "metadata": {
        "id": "LMM9-pL0ufsH"
      },
      "source": [
        "## Python is case-sensitive.\n",
        "\n",
        "* Python thinks that upper- and lower-case letters are different, so Name and name are different variables.\n",
        "* There are conventions for using upper-case letters at the start of variable names so we will use lower-case letters for now.\n"
      ]
    },
    {
      "cell_type": "markdown",
      "metadata": {
        "id": "jSQCZ0vLui4V"
      },
      "source": [
        "## Use meaningful variable names.\n",
        "-------------\n",
        "\n",
        "* Python doesn’t care what you call variables as long as they obey the rules (alphanumeric characters and the underscore).\n"
      ]
    },
    {
      "cell_type": "code",
      "metadata": {
        "colab": {
          "base_uri": "https://localhost:8080/"
        },
        "id": "5lwm0Upiuz0M",
        "outputId": "3adc1ce1-a42d-42da-b53d-3d8715b19741"
      },
      "source": [
        "flabadab = 42\n",
        "ewr_422_yY = 'Ahmed'\n",
        "print(ewr_422_yY, 'is', flabadab, 'years old')"
      ],
      "execution_count": null,
      "outputs": [
        {
          "output_type": "stream",
          "name": "stdout",
          "text": [
            "Ahmed is 42 years old\n"
          ]
        }
      ]
    },
    {
      "cell_type": "markdown",
      "metadata": {
        "id": "WEqBaPQdu0_s"
      },
      "source": [
        "\n",
        "* Use meaningful variable names to help other people understand what the program does.\n",
        "* The most important “other person” is your future self.\n"
      ]
    },
    {
      "cell_type": "markdown",
      "metadata": {
        "id": "sOQKQukju4jU"
      },
      "source": [
        "## Exercises\n"
      ]
    },
    {
      "cell_type": "markdown",
      "metadata": {
        "id": "M3BJPkFKvCjs"
      },
      "source": [
        "### Swapping Values\n",
        "Fill the table showing the values of the variables in this program after each statement is executed.\n",
        "\n",
        "```python\n",
        "# Command  # Value of x   # Value of y   # Value of swap #\n",
        "x = 1.0    #              #              #               #\n",
        "y = 3.0    #              #              #               #\n",
        "swap = x   #              #              #               #\n",
        "x = y      #              #              #               #\n",
        "y = swap   #              #              #               #`\n",
        "```"
      ]
    },
    {
      "cell_type": "markdown",
      "metadata": {
        "id": "RJXup3F8vVx-"
      },
      "source": [
        "### Predicting Values\n",
        "\n",
        "What is the final value of position in the program below? (Try to predict the value without running the program, then check your prediction.)\n",
        "\n",
        "```python\n",
        "initial = 'left'\n",
        "position = initial\n",
        "initial = 'right'\n",
        "```"
      ]
    },
    {
      "cell_type": "markdown",
      "metadata": {
        "id": "7fNloTP0vgv8"
      },
      "source": [
        "### Challenge\n",
        "\n",
        "If you assign `a = 123`, what happens if you try to get the second digit of a via `a[1]`?\n",
        "\n"
      ]
    },
    {
      "cell_type": "markdown",
      "metadata": {
        "id": "Zn02aDnYvqQY"
      },
      "source": [
        "### Choosing a name\n",
        "\n",
        "Which is a better variable name, m, min, or minutes? Why? Hint: think about which code you would rather inherit from someone who is leaving the lab:\n",
        "\n",
        "1. `ts = m * 60 + s`\n",
        "2. `tot_sec = min * 60 + sec`\n",
        "3. `total_seconds = minutes * 60 + seconds`\n",
        "\n"
      ]
    },
    {
      "cell_type": "markdown",
      "metadata": {
        "id": "u3CSSXEOv5wM"
      },
      "source": [
        "### Slicing practice\n",
        "What does the following program print?\n",
        "\n",
        "```python\n",
        "atom_name = 'carbon'\n",
        "print('atom_name[1:3] is:', atom_name[1:3])\n",
        "```\n",
        "\n"
      ]
    },
    {
      "cell_type": "markdown",
      "metadata": {
        "id": "8eMZ3SEGv8v3"
      },
      "source": [
        "### Slicing Concepts\n",
        "\n",
        "\n",
        "1. What does thing[low:high] do?\n",
        "2. What does thing[low:] (without a value after the colon) do?\n",
        "3. What does thing[:high] (without a value before the colon) do?\n",
        "4. What does thing[:] (just a colon) do?\n",
        "5. What does thing[number:some-negative-number] do?\n",
        "6. What happens when you choose a high value which is out of range? (i.e., try atom_name[0:15])\n"
      ]
    },
    {
      "cell_type": "markdown",
      "metadata": {
        "id": "V_0bgzH3wJJx"
      },
      "source": [
        "## Key Points\n",
        "\n",
        "\n",
        "\n",
        "*  Use variables to store values.\n",
        "\n",
        "*  Use print to display values.\n",
        "\n",
        "*  Variables persist between cells.\n",
        "\n",
        "*  Variables must be created before they are used.\n",
        "\n",
        "*  Variables can be used in calculations.\n",
        "\n",
        "*  Use an index to get a single character from a string.\n",
        "\n",
        "*  Use a slice to get a substring.\n",
        "\n",
        "*  Use the built-in function len to find the length of a string.\n",
        "\n",
        "*  Python is case-sensitive.\n",
        "\n",
        "*  Use meaningful variable names.\n"
      ]
    },
    {
      "cell_type": "markdown",
      "metadata": {
        "id": "8HhAkaQbwcDw"
      },
      "source": [
        "# Part 3. Data Types and Type Conversion"
      ]
    },
    {
      "cell_type": "markdown",
      "metadata": {
        "id": "ugp7tWx5xP9c"
      },
      "source": [
        "## Every value has a type\n",
        "\n",
        "\n",
        "* Every value in a program has a specific type.\n",
        "* Integer (int): represents positive or negative whole numbers like 3 or -512.\n",
        "* Floating point number (float): represents real numbers like 3.14159 or -2.5.\n",
        "* Character string (usually called “string”, str): text.\n",
        " *     Written in either single quotes or double quotes (as long as they match).\n",
        " *     The quote marks aren’t printed when the string is displayed"
      ]
    },
    {
      "cell_type": "markdown",
      "metadata": {
        "id": "G4azyxng-1e4"
      },
      "source": [
        "## Use the built-in function `type` to find the type of a value.\n",
        "* Use the built-in function type to find out what type a value has.\n",
        "*Works on variables as well.\n",
        " *    But remember: the value has the type — the variable is just a label.\n"
      ]
    },
    {
      "cell_type": "code",
      "metadata": {
        "colab": {
          "base_uri": "https://localhost:8080/"
        },
        "id": "htBeMnQ9-5IO",
        "outputId": "d41efdec-e16b-4e53-9e8a-6c26fc58125d"
      },
      "source": [
        "print(type(52))"
      ],
      "execution_count": null,
      "outputs": [
        {
          "output_type": "stream",
          "name": "stdout",
          "text": [
            "<class 'int'>\n"
          ]
        }
      ]
    },
    {
      "cell_type": "code",
      "metadata": {
        "colab": {
          "base_uri": "https://localhost:8080/"
        },
        "id": "Jhk_YuUx_BWH",
        "outputId": "d3ed6923-17e8-4d5f-ebd4-f80d54522714"
      },
      "source": [
        "fitness = 'average'\n",
        "print(type(fitness))"
      ],
      "execution_count": null,
      "outputs": [
        {
          "output_type": "stream",
          "name": "stdout",
          "text": [
            "<class 'str'>\n"
          ]
        }
      ]
    },
    {
      "cell_type": "markdown",
      "metadata": {
        "id": "NDVHgtiO_CZl"
      },
      "source": [
        "## Types control what operations (or methods) can be performed on a given value.\n",
        "\n",
        "* \n",
        "    A value’s type determines what the program can do to it."
      ]
    },
    {
      "cell_type": "code",
      "metadata": {
        "colab": {
          "base_uri": "https://localhost:8080/"
        },
        "id": "_CZK11TK_Ioh",
        "outputId": "19077ed2-1a7f-4ac4-bbc2-9e26cf965300"
      },
      "source": [
        "print(5-3)"
      ],
      "execution_count": null,
      "outputs": [
        {
          "output_type": "stream",
          "name": "stdout",
          "text": [
            "2\n"
          ]
        }
      ]
    },
    {
      "cell_type": "code",
      "metadata": {
        "colab": {
          "base_uri": "https://localhost:8080/",
          "height": 175
        },
        "id": "JbQ312mA_KZo",
        "outputId": "b9bdfded-bd35-4e6b-92fe-23ff8a91f2b5"
      },
      "source": [
        "print(\"hello\" - \"h\")"
      ],
      "execution_count": null,
      "outputs": [
        {
          "output_type": "error",
          "ename": "TypeError",
          "evalue": "ignored",
          "traceback": [
            "\u001b[0;31m---------------------------------------------------------------------------\u001b[0m",
            "\u001b[0;31mTypeError\u001b[0m                                 Traceback (most recent call last)",
            "\u001b[0;32m<ipython-input-13-bf3795dd77ce>\u001b[0m in \u001b[0;36m<module>\u001b[0;34m()\u001b[0m\n\u001b[0;32m----> 1\u001b[0;31m \u001b[0mprint\u001b[0m\u001b[0;34m(\u001b[0m\u001b[0;34m\"hello\"\u001b[0m \u001b[0;34m-\u001b[0m \u001b[0;34m\"h\"\u001b[0m\u001b[0;34m)\u001b[0m\u001b[0;34m\u001b[0m\u001b[0;34m\u001b[0m\u001b[0m\n\u001b[0m",
            "\u001b[0;31mTypeError\u001b[0m: unsupported operand type(s) for -: 'str' and 'str'"
          ]
        }
      ]
    },
    {
      "cell_type": "markdown",
      "metadata": {
        "id": "GeYQ_G7G_Lzl"
      },
      "source": [
        "## You can use the “+” and “*” operators on strings.\n",
        "\n",
        "* \n",
        "    “Adding” character strings concatenates them.\n"
      ]
    },
    {
      "cell_type": "code",
      "metadata": {
        "colab": {
          "base_uri": "https://localhost:8080/"
        },
        "id": "o5TPkItg_QJk",
        "outputId": "a25a1d50-f6dd-4f8a-b974-1e8a6a2d7cba"
      },
      "source": [
        "full_name = 'Ahmed' + ' ' + 'Walsh'\n",
        "print(full_name)"
      ],
      "execution_count": null,
      "outputs": [
        {
          "output_type": "stream",
          "name": "stdout",
          "text": [
            "Ahmed Walsh\n"
          ]
        }
      ]
    },
    {
      "cell_type": "markdown",
      "metadata": {
        "id": "ox8QiUCr_RAl"
      },
      "source": [
        "\n",
        "Multiplying a character string by an integer N creates a new string that consists of that character string repeated N times.\n",
        "        Since multiplication is repeated addition.\n"
      ]
    },
    {
      "cell_type": "code",
      "metadata": {
        "colab": {
          "base_uri": "https://localhost:8080/"
        },
        "id": "rpzdX0cC_TTj",
        "outputId": "7b225e94-79b3-4b59-ff7c-b75f4d6c2d67"
      },
      "source": [
        "separator = '=' * 10\n",
        "print(separator)"
      ],
      "execution_count": null,
      "outputs": [
        {
          "output_type": "stream",
          "name": "stdout",
          "text": [
            "==========\n"
          ]
        }
      ]
    },
    {
      "cell_type": "markdown",
      "metadata": {
        "id": "LwJsReai_UgB"
      },
      "source": [
        "## Strings have a length (but numbers don’t).\n",
        "\n",
        "   The built-in function len counts the number of characters in a string.\n"
      ]
    },
    {
      "cell_type": "code",
      "metadata": {
        "colab": {
          "base_uri": "https://localhost:8080/"
        },
        "id": "ojdmLsJd_Yg_",
        "outputId": "22cac5fe-dc9f-4836-d297-ef48c6eac7ba"
      },
      "source": [
        "print(len(full_name))"
      ],
      "execution_count": null,
      "outputs": [
        {
          "output_type": "stream",
          "name": "stdout",
          "text": [
            "11\n"
          ]
        }
      ]
    },
    {
      "cell_type": "markdown",
      "metadata": {
        "id": "_cjfekxy_awr"
      },
      "source": [
        "\n",
        "But numbers don’t have a length (not even zero).\n"
      ]
    },
    {
      "cell_type": "code",
      "metadata": {
        "colab": {
          "base_uri": "https://localhost:8080/",
          "height": 175
        },
        "id": "7L9S0iyQ_dYG",
        "outputId": "d99f22f1-4805-4ff9-e95a-f7711e551214"
      },
      "source": [
        "print(len(52))"
      ],
      "execution_count": null,
      "outputs": [
        {
          "output_type": "error",
          "ename": "TypeError",
          "evalue": "ignored",
          "traceback": [
            "\u001b[0;31m---------------------------------------------------------------------------\u001b[0m",
            "\u001b[0;31mTypeError\u001b[0m                                 Traceback (most recent call last)",
            "\u001b[0;32m<ipython-input-17-8e77a6522867>\u001b[0m in \u001b[0;36m<module>\u001b[0;34m()\u001b[0m\n\u001b[0;32m----> 1\u001b[0;31m \u001b[0mprint\u001b[0m\u001b[0;34m(\u001b[0m\u001b[0mlen\u001b[0m\u001b[0;34m(\u001b[0m\u001b[0;36m52\u001b[0m\u001b[0;34m)\u001b[0m\u001b[0;34m)\u001b[0m\u001b[0;34m\u001b[0m\u001b[0;34m\u001b[0m\u001b[0m\n\u001b[0m",
            "\u001b[0;31mTypeError\u001b[0m: object of type 'int' has no len()"
          ]
        }
      ]
    },
    {
      "cell_type": "markdown",
      "metadata": {
        "id": "v98XtjcS_eTT"
      },
      "source": [
        "##  Must convert numbers to strings or vice versa when operating on them.\n",
        "\n",
        "*   Cannot add numbers and strings.\n"
      ]
    },
    {
      "cell_type": "code",
      "metadata": {
        "colab": {
          "base_uri": "https://localhost:8080/",
          "height": 175
        },
        "id": "Cq-UQBZS_hXD",
        "outputId": "ef7544e9-dcb2-414f-f403-efb529547349"
      },
      "source": [
        "print(1 + '2')"
      ],
      "execution_count": null,
      "outputs": [
        {
          "output_type": "error",
          "ename": "TypeError",
          "evalue": "ignored",
          "traceback": [
            "\u001b[0;31m---------------------------------------------------------------------------\u001b[0m",
            "\u001b[0;31mTypeError\u001b[0m                                 Traceback (most recent call last)",
            "\u001b[0;32m<ipython-input-18-013270d67d3d>\u001b[0m in \u001b[0;36m<module>\u001b[0;34m()\u001b[0m\n\u001b[0;32m----> 1\u001b[0;31m \u001b[0mprint\u001b[0m\u001b[0;34m(\u001b[0m\u001b[0;36m1\u001b[0m \u001b[0;34m+\u001b[0m \u001b[0;34m'2'\u001b[0m\u001b[0;34m)\u001b[0m\u001b[0;34m\u001b[0m\u001b[0;34m\u001b[0m\u001b[0m\n\u001b[0m",
            "\u001b[0;31mTypeError\u001b[0m: unsupported operand type(s) for +: 'int' and 'str'"
          ]
        }
      ]
    },
    {
      "cell_type": "markdown",
      "metadata": {
        "id": "d8YGdR1n_i--"
      },
      "source": [
        "*   Not allowed because it’s ambiguous: should 1 + '2' be 3 or '12'?\n",
        "*   Some types can be converted to other types by using the type name as a function.\n"
      ]
    },
    {
      "cell_type": "code",
      "metadata": {
        "colab": {
          "base_uri": "https://localhost:8080/"
        },
        "id": "V7IseLXg_lPe",
        "outputId": "ce02c768-7c4d-471b-92aa-cb55f17f8d5a"
      },
      "source": [
        "print(1 + int('2'))\n",
        "print(str(1) + '2')"
      ],
      "execution_count": null,
      "outputs": [
        {
          "output_type": "stream",
          "name": "stdout",
          "text": [
            "3\n",
            "12\n"
          ]
        }
      ]
    },
    {
      "cell_type": "markdown",
      "metadata": {
        "id": "npw25MAH_ocK"
      },
      "source": [
        "## Can mix integers and floats freely in operations.\n",
        "\n",
        "\n",
        "* Integers and floating-point numbers can be mixed in arithmetic.\n",
        "* Python 3 automatically converts integers to floats as needed.\n"
      ]
    },
    {
      "cell_type": "code",
      "metadata": {
        "colab": {
          "base_uri": "https://localhost:8080/"
        },
        "id": "aJeVl4IF_wiC",
        "outputId": "4dfcf7e9-9db4-41f1-a0cc-472bf825d9b6"
      },
      "source": [
        "print('half is', 1 / 2.0)\n",
        "print('three squared is', 3.0 ** 2)"
      ],
      "execution_count": null,
      "outputs": [
        {
          "output_type": "stream",
          "name": "stdout",
          "text": [
            "half is 0.5\n",
            "three squared is 9.0\n"
          ]
        }
      ]
    },
    {
      "cell_type": "markdown",
      "metadata": {
        "id": "FuDGvwFt_zc7"
      },
      "source": [
        "## Variables only change value when something is assigned to them.\n",
        "\n",
        "\n",
        "* If we make one cell in a spreadsheet depend on another, and update the latter, the former updates automatically.\n",
        "* This does not happen in python. \n",
        "* (Aside. This behavior is called 'reactivity' and is supported in libraries like Shiny)"
      ]
    },
    {
      "cell_type": "code",
      "metadata": {
        "colab": {
          "base_uri": "https://localhost:8080/"
        },
        "id": "ENM8Dq2G_4Qq",
        "outputId": "a7ee2c0d-1941-4fe3-bc2e-234018923049"
      },
      "source": [
        "first = 1\n",
        "second = 5 * first\n",
        "first = 2\n",
        "print('first is', first, 'and second is', second)"
      ],
      "execution_count": null,
      "outputs": [
        {
          "output_type": "stream",
          "name": "stdout",
          "text": [
            "first is 2 and second is 5\n"
          ]
        }
      ]
    },
    {
      "cell_type": "markdown",
      "metadata": {
        "id": "yyQlCTBaAWPU"
      },
      "source": [
        "\n",
        "* The computer reads the value of first when doing the multiplication, creates a new value, and assigns it to second.\n",
        "* After that, second does not remember where it came from.\n"
      ]
    },
    {
      "cell_type": "markdown",
      "metadata": {
        "id": "h9E3Li1eAaSP"
      },
      "source": [
        "## Exercises"
      ]
    },
    {
      "cell_type": "markdown",
      "metadata": {
        "id": "NtVKcmbCAaNY"
      },
      "source": [
        "### Fractions\n",
        "What type of value is 3.4? How can you find out?"
      ]
    },
    {
      "cell_type": "markdown",
      "metadata": {
        "id": "CXkwDyJMAenI"
      },
      "source": [
        "### Automatic Type Conversion\n",
        "What type of value is 3.25 + 4?\n"
      ]
    },
    {
      "cell_type": "markdown",
      "metadata": {
        "id": "Cx7gY-RRAibS"
      },
      "source": [
        "### Choose a Type\n",
        "What type of value (integer, floating point number, or character string) would you use to represent each of the following? Try to come up with more than one good answer for each problem. For example, in # 1, when would counting days with a floating point variable make more sense than using an integer?\n",
        "\n",
        "1. Number of days since the start of the year.\n",
        "1. Time elapsed from the start of the year until now in days.\n",
        "1. Serial number of a piece of lab equipment.\n",
        "1. A lab specimen’s age\n",
        "1. Current population of a city.\n",
        "1. Average population of a city over time.\n"
      ]
    },
    {
      "cell_type": "markdown",
      "metadata": {
        "id": "qal5GO7wAmKO"
      },
      "source": [
        "### Division Types\n",
        "\n",
        "In Python 3, the `//` operator performs integer (whole-number) floor division, the `/` operator performs floating-point division, and the `%` (or modulo) operator calculates and returns the remainder from integer division:"
      ]
    },
    {
      "cell_type": "code",
      "metadata": {
        "colab": {
          "base_uri": "https://localhost:8080/"
        },
        "id": "alQAVrKQAtQE",
        "outputId": "754f51fa-069c-4f87-99be-827fc0c2ddc1"
      },
      "source": [
        "print('5 // 3:', 5 // 3)\n",
        "print('5 / 3:', 5 / 3)\n",
        "print('5 % 3:', 5 % 3)"
      ],
      "execution_count": null,
      "outputs": [
        {
          "output_type": "stream",
          "name": "stdout",
          "text": [
            "5 // 3: 1\n",
            "5 / 3: 1.6666666666666667\n",
            "5 % 3: 2\n"
          ]
        }
      ]
    },
    {
      "cell_type": "markdown",
      "metadata": {
        "id": "tQPhTu4BAvR9"
      },
      "source": [
        "If `num_subjects` is the number of subjects taking part in a study, and `num_per_survey` is the number that can take part in a single survey, write an expression that calculates the number of surveys needed to reach everyone once."
      ]
    },
    {
      "cell_type": "markdown",
      "metadata": {
        "id": "SV6SClWXAzYN"
      },
      "source": [
        "### Strings to Numbers\n",
        "Where reasonable, `float()` will convert a string to a floating point number, and `int()` will convert a floating point number to an integer:"
      ]
    },
    {
      "cell_type": "code",
      "metadata": {
        "colab": {
          "base_uri": "https://localhost:8080/"
        },
        "id": "pc8si1nOA7uW",
        "outputId": "ca18a94a-054d-4b7d-890a-e5c8899958f7"
      },
      "source": [
        "print(\"string to float:\", float(\"3.4\"))\n",
        "print(\"float to int:\", int(3.4))"
      ],
      "execution_count": null,
      "outputs": [
        {
          "output_type": "stream",
          "name": "stdout",
          "text": [
            "string to float: 3.4\n",
            "float to int: 3\n"
          ]
        }
      ]
    },
    {
      "cell_type": "markdown",
      "metadata": {
        "id": "3rsVRzZsA81i"
      },
      "source": [
        "If the conversion doesn’t make sense, however, an error message will occur."
      ]
    },
    {
      "cell_type": "code",
      "metadata": {
        "colab": {
          "base_uri": "https://localhost:8080/",
          "height": 175
        },
        "id": "dF5wZWsPA_Zq",
        "outputId": "d0187412-6dc2-4b95-e250-df5d522600f3"
      },
      "source": [
        "print(\"string to float:\", float(\"Hello world!\"))"
      ],
      "execution_count": null,
      "outputs": [
        {
          "output_type": "error",
          "ename": "ValueError",
          "evalue": "ignored",
          "traceback": [
            "\u001b[0;31m---------------------------------------------------------------------------\u001b[0m",
            "\u001b[0;31mValueError\u001b[0m                                Traceback (most recent call last)",
            "\u001b[0;32m<ipython-input-26-8b7db3f305e2>\u001b[0m in \u001b[0;36m<module>\u001b[0;34m()\u001b[0m\n\u001b[0;32m----> 1\u001b[0;31m \u001b[0mprint\u001b[0m\u001b[0;34m(\u001b[0m\u001b[0;34m\"string to float:\"\u001b[0m\u001b[0;34m,\u001b[0m \u001b[0mfloat\u001b[0m\u001b[0;34m(\u001b[0m\u001b[0;34m\"Hello world!\"\u001b[0m\u001b[0;34m)\u001b[0m\u001b[0;34m)\u001b[0m\u001b[0;34m\u001b[0m\u001b[0;34m\u001b[0m\u001b[0m\n\u001b[0m",
            "\u001b[0;31mValueError\u001b[0m: could not convert string to float: 'Hello world!'"
          ]
        }
      ]
    },
    {
      "cell_type": "code",
      "metadata": {
        "colab": {
          "base_uri": "https://localhost:8080/",
          "height": 138
        },
        "id": "pfltQkyKA_wq",
        "outputId": "2bb6d655-9421-448c-95f2-c464a97ef9a4"
      },
      "source": [
        "Given this information, what do you expect the following program to do?\n",
        "\n",
        "What does it actually do?\n",
        "\n",
        "Why do you think it does that?\n",
        "\n",
        "```python\n",
        "print(\"fractional string to int:\", int(\"3.4\"))\n",
        "```"
      ],
      "execution_count": null,
      "outputs": [
        {
          "output_type": "error",
          "ename": "SyntaxError",
          "evalue": "ignored",
          "traceback": [
            "\u001b[0;36m  File \u001b[0;32m\"<ipython-input-27-aad0e80a12ef>\"\u001b[0;36m, line \u001b[0;32m7\u001b[0m\n\u001b[0;31m    ```python\u001b[0m\n\u001b[0m    ^\u001b[0m\n\u001b[0;31mSyntaxError\u001b[0m\u001b[0;31m:\u001b[0m invalid syntax\n"
          ]
        }
      ]
    },
    {
      "cell_type": "markdown",
      "metadata": {
        "id": "wlOBLAjJBDgU"
      },
      "source": [
        "### Arithmetic with Different Types\n",
        "\n",
        "Which of the following will return the floating point number 2.0? Note: there may be more than one right answer.\n",
        "\n",
        "```python\n",
        "first = 1.0\n",
        "second = \"1\"\n",
        "third = \"1.1\"\n",
        "```\n",
        "\n",
        "\n",
        "1. `first + float(second)`\n",
        "1. `float(second) + float(third)`\n",
        "1. `first + int(third)`\n",
        "1. `first + int(float(third))`\n",
        "1. `int(first) + int(float(third))`\n",
        "1. `2.0 * second`\n"
      ]
    },
    {
      "cell_type": "markdown",
      "metadata": {
        "id": "LNaNLnl6BGa_"
      },
      "source": [
        "### Complex numbers\n",
        " Python provides complex numbers, which are written as `1.0+2.0j`. If `val` is a complex number, its real and imaginary parts can be accessed using dot notation as `val.real` and `val.imag`."
      ]
    },
    {
      "cell_type": "code",
      "metadata": {
        "colab": {
          "base_uri": "https://localhost:8080/"
        },
        "id": "Xxy8_h1aBdkx",
        "outputId": "9c61d96d-5cd3-4803-98fd-f3c81aac9ae7"
      },
      "source": [
        "complex = 6 + 2j\n",
        "print(complex.real)\n",
        "print(complex.imag)"
      ],
      "execution_count": null,
      "outputs": [
        {
          "output_type": "stream",
          "name": "stdout",
          "text": [
            "6.0\n",
            "2.0\n"
          ]
        }
      ]
    },
    {
      "cell_type": "markdown",
      "metadata": {
        "id": "qUx25oXyBfQw"
      },
      "source": [
        "\n",
        " * Why do you think Python uses `j` instead of `i` for the imaginary part?\n",
        " * What do you expect `1+2j + 3` to produce?\n",
        " * What do you expect `4j` to be? What about `4 j` or `4 + j`"
      ]
    },
    {
      "cell_type": "markdown",
      "metadata": {
        "id": "JdI9FRBHBnyI"
      },
      "source": [
        "## Key Points\n",
        "\n",
        "\n",
        "* Every value has a type.\n",
        "\n",
        "* Use the built-in function type to find the type of a value.\n",
        "\n",
        "* Types control what operations can be done on values.\n",
        "\n",
        "* Strings can be added and multiplied.\n",
        "\n",
        "* Strings have a length (but numbers don’t).\n",
        "\n",
        "* Must convert numbers to strings or vice versa when operating on them.\n",
        "\n",
        "* Can mix integers and floats freely in operations.\n",
        "\n",
        "* Variables only change value when something is assigned to them.\n"
      ]
    },
    {
      "cell_type": "markdown",
      "metadata": {
        "id": "dOYpQ6Q-BtiY"
      },
      "source": [
        "# Part 4 - Built in Functions and Help\n",
        "\n",
        " Questions\n",
        "\n",
        "  * How can I use built-in functions?\n",
        "\n",
        "  * How can I find out what they do?\n",
        "\n",
        "  * What kind of errors can occur in programs?\n",
        "\n",
        "Objectives\n",
        "\n",
        "  * Explain the purpose of functions.\n",
        "  * Correctly call built-in Python functions.\n",
        "  * Correctly nest calls to built-in functions.\n",
        "  * Use help to display documentation for built-in functions.\n",
        "  * Correctly describe situations in which SyntaxError and NameError occur.\n"
      ]
    },
    {
      "cell_type": "markdown",
      "metadata": {
        "id": "-4jkyhKYUIKg"
      },
      "source": [
        "##  Use comments to add documentation to programs."
      ]
    },
    {
      "cell_type": "code",
      "metadata": {
        "id": "a8WzkxWsUWJ6"
      },
      "source": [
        "# This sentence isn't executed by Python.\n",
        "adjustment = 0.5   # Neither is this - anything after '#' is ignored."
      ],
      "execution_count": null,
      "outputs": []
    },
    {
      "cell_type": "markdown",
      "metadata": {
        "id": "lUoPfFONUXJa"
      },
      "source": [
        "## A function may take zero or more arguments.\n",
        "\n",
        "* We have seen some functions already — now let’s take a closer look.\n",
        "* An argument is a value passed into a function.\n",
        "* len takes exactly one.\n",
        "* int, str, and float create a new value from an existing one.\n",
        "* print takes zero or more.\n",
        "* print with no arguments prints a blank line.\n",
        "  *     Must always use parentheses, even if they’re empty, so that Python knows a function is being called.\n"
      ]
    },
    {
      "cell_type": "code",
      "metadata": {
        "colab": {
          "base_uri": "https://localhost:8080/"
        },
        "id": "MHcj8A22UbcO",
        "outputId": "ef63cb2a-1658-4642-b59c-e21f40888c2d"
      },
      "source": [
        "print('before')\n",
        "print()\n",
        "print('after')"
      ],
      "execution_count": null,
      "outputs": [
        {
          "output_type": "stream",
          "name": "stdout",
          "text": [
            "before\n",
            "\n",
            "after\n"
          ]
        }
      ]
    },
    {
      "cell_type": "markdown",
      "metadata": {
        "id": "zqRI55RwUerd"
      },
      "source": [
        "## Every function returns something.\n",
        "\n",
        "\n",
        "* Every function call produces some result.\n",
        "* If the function doesn’t have a useful result to return, it usually returns the special value None. None is a Python object that stands in anytime there is no value.\n"
      ]
    },
    {
      "cell_type": "code",
      "metadata": {
        "colab": {
          "base_uri": "https://localhost:8080/"
        },
        "id": "VMqPGuxfUixt",
        "outputId": "3b68c310-9563-45c9-f90b-0781fc77c110"
      },
      "source": [
        "result = print('example')\n",
        "print('result of print is', result)"
      ],
      "execution_count": null,
      "outputs": [
        {
          "output_type": "stream",
          "name": "stdout",
          "text": [
            "example\n",
            "result of print is None\n"
          ]
        }
      ]
    },
    {
      "cell_type": "markdown",
      "metadata": {
        "id": "xN1RP_9aU3LP"
      },
      "source": [
        "## Commonly-used built-in functions include `max`, `min`, and `round`."
      ]
    },
    {
      "cell_type": "markdown",
      "metadata": {
        "id": "W3ghHz8IU5Ed"
      },
      "source": [
        "\n",
        "* Use `max` to find the largest value of one or more values.\n",
        "* Use `min` to find the smallest.\n",
        "* Both work on character strings as well as numbers.\n",
        "  *    “Larger” and “smaller” use (0-9, A-Z, a-z) to compare letters.\n"
      ]
    },
    {
      "cell_type": "code",
      "metadata": {
        "colab": {
          "base_uri": "https://localhost:8080/"
        },
        "id": "JeMLBUpdU9kg",
        "outputId": "9e860b94-cd0b-4902-b985-b66233e3b272"
      },
      "source": [
        "print(max(1, 2, 3))\n",
        "print(min('a', 'A', '0'))"
      ],
      "execution_count": null,
      "outputs": [
        {
          "output_type": "stream",
          "name": "stdout",
          "text": [
            "3\n",
            "0\n"
          ]
        }
      ]
    },
    {
      "cell_type": "markdown",
      "metadata": {
        "id": "F8Q8Q5hFVCpy"
      },
      "source": [
        "## Functions may only work for certain (combinations of) arguments.\n",
        "\n",
        "\n",
        " * max and min must be given at least one argument.\n",
        "   *     “Largest of the empty set” is a meaningless question.\n",
        " * And they must be given things that can meaningfully be compared."
      ]
    },
    {
      "cell_type": "code",
      "metadata": {
        "colab": {
          "base_uri": "https://localhost:8080/",
          "height": 175
        },
        "id": "M0cUOOj2VOyk",
        "outputId": "28c31326-7827-4ceb-ca37-a5b4623a5473"
      },
      "source": [
        "print(max(1, 'a'))"
      ],
      "execution_count": null,
      "outputs": [
        {
          "output_type": "error",
          "ename": "TypeError",
          "evalue": "ignored",
          "traceback": [
            "\u001b[0;31m---------------------------------------------------------------------------\u001b[0m",
            "\u001b[0;31mTypeError\u001b[0m                                 Traceback (most recent call last)",
            "\u001b[0;32m<ipython-input-40-3f049acf3762>\u001b[0m in \u001b[0;36m<module>\u001b[0;34m()\u001b[0m\n\u001b[0;32m----> 1\u001b[0;31m \u001b[0mprint\u001b[0m\u001b[0;34m(\u001b[0m\u001b[0mmax\u001b[0m\u001b[0;34m(\u001b[0m\u001b[0;36m1\u001b[0m\u001b[0;34m,\u001b[0m \u001b[0;34m'a'\u001b[0m\u001b[0;34m)\u001b[0m\u001b[0;34m)\u001b[0m\u001b[0;34m\u001b[0m\u001b[0;34m\u001b[0m\u001b[0m\n\u001b[0m",
            "\u001b[0;31mTypeError\u001b[0m: '>' not supported between instances of 'str' and 'int'"
          ]
        }
      ]
    },
    {
      "cell_type": "markdown",
      "metadata": {
        "id": "yQsAbzUqVKl8"
      },
      "source": [
        "## Functions may have default values for some arguments.\n",
        "\n",
        "\n",
        "* round will round off a floating-point number.\n",
        "* By default, rounds to zero decimal places.\n"
      ]
    },
    {
      "cell_type": "code",
      "metadata": {
        "colab": {
          "base_uri": "https://localhost:8080/"
        },
        "id": "-hTT2uz8VUby",
        "outputId": "29f978b0-cd55-4f9c-f5f8-5496a51aa6aa"
      },
      "source": [
        "round(3.712)"
      ],
      "execution_count": null,
      "outputs": [
        {
          "output_type": "execute_result",
          "data": {
            "text/plain": [
              "4"
            ]
          },
          "metadata": {},
          "execution_count": 41
        }
      ]
    },
    {
      "cell_type": "markdown",
      "metadata": {
        "id": "I_S1OStyVVks"
      },
      "source": [
        "* We can specify the number of decimal places we want.\n"
      ]
    },
    {
      "cell_type": "code",
      "metadata": {
        "colab": {
          "base_uri": "https://localhost:8080/"
        },
        "id": "o_85_EqEVY5G",
        "outputId": "f6b7a078-f06f-411e-e0da-98d0c4642719"
      },
      "source": [
        "round(3.712, 1)"
      ],
      "execution_count": null,
      "outputs": [
        {
          "output_type": "execute_result",
          "data": {
            "text/plain": [
              "3.7"
            ]
          },
          "metadata": {},
          "execution_count": 42
        }
      ]
    },
    {
      "cell_type": "markdown",
      "metadata": {
        "id": "IPwewLTPVZNE"
      },
      "source": [
        "## Functions attached to objects are called methods\n",
        "\n",
        "\n",
        " * Functions take another form that will be common in the pandas episodes.\n",
        " * Methods have parentheses like functions, but come after the variable.\n",
        " * Some methods are used for internal Python operations, and are marked with double underlines.\n"
      ]
    },
    {
      "cell_type": "code",
      "metadata": {
        "colab": {
          "base_uri": "https://localhost:8080/"
        },
        "id": "jxbjNHPDVe67",
        "outputId": "cb96dd77-eda4-4dfb-cf4d-214e7c95d5e6"
      },
      "source": [
        "my_string = 'Hello world!'  # creation of a string object \n",
        "\n",
        "print(len(my_string))       # the len function takes a string as an argument and returns the length of the string\n",
        "\n",
        "print(my_string.swapcase()) # calling the swapcase method on the my_string object\n",
        "\n",
        "print(my_string.__len__())  # calling the internal __len__ method on the my_string object, used by len(my_string)\n"
      ],
      "execution_count": null,
      "outputs": [
        {
          "output_type": "stream",
          "name": "stdout",
          "text": [
            "12\n",
            "hELLO WORLD!\n",
            "12\n"
          ]
        }
      ]
    },
    {
      "cell_type": "markdown",
      "metadata": {
        "id": "g6qSmbvZVhQE"
      },
      "source": [
        "\n",
        "\n",
        "\n",
        "* You might even see them chained together. They operate left to right.\n"
      ]
    },
    {
      "cell_type": "code",
      "metadata": {
        "colab": {
          "base_uri": "https://localhost:8080/"
        },
        "id": "aoFZZNW-Vk-N",
        "outputId": "3350ed2c-17e9-4f47-bb84-2f05a9afc568"
      },
      "source": [
        "print(my_string.isupper())          # Not all the letters are uppercase\n",
        "print(my_string.upper())            # This capitalizes all the letters\n",
        "\n",
        "print(my_string.upper().isupper())  # Now all the letters are uppercase"
      ],
      "execution_count": null,
      "outputs": [
        {
          "output_type": "stream",
          "name": "stdout",
          "text": [
            "False\n",
            "HELLO WORLD!\n",
            "True\n"
          ]
        }
      ]
    },
    {
      "cell_type": "markdown",
      "metadata": {
        "id": "FOBTu7zkVmCX"
      },
      "source": [
        "## Use the built-in function help to get help for a function.\n",
        "*  Every built-in function has online documentation.\n"
      ]
    },
    {
      "cell_type": "code",
      "metadata": {
        "colab": {
          "base_uri": "https://localhost:8080/"
        },
        "id": "Zr4SAyjZVoOb",
        "outputId": "6da65e3b-40c5-46b5-b28c-61baae6201f3"
      },
      "source": [
        "help(round)"
      ],
      "execution_count": null,
      "outputs": [
        {
          "output_type": "stream",
          "name": "stdout",
          "text": [
            "Help on built-in function round in module builtins:\n",
            "\n",
            "round(number, ndigits=None)\n",
            "    Round a number to a given precision in decimal digits.\n",
            "    \n",
            "    The return value is an integer if ndigits is omitted or None.  Otherwise\n",
            "    the return value has the same type as the number.  ndigits may be negative.\n",
            "\n"
          ]
        }
      ]
    },
    {
      "cell_type": "markdown",
      "metadata": {
        "id": "eUhr8_WVVqpY"
      },
      "source": [
        "## The Jupyter Notebook has two ways to get help.\n",
        "\n",
        "\n",
        "* Option 1: Place the cursor near where the function is invoked in a cell (i.e., the function name or its parameters),\n",
        "  * Hover your mouse next to the cursor\n",
        "\n",
        "\n",
        "* Option 2: Type the function name in a cell with a question mark after it. Then run the cell.\n"
      ]
    },
    {
      "cell_type": "code",
      "metadata": {
        "id": "fvhU1eTUVykJ"
      },
      "source": [
        "?round(2)"
      ],
      "execution_count": null,
      "outputs": []
    },
    {
      "cell_type": "markdown",
      "metadata": {
        "id": "LwjyImydWygz"
      },
      "source": [
        ""
      ]
    },
    {
      "cell_type": "markdown",
      "metadata": {
        "id": "k2-zE-p4Wc_9"
      },
      "source": [
        "## Python reports a syntax error when it can’t understand the source of a program.\n",
        "\n",
        "*  Won’t even try to run the program if it can’t be parsed."
      ]
    },
    {
      "cell_type": "code",
      "metadata": {
        "colab": {
          "base_uri": "https://localhost:8080/",
          "height": 138
        },
        "id": "PbfsCUi4WwYO",
        "outputId": "23f8b240-8a47-4f1d-d701-6a78bbcd1a5c"
      },
      "source": [
        "# Forgot to close the quote marks around the string.\n",
        "name = 'Feng"
      ],
      "execution_count": null,
      "outputs": [
        {
          "output_type": "error",
          "ename": "SyntaxError",
          "evalue": "ignored",
          "traceback": [
            "\u001b[0;36m  File \u001b[0;32m\"<ipython-input-51-f42768451d55>\"\u001b[0;36m, line \u001b[0;32m2\u001b[0m\n\u001b[0;31m    name = 'Feng\u001b[0m\n\u001b[0m                ^\u001b[0m\n\u001b[0;31mSyntaxError\u001b[0m\u001b[0;31m:\u001b[0m EOL while scanning string literal\n"
          ]
        }
      ]
    },
    {
      "cell_type": "code",
      "metadata": {
        "colab": {
          "base_uri": "https://localhost:8080/",
          "height": 138
        },
        "id": "d_q4769pW1mm",
        "outputId": "1ade04c4-3e29-4779-dfd3-cf1ec9513cd6"
      },
      "source": [
        "# An extra '=' in the assignment.\n",
        "age = = 52"
      ],
      "execution_count": null,
      "outputs": [
        {
          "output_type": "error",
          "ename": "SyntaxError",
          "evalue": "ignored",
          "traceback": [
            "\u001b[0;36m  File \u001b[0;32m\"<ipython-input-52-ccc3df3cf902>\"\u001b[0;36m, line \u001b[0;32m2\u001b[0m\n\u001b[0;31m    age = = 52\u001b[0m\n\u001b[0m          ^\u001b[0m\n\u001b[0;31mSyntaxError\u001b[0m\u001b[0;31m:\u001b[0m invalid syntax\n"
          ]
        }
      ]
    },
    {
      "cell_type": "markdown",
      "metadata": {
        "id": "Z3YCP20ZW2dG"
      },
      "source": [
        "* Look more closely at the error message:\n"
      ]
    },
    {
      "cell_type": "code",
      "metadata": {
        "colab": {
          "base_uri": "https://localhost:8080/",
          "height": 138
        },
        "id": "bJsviRq0W4sl",
        "outputId": "e4beb0f2-4ea4-4410-d13c-95c33a790876"
      },
      "source": [
        "print(\"hello world\""
      ],
      "execution_count": null,
      "outputs": [
        {
          "output_type": "error",
          "ename": "SyntaxError",
          "evalue": "ignored",
          "traceback": [
            "\u001b[0;36m  File \u001b[0;32m\"<ipython-input-53-fe69f65f3ba9>\"\u001b[0;36m, line \u001b[0;32m1\u001b[0m\n\u001b[0;31m    print(\"hello world\"\u001b[0m\n\u001b[0m                       ^\u001b[0m\n\u001b[0;31mSyntaxError\u001b[0m\u001b[0;31m:\u001b[0m unexpected EOF while parsing\n"
          ]
        }
      ]
    },
    {
      "cell_type": "markdown",
      "metadata": {
        "id": "8dGWnA42W5yc"
      },
      "source": [
        "\n",
        "*The message indicates a problem on first line of the input (“line 1”).\n",
        "  *    In this case the “ipython-input” section of the file name tells us that we are working with input into IPython, the Python interpreter used by the Jupyter Notebook.\n",
        "* The `-53-` part of the filename indicates that the error occurred in cell 6 of our Notebook.\n",
        "* Next is the problematic line of code, indicating the problem with a `^` pointer.\n"
      ]
    },
    {
      "cell_type": "markdown",
      "metadata": {
        "id": "R3sXoM7dW_IX"
      },
      "source": [
        "## Python reports a runtime error when something goes wrong while a program is executing."
      ]
    },
    {
      "cell_type": "code",
      "metadata": {
        "colab": {
          "base_uri": "https://localhost:8080/",
          "height": 194
        },
        "id": "6mO9gO0PXTgn",
        "outputId": "109c4843-c565-42bd-f2ea-c2e161ac6fb7"
      },
      "source": [
        "age = 53\n",
        "remaining = 100 - aege # mis-spelled 'age'"
      ],
      "execution_count": null,
      "outputs": [
        {
          "output_type": "error",
          "ename": "NameError",
          "evalue": "ignored",
          "traceback": [
            "\u001b[0;31m---------------------------------------------------------------------------\u001b[0m",
            "\u001b[0;31mNameError\u001b[0m                                 Traceback (most recent call last)",
            "\u001b[0;32m<ipython-input-55-1214fb6c55fc>\u001b[0m in \u001b[0;36m<module>\u001b[0;34m()\u001b[0m\n\u001b[1;32m      1\u001b[0m \u001b[0mage\u001b[0m \u001b[0;34m=\u001b[0m \u001b[0;36m53\u001b[0m\u001b[0;34m\u001b[0m\u001b[0;34m\u001b[0m\u001b[0m\n\u001b[0;32m----> 2\u001b[0;31m \u001b[0mremaining\u001b[0m \u001b[0;34m=\u001b[0m \u001b[0;36m100\u001b[0m \u001b[0;34m-\u001b[0m \u001b[0maege\u001b[0m \u001b[0;31m# mis-spelled 'age'\u001b[0m\u001b[0;34m\u001b[0m\u001b[0;34m\u001b[0m\u001b[0m\n\u001b[0m",
            "\u001b[0;31mNameError\u001b[0m: name 'aege' is not defined"
          ]
        }
      ]
    },
    {
      "cell_type": "markdown",
      "metadata": {
        "id": "4u4-ZWw8XTw6"
      },
      "source": [
        "\n",
        "* Fix syntax errors by reading the source and runtime errors by tracing execution.\n"
      ]
    },
    {
      "cell_type": "markdown",
      "metadata": {
        "id": "qITLOKuNXWSD"
      },
      "source": [
        "## Exercises"
      ]
    },
    {
      "cell_type": "markdown",
      "metadata": {
        "id": "Ixym6CtYXm4L"
      },
      "source": [
        "### What Happens When\n",
        "\n",
        "1. Explain in simple terms the order of operations in the following program: when does the addition happen, when does the subtraction happen, when is each function called, etc.\n",
        "1. What is the final value of radiance?\n",
        "\n",
        "```python\n",
        "radiance = 1.0\n",
        "radiance = max(2.1, 2.0 + min(radiance, 1.1 * radiance - 0.5))\n",
        "```"
      ]
    },
    {
      "cell_type": "markdown",
      "metadata": {
        "id": "cI7egrPuXrjy"
      },
      "source": [
        "### Spot the Difference\n",
        "\n",
        "\n",
        "1. Predict what each of the `print` statements in the program below will print.\n",
        "2. Does `max(len(rich), poor)`` run or produce an error message? If it runs, does its result make any sense?\n",
        "\n",
        "```python\n",
        "easy_string = \"abc\"\n",
        "print(max(easy_string))\n",
        "rich = \"gold\"\n",
        "poor = \"tin\"\n",
        "print(max(rich, poor))\n",
        "print(max(len(rich), len(poor)))\n",
        "```"
      ]
    },
    {
      "cell_type": "markdown",
      "metadata": {
        "id": "olR25j9LYR5C"
      },
      "source": [
        "### Why Not?\n",
        "\n",
        "Why is it that `max` and `min` do not return `None` when they are called with no arguments?"
      ]
    },
    {
      "cell_type": "markdown",
      "metadata": {
        "id": "4pYM0I3VYT79"
      },
      "source": [
        "### Last Character of a String\n",
        "If Python starts counting from zero, and len returns the number of characters in a string, what index expression will get the last character in the string name?"
      ]
    },
    {
      "cell_type": "markdown",
      "metadata": {
        "id": "lJWhVvnYYefJ"
      },
      "source": [
        "## Explore the Python docs!\n",
        "The [official Python documentation](https://docs.python.org/3/) is arguably the most complete source of information about the language. It is available in different languages and contains a lot of useful resources. The [Built-in Functions page](https://docs.python.org/3/library/functions.html) contains a catalogue of all of these functions, including the ones that we’ve covered in this lesson. Some of these are more advanced and unnecessary at the moment, but others are very simple and useful."
      ]
    },
    {
      "cell_type": "markdown",
      "metadata": {
        "id": "E2odERE_YjJD"
      },
      "source": [
        "## Key Points\n",
        "\n",
        "\n",
        "\n",
        "  *  Use comments to add documentation to programs.\n",
        "  *  A function may take zero or more arguments.\n",
        "  *  Commonly-used built-in functions include max, min, and round.\n",
        "  *  Functions may only work for certain (combinations of) arguments.\n",
        "  *  Functions may have default values for some arguments.\n",
        "  *  Use the built-in function help to get help for a function.\n",
        "  *  The Jupyter Notebook has two ways to get help.\n",
        "  *  Every function returns something.\n",
        "  *  Python reports a syntax error when it can’t understand the source of a pr* gram.\n",
        "  *  Python reports a runtime error when something goes wrong while a program is* executing.\n",
        "  *  Fix syntax errors by reading the source code, and runtime errors by tracing the program’s execution.\n"
      ]
    },
    {
      "cell_type": "markdown",
      "metadata": {
        "id": "b61cNqfGY04T"
      },
      "source": [
        "---- \n",
        "\n",
        "# ☕ ☕ ☕ ☕ Coffee break ☕ ☕ ☕ ☕\n",
        "\n",
        "![](https://www.unisa.edu.au/siteassets/media-centre/images/heart-coffee---shutterstock_512503885_web.jpg)\n",
        "\n",
        "Take some time to unwind, have a hot beverage, and get to know your fellow participants!\n",
        "\n",
        "--------"
      ]
    },
    {
      "cell_type": "code",
      "metadata": {
        "id": "raHfhN3bZIq2"
      },
      "source": [
        ""
      ],
      "execution_count": null,
      "outputs": []
    },
    {
      "cell_type": "markdown",
      "metadata": {
        "id": "EU66lMfZK9wA"
      },
      "source": [
        "# Part 6 - Libraries\n",
        "\n",
        "## Questions\n",
        "\n",
        "  * How can I use software that other people have written?\n",
        "\n",
        "  * How can I find out what that software does?\n",
        "\n",
        "##  Objectives\n",
        "\n",
        "\n",
        "  *  Explain what software libraries are and why programmers create and use them.\n",
        "\n",
        "  *  Write programs that import and use modules from Python’s standard library.\n",
        "\n",
        "  *  Find and read documentation for the standard library interactively (in the interpreter) and online.\n",
        "\n"
      ]
    },
    {
      "cell_type": "markdown",
      "metadata": {
        "id": "kRtGJ0oLLBRZ"
      },
      "source": [
        "##Most of the power of a programming language is in its libraries. \n",
        "\n",
        "\n",
        "* A library is a collection of files (called modules) that contains functions for use by other programs.\n",
        "  * May also contain data values (e.g., numerical constants) and other things.\n",
        "  * Library’s contents are supposed to be related, but there’s no way to enforce that.\n",
        "*  The Python standard library is an extensive suite of modules that comes with Python itself.\n",
        "* Many additional libraries are available from PyPI (the Python Package Index).\n",
        "* We will see later how to write new libraries.\n",
        "\n",
        "### Libraries and modules\n",
        "\n",
        "A library is a collection of modules, but the terms are often used interchangeably, especially since many libraries only consist of a single module, so don’t worry if you mix them.\n"
      ]
    },
    {
      "cell_type": "markdown",
      "metadata": {
        "id": "_LmzxgudLZQI"
      },
      "source": [
        "## A program must import a library module before using it.\n",
        "\n",
        "\n",
        "* Use `import` to load a library module into a program’s memory.\n",
        "* Then refer to things from the module as `module_name.thing_name`.\n",
        "*     Python uses `.` to mean “part of”.\n",
        "* Using `math`, one of the modules in the standard library:\n"
      ]
    },
    {
      "cell_type": "code",
      "metadata": {
        "colab": {
          "base_uri": "https://localhost:8080/"
        },
        "id": "YWEnuEwTxMxn",
        "outputId": "14f21efe-2c4f-447d-9235-bb74e66cdf2e"
      },
      "source": [
        "import math\n",
        "\n",
        "print('pi is', math.pi)\n",
        "print('cos(pi) is', math.cos(math.pi))"
      ],
      "execution_count": null,
      "outputs": [
        {
          "output_type": "stream",
          "name": "stdout",
          "text": [
            "pi is 3.141592653589793\n",
            "cos(pi) is -1.0\n"
          ]
        }
      ]
    },
    {
      "cell_type": "markdown",
      "metadata": {
        "id": "XYQkrO41xOb5"
      },
      "source": [
        "\n",
        "* Have to refer to each item with the module’s name.\n",
        "  *       math.cos(pi) won’t work: the reference to pi doesn’t somehow “inherit” the function’s reference to math.\n"
      ]
    },
    {
      "cell_type": "markdown",
      "metadata": {
        "id": "a8Fkh9oaxRps"
      },
      "source": [
        "## Use `help` to learn about the contents of a library module.\n",
        "\n",
        "* Works just like help for a function.\n"
      ]
    },
    {
      "cell_type": "code",
      "metadata": {
        "colab": {
          "base_uri": "https://localhost:8080/"
        },
        "id": "-3FZqJyWxWyt",
        "outputId": "0b51e517-a3cc-425f-e058-057f679b4be2"
      },
      "source": [
        "help(math)"
      ],
      "execution_count": null,
      "outputs": [
        {
          "output_type": "stream",
          "name": "stdout",
          "text": [
            "Help on built-in module math:\n",
            "\n",
            "NAME\n",
            "    math\n",
            "\n",
            "DESCRIPTION\n",
            "    This module provides access to the mathematical functions\n",
            "    defined by the C standard.\n",
            "\n",
            "FUNCTIONS\n",
            "    acos(x, /)\n",
            "        Return the arc cosine (measured in radians) of x.\n",
            "    \n",
            "    acosh(x, /)\n",
            "        Return the inverse hyperbolic cosine of x.\n",
            "    \n",
            "    asin(x, /)\n",
            "        Return the arc sine (measured in radians) of x.\n",
            "    \n",
            "    asinh(x, /)\n",
            "        Return the inverse hyperbolic sine of x.\n",
            "    \n",
            "    atan(x, /)\n",
            "        Return the arc tangent (measured in radians) of x.\n",
            "    \n",
            "    atan2(y, x, /)\n",
            "        Return the arc tangent (measured in radians) of y/x.\n",
            "        \n",
            "        Unlike atan(y/x), the signs of both x and y are considered.\n",
            "    \n",
            "    atanh(x, /)\n",
            "        Return the inverse hyperbolic tangent of x.\n",
            "    \n",
            "    ceil(x, /)\n",
            "        Return the ceiling of x as an Integral.\n",
            "        \n",
            "        This is the smallest integer >= x.\n",
            "    \n",
            "    copysign(x, y, /)\n",
            "        Return a float with the magnitude (absolute value) of x but the sign of y.\n",
            "        \n",
            "        On platforms that support signed zeros, copysign(1.0, -0.0)\n",
            "        returns -1.0.\n",
            "    \n",
            "    cos(x, /)\n",
            "        Return the cosine of x (measured in radians).\n",
            "    \n",
            "    cosh(x, /)\n",
            "        Return the hyperbolic cosine of x.\n",
            "    \n",
            "    degrees(x, /)\n",
            "        Convert angle x from radians to degrees.\n",
            "    \n",
            "    erf(x, /)\n",
            "        Error function at x.\n",
            "    \n",
            "    erfc(x, /)\n",
            "        Complementary error function at x.\n",
            "    \n",
            "    exp(x, /)\n",
            "        Return e raised to the power of x.\n",
            "    \n",
            "    expm1(x, /)\n",
            "        Return exp(x)-1.\n",
            "        \n",
            "        This function avoids the loss of precision involved in the direct evaluation of exp(x)-1 for small x.\n",
            "    \n",
            "    fabs(x, /)\n",
            "        Return the absolute value of the float x.\n",
            "    \n",
            "    factorial(x, /)\n",
            "        Find x!.\n",
            "        \n",
            "        Raise a ValueError if x is negative or non-integral.\n",
            "    \n",
            "    floor(x, /)\n",
            "        Return the floor of x as an Integral.\n",
            "        \n",
            "        This is the largest integer <= x.\n",
            "    \n",
            "    fmod(x, y, /)\n",
            "        Return fmod(x, y), according to platform C.\n",
            "        \n",
            "        x % y may differ.\n",
            "    \n",
            "    frexp(x, /)\n",
            "        Return the mantissa and exponent of x, as pair (m, e).\n",
            "        \n",
            "        m is a float and e is an int, such that x = m * 2.**e.\n",
            "        If x is 0, m and e are both 0.  Else 0.5 <= abs(m) < 1.0.\n",
            "    \n",
            "    fsum(seq, /)\n",
            "        Return an accurate floating point sum of values in the iterable seq.\n",
            "        \n",
            "        Assumes IEEE-754 floating point arithmetic.\n",
            "    \n",
            "    gamma(x, /)\n",
            "        Gamma function at x.\n",
            "    \n",
            "    gcd(x, y, /)\n",
            "        greatest common divisor of x and y\n",
            "    \n",
            "    hypot(x, y, /)\n",
            "        Return the Euclidean distance, sqrt(x*x + y*y).\n",
            "    \n",
            "    isclose(a, b, *, rel_tol=1e-09, abs_tol=0.0)\n",
            "        Determine whether two floating point numbers are close in value.\n",
            "        \n",
            "          rel_tol\n",
            "            maximum difference for being considered \"close\", relative to the\n",
            "            magnitude of the input values\n",
            "          abs_tol\n",
            "            maximum difference for being considered \"close\", regardless of the\n",
            "            magnitude of the input values\n",
            "        \n",
            "        Return True if a is close in value to b, and False otherwise.\n",
            "        \n",
            "        For the values to be considered close, the difference between them\n",
            "        must be smaller than at least one of the tolerances.\n",
            "        \n",
            "        -inf, inf and NaN behave similarly to the IEEE 754 Standard.  That\n",
            "        is, NaN is not close to anything, even itself.  inf and -inf are\n",
            "        only close to themselves.\n",
            "    \n",
            "    isfinite(x, /)\n",
            "        Return True if x is neither an infinity nor a NaN, and False otherwise.\n",
            "    \n",
            "    isinf(x, /)\n",
            "        Return True if x is a positive or negative infinity, and False otherwise.\n",
            "    \n",
            "    isnan(x, /)\n",
            "        Return True if x is a NaN (not a number), and False otherwise.\n",
            "    \n",
            "    ldexp(x, i, /)\n",
            "        Return x * (2**i).\n",
            "        \n",
            "        This is essentially the inverse of frexp().\n",
            "    \n",
            "    lgamma(x, /)\n",
            "        Natural logarithm of absolute value of Gamma function at x.\n",
            "    \n",
            "    log(...)\n",
            "        log(x, [base=math.e])\n",
            "        Return the logarithm of x to the given base.\n",
            "        \n",
            "        If the base not specified, returns the natural logarithm (base e) of x.\n",
            "    \n",
            "    log10(x, /)\n",
            "        Return the base 10 logarithm of x.\n",
            "    \n",
            "    log1p(x, /)\n",
            "        Return the natural logarithm of 1+x (base e).\n",
            "        \n",
            "        The result is computed in a way which is accurate for x near zero.\n",
            "    \n",
            "    log2(x, /)\n",
            "        Return the base 2 logarithm of x.\n",
            "    \n",
            "    modf(x, /)\n",
            "        Return the fractional and integer parts of x.\n",
            "        \n",
            "        Both results carry the sign of x and are floats.\n",
            "    \n",
            "    pow(x, y, /)\n",
            "        Return x**y (x to the power of y).\n",
            "    \n",
            "    radians(x, /)\n",
            "        Convert angle x from degrees to radians.\n",
            "    \n",
            "    remainder(x, y, /)\n",
            "        Difference between x and the closest integer multiple of y.\n",
            "        \n",
            "        Return x - n*y where n*y is the closest integer multiple of y.\n",
            "        In the case where x is exactly halfway between two multiples of\n",
            "        y, the nearest even value of n is used. The result is always exact.\n",
            "    \n",
            "    sin(x, /)\n",
            "        Return the sine of x (measured in radians).\n",
            "    \n",
            "    sinh(x, /)\n",
            "        Return the hyperbolic sine of x.\n",
            "    \n",
            "    sqrt(x, /)\n",
            "        Return the square root of x.\n",
            "    \n",
            "    tan(x, /)\n",
            "        Return the tangent of x (measured in radians).\n",
            "    \n",
            "    tanh(x, /)\n",
            "        Return the hyperbolic tangent of x.\n",
            "    \n",
            "    trunc(x, /)\n",
            "        Truncates the Real x to the nearest Integral toward 0.\n",
            "        \n",
            "        Uses the __trunc__ magic method.\n",
            "\n",
            "DATA\n",
            "    e = 2.718281828459045\n",
            "    inf = inf\n",
            "    nan = nan\n",
            "    pi = 3.141592653589793\n",
            "    tau = 6.283185307179586\n",
            "\n",
            "FILE\n",
            "    (built-in)\n",
            "\n",
            "\n"
          ]
        }
      ]
    },
    {
      "cell_type": "markdown",
      "metadata": {
        "id": "vCSbpDVDxbWB"
      },
      "source": [
        "## Import specific items from a library module to shorten programs.\n",
        "\n",
        "* Use from ... import ... to load only specific items from a library module.\n",
        "* Then refer to them directly without library name as prefix.\n"
      ]
    },
    {
      "cell_type": "code",
      "metadata": {
        "colab": {
          "base_uri": "https://localhost:8080/"
        },
        "id": "8FmHzTemxkPp",
        "outputId": "c9149d83-f5cd-4772-c5b0-37fa2e22fbcc"
      },
      "source": [
        "from math import cos, pi\n",
        "\n",
        "print('cos(pi) is', cos(pi))"
      ],
      "execution_count": null,
      "outputs": [
        {
          "output_type": "stream",
          "name": "stdout",
          "text": [
            "cos(pi) is -1.0\n"
          ]
        }
      ]
    },
    {
      "cell_type": "markdown",
      "metadata": {
        "id": "PL3vdxUpxlWY"
      },
      "source": [
        "## Create an alias for a library module when importing it to shorten programs.\n",
        "\n",
        "\n",
        "* Use `import ... as ...` to give a library a short alias while importing it.\n",
        "* Then refer to items in the library using that shortened name.\n"
      ]
    },
    {
      "cell_type": "code",
      "metadata": {
        "colab": {
          "base_uri": "https://localhost:8080/"
        },
        "id": "4MNUm6fBxqh8",
        "outputId": "aaaa8266-8226-41b5-a59d-27086056c985"
      },
      "source": [
        "import math as m\n",
        "\n",
        "print('cos(pi) is', m.cos(m.pi))"
      ],
      "execution_count": null,
      "outputs": [
        {
          "output_type": "stream",
          "name": "stdout",
          "text": [
            "cos(pi) is -1.0\n"
          ]
        }
      ]
    },
    {
      "cell_type": "markdown",
      "metadata": {
        "id": "JK5g07DexrmZ"
      },
      "source": [
        "\n",
        "* Commonly used for libraries that are frequently used or have long names.\n",
        "  * E.g., the `numpy` scientific computing library is often aliased as `np`.\n",
        "* But can make programs harder to understand, since readers must learn your program’s aliases.\n"
      ]
    },
    {
      "cell_type": "markdown",
      "metadata": {
        "id": "X4c_KOg8_LgJ"
      },
      "source": [
        "## Exercises"
      ]
    },
    {
      "cell_type": "markdown",
      "metadata": {
        "id": "QLJobpWT_Ncm"
      },
      "source": [
        "### Exploring the Math Module\n",
        "\n",
        "\n",
        "1. What function from the math module can you use to calculate a square root without using sqrt?\n",
        "2. Since the library contains this function, why does sqrt exist?\n"
      ]
    },
    {
      "cell_type": "markdown",
      "metadata": {
        "id": "WdLFJ7y7_R-5"
      },
      "source": [
        "### Locating the Right Module\n",
        "\n",
        "You want to select a random character from a string:\n",
        "\n",
        "```python \n",
        "bases = 'ACTTGCTTGAC'\n",
        "```\n",
        "1. Which standard library module could help you?\n",
        "1. Which function would you select from that module? Are there alternatives?\n",
        "1. Try to write a program that uses the function.\n"
      ]
    },
    {
      "cell_type": "markdown",
      "metadata": {
        "id": "nRAvhDbB_agW"
      },
      "source": [
        "\n",
        "### Jigsaw Puzzle (Parson’s Problem) Programming Example\n",
        "\n",
        "```python\n",
        "bases=\"ACTTGCTTGAC\"\n",
        "import math\n",
        "import random\n",
        "___ = random.randrange(n_bases)\n",
        "___ = len(bases)\n",
        "print(\"random base \", bases[___], \"base index\", ___)\n",
        "\n",
        "```"
      ]
    },
    {
      "cell_type": "markdown",
      "metadata": {
        "id": "WJnd9xJA_j5K"
      },
      "source": [
        "### When Is Help Available?\n",
        "\n",
        "When a colleague of yours types `help(math)`, Python reports an error:\n",
        "```\n",
        "NameError: name 'math' is not defined\n",
        "```\n",
        "What has your colleague forgotten to do?"
      ]
    },
    {
      "cell_type": "markdown",
      "metadata": {
        "id": "3MZsmZAj_tN7"
      },
      "source": [
        "### Importing With Aliases\n",
        "\n",
        "\n",
        "1. Fill in the blanks so that the program below prints 90.0.\n",
        "1. Rewrite the program so that it uses import without as.\n",
        "1. Which form do you find easier to read?\n",
        "\n",
        "```python\n",
        "import math as m\n",
        "angle = ____.degrees(____.pi / 2)\n",
        "print(____)\n",
        "```\n"
      ]
    },
    {
      "cell_type": "markdown",
      "metadata": {
        "id": "-WqZjV0q_zAM"
      },
      "source": [
        "Match the following print statements with the appropriate library calls.\n",
        "\n",
        "Print commands:\n",
        "\n",
        "1. `print(\"sin(pi/2) =\", sin(pi/2))`\n",
        "1. `print(\"sin(pi/2) =\", m.sin(m.pi/2))`\n",
        "1. `print(\"sin(pi/2) =\", math.sin(math.pi/2))`\n",
        "\n",
        "Library calls:\n",
        "\n",
        "1. `from math import sin, pi`\n",
        "1. `import math`\n",
        "1. `import math as m`\n",
        "1. `from math import *`\n"
      ]
    },
    {
      "cell_type": "markdown",
      "metadata": {
        "id": "ZKhhPQfnAEMW"
      },
      "source": [
        "### Importing Specific Items\n",
        "\n",
        "1. Fill in the blanks so that the program below prints 90.0.\n",
        "1. Do you find this version easier to read than preceding ones?\n",
        "1. Why wouldn’t programmers always use this form of import?\n"
      ]
    },
    {
      "cell_type": "code",
      "metadata": {
        "id": "Z6iomarzAQ8r"
      },
      "source": [
        "____ math import ____, ____\n",
        "angle = degrees(pi / 2)\n",
        "print(angle)"
      ],
      "execution_count": null,
      "outputs": []
    },
    {
      "cell_type": "markdown",
      "metadata": {
        "id": "p6n5JP0pAT-4"
      },
      "source": [
        "### Reading Error Messages\n",
        "\n",
        "\n",
        "Read the code below and try to identify what the errors are without running it.\n",
        "Run the code, and read the error message. What type of error is it?\n",
        "\n",
        "```python\n",
        "from math import log\n",
        "log(0)\n",
        "```"
      ]
    },
    {
      "cell_type": "markdown",
      "metadata": {
        "id": "xdfihlesAZnU"
      },
      "source": [
        "## Key Points\n",
        "\n",
        "\n",
        "\n",
        "* Most of the power of a programming language is in its libraries.\n",
        " \n",
        "* A program must import a library module in order to use it.\n",
        " \n",
        "* Use `help` to learn about the contents of a library module.\n",
        " \n",
        "* Import specific items from a library to shorten programs.\n",
        " \n",
        "* Create an alias for a library when importing it to shorten programs.\n"
      ]
    },
    {
      "cell_type": "markdown",
      "metadata": {
        "id": "FJhzBwjABRFc"
      },
      "source": [
        "# Part 7 - Reading Tabular Data into DataFrames\n",
        "\n",
        " Questions\n",
        "\n",
        "  * How can I read tabular data?\n",
        "\n",
        "Objectives\n",
        "\n",
        "* Import the Pandas library\n",
        "* Use Pandas to load a simple CSV data set\n",
        "* Get some basic information about a Pandas DataFrame.\n",
        "\n"
      ]
    },
    {
      "cell_type": "markdown",
      "metadata": {
        "id": "4sqmQ0WRAgrS"
      },
      "source": [
        "## Use the Pandas library to do statistics on tabular data."
      ]
    },
    {
      "cell_type": "markdown",
      "metadata": {
        "id": "HToVQFc4BeJD"
      },
      "source": [
        "\n",
        "* Pandas is a widely-used Python library for statistics, particularly on tabular data.\n",
        "* Borrows many features from R’s dataframes.\n",
        "  *    A 2-dimensional table whose columns have names and potentially have different data types.\n",
        "* Load it with `import pandas as pd`. The alias pd is commonly used for Pandas.\n",
        "* Read a Comma Separated Values (CSV) data file with `pd.read_csv`.\n",
        "  *    Argument is the name of the file to be read.\n",
        "  *  Assign result to a variable to store the data that was read.\n",
        "`"
      ]
    },
    {
      "cell_type": "code",
      "metadata": {
        "colab": {
          "base_uri": "https://localhost:8080/"
        },
        "id": "r_flSfEZl3AZ",
        "outputId": "a898813f-694e-4f2d-d55d-674cc6cf684a"
      },
      "source": [
        "# Download the gapminder data\n",
        "!mkdir data -p\n",
        "!git clone https://github.com/PatrickRobotham/statistics-society-intro-python.git\n",
        "!cp -r statistics-society-intro-python/data/ ./"
      ],
      "execution_count": null,
      "outputs": [
        {
          "output_type": "stream",
          "name": "stdout",
          "text": [
            "fatal: destination path 'statistics-society-intro-python' already exists and is not an empty directory.\n"
          ]
        }
      ]
    },
    {
      "cell_type": "code",
      "metadata": {
        "colab": {
          "base_uri": "https://localhost:8080/"
        },
        "id": "ZoK4xYJPBjPO",
        "outputId": "5df4d9e4-a53a-483e-83f8-0798727c599d"
      },
      "source": [
        "import pandas as pd\n",
        "pd.set_option(\"max_columns\", None)\n",
        "data = pd.read_csv('data/gapminder_gdp_oceania.csv')\n",
        "print(data)"
      ],
      "execution_count": null,
      "outputs": [
        {
          "output_type": "stream",
          "name": "stdout",
          "text": [
            "       country  gdpPercap_1952  gdpPercap_1957  gdpPercap_1962  \\\n",
            "0    Australia     10039.59564     10949.64959     12217.22686   \n",
            "1  New Zealand     10556.57566     12247.39532     13175.67800   \n",
            "\n",
            "   gdpPercap_1967  gdpPercap_1972  gdpPercap_1977  gdpPercap_1982  \\\n",
            "0     14526.12465     16788.62948     18334.19751     19477.00928   \n",
            "1     14463.91893     16046.03728     16233.71770     17632.41040   \n",
            "\n",
            "   gdpPercap_1987  gdpPercap_1992  gdpPercap_1997  gdpPercap_2002  \\\n",
            "0     21888.88903     23424.76683     26997.93657     30687.75473   \n",
            "1     19007.19129     18363.32494     21050.41377     23189.80135   \n",
            "\n",
            "   gdpPercap_2007  \n",
            "0     34435.36744  \n",
            "1     25185.00911  \n"
          ]
        }
      ]
    },
    {
      "cell_type": "markdown",
      "metadata": {
        "id": "eTFxU0fYBuV0"
      },
      "source": [
        "\n",
        "* The columns in a dataframe are the observed variables, and the rows are the observations.\n",
        "* Pandas uses backslash `\\` to show wrapped lines when output is too wide to fit the screen.\n",
        "* The `max_columns` option controls how many columns are displayed.\n",
        "  * A value of `None` means that pandas will display all columns."
      ]
    },
    {
      "cell_type": "markdown",
      "metadata": {
        "id": "9fL9Hr_km2aw"
      },
      "source": [
        "### File not found\n",
        "Our lessons store their data files in a `data` sub-directory, which is why the path to the file is `data/gapminder_gdp_oceania.csv`. If you forget to include `data/`, or if you include it but your copy of the file is somewhere else, you will get a runtime error that ends with a line like this:\n",
        "\n",
        "```\n",
        "FileNotFoundError: [Errno 2] No such file or directory: 'data/gapminder_gdp_oceania.csv'\n",
        "```"
      ]
    },
    {
      "cell_type": "markdown",
      "metadata": {
        "id": "xgLIuIXmjr_p"
      },
      "source": [
        "## Use index_col to specify that a column’s values should be used as row headings.\n",
        "\n",
        "\n",
        "* Row headings are numbers (0 and 1 in this case).\n",
        "* Really want to index by country.\n",
        "* Pass the name of the column to read_csv as its index_col parameter to do this.\n"
      ]
    },
    {
      "cell_type": "code",
      "metadata": {
        "colab": {
          "base_uri": "https://localhost:8080/"
        },
        "id": "QxmJ7Q8GksVV",
        "outputId": "377d8824-a1e7-4981-fb84-86e72b5ae21f"
      },
      "source": [
        "data = pd.read_csv('data/gapminder_gdp_oceania.csv', index_col='country')\n",
        "print(data)"
      ],
      "execution_count": null,
      "outputs": [
        {
          "output_type": "stream",
          "name": "stdout",
          "text": [
            "             gdpPercap_1952  gdpPercap_1957  gdpPercap_1962  gdpPercap_1967  \\\n",
            "country                                                                       \n",
            "Australia       10039.59564     10949.64959     12217.22686     14526.12465   \n",
            "New Zealand     10556.57566     12247.39532     13175.67800     14463.91893   \n",
            "\n",
            "             gdpPercap_1972  gdpPercap_1977  gdpPercap_1982  gdpPercap_1987  \\\n",
            "country                                                                       \n",
            "Australia       16788.62948     18334.19751     19477.00928     21888.88903   \n",
            "New Zealand     16046.03728     16233.71770     17632.41040     19007.19129   \n",
            "\n",
            "             gdpPercap_1992  gdpPercap_1997  gdpPercap_2002  gdpPercap_2007  \n",
            "country                                                                      \n",
            "Australia       23424.76683     26997.93657     30687.75473     34435.36744  \n",
            "New Zealand     18363.32494     21050.41377     23189.80135     25185.00911  \n"
          ]
        }
      ]
    },
    {
      "cell_type": "markdown",
      "metadata": {
        "id": "I5S2m-R0ltkh"
      },
      "source": [
        "## Use the `DataFrame.info()` method to find out more about a dataframe."
      ]
    },
    {
      "cell_type": "code",
      "metadata": {
        "colab": {
          "base_uri": "https://localhost:8080/"
        },
        "id": "z4iLkpu7nHzq",
        "outputId": "54bbe52d-cefd-4668-cd1e-b297857a3ac5"
      },
      "source": [
        "data.info()"
      ],
      "execution_count": null,
      "outputs": [
        {
          "output_type": "stream",
          "name": "stdout",
          "text": [
            "<class 'pandas.core.frame.DataFrame'>\n",
            "Index: 2 entries, Australia to New Zealand\n",
            "Data columns (total 12 columns):\n",
            " #   Column          Non-Null Count  Dtype  \n",
            "---  ------          --------------  -----  \n",
            " 0   gdpPercap_1952  2 non-null      float64\n",
            " 1   gdpPercap_1957  2 non-null      float64\n",
            " 2   gdpPercap_1962  2 non-null      float64\n",
            " 3   gdpPercap_1967  2 non-null      float64\n",
            " 4   gdpPercap_1972  2 non-null      float64\n",
            " 5   gdpPercap_1977  2 non-null      float64\n",
            " 6   gdpPercap_1982  2 non-null      float64\n",
            " 7   gdpPercap_1987  2 non-null      float64\n",
            " 8   gdpPercap_1992  2 non-null      float64\n",
            " 9   gdpPercap_1997  2 non-null      float64\n",
            " 10  gdpPercap_2002  2 non-null      float64\n",
            " 11  gdpPercap_2007  2 non-null      float64\n",
            "dtypes: float64(12)\n",
            "memory usage: 208.0+ bytes\n"
          ]
        }
      ]
    },
    {
      "cell_type": "markdown",
      "metadata": {
        "id": "9MHk4cypnKHu"
      },
      "source": [
        "\n",
        "* This is a DataFrame\n",
        "* Two rows named 'Australia' and 'New Zealand'\n",
        "* Twelve columns, each of which has two actual 64-bit floating point values.\n",
        "*     We will talk later about null values, which are used to represent missing observations.\n",
        "* Uses 208 bytes of memory.\n"
      ]
    },
    {
      "cell_type": "markdown",
      "metadata": {
        "id": "FAZCtrNhnPr4"
      },
      "source": [
        "## The `DataFrame.columns` variable stores information about the dataframe’s columns.\n",
        "\n",
        "\n",
        "  * Note that this is data, not a method. (It doesn’t have parentheses.)\n",
        "    *  Like math.pi.\n",
        "    * So do not use () to try to call it.\n",
        "  * Called a member variable, or just member.\n"
      ]
    },
    {
      "cell_type": "markdown",
      "metadata": {
        "id": "pm3afZIrnWA-"
      },
      "source": [
        "## Use DataFrame.T to transpose a dataframe.\n",
        "\n",
        "\n",
        "  * Sometimes want to treat columns as rows and vice versa.\n",
        "  * Transpose (written .T) doesn’t copy the data, just changes the program’s view of it.\n",
        "  * Like columns, it is a member variable.\n"
      ]
    },
    {
      "cell_type": "code",
      "metadata": {
        "colab": {
          "base_uri": "https://localhost:8080/"
        },
        "id": "5RdZEJN7neAp",
        "outputId": "64b5ec5c-5800-4b54-cdd3-1821de978d87"
      },
      "source": [
        "print(data.T)"
      ],
      "execution_count": null,
      "outputs": [
        {
          "output_type": "stream",
          "name": "stdout",
          "text": [
            "country           Australia  New Zealand\n",
            "gdpPercap_1952  10039.59564  10556.57566\n",
            "gdpPercap_1957  10949.64959  12247.39532\n",
            "gdpPercap_1962  12217.22686  13175.67800\n",
            "gdpPercap_1967  14526.12465  14463.91893\n",
            "gdpPercap_1972  16788.62948  16046.03728\n",
            "gdpPercap_1977  18334.19751  16233.71770\n",
            "gdpPercap_1982  19477.00928  17632.41040\n",
            "gdpPercap_1987  21888.88903  19007.19129\n",
            "gdpPercap_1992  23424.76683  18363.32494\n",
            "gdpPercap_1997  26997.93657  21050.41377\n",
            "gdpPercap_2002  30687.75473  23189.80135\n",
            "gdpPercap_2007  34435.36744  25185.00911\n"
          ]
        }
      ]
    },
    {
      "cell_type": "markdown",
      "metadata": {
        "id": "QvEtFzaknf2O"
      },
      "source": [
        "## Use DataFrame.describe() to get summary statistics about data.\n",
        "\n",
        "`DataFrame.describe()` gets the summary statistics of only the columns that have numerical data. All other columns are ignored, unless you use the argument `include='all'.`"
      ]
    },
    {
      "cell_type": "code",
      "metadata": {
        "colab": {
          "base_uri": "https://localhost:8080/"
        },
        "id": "Cxizfj3znlGn",
        "outputId": "90a93c11-05d7-4af9-f2d3-35635ac00b29"
      },
      "source": [
        "print(data.describe())"
      ],
      "execution_count": null,
      "outputs": [
        {
          "output_type": "stream",
          "name": "stdout",
          "text": [
            "       gdpPercap_1952  gdpPercap_1957  gdpPercap_1962  gdpPercap_1967  \\\n",
            "count        2.000000        2.000000        2.000000        2.000000   \n",
            "mean     10298.085650    11598.522455    12696.452430    14495.021790   \n",
            "std        365.560078      917.644806      677.727301       43.986086   \n",
            "min      10039.595640    10949.649590    12217.226860    14463.918930   \n",
            "25%      10168.840645    11274.086022    12456.839645    14479.470360   \n",
            "50%      10298.085650    11598.522455    12696.452430    14495.021790   \n",
            "75%      10427.330655    11922.958888    12936.065215    14510.573220   \n",
            "max      10556.575660    12247.395320    13175.678000    14526.124650   \n",
            "\n",
            "       gdpPercap_1972  gdpPercap_1977  gdpPercap_1982  gdpPercap_1987  \\\n",
            "count         2.00000        2.000000        2.000000        2.000000   \n",
            "mean      16417.33338    17283.957605    18554.709840    20448.040160   \n",
            "std         525.09198     1485.263517     1304.328377     2037.668013   \n",
            "min       16046.03728    16233.717700    17632.410400    19007.191290   \n",
            "25%       16231.68533    16758.837652    18093.560120    19727.615725   \n",
            "50%       16417.33338    17283.957605    18554.709840    20448.040160   \n",
            "75%       16602.98143    17809.077557    19015.859560    21168.464595   \n",
            "max       16788.62948    18334.197510    19477.009280    21888.889030   \n",
            "\n",
            "       gdpPercap_1992  gdpPercap_1997  gdpPercap_2002  gdpPercap_2007  \n",
            "count        2.000000        2.000000        2.000000        2.000000  \n",
            "mean     20894.045885    24024.175170    26938.778040    29810.188275  \n",
            "std       3578.979883     4205.533703     5301.853680     6540.991104  \n",
            "min      18363.324940    21050.413770    23189.801350    25185.009110  \n",
            "25%      19628.685413    22537.294470    25064.289695    27497.598692  \n",
            "50%      20894.045885    24024.175170    26938.778040    29810.188275  \n",
            "75%      22159.406358    25511.055870    28813.266385    32122.777857  \n",
            "max      23424.766830    26997.936570    30687.754730    34435.367440  \n"
          ]
        }
      ]
    },
    {
      "cell_type": "markdown",
      "metadata": {
        "id": "jPN85u9xnn7m"
      },
      "source": [
        "## Exercises\n",
        "\n"
      ]
    },
    {
      "cell_type": "markdown",
      "metadata": {
        "id": "M1isjOIyn2AN"
      },
      "source": [
        "### Reading Other Data\n",
        "\n",
        "Read the data in `gapminder_gdp_americas.`csv (which should be in the same directory as `gapminder_gdp_oceania.csv`) into a variable called `americas` and display its summary statistics."
      ]
    },
    {
      "cell_type": "markdown",
      "metadata": {
        "id": "BvL6TxZdoOcK"
      },
      "source": [
        "### Inspecting Data\n",
        "After reading the data for the Americas, use `help(americas.head)` and `help(americas.tail)` to find out what `DataFrame.head` and `DataFrame.tail` do.\n",
        "\n",
        "  * What method call will display the first three rows of this data?\n",
        "  * What method call will display the last three columns of this data? (Hint: you may need to change your view of the data.)\n"
      ]
    },
    {
      "cell_type": "markdown",
      "metadata": {
        "id": "oNJ0nZJ5oTJV"
      },
      "source": [
        "### Reading Files in Other Directories\n",
        "\n",
        "The data for your current project is stored in a file called microbes.csv, which is located in a folder called field_data. You are doing analysis in a notebook called analysis.ipynb in a sibling folder called thesis:\n",
        "\n",
        "```\n",
        "your_home_directory\n",
        "+-- field_data/\n",
        "|   +-- microbes.csv\n",
        "+-- thesis/\n",
        "    +-- analysis.ipynb\n",
        "```"
      ]
    },
    {
      "cell_type": "markdown",
      "metadata": {
        "id": "wecnpF13ogfs"
      },
      "source": [
        "### Writing Data\n",
        "As well as the `read_csv` function for reading data from a file, Pandas provides a `to_csv` function to write dataframes to files. Applying what you’ve learned about reading from files, write one of your dataframes to a file called `processed.csv`. You can use help to get information on how to use `to_csv`."
      ]
    },
    {
      "cell_type": "markdown",
      "metadata": {
        "id": "_ptPLaaQot2x"
      },
      "source": [
        "## Key Points\n",
        "\n",
        "\n",
        "* Use the Pandas library to get basic statistics out of tabular data.\n",
        "\n",
        "* Use `index_col` to specify that a column’s values should be used as row headings.\n",
        "\n",
        "* Use `DataFrame.info()` to find out more about a dataframe.\n",
        "\n",
        "* The `DataFrame.columns` variable stores information about the dataframe’s columns.\n",
        "\n",
        "* Use `DataFrame.T` to transpose a dataframe.\n",
        "\n",
        "* Use `DataFrame.describe()` to get summary statistics about data.\n",
        "------------------------------------"
      ]
    },
    {
      "cell_type": "markdown",
      "metadata": {
        "id": "cs-RSyJro9CZ"
      },
      "source": [
        "# Part 8 - Pandas DataFrames\n",
        "\n",
        " Questions\n",
        "\n",
        "  * How can I do statistical analysis of tabular data?\n",
        "\n",
        "Objectives\n",
        "\n",
        "  * Select individual values from a Pandas dataframe.\n",
        "\n",
        "  * Select entire rows or entire columns from a dataframe.\n",
        "\n",
        "  * Select a subset of both rows and columns from a dataframe in a single operation.\n",
        "\n",
        "  * Select a subset of a dataframe by a single Boolean criterion.\n",
        "\n"
      ]
    },
    {
      "cell_type": "markdown",
      "metadata": {
        "id": "16G0Y9rFpES0"
      },
      "source": [
        "## Note about Pandas DataFrames/Series\n",
        "\n",
        "A [DataFrame](https://pandas.pydata.org/pandas-docs/stable/generated/pandas.DataFrame.html) is a collection of [Series](https://pandas.pydata.org/pandas-docs/stable/generated/pandas.Series.html); The DataFrame is the way Pandas represents a table, and Series is the data-structure Pandas use to represent a column.\n",
        "\n",
        "Pandas is built on top of the [Numpy](http://www.numpy.org/) library, which in practice means that most of the methods defined for Numpy Arrays apply to Pandas Series/DataFrames.\n",
        "\n",
        "What makes Pandas so attractive is the powerful interface to access individual records of the table, proper handling of missing values, and relational-databases operations between DataFrames."
      ]
    },
    {
      "cell_type": "markdown",
      "metadata": {
        "id": "7Ga10OAhOuKb"
      },
      "source": [
        "## Selecting values\n",
        "To access a value at the position `[i,j]` of a DataFrame, we have two options, depending on what is the meaning of `i` in use. Remember that a DataFrame provides an index as a way to identify the rows of the table; a row, then, has a _position_ inside the table as well as a _label_, which uniquely identifies its _entry_ in the DataFrame."
      ]
    },
    {
      "cell_type": "markdown",
      "metadata": {
        "id": "WVLevgyyO7gm"
      },
      "source": [
        "##Use `DataFrame.iloc[..., ...]` to select values by their (entry) position\n",
        "*  Can specify location by row name analogously to 2D version of dictionary keys.\n"
      ]
    },
    {
      "cell_type": "code",
      "metadata": {
        "colab": {
          "base_uri": "https://localhost:8080/"
        },
        "id": "72gCdCjvPNCw",
        "outputId": "37a02dbe-6173-4b8f-f776-bf43d1cd4e4c"
      },
      "source": [
        "# Download gapminder data\n",
        "!mkdir data -p\n",
        "!git clone https://github.com/PatrickRobotham/statistics-society-intro-python.git\n",
        "!cp -r statistics-society-intro-python/data/ ./"
      ],
      "execution_count": null,
      "outputs": [
        {
          "output_type": "stream",
          "name": "stdout",
          "text": [
            "fatal: destination path 'statistics-society-intro-python' already exists and is not an empty directory.\n"
          ]
        }
      ]
    },
    {
      "cell_type": "code",
      "metadata": {
        "colab": {
          "base_uri": "https://localhost:8080/"
        },
        "id": "juZFc6DyO_Sh",
        "outputId": "4bf4cfa7-1824-47d3-e15a-f11071387c72"
      },
      "source": [
        "import pandas as pd\n",
        "data = pd.read_csv('data/gapminder_gdp_europe.csv', index_col='country')\n",
        "print(data.iloc[0, 0])"
      ],
      "execution_count": null,
      "outputs": [
        {
          "output_type": "stream",
          "name": "stdout",
          "text": [
            "1601.056136\n"
          ]
        }
      ]
    },
    {
      "cell_type": "markdown",
      "metadata": {
        "id": "ZQ44nhGJPCZA"
      },
      "source": [
        "## Use `DataFrame.loc[..., ...]` to select values by their (entry) label.\n",
        "  Can specify location by row name analogously to 2D version of dictionary keys.\n"
      ]
    },
    {
      "cell_type": "code",
      "metadata": {
        "colab": {
          "base_uri": "https://localhost:8080/"
        },
        "id": "TPoKHgU6QI0S",
        "outputId": "8cd6426d-c720-4a70-a270-6f0782756c1b"
      },
      "source": [
        "print(data.loc[\"Albania\", \"gdpPercap_1952\"])"
      ],
      "execution_count": null,
      "outputs": [
        {
          "output_type": "stream",
          "name": "stdout",
          "text": [
            "1601.056136\n"
          ]
        }
      ]
    },
    {
      "cell_type": "markdown",
      "metadata": {
        "id": "puQYY4rVQNAW"
      },
      "source": [
        "## Use `:` on its own to mean all columns or all rows.\n",
        "*  Just like Python’s usual slicing notation.\n"
      ]
    },
    {
      "cell_type": "code",
      "metadata": {
        "colab": {
          "base_uri": "https://localhost:8080/"
        },
        "id": "c7kJ_D3MQQfX",
        "outputId": "fd985c60-c4ea-4753-b8f8-6e35716764c7"
      },
      "source": [
        "print(data.loc[\"Albania\", :])"
      ],
      "execution_count": null,
      "outputs": [
        {
          "output_type": "stream",
          "name": "stdout",
          "text": [
            "gdpPercap_1952    1601.056136\n",
            "gdpPercap_1957    1942.284244\n",
            "gdpPercap_1962    2312.888958\n",
            "gdpPercap_1967    2760.196931\n",
            "gdpPercap_1972    3313.422188\n",
            "gdpPercap_1977    3533.003910\n",
            "gdpPercap_1982    3630.880722\n",
            "gdpPercap_1987    3738.932735\n",
            "gdpPercap_1992    2497.437901\n",
            "gdpPercap_1997    3193.054604\n",
            "gdpPercap_2002    4604.211737\n",
            "gdpPercap_2007    5937.029526\n",
            "Name: Albania, dtype: float64\n"
          ]
        }
      ]
    },
    {
      "cell_type": "markdown",
      "metadata": {
        "id": "W0VMFHnBQTf5"
      },
      "source": [
        "* Would get the same result printing data.loc[\"Albania\"] (without a second index).\n"
      ]
    },
    {
      "cell_type": "code",
      "metadata": {
        "colab": {
          "base_uri": "https://localhost:8080/"
        },
        "id": "s07CqtOlQW5T",
        "outputId": "7352a100-d092-4775-b9ae-b268e0276591"
      },
      "source": [
        "print(data.loc[:, \"gdpPercap_1952\"])"
      ],
      "execution_count": null,
      "outputs": [
        {
          "output_type": "stream",
          "name": "stdout",
          "text": [
            "country\n",
            "Albania                    1601.056136\n",
            "Austria                    6137.076492\n",
            "Belgium                    8343.105127\n",
            "Bosnia and Herzegovina      973.533195\n",
            "Bulgaria                   2444.286648\n",
            "Croatia                    3119.236520\n",
            "Czech Republic             6876.140250\n",
            "Denmark                    9692.385245\n",
            "Finland                    6424.519071\n",
            "France                     7029.809327\n",
            "Germany                    7144.114393\n",
            "Greece                     3530.690067\n",
            "Hungary                    5263.673816\n",
            "Iceland                    7267.688428\n",
            "Ireland                    5210.280328\n",
            "Italy                      4931.404155\n",
            "Montenegro                 2647.585601\n",
            "Netherlands                8941.571858\n",
            "Norway                    10095.421720\n",
            "Poland                     4029.329699\n",
            "Portugal                   3068.319867\n",
            "Romania                    3144.613186\n",
            "Serbia                     3581.459448\n",
            "Slovak Republic            5074.659104\n",
            "Slovenia                   4215.041741\n",
            "Spain                      3834.034742\n",
            "Sweden                     8527.844662\n",
            "Switzerland               14734.232750\n",
            "Turkey                     1969.100980\n",
            "United Kingdom             9979.508487\n",
            "Name: gdpPercap_1952, dtype: float64\n"
          ]
        }
      ]
    },
    {
      "cell_type": "markdown",
      "metadata": {
        "id": "b5Ra7vmxQXHj"
      },
      "source": [
        "\n",
        "* Would get the same result printing `data[\"gdpPercap_1952\"]`\n",
        "* Also get the same result printing `data.gdpPercap_1952` (not recommended, because easily confused with `.` notation for methods)\n"
      ]
    },
    {
      "cell_type": "markdown",
      "metadata": {
        "id": "gdIKK4S8Qc5C"
      },
      "source": [
        "## Select multiple columns or rows using DataFrame.loc and a named slice."
      ]
    },
    {
      "cell_type": "code",
      "metadata": {
        "colab": {
          "base_uri": "https://localhost:8080/"
        },
        "id": "yp422uQFQlbM",
        "outputId": "bab4b76b-7958-48ed-a236-0a03d44214af"
      },
      "source": [
        "print(data.loc['Italy':'Poland', 'gdpPercap_1962':'gdpPercap_1972'])"
      ],
      "execution_count": null,
      "outputs": [
        {
          "output_type": "stream",
          "name": "stdout",
          "text": [
            "             gdpPercap_1962  gdpPercap_1967  gdpPercap_1972\n",
            "country                                                    \n",
            "Italy           8243.582340    10022.401310    12269.273780\n",
            "Montenegro      4649.593785     5907.850937     7778.414017\n",
            "Netherlands    12790.849560    15363.251360    18794.745670\n",
            "Norway         13450.401510    16361.876470    18965.055510\n",
            "Poland          5338.752143     6557.152776     8006.506993\n"
          ]
        }
      ]
    },
    {
      "cell_type": "markdown",
      "metadata": {
        "id": "NyPF-ZzrQlv6"
      },
      "source": [
        "In the above code, we discover that **slicing using `loc` is inclusive at both ends**, which differs from **slicing using`iloc`**, where slicing indicates everything up to but not including the final index."
      ]
    },
    {
      "cell_type": "markdown",
      "metadata": {
        "id": "kw1f5rcwQwJO"
      },
      "source": [
        "## Result of slicing can be used in further operations.\n",
        "\n",
        "* Usually don’t just print a slice.\n",
        "* All the statistical operators that work on entire dataframes work the same way on slices.\n",
        "* E.g., calculate max of a slice.\n"
      ]
    },
    {
      "cell_type": "code",
      "metadata": {
        "colab": {
          "base_uri": "https://localhost:8080/"
        },
        "id": "pJu0mmA4Q2K5",
        "outputId": "df4acb0b-17af-4d49-8a63-ab20a06d4419"
      },
      "source": [
        "print(data.loc['Italy':'Poland', 'gdpPercap_1962':'gdpPercap_1972'].max())"
      ],
      "execution_count": null,
      "outputs": [
        {
          "output_type": "stream",
          "name": "stdout",
          "text": [
            "gdpPercap_1962    13450.40151\n",
            "gdpPercap_1967    16361.87647\n",
            "gdpPercap_1972    18965.05551\n",
            "dtype: float64\n"
          ]
        }
      ]
    },
    {
      "cell_type": "code",
      "metadata": {
        "colab": {
          "base_uri": "https://localhost:8080/"
        },
        "id": "Hf5JhEQvQ3lT",
        "outputId": "f511cf1a-8ebf-4835-bc01-29b8ffa0b6b9"
      },
      "source": [
        "print(data.loc['Italy':'Poland', 'gdpPercap_1962':'gdpPercap_1972'].min())"
      ],
      "execution_count": null,
      "outputs": [
        {
          "output_type": "stream",
          "name": "stdout",
          "text": [
            "gdpPercap_1962    4649.593785\n",
            "gdpPercap_1967    5907.850937\n",
            "gdpPercap_1972    7778.414017\n",
            "dtype: float64\n"
          ]
        }
      ]
    },
    {
      "cell_type": "markdown",
      "metadata": {
        "id": "g7zAqfCeQ4VD"
      },
      "source": [
        "## Use comparisons to select data based on value.\n",
        "\n",
        "\n",
        "* Comparison is applied element by element.\n",
        "* Returns a similarly-shaped dataframe of True and False.\n"
      ]
    },
    {
      "cell_type": "code",
      "metadata": {
        "colab": {
          "base_uri": "https://localhost:8080/"
        },
        "id": "jay9imw5RaZM",
        "outputId": "f7c108f2-0132-4dbe-a8b3-aa3d97388e73"
      },
      "source": [
        "# Use a subset of data to keep output readable.\n",
        "subset = data.loc['Italy':'Poland', 'gdpPercap_1962':'gdpPercap_1972']\n",
        "print('Subset of data:\\n', subset)\n",
        "\n",
        "# Which values were greater than 10000 ?\n",
        "print('\\nWhere are values large?\\n', subset > 10000)"
      ],
      "execution_count": null,
      "outputs": [
        {
          "output_type": "stream",
          "name": "stdout",
          "text": [
            "Subset of data:\n",
            "              gdpPercap_1962  gdpPercap_1967  gdpPercap_1972\n",
            "country                                                    \n",
            "Italy           8243.582340    10022.401310    12269.273780\n",
            "Montenegro      4649.593785     5907.850937     7778.414017\n",
            "Netherlands    12790.849560    15363.251360    18794.745670\n",
            "Norway         13450.401510    16361.876470    18965.055510\n",
            "Poland          5338.752143     6557.152776     8006.506993\n",
            "\n",
            "Where are values large?\n",
            "              gdpPercap_1962  gdpPercap_1967  gdpPercap_1972\n",
            "country                                                    \n",
            "Italy                 False            True            True\n",
            "Montenegro            False           False           False\n",
            "Netherlands            True            True            True\n",
            "Norway                 True            True            True\n",
            "Poland                False           False           False\n"
          ]
        }
      ]
    },
    {
      "cell_type": "markdown",
      "metadata": {
        "id": "jReUg6qBRbjK"
      },
      "source": [
        "## Select values or NaN using a Boolean mask.\n",
        "\n",
        "* A frame full of Booleans is sometimes called a _mask_ because of how it can be used.\n"
      ]
    },
    {
      "cell_type": "code",
      "metadata": {
        "colab": {
          "base_uri": "https://localhost:8080/"
        },
        "id": "mBBnhQ_SRg7s",
        "outputId": "269b2d18-1b15-4177-b107-fa707bce82f3"
      },
      "source": [
        "mask = subset > 10000\n",
        "print(subset[mask])"
      ],
      "execution_count": null,
      "outputs": [
        {
          "output_type": "stream",
          "name": "stdout",
          "text": [
            "             gdpPercap_1962  gdpPercap_1967  gdpPercap_1972\n",
            "country                                                    \n",
            "Italy                   NaN     10022.40131     12269.27378\n",
            "Montenegro              NaN             NaN             NaN\n",
            "Netherlands     12790.84956     15363.25136     18794.74567\n",
            "Norway          13450.40151     16361.87647     18965.05551\n",
            "Poland                  NaN             NaN             NaN\n"
          ]
        }
      ]
    },
    {
      "cell_type": "markdown",
      "metadata": {
        "id": "XQEfpttSRjnI"
      },
      "source": [
        "\n",
        "* Get the value where the mask is true, and NaN (Not a Number) where it is false.\n",
        "* Useful because NaNs are ignored by operations like max, min, average, etc.\n"
      ]
    },
    {
      "cell_type": "code",
      "metadata": {
        "colab": {
          "base_uri": "https://localhost:8080/"
        },
        "id": "uYya6JCvRoji",
        "outputId": "dd349c6a-d464-442b-a025-6bd7d9557c8a"
      },
      "source": [
        "print(subset[subset > 10000].describe())"
      ],
      "execution_count": null,
      "outputs": [
        {
          "output_type": "stream",
          "name": "stdout",
          "text": [
            "       gdpPercap_1962  gdpPercap_1967  gdpPercap_1972\n",
            "count        2.000000        3.000000        3.000000\n",
            "mean     13120.625535    13915.843047    16676.358320\n",
            "std        466.373656     3408.589070     3817.597015\n",
            "min      12790.849560    10022.401310    12269.273780\n",
            "25%      12955.737547    12692.826335    15532.009725\n",
            "50%      13120.625535    15363.251360    18794.745670\n",
            "75%      13285.513523    15862.563915    18879.900590\n",
            "max      13450.401510    16361.876470    18965.055510\n"
          ]
        }
      ]
    },
    {
      "cell_type": "markdown",
      "metadata": {
        "id": "67E1l3TURo2y"
      },
      "source": [
        "## Group By: split-apply-combine\n",
        "\n",
        "Pandas vectorizing methods and grouping operations are features that provide users much flexibility to analyse their data.\n",
        "\n",
        "For instance, let’s say we want to have a clearer view on how the European countries split themselves according to their GDP.\n",
        "\n",
        "1. We may have a glance by splitting the countries in two groups during the years surveyed, those who presented a GDP higher than the European average and those with a lower GDP.\n",
        "2. We then estimate a wealthy score based on the historical (from 1962 to 2007) values, where we account how many times a country has participated in the groups of lower or higher GDP\n"
      ]
    },
    {
      "cell_type": "code",
      "metadata": {
        "colab": {
          "base_uri": "https://localhost:8080/"
        },
        "id": "cIKbhwKXRt9s",
        "outputId": "9b9127c9-11ea-4450-a9e7-f226110c98b6"
      },
      "source": [
        "mask_higher = data > data.mean()\n",
        "wealth_score = mask_higher.aggregate('sum', axis=1) / len(data.columns)\n",
        "wealth_score"
      ],
      "execution_count": null,
      "outputs": [
        {
          "output_type": "execute_result",
          "data": {
            "text/plain": [
              "country\n",
              "Albania                   0.000000\n",
              "Austria                   1.000000\n",
              "Belgium                   1.000000\n",
              "Bosnia and Herzegovina    0.000000\n",
              "Bulgaria                  0.000000\n",
              "Croatia                   0.000000\n",
              "Czech Republic            0.500000\n",
              "Denmark                   1.000000\n",
              "Finland                   1.000000\n",
              "France                    1.000000\n",
              "Germany                   1.000000\n",
              "Greece                    0.333333\n",
              "Hungary                   0.000000\n",
              "Iceland                   1.000000\n",
              "Ireland                   0.333333\n",
              "Italy                     0.500000\n",
              "Montenegro                0.000000\n",
              "Netherlands               1.000000\n",
              "Norway                    1.000000\n",
              "Poland                    0.000000\n",
              "Portugal                  0.000000\n",
              "Romania                   0.000000\n",
              "Serbia                    0.000000\n",
              "Slovak Republic           0.000000\n",
              "Slovenia                  0.333333\n",
              "Spain                     0.333333\n",
              "Sweden                    1.000000\n",
              "Switzerland               1.000000\n",
              "Turkey                    0.000000\n",
              "United Kingdom            1.000000\n",
              "dtype: float64"
            ]
          },
          "metadata": {},
          "execution_count": 21
        }
      ]
    },
    {
      "cell_type": "markdown",
      "metadata": {
        "id": "kOFs8q0HRwj8"
      },
      "source": [
        "Finally, for each group in the `wealth_score` table, we sum their (financial) contribution across the years surveyed using chained methods:"
      ]
    },
    {
      "cell_type": "code",
      "metadata": {
        "colab": {
          "base_uri": "https://localhost:8080/",
          "height": 195
        },
        "id": "HAWV8kE7R0Ni",
        "outputId": "17439b18-d1e0-43e8-f4c3-aa7d3f5be5f1"
      },
      "source": [
        "data.groupby(wealth_score).sum()"
      ],
      "execution_count": null,
      "outputs": [
        {
          "output_type": "execute_result",
          "data": {
            "text/html": [
              "<div>\n",
              "<style scoped>\n",
              "    .dataframe tbody tr th:only-of-type {\n",
              "        vertical-align: middle;\n",
              "    }\n",
              "\n",
              "    .dataframe tbody tr th {\n",
              "        vertical-align: top;\n",
              "    }\n",
              "\n",
              "    .dataframe thead th {\n",
              "        text-align: right;\n",
              "    }\n",
              "</style>\n",
              "<table border=\"1\" class=\"dataframe\">\n",
              "  <thead>\n",
              "    <tr style=\"text-align: right;\">\n",
              "      <th></th>\n",
              "      <th>gdpPercap_1952</th>\n",
              "      <th>gdpPercap_1957</th>\n",
              "      <th>gdpPercap_1962</th>\n",
              "      <th>gdpPercap_1967</th>\n",
              "      <th>gdpPercap_1972</th>\n",
              "      <th>gdpPercap_1977</th>\n",
              "      <th>gdpPercap_1982</th>\n",
              "      <th>gdpPercap_1987</th>\n",
              "      <th>gdpPercap_1992</th>\n",
              "      <th>gdpPercap_1997</th>\n",
              "      <th>gdpPercap_2002</th>\n",
              "      <th>gdpPercap_2007</th>\n",
              "    </tr>\n",
              "  </thead>\n",
              "  <tbody>\n",
              "    <tr>\n",
              "      <th>0.000000</th>\n",
              "      <td>36916.854200</td>\n",
              "      <td>46110.918793</td>\n",
              "      <td>56850.065437</td>\n",
              "      <td>71324.848786</td>\n",
              "      <td>88569.346898</td>\n",
              "      <td>104459.358438</td>\n",
              "      <td>113553.768507</td>\n",
              "      <td>119649.599409</td>\n",
              "      <td>92380.047256</td>\n",
              "      <td>103772.937598</td>\n",
              "      <td>118590.929863</td>\n",
              "      <td>149577.357928</td>\n",
              "    </tr>\n",
              "    <tr>\n",
              "      <th>0.333333</th>\n",
              "      <td>16790.046878</td>\n",
              "      <td>20942.456800</td>\n",
              "      <td>25744.935321</td>\n",
              "      <td>33567.667670</td>\n",
              "      <td>45277.839976</td>\n",
              "      <td>53860.456750</td>\n",
              "      <td>59679.634020</td>\n",
              "      <td>64436.912960</td>\n",
              "      <td>67918.093220</td>\n",
              "      <td>80876.051580</td>\n",
              "      <td>102086.795210</td>\n",
              "      <td>122803.729520</td>\n",
              "    </tr>\n",
              "    <tr>\n",
              "      <th>0.500000</th>\n",
              "      <td>11807.544405</td>\n",
              "      <td>14505.000150</td>\n",
              "      <td>18380.449470</td>\n",
              "      <td>21421.846200</td>\n",
              "      <td>25377.727380</td>\n",
              "      <td>29056.145370</td>\n",
              "      <td>31914.712050</td>\n",
              "      <td>35517.678220</td>\n",
              "      <td>36310.666080</td>\n",
              "      <td>40723.538700</td>\n",
              "      <td>45564.308390</td>\n",
              "      <td>51403.028210</td>\n",
              "    </tr>\n",
              "    <tr>\n",
              "      <th>1.000000</th>\n",
              "      <td>104317.277560</td>\n",
              "      <td>127332.008735</td>\n",
              "      <td>149989.154201</td>\n",
              "      <td>178000.350040</td>\n",
              "      <td>215162.343140</td>\n",
              "      <td>241143.412730</td>\n",
              "      <td>263388.781960</td>\n",
              "      <td>296825.131210</td>\n",
              "      <td>315238.235970</td>\n",
              "      <td>346930.926170</td>\n",
              "      <td>385109.939210</td>\n",
              "      <td>427850.333420</td>\n",
              "    </tr>\n",
              "  </tbody>\n",
              "</table>\n",
              "</div>"
            ],
            "text/plain": [
              "          gdpPercap_1952  gdpPercap_1957  ...  gdpPercap_2002  gdpPercap_2007\n",
              "0.000000    36916.854200    46110.918793  ...   118590.929863   149577.357928\n",
              "0.333333    16790.046878    20942.456800  ...   102086.795210   122803.729520\n",
              "0.500000    11807.544405    14505.000150  ...    45564.308390    51403.028210\n",
              "1.000000   104317.277560   127332.008735  ...   385109.939210   427850.333420\n",
              "\n",
              "[4 rows x 12 columns]"
            ]
          },
          "metadata": {},
          "execution_count": 22
        }
      ]
    },
    {
      "cell_type": "markdown",
      "metadata": {
        "id": "eJxwF4-LR1J_"
      },
      "source": [
        "## Exercises"
      ]
    },
    {
      "cell_type": "markdown",
      "metadata": {
        "id": "KONzDVUTSAVC"
      },
      "source": [
        "### Selection of Individual Values\n",
        "Assume Pandas has been imported into your notebook and the Gapminder GDP data for Europe has been loaded:"
      ]
    },
    {
      "cell_type": "code",
      "metadata": {
        "id": "8KRT0l6HSDVK"
      },
      "source": [
        "import pandas as pd\n",
        "\n",
        "df = pd.read_csv('data/gapminder_gdp_europe.csv', index_col='country')"
      ],
      "execution_count": null,
      "outputs": []
    },
    {
      "cell_type": "markdown",
      "metadata": {
        "id": "hA4gjd57SGX2"
      },
      "source": [
        "Write an expression to find the Per Capita GDP of Serbia in 2007."
      ]
    },
    {
      "cell_type": "markdown",
      "metadata": {
        "id": "WXOsbamUSI3n"
      },
      "source": [
        "### Extent of Slicing\n",
        "\n",
        "\n",
        "1. Do the two statements below produce the same output?\n",
        "1. Based on this, what rule governs what is included (or not) in numerical slices and named slices in Pandas?\n"
      ]
    },
    {
      "cell_type": "code",
      "metadata": {
        "id": "wRdex1sLSSUt"
      },
      "source": [
        "print(df.iloc[0:2, 0:2])\n",
        "print(df.loc['Albania':'Belgium', 'gdpPercap_1952':'gdpPercap_1962'])\n"
      ],
      "execution_count": null,
      "outputs": []
    },
    {
      "cell_type": "markdown",
      "metadata": {
        "id": "XWLfgy16SUEB"
      },
      "source": [
        "### Reconstructing Data\n",
        "Explain what each line in the following short program does: what is in first, second, etc.?\n"
      ]
    },
    {
      "cell_type": "code",
      "metadata": {
        "id": "n8SijWVbSZA4"
      },
      "source": [
        "first = pd.read_csv('data/gapminder_all.csv', index_col='country')\n",
        "second = first[first['continent'] == 'Americas']\n",
        "third = second.drop('Puerto Rico')\n",
        "fourth = third.drop('continent', axis = 1)\n",
        "fourth.to_csv('result.csv')"
      ],
      "execution_count": null,
      "outputs": []
    },
    {
      "cell_type": "markdown",
      "metadata": {
        "id": "DIoJReJDSZXa"
      },
      "source": [
        "### Selecting Indices\n",
        "Explain in simple terms what `idxmin` and `idxmax` do in the short program below. When would you use these methods?"
      ]
    },
    {
      "cell_type": "code",
      "metadata": {
        "id": "CfRgrVkxSg_R"
      },
      "source": [
        "data = pd.read_csv('data/gapminder_gdp_europe.csv', index_col='country')\n",
        "print(data.idxmin())\n",
        "print(data.idxmax())"
      ],
      "execution_count": null,
      "outputs": []
    },
    {
      "cell_type": "markdown",
      "metadata": {
        "id": "if3xNuriSivf"
      },
      "source": [
        "### Practice with Selection\n",
        "Assume Pandas has been imported and the Gapminder GDP data for Europe has been loaded. Write an expression to select each of the following:\n",
        "\n",
        "1. GDP per capita for all countries in 1982.\n",
        "1. GDP per capita for Denmark for all years.\n",
        "1. GDP per capita for all countries for years after 1985.\n",
        "1. GDP per capita for each country in 2007 as a multiple of GDP per capita for that country in 1952.\n",
        "\n"
      ]
    },
    {
      "cell_type": "markdown",
      "metadata": {
        "id": "11nZ5W4HSlLW"
      },
      "source": [
        "### Many Ways of Access\n",
        "\n",
        "There are at least two ways of accessing a value or slice of a DataFrame: by name or index. However, there are many others. For example, a single column or row can be accessed either as a DataFrame or a Series object.\n",
        "\n",
        "Suggest different ways of doing the following operations on a DataFrame:\n",
        "\n",
        "1. Access a single column\n",
        "1. Access a single row\n",
        "1. Access an individual DataFrame element\n",
        "1. Access several columns\n",
        "1. Access several rows\n",
        "1. Access a subset of specific rows and columns\n",
        "1. Access a subset of row and column range"
      ]
    },
    {
      "cell_type": "markdown",
      "metadata": {
        "id": "whgaEvnLS1zH"
      },
      "source": [
        " ### Exploring available methods using the `dir()` function\n",
        "Python includes a `dir()` function that can be used to display all of the available methods (functions) that are built into a data object. In Part 4, we used some methods with a string. But we can see many more are available by using `dir()`:"
      ]
    },
    {
      "cell_type": "code",
      "metadata": {
        "colab": {
          "base_uri": "https://localhost:8080/"
        },
        "id": "sr3pmRX3gY73",
        "outputId": "7acbf61c-3c91-4f72-8e18-02e0c4428ada"
      },
      "source": [
        "my_string = 'Hello world!'   # creation of a string object \n",
        "dir(my_string)"
      ],
      "execution_count": null,
      "outputs": [
        {
          "output_type": "execute_result",
          "data": {
            "text/plain": [
              "['__add__',\n",
              " '__class__',\n",
              " '__contains__',\n",
              " '__delattr__',\n",
              " '__dir__',\n",
              " '__doc__',\n",
              " '__eq__',\n",
              " '__format__',\n",
              " '__ge__',\n",
              " '__getattribute__',\n",
              " '__getitem__',\n",
              " '__getnewargs__',\n",
              " '__gt__',\n",
              " '__hash__',\n",
              " '__init__',\n",
              " '__init_subclass__',\n",
              " '__iter__',\n",
              " '__le__',\n",
              " '__len__',\n",
              " '__lt__',\n",
              " '__mod__',\n",
              " '__mul__',\n",
              " '__ne__',\n",
              " '__new__',\n",
              " '__reduce__',\n",
              " '__reduce_ex__',\n",
              " '__repr__',\n",
              " '__rmod__',\n",
              " '__rmul__',\n",
              " '__setattr__',\n",
              " '__sizeof__',\n",
              " '__str__',\n",
              " '__subclasshook__',\n",
              " 'capitalize',\n",
              " 'casefold',\n",
              " 'center',\n",
              " 'count',\n",
              " 'encode',\n",
              " 'endswith',\n",
              " 'expandtabs',\n",
              " 'find',\n",
              " 'format',\n",
              " 'format_map',\n",
              " 'index',\n",
              " 'isalnum',\n",
              " 'isalpha',\n",
              " 'isascii',\n",
              " 'isdecimal',\n",
              " 'isdigit',\n",
              " 'isidentifier',\n",
              " 'islower',\n",
              " 'isnumeric',\n",
              " 'isprintable',\n",
              " 'isspace',\n",
              " 'istitle',\n",
              " 'isupper',\n",
              " 'join',\n",
              " 'ljust',\n",
              " 'lower',\n",
              " 'lstrip',\n",
              " 'maketrans',\n",
              " 'partition',\n",
              " 'replace',\n",
              " 'rfind',\n",
              " 'rindex',\n",
              " 'rjust',\n",
              " 'rpartition',\n",
              " 'rsplit',\n",
              " 'rstrip',\n",
              " 'split',\n",
              " 'splitlines',\n",
              " 'startswith',\n",
              " 'strip',\n",
              " 'swapcase',\n",
              " 'title',\n",
              " 'translate',\n",
              " 'upper',\n",
              " 'zfill']"
            ]
          },
          "metadata": {},
          "execution_count": 28
        }
      ]
    },
    {
      "cell_type": "markdown",
      "metadata": {
        "id": "RVtKPQuLgsGL"
      },
      "source": [
        "You can use `help()` to get more information about what these methods do.\n",
        "\n",
        "Assume Pandas has been imported and the Gapminder GDP data for Europe has been loaded as data. Then, use `dir()` to find the function that prints out the median per-capita GDP across all European countries for each year that information is available."
      ]
    },
    {
      "cell_type": "markdown",
      "metadata": {
        "id": "RV5DJdTKhAzv"
      },
      "source": [
        "### Interpretation\n",
        "Poland’s borders have been stable since 1945, but changed several times in the years before then. How would you handle this if you were creating a table of GDP per capita for Poland for the entire twentieth century?"
      ]
    },
    {
      "cell_type": "markdown",
      "metadata": {
        "id": "nkfve_dbhI9k"
      },
      "source": [
        "## Key Points\n",
        "\n",
        "\n",
        "* Use `DataFrame.iloc[..., ...]` to select values by integer location.\n",
        "\n",
        "* Use `:` on its own to mean all columns or all rows.\n",
        "\n",
        "* Select multiple columns or rows using `DataFrame.loc` and a named slice.\n",
        "\n",
        "* Result of slicing can be used in further operations.\n",
        "\n",
        "* Use comparisons to select data based on value.\n",
        "\n",
        "* Select values or NaN using a Boolean mask.\n"
      ]
    },
    {
      "cell_type": "markdown",
      "metadata": {
        "id": "NUo7d561hQAT"
      },
      "source": [
        "# Part 9 - Plotting\n",
        "\n",
        "\n",
        " Questions\n",
        "\n",
        "* How can I plot my data?\n",
        "\n",
        "* How can I save my plot for publishing?\n",
        "\n",
        "Objectives\n",
        "\n",
        "  * Create a time series plot showing a single data set.\n",
        "\n",
        "  * Create a scatter plot showing relationship between two data sets.\n",
        "\n",
        "\n",
        "\n"
      ]
    },
    {
      "cell_type": "markdown",
      "metadata": {
        "id": "zy_raZJ6hk0M"
      },
      "source": [
        "## `matplotlib` is the most widely used scientific plotting library in Python.\n",
        "\n",
        "  * Commonly use a sub-library called matplotlib.pyplot.\n",
        "  * The Jupyter Notebook will render plots inline by default.\n"
      ]
    },
    {
      "cell_type": "code",
      "metadata": {
        "id": "9tcbv0L5hoiF"
      },
      "source": [
        "import matplotlib.pyplot as plt"
      ],
      "execution_count": null,
      "outputs": []
    },
    {
      "cell_type": "markdown",
      "metadata": {
        "id": "QA9dTNHdhr9O"
      },
      "source": [
        "Simple plots are then (fairly) simple to create.\n"
      ]
    },
    {
      "cell_type": "code",
      "metadata": {
        "colab": {
          "base_uri": "https://localhost:8080/",
          "height": 298
        },
        "id": "t1aRuSpvhuN6",
        "outputId": "35eef994-9db0-4cac-a23a-df601f0ff9f8"
      },
      "source": [
        "time = [0, 1, 2, 3]\n",
        "position = [0, 100, 200, 300]\n",
        "\n",
        "plt.plot(time, position)\n",
        "plt.xlabel('Time (hr)')\n",
        "plt.ylabel('Position (km)')"
      ],
      "execution_count": null,
      "outputs": [
        {
          "output_type": "execute_result",
          "data": {
            "text/plain": [
              "Text(0, 0.5, 'Position (km)')"
            ]
          },
          "metadata": {},
          "execution_count": 31
        },
        {
          "output_type": "display_data",
          "data": {
            "image/png": "[encoded data removed]",
            "text/plain": [
              "<Figure size 432x288 with 1 Axes>"
            ]
          },
          "metadata": {
            "needs_background": "light"
          }
        }
      ]
    },
    {
      "cell_type": "markdown",
      "metadata": {
        "id": "umOidnU2hvOu"
      },
      "source": [
        "## Display All Open Figures\n",
        "\n",
        "  In our Jupyter Notebook example, running the cell should generate the figure directly below the code. The figure is also included in the Notebook document for future viewing. However, other Python environments like an interactive Python session started from a terminal or a Python script executed via the command line require an additional command to display the figure.\n",
        "\n",
        "  Instruct `matplotlib` to show a figure:\n",
        "```python\n",
        "  plt.show()\n",
        "```\n",
        "  This command can also be used within a Notebook - for instance, to display multiple figures if several are created by a single cell.\n"
      ]
    },
    {
      "cell_type": "markdown",
      "metadata": {
        "id": "N4ccqVezh4Ep"
      },
      "source": [
        "## Plot data directly from a Pandas dataframe.\n",
        "\n",
        "\n",
        "* We can also plot Pandas dataframes.\n",
        "* This implicitly uses `matplotlib.pyplot`.\n",
        "* Before plotting, we convert the column headings from a string to integer data type, since they represent numerical values\n"
      ]
    },
    {
      "cell_type": "code",
      "metadata": {
        "colab": {
          "base_uri": "https://localhost:8080/",
          "height": 284
        },
        "id": "XJYwxMemh__Q",
        "outputId": "537aba6a-0a13-4afa-a76f-15384f9e2cec"
      },
      "source": [
        "import pandas as pd\n",
        "\n",
        "data = pd.read_csv('data/gapminder_gdp_oceania.csv', index_col='country')\n",
        "\n",
        "# Extract year from last 4 characters of each column name\n",
        "# The current column names are structured as 'gdpPercap_(year)', \n",
        "# so we want to keep the (year) part only for clarity when plotting GDP vs. years\n",
        "# To do this we use strip(), which removes from the string the characters stated in the argument\n",
        "# This method works on strings, so we call str before strip()\n",
        "\n",
        "years = data.columns.str.strip('gdpPercap_')\n",
        "\n",
        "# Convert year values to integers, saving results back to dataframe\n",
        "\n",
        "data.columns = years.astype(int)\n",
        "\n",
        "data.loc['Australia'].plot()"
      ],
      "execution_count": null,
      "outputs": [
        {
          "output_type": "execute_result",
          "data": {
            "text/plain": [
              "<matplotlib.axes._subplots.AxesSubplot at 0x7f8bba95e9d0>"
            ]
          },
          "metadata": {},
          "execution_count": 34
        },
        {
          "output_type": "display_data",
          "data": {
            "image/png": "[encoded data removed]",
            "text/plain": [
              "<Figure size 432x288 with 1 Axes>"
            ]
          },
          "metadata": {
            "needs_background": "light"
          }
        }
      ]
    },
    {
      "cell_type": "markdown",
      "metadata": {
        "id": "wu_BeO-8iDGh"
      },
      "source": [
        "## Select and transform data, then plot it.\n",
        "\n",
        "* By default, DataFrame.plot plots with the rows as the X axis.\n",
        "* We can transpose the data in order to plot multiple series.\n"
      ]
    },
    {
      "cell_type": "code",
      "metadata": {
        "colab": {
          "base_uri": "https://localhost:8080/",
          "height": 284
        },
        "id": "ZcuniWbfiHMO",
        "outputId": "763e488a-0c4a-43ed-f107-c5846e23b253"
      },
      "source": [
        "data.T.plot()\n",
        "plt.ylabel('GDP per capita')"
      ],
      "execution_count": null,
      "outputs": [
        {
          "output_type": "execute_result",
          "data": {
            "text/plain": [
              "Text(0, 0.5, 'GDP per capita')"
            ]
          },
          "metadata": {},
          "execution_count": 35
        },
        {
          "output_type": "display_data",
          "data": {
            "image/png": "[encoded data removed]",
            "text/plain": [
              "<Figure size 432x288 with 1 Axes>"
            ]
          },
          "metadata": {
            "needs_background": "light"
          }
        }
      ]
    },
    {
      "cell_type": "markdown",
      "metadata": {
        "id": "LNqj91vgiIEm"
      },
      "source": [
        "## Many styles of plot are available.\n",
        "* For example, do a bar plot using a fancier style.\n"
      ]
    },
    {
      "cell_type": "code",
      "metadata": {
        "colab": {
          "base_uri": "https://localhost:8080/",
          "height": 300
        },
        "id": "gbB6N1djiMKC",
        "outputId": "2874524d-ead2-4885-bc6e-3918f14e9d3e"
      },
      "source": [
        "plt.style.use('ggplot')\n",
        "data.T.plot(kind='bar')\n",
        "plt.ylabel('GDP per capita')"
      ],
      "execution_count": null,
      "outputs": [
        {
          "output_type": "execute_result",
          "data": {
            "text/plain": [
              "Text(0, 0.5, 'GDP per capita')"
            ]
          },
          "metadata": {},
          "execution_count": 36
        },
        {
          "output_type": "display_data",
          "data": {
            "image/png": "[encoded data removed]",
            "text/plain": [
              "<Figure size 432x288 with 1 Axes>"
            ]
          },
          "metadata": {}
        }
      ]
    },
    {
      "cell_type": "markdown",
      "metadata": {
        "id": "UBxmitJdiMZE"
      },
      "source": [
        "## Data can also be plotted by calling the `matplotlib` `plot` function directly.\n",
        "\n",
        "  * The command is `plt.plot(x, y)`\n",
        "  * The color and format of markers can also be specified as an additional optional argument e.g., `b-` is a blue line, `g--` is a green dashed line.\n"
      ]
    },
    {
      "cell_type": "markdown",
      "metadata": {
        "id": "bpKDiRN3iQoP"
      },
      "source": [
        "## Get Australia data from dataframe"
      ]
    },
    {
      "cell_type": "code",
      "metadata": {
        "colab": {
          "base_uri": "https://localhost:8080/",
          "height": 284
        },
        "id": "fYvuINghiaSf",
        "outputId": "bfc970b1-b6ad-46e2-dc1a-b935baed5adc"
      },
      "source": [
        "years = data.columns\n",
        "gdp_australia = data.loc['Australia']\n",
        "\n",
        "plt.plot(years, gdp_australia, 'g--')"
      ],
      "execution_count": null,
      "outputs": [
        {
          "output_type": "execute_result",
          "data": {
            "text/plain": [
              "[<matplotlib.lines.Line2D at 0x7f8bba7d8550>]"
            ]
          },
          "metadata": {},
          "execution_count": 38
        },
        {
          "output_type": "display_data",
          "data": {
            "image/png": "[encoded data removed]",
            "text/plain": [
              "<Figure size 432x288 with 1 Axes>"
            ]
          },
          "metadata": {}
        }
      ]
    },
    {
      "cell_type": "markdown",
      "metadata": {
        "id": "4sMGkP4JicFr"
      },
      "source": [
        "## Can plot many sets of data together.\n"
      ]
    },
    {
      "cell_type": "code",
      "metadata": {
        "colab": {
          "base_uri": "https://localhost:8080/",
          "height": 301
        },
        "id": "zjHTjG77iil8",
        "outputId": "8b866ed0-3e62-4740-db44-edce5f36d134"
      },
      "source": [
        "# Select two countries' worth of data.\n",
        "gdp_australia = data.loc['Australia']\n",
        "gdp_nz = data.loc['New Zealand']\n",
        "\n",
        "# Plot with differently-colored markers.\n",
        "plt.plot(years, gdp_australia, 'b-', label='Australia')\n",
        "plt.plot(years, gdp_nz, 'g-', label='New Zealand')\n",
        "\n",
        "# Create legend.\n",
        "plt.legend(loc='upper left')\n",
        "plt.xlabel('Year')\n",
        "plt.ylabel('GDP per capita ($)')"
      ],
      "execution_count": null,
      "outputs": [
        {
          "output_type": "execute_result",
          "data": {
            "text/plain": [
              "Text(0, 0.5, 'GDP per capita ($)')"
            ]
          },
          "metadata": {},
          "execution_count": 39
        },
        {
          "output_type": "display_data",
          "data": {
            "image/png": "[encoded data removed]",
            "text/plain": [
              "<Figure size 432x288 with 1 Axes>"
            ]
          },
          "metadata": {}
        }
      ]
    },
    {
      "cell_type": "markdown",
      "metadata": {
        "id": "XsRdXHYVii7q"
      },
      "source": [
        "## Adding a Legend\n",
        "\n",
        "Often when plotting multiple datasets on the same figure it is desirable to have a legend describing the data.\n",
        "\n",
        "This can be done in matplotlib in two stages:\n",
        "\n",
        "  1. Provide a label for each dataset in the figure:\n",
        "  ```python\n",
        "  plt.plot(years, gdp_australia, label='Australia')\n",
        "  plt.plot(years, gdp_nz, label='New Zealand')\n",
        "```\n",
        "  2. Instruct matplotlib to create the legend.\n",
        "  ```python\n",
        "  plt.legend()\n",
        "  ```\n",
        "By default matplotlib will attempt to place the legend in a suitable position. If you would rather specify a position this can be done with the `loc= `argument, e.g to place the legend in the upper left corner of the plot, specify `loc='upper left'`\n"
      ]
    },
    {
      "cell_type": "code",
      "metadata": {
        "colab": {
          "base_uri": "https://localhost:8080/",
          "height": 284
        },
        "id": "XVAH30lQi9n0",
        "outputId": "2918d7ec-3f45-4b43-e252-7b7a40a1985c"
      },
      "source": [
        "plt.plot(years, gdp_australia, label='Australia')\n",
        "plt.plot(years, gdp_nz, label='New Zealand')\n",
        "plt.legend(loc='upper left')"
      ],
      "execution_count": null,
      "outputs": [
        {
          "output_type": "execute_result",
          "data": {
            "text/plain": [
              "<matplotlib.legend.Legend at 0x7f8bba2bdad0>"
            ]
          },
          "metadata": {},
          "execution_count": 41
        },
        {
          "output_type": "display_data",
          "data": {
            "image/png": "[encoded data removed]",
            "text/plain": [
              "<Figure size 432x288 with 1 Axes>"
            ]
          },
          "metadata": {}
        }
      ]
    },
    {
      "cell_type": "markdown",
      "metadata": {
        "id": "mazlHGDAjXz0"
      },
      "source": [
        "## Scatter Plots\n",
        "* Plot a scatter plot correlating the GDP of Australia and New Zealand\n",
        "* Use either `plt.scatter` or `DataFrame.plot.scatter`\n",
        "\n"
      ]
    },
    {
      "cell_type": "code",
      "metadata": {
        "colab": {
          "base_uri": "https://localhost:8080/",
          "height": 284
        },
        "id": "s8IxfBa6jbX0",
        "outputId": "78a7baa4-f6e6-4683-dbf5-3646963af846"
      },
      "source": [
        "plt.scatter(gdp_australia, gdp_nz)"
      ],
      "execution_count": null,
      "outputs": [
        {
          "output_type": "execute_result",
          "data": {
            "text/plain": [
              "<matplotlib.collections.PathCollection at 0x7f8bba203710>"
            ]
          },
          "metadata": {},
          "execution_count": 44
        },
        {
          "output_type": "display_data",
          "data": {
            "image/png": "[encoded data removed]",
            "text/plain": [
              "<Figure size 432x288 with 1 Axes>"
            ]
          },
          "metadata": {}
        }
      ]
    },
    {
      "cell_type": "code",
      "metadata": {
        "colab": {
          "base_uri": "https://localhost:8080/",
          "height": 301
        },
        "id": "mJAd3drijhV9",
        "outputId": "7b4a71ff-bd38-4d30-990d-66fe95dd7968"
      },
      "source": [
        "data.T.plot.scatter(x = 'Australia', y = 'New Zealand')"
      ],
      "execution_count": null,
      "outputs": [
        {
          "output_type": "execute_result",
          "data": {
            "text/plain": [
              "<matplotlib.axes._subplots.AxesSubplot at 0x7f8bba1cd9d0>"
            ]
          },
          "metadata": {},
          "execution_count": 45
        },
        {
          "output_type": "display_data",
          "data": {
            "image/png": "[encoded data removed]",
            "text/plain": [
              "<Figure size 432x288 with 1 Axes>"
            ]
          },
          "metadata": {}
        }
      ]
    },
    {
      "cell_type": "markdown",
      "metadata": {
        "id": "h6CpG2DMjjTW"
      },
      "source": [
        "## Exercises"
      ]
    },
    {
      "cell_type": "markdown",
      "metadata": {
        "id": "Ydjf83Ddj7V6"
      },
      "source": [
        "### Minima and Maxima\n",
        "Fill in the blanks below to plot the minimum GDP per capita over time for all the countries in Europe. Modify it again to plot the maximum GDP per capita over time for Europe."
      ]
    },
    {
      "cell_type": "code",
      "metadata": {
        "id": "kSPNP-lKj-4O"
      },
      "source": [
        "data_europe = pd.read_csv('data/gapminder_gdp_europe.csv', index_col='country')\n",
        "data_europe.____.plot(label='min')\n",
        "data_europe.____\n",
        "plt.legend(loc='best')\n",
        "plt.xticks(rotation=90)"
      ],
      "execution_count": null,
      "outputs": []
    },
    {
      "cell_type": "markdown",
      "metadata": {
        "id": "gAOwqcTZj_6K"
      },
      "source": [
        "### Correlations\n",
        "Modify the example in the notes to create a scatter plot showing the relationship between the minimum and maximum GDP per capita among the countries in Asia for each year in the data set. What relationship do you see (if any)?"
      ]
    },
    {
      "cell_type": "code",
      "metadata": {
        "id": "_bsjikm0kCT-"
      },
      "source": [
        "data_asia = pd.read_csv('data/gapminder_gdp_asia.csv', index_col='country')\n",
        "data_asia.max().plot()\n",
        "print(data_asia.idxmax())\n",
        "print(data_asia.idxmin())"
      ],
      "execution_count": null,
      "outputs": []
    },
    {
      "cell_type": "markdown",
      "metadata": {
        "id": "GEQowPIskM57"
      },
      "source": [
        "### More Correlations\n",
        "This short program creates a plot showing the correlation between GDP and life expectancy for 2007, normalizing marker size by population:"
      ]
    },
    {
      "cell_type": "code",
      "metadata": {
        "colab": {
          "base_uri": "https://localhost:8080/",
          "height": 301
        },
        "id": "Q-qvmEpOkQIS",
        "outputId": "d5f854e8-1e8a-4470-aabd-cfefef5ff05c"
      },
      "source": [
        "data_all = pd.read_csv('data/gapminder_all.csv', index_col='country')\n",
        "data_all.plot(kind='scatter', x='gdpPercap_2007', y='lifeExp_2007',\n",
        "              s=data_all['pop_2007']/1e6)"
      ],
      "execution_count": null,
      "outputs": [
        {
          "output_type": "execute_result",
          "data": {
            "text/plain": [
              "<matplotlib.axes._subplots.AxesSubplot at 0x7f8bba52bf50>"
            ]
          },
          "metadata": {},
          "execution_count": 47
        },
        {
          "output_type": "display_data",
          "data": {
            "image/png": "[encoded data removed]",
            "text/plain": [
              "<Figure size 432x288 with 1 Axes>"
            ]
          },
          "metadata": {}
        }
      ]
    },
    {
      "cell_type": "markdown",
      "metadata": {
        "id": "mZpEb7CNkS7d"
      },
      "source": [
        "Using online help and other resources, explain what each argument to plot does."
      ]
    },
    {
      "cell_type": "markdown",
      "metadata": {
        "id": "wI7Rr4oikcik"
      },
      "source": [
        "## Saving your plot to a file\n",
        "If you are satisfied with the plot you see you may want to save it to a file, perhaps to include it in a publication. There is a function in the matplotlib.pyplot module that accomplishes this: savefig. Calling this function, e.g. with\n",
        "\n",
        "```python\n",
        "plt.savefig('my_figure.png')\n",
        "```\n",
        "will save the current figure to the file my_figure.png. The file format will automatically be deduced from the file name extension (other formats are pdf, ps, eps and svg).\n",
        "\n",
        "Note that functions in plt refer to a global figure variable and after a figure has been displayed to the screen (e.g. with plt.show) matplotlib will make this variable refer to a new empty figure. Therefore, make sure you call plt.savefig before the plot is displayed to the screen, otherwise you may find a file with an empty plot.\n",
        "\n",
        "When using dataframes, data is often generated and plotted to screen in one line, and plt.savefig seems not to be a possible approach. One possibility to save the figure to file is then to\n",
        "\n",
        "  * save a reference to the current figure in a local variable (with plt.gcf)\n",
        "  * call the savefig class method from that variable.\n",
        "\n",
        "```python\n",
        "fig = plt.gcf() # get current figure\n",
        "data.plot(kind='bar')\n",
        "fig.savefig('my_figure.png')\n",
        "```\n"
      ]
    },
    {
      "cell_type": "markdown",
      "metadata": {
        "id": "bQajjpD3kdJy"
      },
      "source": [
        "### Making your plots accessible\n",
        "\n",
        "Whenever you are generating plots to go into a paper or a presentation, there are a few things you can do to make sure that everyone can understand your plots.\n",
        "\n",
        "* Always make sure your text is large enough to read. Use the fontsize parameter in `xlabel`, `ylabel`, `title`, `legend`, and `tick_params` with `labelsize` to increase the text size of the numbers on your axes.\n",
        "* Similarly, you should make your graph elements easy to see. Use `s` to increase the size of your scatterplot markers and `linewidth` to increase the sizes of your plot lines.\n",
        "* Using color (and nothing else) to distinguish between different plot elements will make your plots unreadable to anyone who is colorblind, or who happens to have a black-and-white office printer. For lines, the `linestyle` parameter lets you use different types of lines. For scatterplots, `marker` lets you change the shape of your points. If you’re unsure about your colors, you can use [Coblis](https://www.color-blindness.com/coblis-color-blindness-simulator/) or [Color Oracle](https://www.color-blindness.com/coblis-color-blindness-simulator/) to simulate what your plots would look like to those with colorblindness.\n"
      ]
    },
    {
      "cell_type": "markdown",
      "metadata": {
        "id": "UUdUQorjk4Py"
      },
      "source": [
        "## Key Points\n",
        "\n",
        "\n",
        "\n",
        "* matplotlib is the most widely used scientific plotting library in Python.\n",
        "\n",
        "* Plot data directly from a Pandas dataframe.\n",
        "\n",
        "* Select and transform data, then plot it.\n",
        "\n",
        "* Many styles of plot are available: see the [Python Graph Gallery](https://python-graph-gallery.com/matplotlib/) for more options.\n",
        "\n",
        "* Can plot many sets of data together.\n"
      ]
    },
    {
      "cell_type": "code",
      "metadata": {
        "id": "2ATCN3KylJBQ"
      },
      "source": [
        ""
      ],
      "execution_count": null,
      "outputs": []
    }
  ]
}